{
 "cells": [
  {
   "cell_type": "markdown",
   "metadata": {},
   "source": [
    "# Sandbox"
   ]
  },
  {
   "cell_type": "markdown",
   "metadata": {},
   "source": [
    "## Config"
   ]
  },
  {
   "cell_type": "code",
   "execution_count": 158,
   "metadata": {},
   "outputs": [],
   "source": [
    "# Import dependencies\n",
    "import tekore as tk\n",
    "import spotipy\n",
    "import os\n",
    "import numpy as np\n",
    "from datetime import datetime\n",
    "from dateutil.relativedelta import relativedelta\n",
    "# Environment variables\n",
    "CLIENTID = os.environ.get('CLIENTID')\n",
    "CLIENTSECRET = os.environ.get('CLIENTSECRET')\n",
    "# Set global variables\n",
    "MINDATE = datetime.today() - relativedelta(years=3)\n"
   ]
  },
  {
   "cell_type": "markdown",
   "metadata": {},
   "source": [
    "## Authentication"
   ]
  },
  {
   "cell_type": "code",
   "execution_count": 8,
   "metadata": {},
   "outputs": [],
   "source": [
    "### Tekore\n",
    "# Get client token\n",
    "app_token = tk.request_client_token(CLIENTID, CLIENTSECRET)\n",
    "# Create spotify instance\n",
    "spotify = tk.Spotify(app_token)"
   ]
  },
  {
   "cell_type": "markdown",
   "metadata": {},
   "source": [
    "## Tekore Sandbox"
   ]
  },
  {
   "cell_type": "code",
   "execution_count": 78,
   "metadata": {},
   "outputs": [
    {
     "data": {
      "text/plain": [
       "FullArtistOffsetPaging with fields:\n",
       "  href = 'https://api.spotify.com/v1/search?query=Sylvan+Esso&type=arti...'\n",
       "  items = [10 x FullArtist(external_urls, followers, genres, href, ...)]\n",
       "  limit = 10\n",
       "  next = 'https://api.spotify.com/v1/search?query=Sylvan+Esso&type=arti...'\n",
       "  offset = 0\n",
       "  previous = None\n",
       "  total = 60"
      ]
     },
     "execution_count": 78,
     "metadata": {},
     "output_type": "execute_result"
    }
   ],
   "source": [
    "# First let's try to get an artist's Spotify ID by searching for their name\n",
    "# Searching by artist name returns a tuple with many different Spotify elements\n",
    "artists = spotify.search('Sylvan Esso', types=['artist'], limit=10)\n",
    "artists"
   ]
  },
  {
   "cell_type": "code",
   "execution_count": 61,
   "metadata": {},
   "outputs": [
    {
     "ename": "AttributeError",
     "evalue": "'tuple' object has no attribute 'items'",
     "output_type": "error",
     "traceback": [
      "\u001b[0;31m---------------------------------------------------------------------------\u001b[0m",
      "\u001b[0;31mAttributeError\u001b[0m                            Traceback (most recent call last)",
      "Cell \u001b[0;32mIn[61], line 3\u001b[0m\n\u001b[1;32m      1\u001b[0m \u001b[38;5;66;03m# The code below doesn't get the artist's id because it returns a tuple and we cannot specify the tuple's items\u001b[39;00m\n\u001b[1;32m      2\u001b[0m artists \u001b[38;5;241m=\u001b[39m spotify\u001b[38;5;241m.\u001b[39msearch(\u001b[38;5;124m'\u001b[39m\u001b[38;5;124mSylvan Esso\u001b[39m\u001b[38;5;124m'\u001b[39m, types\u001b[38;5;241m=\u001b[39m[\u001b[38;5;124m'\u001b[39m\u001b[38;5;124martist\u001b[39m\u001b[38;5;124m'\u001b[39m], limit\u001b[38;5;241m=\u001b[39m\u001b[38;5;241m1\u001b[39m)\n\u001b[0;32m----> 3\u001b[0m \u001b[43martists\u001b[49m\u001b[38;5;241;43m.\u001b[39;49m\u001b[43mitems\u001b[49m[\u001b[38;5;241m0\u001b[39m]\n",
      "\u001b[0;31mAttributeError\u001b[0m: 'tuple' object has no attribute 'items'"
     ]
    }
   ],
   "source": [
    "# The code above doesn't help get the artist's id because it returns a tuple and we cannot select the tuple's items like we would a list\n",
    "artists.items[0]"
   ]
  },
  {
   "cell_type": "code",
   "execution_count": 79,
   "metadata": {},
   "outputs": [
    {
     "data": {
      "text/plain": [
       "FullArtist with fields:\n",
       "  external_urls = {'spotify'}\n",
       "  followers = Followers(href, total)\n",
       "  genres = [4 x str]\n",
       "  href = 'https://api.spotify.com/v1/artists/39vA9YljbnOApXKniLWBZv'\n",
       "  id = '39vA9YljbnOApXKniLWBZv'\n",
       "  images = [3 x Image(height, url, width)]\n",
       "  name = 'Sylvan Esso'\n",
       "  popularity = 60\n",
       "  type = 'artist'\n",
       "  uri = 'spotify:artist:39vA9YljbnOApXKniLWBZv'"
      ]
     },
     "execution_count": 79,
     "metadata": {},
     "output_type": "execute_result"
    }
   ],
   "source": [
    "# The code below, though, does allow us to unpack the tuple\n",
    "# Note the comma trailing the variable\n",
    "# This tells python we know we are dealing with a tuple, and we can select the first artist from it\n",
    "artists, = spotify.search(\"Sylvan Esso\", types=['artist'], limit=10)\n",
    "artists.items[0]"
   ]
  },
  {
   "cell_type": "code",
   "execution_count": 80,
   "metadata": {},
   "outputs": [
    {
     "name": "stdout",
     "output_type": "stream",
     "text": [
      "Sylvan Esso is classified under the following genres: electropop, etherpop, indie pop, indie rock\n",
      "Sylvan Esso's Spotify ID is: 39vA9YljbnOApXKniLWBZv\n"
     ]
    }
   ],
   "source": [
    "# From within the artist item we can select other elements like genre or artist_id\n",
    "print(\"Sylvan Esso is classified under the following genres: \" + \", \".join([x for x in artist.genres]))\n",
    "print(f\"Sylvan Esso's Spotify ID is: {artist.id}\")"
   ]
  },
  {
   "cell_type": "code",
   "execution_count": 83,
   "metadata": {},
   "outputs": [
    {
     "data": {
      "text/plain": [
       "FullArtist with fields:\n",
       "  external_urls = {'spotify'}\n",
       "  followers = Followers(href, total)\n",
       "  genres = [4 x str]\n",
       "  href = 'https://api.spotify.com/v1/artists/39vA9YljbnOApXKniLWBZv'\n",
       "  id = '39vA9YljbnOApXKniLWBZv'\n",
       "  images = [3 x Image(height, url, width)]\n",
       "  name = 'Sylvan Esso'\n",
       "  popularity = 60\n",
       "  type = 'artist'\n",
       "  uri = 'spotify:artist:39vA9YljbnOApXKniLWBZv'"
      ]
     },
     "execution_count": 83,
     "metadata": {},
     "output_type": "execute_result"
    }
   ],
   "source": [
    "# Let's see what the artist API can tell us\n",
    "# We can see the artist method again returns the FullArtist\n",
    "sylvanEsso = spotify.artist('39vA9YljbnOApXKniLWBZv')\n",
    "sylvanEsso\n",
    "# Interesting that we can get popularity on a scale of 0-100; this will be useful later"
   ]
  },
  {
   "cell_type": "code",
   "execution_count": 104,
   "metadata": {},
   "outputs": [
    {
     "name": "stdout",
     "output_type": "stream",
     "text": [
      "50\n"
     ]
    }
   ],
   "source": [
    "# Let's see if we can get a list of ids for the artist's albums\n",
    "sylvanAlbums = spotify.artist_albums('39vA9YljbnOApXKniLWBZv', limit=50)\n",
    "print(len(sylvanAlbums.items))"
   ]
  },
  {
   "cell_type": "code",
   "execution_count": 124,
   "metadata": {},
   "outputs": [
    {
     "name": "stdout",
     "output_type": "stream",
     "text": [
      "37\n"
     ]
    }
   ],
   "source": [
    "# We have a problem: Spotify limits the number of albums to 50. \n",
    "# We will have to write some logic to get all the albums if there are more than 50\n",
    "# The offset parameter will help\n",
    "sylvanAlbums = spotify.artist_albums('39vA9YljbnOApXKniLWBZv', limit=50, offset=50)\n",
    "print(len(sylvanAlbums.items))\n",
    "# We can see there are 87 albums (50+37) as of this writing"
   ]
  },
  {
   "cell_type": "code",
   "execution_count": 125,
   "metadata": {},
   "outputs": [
    {
     "data": {
      "text/plain": [
       "['3EOSrgN0wOOqNvS5GUsiLp',\n",
       " '6w0oK4Y6MvRqFaE3J0Uwyz',\n",
       " '0oTOOEPtYGZFYnWlLnOsxL',\n",
       " '3BBCxnIvQauRM4FT2Mc3pX',\n",
       " '1Aus1dFkP2BSyzibCl0HA7']"
      ]
     },
     "execution_count": 125,
     "metadata": {},
     "output_type": "execute_result"
    }
   ],
   "source": [
    "# We can use a list iteration to get all the album ids\n",
    "[x.id for x in sylvanAlbums.items][:5]"
   ]
  },
  {
   "cell_type": "code",
   "execution_count": 163,
   "metadata": {},
   "outputs": [
    {
     "name": "stdout",
     "output_type": "stream",
     "text": [
      "87\n"
     ]
    },
    {
     "data": {
      "text/plain": [
       "['6rl4rzZxECegl9PdYG0hfk',\n",
       " '2KAPJ40On8JY1Yt64JJgTk',\n",
       " '68ClkAMsCDyx2lQMsnbY55',\n",
       " '1BJMCEXQ7JmuVlJ6cYbe3x',\n",
       " '1862qnxqsLeiNDblknjtiL']"
      ]
     },
     "execution_count": 163,
     "metadata": {},
     "output_type": "execute_result"
    }
   ],
   "source": [
    "# Let's make a function to join the multiple pages of albums together\n",
    "def get_artistAlbums(artistID):\n",
    "    # Initialize variables\n",
    "    length = 50\n",
    "    albumList = []\n",
    "    offset=0\n",
    "    # If the returned page is 50 items that means we need to call the API for another chunk\n",
    "    while length==50:\n",
    "        # Call the API to get the artist's albums\n",
    "        albums = spotify.artist_albums(artistID, limit=50, offset=offset)\n",
    "        # Append this chunk to our existing list\n",
    "        albumList = albumList + [x.id for x in albums.items]\n",
    "        # Reset the length. If the length goes below 50 we will not call the API again\n",
    "        length = len(albums.items)\n",
    "        # Increase the offset so we are not getting the same albums again\n",
    "        offset+=50\n",
    "    return albumList\n",
    "\n",
    "# It's working! Now we have all 87 albumIDs\n",
    "sylvanAlbumList = get_artistAlbums('39vA9YljbnOApXKniLWBZv')\n",
    "print(len(sylvanAlbumList))\n",
    "sylvanAlbumList[:5]\n"
   ]
  },
  {
   "cell_type": "code",
   "execution_count": 159,
   "metadata": {},
   "outputs": [
    {
     "data": {
      "text/plain": [
       "['3EOSrgN0wOOqNvS5GUsiLp',\n",
       " '6w0oK4Y6MvRqFaE3J0Uwyz',\n",
       " '0oTOOEPtYGZFYnWlLnOsxL',\n",
       " '3BBCxnIvQauRM4FT2Mc3pX',\n",
       " '1Aus1dFkP2BSyzibCl0HA7',\n",
       " '0duHxSsZOXo0rlxY2ZabO0',\n",
       " '3IBo4lqI2xcSEkEMl73Aop',\n",
       " '0LX2FkR9ARLv5PmVQ211jZ',\n",
       " '61PjEcLjGh1UvfsCkn5eB8',\n",
       " '5qrhRBImmdLDEm2W8Y4lE3',\n",
       " '3hJ8Qe8dTlKJwAt1VPNc7g',\n",
       " '6tfc4x6M0rRoizzWXggXGa',\n",
       " '5N5q1BjX8YE0hjhBnwJRMq',\n",
       " '00wKAsbWtTgG5uCq524Tvk',\n",
       " '6fM5eqkTrd7ReiwRPnRMzg',\n",
       " '1UKlb2Lb7CW1trU8ultvGr']"
      ]
     },
     "execution_count": 159,
     "metadata": {},
     "output_type": "execute_result"
    }
   ],
   "source": [
    "# One of the requirements of a summer playlist is that all songs must be newer than three years old \n",
    "# We can include this logic in our list comprehension\n",
    "[x.id for x in sylvanAlbums.items if datetime.strptime(x.release_date, '%Y-%m-%d')>MINDATE]"
   ]
  },
  {
   "cell_type": "code",
   "execution_count": 190,
   "metadata": {},
   "outputs": [
    {
     "name": "stdout",
     "output_type": "stream",
     "text": [
      "3\n"
     ]
    },
    {
     "data": {
      "text/plain": [
       "['6rl4rzZxECegl9PdYG0hfk', '2KAPJ40On8JY1Yt64JJgTk', '68ClkAMsCDyx2lQMsnbY55']"
      ]
     },
     "execution_count": 190,
     "metadata": {},
     "output_type": "execute_result"
    }
   ],
   "source": [
    "# We can also specify in the API call that we only want actual albums or singles\n",
    "# Let's try this again. Make a function to join the multiple pages of albums together\n",
    "def get_artistAlbums(artistID):\n",
    "    # Initialize variables\n",
    "    length = 50\n",
    "    albumList = []\n",
    "    offset=0\n",
    "    # If the returned page is 50 items that means we need to call the API for another chunk\n",
    "    while length==50:\n",
    "        # Call the API to get the artist's albums\n",
    "        albums = spotify.artist_albums(artistID, include_groups=['album'], limit=50, offset=offset)\n",
    "        # Append this chunk to our existing list\n",
    "        albumList = albumList + [x.id for x in albums.items if datetime.strptime(x.release_date, '%Y-%m-%d')>MINDATE]\n",
    "        # Reset the length. If the length goes below 50 we will not call the API again\n",
    "        length = len(albums.items)\n",
    "        # Increase the offset so we are not getting the same albums again\n",
    "        offset+=50\n",
    "    return albumList\n",
    "\n",
    "# Now we only have 15 albumIDs that are in the dates that we want and the type that we want\n",
    "sylvanAlbumList = get_artistAlbums('39vA9YljbnOApXKniLWBZv')\n",
    "print(len(sylvanAlbumList))\n",
    "sylvanAlbumList[:5]\n"
   ]
  },
  {
   "cell_type": "code",
   "execution_count": 191,
   "metadata": {},
   "outputs": [],
   "source": [
    "# Next let's get the top 5 tracks from these albums\n",
    "pops = [spotify.album(x).popularity for x in sylvanAlbumList]"
   ]
  },
  {
   "cell_type": "code",
   "execution_count": 192,
   "metadata": {},
   "outputs": [],
   "source": [
    "names = [spotify.album(x).name for x in sylvanAlbumList]\n"
   ]
  },
  {
   "cell_type": "code",
   "execution_count": 193,
   "metadata": {},
   "outputs": [
    {
     "data": {
      "text/plain": [
       "[('No Rules Sandy', 49), ('Free Love', 49), ('WITH', 32)]"
      ]
     },
     "execution_count": 193,
     "metadata": {},
     "output_type": "execute_result"
    }
   ],
   "source": [
    "total = zip(names, pops)\n",
    "list(total)"
   ]
  },
  {
   "cell_type": "code",
   "execution_count": 201,
   "metadata": {},
   "outputs": [
    {
     "data": {
      "text/plain": [
       "['30GGIrrJdSNtecPiFcVP5O',\n",
       " '1BRwuvjhkgezmv1gcI6lT6',\n",
       " '5Y42u37PlyQXegnuI1Hpo1',\n",
       " '7bp7QInQ5uIMzYjJqTtjVA',\n",
       " '0idjTHGhGRBdWTmsalq3tF']"
      ]
     },
     "execution_count": 201,
     "metadata": {},
     "output_type": "execute_result"
    }
   ],
   "source": [
    "[x.id for x in spotify.artist_top_tracks('39vA9YljbnOApXKniLWBZv', 'US')[:5]]"
   ]
  },
  {
   "cell_type": "code",
   "execution_count": null,
   "metadata": {},
   "outputs": [],
   "source": []
  }
 ],
 "metadata": {
  "kernelspec": {
   "display_name": "Python 3.10.9 ('summerplaylist')",
   "language": "python",
   "name": "python3"
  },
  "language_info": {
   "codemirror_mode": {
    "name": "ipython",
    "version": 3
   },
   "file_extension": ".py",
   "mimetype": "text/x-python",
   "name": "python",
   "nbconvert_exporter": "python",
   "pygments_lexer": "ipython3",
   "version": "3.10.9"
  },
  "orig_nbformat": 4,
  "vscode": {
   "interpreter": {
    "hash": "e81157a0786199ab9ef170aa1943f0690c4844c55695062c7d895c198fc85648"
   }
  }
 },
 "nbformat": 4,
 "nbformat_minor": 2
}
