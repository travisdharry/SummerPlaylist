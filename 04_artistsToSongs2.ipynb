{
 "cells": [
  {
   "cell_type": "markdown",
   "metadata": {},
   "source": [
    "## Config"
   ]
  },
  {
   "cell_type": "code",
   "execution_count": 6,
   "metadata": {},
   "outputs": [],
   "source": [
    "# Import dependencies\n",
    "import tekore as tk\n",
    "import os\n",
    "import time\n",
    "import pandas as pd\n",
    "import numpy as np\n",
    "from datetime import datetime, date\n",
    "from dateutil.relativedelta import relativedelta\n",
    "\n",
    "# Environment variables\n",
    "CLIENTID = os.environ.get('CLIENTID')\n",
    "CLIENTSECRET = os.environ.get('CLIENTSECRET')\n",
    "REDIRECT_URI = 'https://example.com/callback'\n",
    "# Set global variables\n",
    "MINDATE = datetime((date.today() - relativedelta(years=3)).year, 6, 1)"
   ]
  },
  {
   "cell_type": "code",
   "execution_count": 33,
   "metadata": {},
   "outputs": [
    {
     "name": "stdout",
     "output_type": "stream",
     "text": [
      "Opening browser for Spotify login...\n"
     ]
    }
   ],
   "source": [
    "### Authenticate Tekore and Authorize App\n",
    "# Get client token\n",
    "app_token = tk.request_client_token(CLIENTID, CLIENTSECRET)\n",
    "# Get a user token; Note the need to ask for private read scope in order to read private playlists\n",
    "# This will open a browser window; the user will need to copy the URL from the browser and paste it into the VSCode Command Palette\n",
    "user_token = tk.prompt_for_user_token(CLIENTID, CLIENTSECRET, REDIRECT_URI, scope=tk.scope.playlist_read_private)\n",
    "# Create spotify instance\n",
    "spotify = tk.Spotify(app_token)\n",
    "# Get the user's spotifyID; The spotify instance will have to reference the user_token to be authorized for this data\n",
    "with spotify.token_as(user_token):\n",
    "    userID = spotify.current_user().id"
   ]
  },
  {
   "cell_type": "markdown",
   "metadata": {},
   "source": [
    "## Get user playlists"
   ]
  },
  {
   "cell_type": "code",
   "execution_count": 8,
   "metadata": {},
   "outputs": [],
   "source": [
    "# Create a playlist for the user\n",
    "with spotify.token_as(user_token):\n",
    "    playlists = spotify.playlists(userID, limit=40)\n",
    "    allPlaylists = [{'id':x.id, 'name':x.name} for x in playlists.items]"
   ]
  },
  {
   "cell_type": "code",
   "execution_count": 17,
   "metadata": {},
   "outputs": [],
   "source": [
    "# I know which playlists I want to pull from\n",
    "priorSummerNames = [\n",
    "    'Summer 2018',\n",
    "    'Summer 2019',\n",
    "    'Summer 2020',\n",
    "    'Summer 2021',\n",
    "    'Summer 2022',\n",
    "    '2023',\n",
    "    'anti pop',\n",
    "    'big on the internet',\n",
    "    'Lorem',\n",
    "    'Alternative Hip-Hop',\n",
    "    'Et-Alt'\n",
    "]\n",
    "# Get the IDs of those playlists\n",
    "priorSummerIDs = [{\"playlistID\":x.id, \"artistSource\":x.name} for x in playlists.items if x.name in priorSummerNames]\n",
    "priorSummerIDs = pd.DataFrame(priorSummerIDs)"
   ]
  },
  {
   "cell_type": "markdown",
   "metadata": {},
   "source": [
    "## Get artists in those playlists"
   ]
  },
  {
   "cell_type": "code",
   "execution_count": 20,
   "metadata": {},
   "outputs": [],
   "source": [
    "# Get all the artistIDs in those playlists\n",
    "# Start with an empty list\n",
    "artists = []\n",
    "# Loop through the playlists\n",
    "for playlistID in priorSummerIDs['playlistID']:\n",
    "    # Get the artistIDs\n",
    "    nestedList = [[{\"playlistID\":playlistID, \"artistID\":y.id, \"artistName\":y.name} for y in x.track.artists] for x in spotify.playlist_items(playlistID).items]\n",
    "    # Unnest the list\n",
    "    flatList = [item for sublist in nestedList for item in sublist]\n",
    "    # Append to the empty list\n",
    "    artists += flatList\n",
    "# Get unique artists\n",
    "artists = pd.DataFrame(artists)\n",
    "artists = artists.merge(priorSummerIDs, how='left', left_on='playlistID', right_on='playlistID').drop(columns='playlistID')\n",
    "# Create a categorical sort order\n",
    "artists['artistSource'] = pd.Categorical(artists['artistSource'], categories=priorSummerNames)\n",
    "artists = artists.sort_values(by='artistSource', ignore_index=True).drop_duplicates(subset='artistID', ignore_index=True)"
   ]
  },
  {
   "cell_type": "markdown",
   "metadata": {},
   "source": [
    "## Get artist genres"
   ]
  },
  {
   "cell_type": "code",
   "execution_count": 21,
   "metadata": {},
   "outputs": [],
   "source": [
    "# Cut the df into chunks\n",
    "n = 0\n",
    "artistInfo = []\n",
    "while n < len(artists):\n",
    "    toGet = artists.iloc[n:(n+50)]\n",
    "    # Add songs to the playlist\n",
    "    with spotify.token_as(user_token):\n",
    "        additions = [{'artistID':x.id, 'artistPopularity':x.popularity, 'artistGenre':x.genres} for x in spotify.artists(list(toGet['artistID']))]\n",
    "    n += 50\n",
    "    # Wait 2 seconds so we do not exceed our API call allowance\n",
    "    time.sleep(2)\n",
    "    artistInfo += additions\n",
    "artistInfo = pd.DataFrame(artistInfo)\n",
    "# Select only the first genre in the list\n",
    "artistInfo['artistGenreUnique'] = [x[0] if len(x)>0 else 0 for x in artistInfo['artistGenre']]\n",
    "# Merge song IDs in with artists and albums\n",
    "artists = artists.merge(artistInfo, how='left', left_on='artistID', right_on='artistID')"
   ]
  },
  {
   "cell_type": "markdown",
   "metadata": {},
   "source": [
    "## Get albums for each artist"
   ]
  },
  {
   "cell_type": "code",
   "execution_count": 24,
   "metadata": {},
   "outputs": [],
   "source": [
    "# Define function that will get the top tracks for each artist in the list\n",
    "def fetchRecentAlbums(artistID):\n",
    "    try:\n",
    "        # Query the spotify API\n",
    "        query = spotify.artist_albums(artistID, limit=50, include_groups=['album', 'single']).items\n",
    "        result = [{'artistID':artistID, 'albumID':x.id, 'albumURI':x.uri, 'albumName':x.name, 'albumReleaseDate':x.release_date, 'albumType':x.album_type} for x in query if datetime.strptime(x.release_date[:4], '%Y')>=MINDATE]\n",
    "    except: \n",
    "        # If exception, fill in blank data\n",
    "        pass\n",
    "    finally:\n",
    "        # Wait 2 seconds so we do not exceed our API call allowance\n",
    "        time.sleep(2)\n",
    "    return result\n",
    "\n",
    "# Create empty list\n",
    "albums = []\n",
    "# Loop through list of artists\n",
    "for artistID in artists['artistID']:\n",
    "    # Get all recent albums by that artist\n",
    "    additions = fetchRecentAlbums(artistID)\n",
    "    # Append the recent albums to the list\n",
    "    albums += additions\n",
    "# Convert to new df\n",
    "albums = pd.DataFrame(albums)\n",
    "\n",
    "# Merge the albums into the artists\n",
    "artists = artists.merge(albums, how='left', left_on='artistID', right_on='artistID')\n",
    "# Drop any duplicates\n",
    "artists = artists.drop_duplicates(subset=['artistID', 'albumName'])\n",
    "artists = artists.dropna(subset=['albumID'])"
   ]
  },
  {
   "cell_type": "markdown",
   "metadata": {},
   "source": [
    "## Get track URIs"
   ]
  },
  {
   "cell_type": "code",
   "execution_count": 31,
   "metadata": {},
   "outputs": [
    {
     "data": {
      "text/html": [
       "<div>\n",
       "<style scoped>\n",
       "    .dataframe tbody tr th:only-of-type {\n",
       "        vertical-align: middle;\n",
       "    }\n",
       "\n",
       "    .dataframe tbody tr th {\n",
       "        vertical-align: top;\n",
       "    }\n",
       "\n",
       "    .dataframe thead th {\n",
       "        text-align: right;\n",
       "    }\n",
       "</style>\n",
       "<table border=\"1\" class=\"dataframe\">\n",
       "  <thead>\n",
       "    <tr style=\"text-align: right;\">\n",
       "      <th></th>\n",
       "      <th>artistID</th>\n",
       "      <th>artistName</th>\n",
       "      <th>artistSource</th>\n",
       "      <th>artistPopularity</th>\n",
       "      <th>artistGenre</th>\n",
       "      <th>artistGenreUnique</th>\n",
       "      <th>albumID</th>\n",
       "      <th>albumURI</th>\n",
       "      <th>albumName</th>\n",
       "      <th>albumReleaseDate</th>\n",
       "      <th>albumType</th>\n",
       "    </tr>\n",
       "  </thead>\n",
       "  <tbody>\n",
       "    <tr>\n",
       "      <th>0</th>\n",
       "      <td>2OK16hAFRHoJiFZKeZe8A8</td>\n",
       "      <td>courtship.</td>\n",
       "      <td>Summer 2018</td>\n",
       "      <td>41</td>\n",
       "      <td>[hopebeat, indie poptimism, la pop]</td>\n",
       "      <td>hopebeat</td>\n",
       "      <td>4jJpB6oqm4IiyyUYqetD7i</td>\n",
       "      <td>spotify:album:4jJpB6oqm4IiyyUYqetD7i</td>\n",
       "      <td>I hope you're well in these crazy times</td>\n",
       "      <td>2022-08-11</td>\n",
       "      <td>album</td>\n",
       "    </tr>\n",
       "    <tr>\n",
       "      <th>1</th>\n",
       "      <td>2OK16hAFRHoJiFZKeZe8A8</td>\n",
       "      <td>courtship.</td>\n",
       "      <td>Summer 2018</td>\n",
       "      <td>41</td>\n",
       "      <td>[hopebeat, indie poptimism, la pop]</td>\n",
       "      <td>hopebeat</td>\n",
       "      <td>2l8ZSXbZTA2x6rnlkhcCng</td>\n",
       "      <td>spotify:album:2l8ZSXbZTA2x6rnlkhcCng</td>\n",
       "      <td>Better Than Real Life</td>\n",
       "      <td>2022-06-02</td>\n",
       "      <td>single</td>\n",
       "    </tr>\n",
       "    <tr>\n",
       "      <th>2</th>\n",
       "      <td>2OK16hAFRHoJiFZKeZe8A8</td>\n",
       "      <td>courtship.</td>\n",
       "      <td>Summer 2018</td>\n",
       "      <td>41</td>\n",
       "      <td>[hopebeat, indie poptimism, la pop]</td>\n",
       "      <td>hopebeat</td>\n",
       "      <td>23iE5xCgge6qsC0Ixi4tkp</td>\n",
       "      <td>spotify:album:23iE5xCgge6qsC0Ixi4tkp</td>\n",
       "      <td>Million Dollar Smoothies (From “American Song ...</td>\n",
       "      <td>2022-03-28</td>\n",
       "      <td>single</td>\n",
       "    </tr>\n",
       "    <tr>\n",
       "      <th>3</th>\n",
       "      <td>2OK16hAFRHoJiFZKeZe8A8</td>\n",
       "      <td>courtship.</td>\n",
       "      <td>Summer 2018</td>\n",
       "      <td>41</td>\n",
       "      <td>[hopebeat, indie poptimism, la pop]</td>\n",
       "      <td>hopebeat</td>\n",
       "      <td>3nVuCSIm6kZWawzUUkFWkl</td>\n",
       "      <td>spotify:album:3nVuCSIm6kZWawzUUkFWkl</td>\n",
       "      <td>80 in the friend zone</td>\n",
       "      <td>2021-10-20</td>\n",
       "      <td>single</td>\n",
       "    </tr>\n",
       "    <tr>\n",
       "      <th>4</th>\n",
       "      <td>2OK16hAFRHoJiFZKeZe8A8</td>\n",
       "      <td>courtship.</td>\n",
       "      <td>Summer 2018</td>\n",
       "      <td>41</td>\n",
       "      <td>[hopebeat, indie poptimism, la pop]</td>\n",
       "      <td>hopebeat</td>\n",
       "      <td>5ZwWwcH6Q2xWIJzC1n5WXI</td>\n",
       "      <td>spotify:album:5ZwWwcH6Q2xWIJzC1n5WXI</td>\n",
       "      <td>I Try</td>\n",
       "      <td>2021-08-25</td>\n",
       "      <td>single</td>\n",
       "    </tr>\n",
       "    <tr>\n",
       "      <th>...</th>\n",
       "      <td>...</td>\n",
       "      <td>...</td>\n",
       "      <td>...</td>\n",
       "      <td>...</td>\n",
       "      <td>...</td>\n",
       "      <td>...</td>\n",
       "      <td>...</td>\n",
       "      <td>...</td>\n",
       "      <td>...</td>\n",
       "      <td>...</td>\n",
       "      <td>...</td>\n",
       "    </tr>\n",
       "    <tr>\n",
       "      <th>10955</th>\n",
       "      <td>5dMrRJRJsvS36Mp8u2i7kv</td>\n",
       "      <td>KingTrey</td>\n",
       "      <td>Alternative Hip-Hop</td>\n",
       "      <td>40</td>\n",
       "      <td>[]</td>\n",
       "      <td>0</td>\n",
       "      <td>6U7GCtO8tr6pbtqSJYqxaC</td>\n",
       "      <td>spotify:album:6U7GCtO8tr6pbtqSJYqxaC</td>\n",
       "      <td>Let You Drown (with Kota the Friend)</td>\n",
       "      <td>2022-04-22</td>\n",
       "      <td>single</td>\n",
       "    </tr>\n",
       "    <tr>\n",
       "      <th>10956</th>\n",
       "      <td>5dMrRJRJsvS36Mp8u2i7kv</td>\n",
       "      <td>KingTrey</td>\n",
       "      <td>Alternative Hip-Hop</td>\n",
       "      <td>40</td>\n",
       "      <td>[]</td>\n",
       "      <td>0</td>\n",
       "      <td>3cmhexJ8j81x3jdW5bdQx1</td>\n",
       "      <td>spotify:album:3cmhexJ8j81x3jdW5bdQx1</td>\n",
       "      <td>Rolling (Remix)</td>\n",
       "      <td>2021-11-17</td>\n",
       "      <td>single</td>\n",
       "    </tr>\n",
       "    <tr>\n",
       "      <th>10957</th>\n",
       "      <td>5dMrRJRJsvS36Mp8u2i7kv</td>\n",
       "      <td>KingTrey</td>\n",
       "      <td>Alternative Hip-Hop</td>\n",
       "      <td>40</td>\n",
       "      <td>[]</td>\n",
       "      <td>0</td>\n",
       "      <td>4guVQ9AgEoxEZPqV8mNx74</td>\n",
       "      <td>spotify:album:4guVQ9AgEoxEZPqV8mNx74</td>\n",
       "      <td>BLUE CHECK EP</td>\n",
       "      <td>2021-05-21</td>\n",
       "      <td>single</td>\n",
       "    </tr>\n",
       "    <tr>\n",
       "      <th>10958</th>\n",
       "      <td>5dMrRJRJsvS36Mp8u2i7kv</td>\n",
       "      <td>KingTrey</td>\n",
       "      <td>Alternative Hip-Hop</td>\n",
       "      <td>40</td>\n",
       "      <td>[]</td>\n",
       "      <td>0</td>\n",
       "      <td>6j9QvQHfK9WijB7t44CgiI</td>\n",
       "      <td>spotify:album:6j9QvQHfK9WijB7t44CgiI</td>\n",
       "      <td>GUOMF</td>\n",
       "      <td>2021-05-07</td>\n",
       "      <td>single</td>\n",
       "    </tr>\n",
       "    <tr>\n",
       "      <th>10959</th>\n",
       "      <td>5dMrRJRJsvS36Mp8u2i7kv</td>\n",
       "      <td>KingTrey</td>\n",
       "      <td>Alternative Hip-Hop</td>\n",
       "      <td>40</td>\n",
       "      <td>[]</td>\n",
       "      <td>0</td>\n",
       "      <td>1lIiqlowGesWr1FOFwUXlu</td>\n",
       "      <td>spotify:album:1lIiqlowGesWr1FOFwUXlu</td>\n",
       "      <td>ROLLING</td>\n",
       "      <td>2021-04-23</td>\n",
       "      <td>single</td>\n",
       "    </tr>\n",
       "  </tbody>\n",
       "</table>\n",
       "<p>9218 rows × 11 columns</p>\n",
       "</div>"
      ],
      "text/plain": [
       "                     artistID  artistName         artistSource  \\\n",
       "0      2OK16hAFRHoJiFZKeZe8A8  courtship.          Summer 2018   \n",
       "1      2OK16hAFRHoJiFZKeZe8A8  courtship.          Summer 2018   \n",
       "2      2OK16hAFRHoJiFZKeZe8A8  courtship.          Summer 2018   \n",
       "3      2OK16hAFRHoJiFZKeZe8A8  courtship.          Summer 2018   \n",
       "4      2OK16hAFRHoJiFZKeZe8A8  courtship.          Summer 2018   \n",
       "...                       ...         ...                  ...   \n",
       "10955  5dMrRJRJsvS36Mp8u2i7kv    KingTrey  Alternative Hip-Hop   \n",
       "10956  5dMrRJRJsvS36Mp8u2i7kv    KingTrey  Alternative Hip-Hop   \n",
       "10957  5dMrRJRJsvS36Mp8u2i7kv    KingTrey  Alternative Hip-Hop   \n",
       "10958  5dMrRJRJsvS36Mp8u2i7kv    KingTrey  Alternative Hip-Hop   \n",
       "10959  5dMrRJRJsvS36Mp8u2i7kv    KingTrey  Alternative Hip-Hop   \n",
       "\n",
       "       artistPopularity                          artistGenre  \\\n",
       "0                    41  [hopebeat, indie poptimism, la pop]   \n",
       "1                    41  [hopebeat, indie poptimism, la pop]   \n",
       "2                    41  [hopebeat, indie poptimism, la pop]   \n",
       "3                    41  [hopebeat, indie poptimism, la pop]   \n",
       "4                    41  [hopebeat, indie poptimism, la pop]   \n",
       "...                 ...                                  ...   \n",
       "10955                40                                   []   \n",
       "10956                40                                   []   \n",
       "10957                40                                   []   \n",
       "10958                40                                   []   \n",
       "10959                40                                   []   \n",
       "\n",
       "      artistGenreUnique                 albumID  \\\n",
       "0              hopebeat  4jJpB6oqm4IiyyUYqetD7i   \n",
       "1              hopebeat  2l8ZSXbZTA2x6rnlkhcCng   \n",
       "2              hopebeat  23iE5xCgge6qsC0Ixi4tkp   \n",
       "3              hopebeat  3nVuCSIm6kZWawzUUkFWkl   \n",
       "4              hopebeat  5ZwWwcH6Q2xWIJzC1n5WXI   \n",
       "...                 ...                     ...   \n",
       "10955                 0  6U7GCtO8tr6pbtqSJYqxaC   \n",
       "10956                 0  3cmhexJ8j81x3jdW5bdQx1   \n",
       "10957                 0  4guVQ9AgEoxEZPqV8mNx74   \n",
       "10958                 0  6j9QvQHfK9WijB7t44CgiI   \n",
       "10959                 0  1lIiqlowGesWr1FOFwUXlu   \n",
       "\n",
       "                                   albumURI  \\\n",
       "0      spotify:album:4jJpB6oqm4IiyyUYqetD7i   \n",
       "1      spotify:album:2l8ZSXbZTA2x6rnlkhcCng   \n",
       "2      spotify:album:23iE5xCgge6qsC0Ixi4tkp   \n",
       "3      spotify:album:3nVuCSIm6kZWawzUUkFWkl   \n",
       "4      spotify:album:5ZwWwcH6Q2xWIJzC1n5WXI   \n",
       "...                                     ...   \n",
       "10955  spotify:album:6U7GCtO8tr6pbtqSJYqxaC   \n",
       "10956  spotify:album:3cmhexJ8j81x3jdW5bdQx1   \n",
       "10957  spotify:album:4guVQ9AgEoxEZPqV8mNx74   \n",
       "10958  spotify:album:6j9QvQHfK9WijB7t44CgiI   \n",
       "10959  spotify:album:1lIiqlowGesWr1FOFwUXlu   \n",
       "\n",
       "                                               albumName albumReleaseDate  \\\n",
       "0                I hope you're well in these crazy times       2022-08-11   \n",
       "1                                  Better Than Real Life       2022-06-02   \n",
       "2      Million Dollar Smoothies (From “American Song ...       2022-03-28   \n",
       "3                                  80 in the friend zone       2021-10-20   \n",
       "4                                                  I Try       2021-08-25   \n",
       "...                                                  ...              ...   \n",
       "10955               Let You Drown (with Kota the Friend)       2022-04-22   \n",
       "10956                                    Rolling (Remix)       2021-11-17   \n",
       "10957                                      BLUE CHECK EP       2021-05-21   \n",
       "10958                                              GUOMF       2021-05-07   \n",
       "10959                                            ROLLING       2021-04-23   \n",
       "\n",
       "      albumType  \n",
       "0         album  \n",
       "1        single  \n",
       "2        single  \n",
       "3        single  \n",
       "4        single  \n",
       "...         ...  \n",
       "10955    single  \n",
       "10956    single  \n",
       "10957    single  \n",
       "10958    single  \n",
       "10959    single  \n",
       "\n",
       "[9218 rows x 11 columns]"
      ]
     },
     "execution_count": 31,
     "metadata": {},
     "output_type": "execute_result"
    }
   ],
   "source": [
    "artists"
   ]
  },
  {
   "cell_type": "code",
   "execution_count": 36,
   "metadata": {},
   "outputs": [
    {
     "name": "stderr",
     "output_type": "stream",
     "text": [
      "/Users/travisharry/opt/anaconda3/envs/summerplaylist/lib/python3.10/site-packages/tekore/_sender/client.py:89: UnknownModelAttributeWarning: \n",
      "Response contains unknown attribute: `album_group`\n",
      "This warning may be safely ignored. Please consider upgrading Tekore.\n",
      "  return try_post_func(request, response, *params)\n"
     ]
    },
    {
     "data": {
      "text/plain": [
       "FullAlbum with fields:\n",
       "  album_type = 'album'\n",
       "  artists = [1 x SimpleArtist(external_urls, href, id, name, type, uri)]\n",
       "  available_markets = None\n",
       "  copyrights = [2 x Copyright(text, type)]\n",
       "  external_ids = {'upc'}\n",
       "  external_urls = {'spotify'}\n",
       "  genres = [0 x str]\n",
       "  href = 'https://api.spotify.com/v1/albums/4jJpB6oqm4IiyyUYqetD7i'\n",
       "  id = '4jJpB6oqm4IiyyUYqetD7i'\n",
       "  images = [3 x Image(height, url, width)]\n",
       "  is_playable = True\n",
       "  label = 'T∆G Music'\n",
       "  name = 'I hope you're well in these crazy times'\n",
       "  popularity = 40\n",
       "  release_date = '2022-08-11'\n",
       "  release_date_precision = 'day'\n",
       "  total_tracks = 10\n",
       "  tracks = SimpleTrackPaging(href, items, limit, next, offset, ...)\n",
       "  type = 'album'\n",
       "  uri = 'spotify:album:4jJpB6oqm4IiyyUYqetD7i'"
      ]
     },
     "execution_count": 36,
     "metadata": {},
     "output_type": "execute_result"
    }
   ],
   "source": [
    "spotify.album('4jJpB6oqm4IiyyUYqetD7i', market='from_token')"
   ]
  },
  {
   "cell_type": "code",
   "execution_count": 37,
   "metadata": {},
   "outputs": [
    {
     "name": "stderr",
     "output_type": "stream",
     "text": [
      "/Users/travisharry/opt/anaconda3/envs/summerplaylist/lib/python3.10/site-packages/tekore/_sender/client.py:70: UnknownModelAttributeWarning: \n",
      "Response contains unknown attribute: `album_group`\n",
      "This warning may be safely ignored. Please consider upgrading Tekore.\n",
      "  return post_func(*args, **kwargs)\n",
      "/Users/travisharry/opt/anaconda3/envs/summerplaylist/lib/python3.10/site-packages/tekore/_sender/client.py:89: UnknownModelAttributeWarning: \n",
      "Response contains unknown attribute: `album_group`\n",
      "This warning may be safely ignored. Please consider upgrading Tekore.\n",
      "  return try_post_func(request, response, *params)\n"
     ]
    }
   ],
   "source": [
    "# Cut the df into chunks\n",
    "albumsUnique = artists.drop_duplicates(subset='albumID', ignore_index=True)\n",
    "n = 0\n",
    "albums = []\n",
    "while n < len(artists):\n",
    "    albumsToAdd = albumsUnique.iloc[n:(n+20)]\n",
    "    # Add songs to the playlist\n",
    "    try:\n",
    "        with spotify.token_as(user_token):\n",
    "            additions = [{'albumID':x.id, 'albumPopularity':x.popularity, 'genre':x.genres, 'songURI':[y.uri for y in x.tracks.items]} for x in spotify.albums(list(albumsToAdd['albumID']), market='from_token')]\n",
    "            albums += additions\n",
    "            # Wait 2 seconds so we do not exceed our API call allowance\n",
    "            time.sleep(2)\n",
    "    except:\n",
    "        with spotify.token_as(user_token):\n",
    "            for albumID in albumsToAdd['albumID']:\n",
    "                try:\n",
    "                    addition = [{'albumID':x.id, 'albumPopularity':x.popularity, 'genre':x.genres, 'songURI':[y.uri for y in x.tracks.items]} for x in spotify.album(albumID, market='from_token')]\n",
    "                    albums += addition\n",
    "                    # Wait 2 seconds so we do not exceed our API call allowance\n",
    "                    time.sleep(2)\n",
    "                except: \n",
    "                    pass\n",
    "    n += 20\n",
    "albums = pd.DataFrame(albums).explode('songURI')\n",
    "\n",
    "# Merge song IDs in with artists and albums\n",
    "songs = artists.merge(albums, how='left', left_on='albumID', right_on='albumID')\n",
    "# Drop any duplicates\n",
    "songs = songs.drop_duplicates(subset='songURI', ignore_index=True)"
   ]
  },
  {
   "cell_type": "markdown",
   "metadata": {},
   "source": [
    "## Clean up columns"
   ]
  },
  {
   "cell_type": "code",
   "execution_count": 46,
   "metadata": {},
   "outputs": [
    {
     "ename": "TypeError",
     "evalue": "'float' object is not iterable",
     "output_type": "error",
     "traceback": [
      "\u001b[0;31m---------------------------------------------------------------------------\u001b[0m",
      "\u001b[0;31mTypeError\u001b[0m                                 Traceback (most recent call last)",
      "Cell \u001b[0;32mIn[46], line 2\u001b[0m\n\u001b[1;32m      1\u001b[0m songs[\u001b[38;5;124m'\u001b[39m\u001b[38;5;124martistGenre\u001b[39m\u001b[38;5;124m'\u001b[39m] \u001b[38;5;241m=\u001b[39m [[y \u001b[38;5;28;01mfor\u001b[39;00m y \u001b[38;5;129;01min\u001b[39;00m x] \u001b[38;5;28;01mfor\u001b[39;00m x \u001b[38;5;129;01min\u001b[39;00m songs[\u001b[38;5;124m'\u001b[39m\u001b[38;5;124martistGenre\u001b[39m\u001b[38;5;124m'\u001b[39m]]\n\u001b[0;32m----> 2\u001b[0m songs[\u001b[38;5;124m'\u001b[39m\u001b[38;5;124mgenre\u001b[39m\u001b[38;5;124m'\u001b[39m] \u001b[38;5;241m=\u001b[39m [[y \u001b[38;5;28;01mfor\u001b[39;00m y \u001b[38;5;129;01min\u001b[39;00m x] \u001b[38;5;28;01mfor\u001b[39;00m x \u001b[38;5;129;01min\u001b[39;00m songs[\u001b[38;5;124m'\u001b[39m\u001b[38;5;124mgenre\u001b[39m\u001b[38;5;124m'\u001b[39m]]\n",
      "Cell \u001b[0;32mIn[46], line 2\u001b[0m, in \u001b[0;36m<listcomp>\u001b[0;34m(.0)\u001b[0m\n\u001b[1;32m      1\u001b[0m songs[\u001b[38;5;124m'\u001b[39m\u001b[38;5;124martistGenre\u001b[39m\u001b[38;5;124m'\u001b[39m] \u001b[38;5;241m=\u001b[39m [[y \u001b[38;5;28;01mfor\u001b[39;00m y \u001b[38;5;129;01min\u001b[39;00m x] \u001b[38;5;28;01mfor\u001b[39;00m x \u001b[38;5;129;01min\u001b[39;00m songs[\u001b[38;5;124m'\u001b[39m\u001b[38;5;124martistGenre\u001b[39m\u001b[38;5;124m'\u001b[39m]]\n\u001b[0;32m----> 2\u001b[0m songs[\u001b[38;5;124m'\u001b[39m\u001b[38;5;124mgenre\u001b[39m\u001b[38;5;124m'\u001b[39m] \u001b[38;5;241m=\u001b[39m [[y \u001b[38;5;28;01mfor\u001b[39;00m y \u001b[38;5;129;01min\u001b[39;00m x] \u001b[38;5;28;01mfor\u001b[39;00m x \u001b[38;5;129;01min\u001b[39;00m songs[\u001b[38;5;124m'\u001b[39m\u001b[38;5;124mgenre\u001b[39m\u001b[38;5;124m'\u001b[39m]]\n",
      "\u001b[0;31mTypeError\u001b[0m: 'float' object is not iterable"
     ]
    }
   ],
   "source": [
    "songs['artistGenre'] = [[y for y in x] for x in songs['artistGenre']]"
   ]
  },
  {
   "cell_type": "code",
   "execution_count": 45,
   "metadata": {},
   "outputs": [
    {
     "name": "stdout",
     "output_type": "stream",
     "text": [
      "<class 'pandas.core.frame.DataFrame'>\n",
      "RangeIndex: 26256 entries, 0 to 26255\n",
      "Data columns (total 14 columns):\n",
      " #   Column             Non-Null Count  Dtype   \n",
      "---  ------             --------------  -----   \n",
      " 0   artistID           26256 non-null  object  \n",
      " 1   artistName         26256 non-null  object  \n",
      " 2   artistSource       26256 non-null  category\n",
      " 3   artistPopularity   26256 non-null  int64   \n",
      " 4   artistGenre        26256 non-null  object  \n",
      " 5   artistGenreUnique  26256 non-null  object  \n",
      " 6   albumID            26256 non-null  object  \n",
      " 7   albumURI           26256 non-null  object  \n",
      " 8   albumName          26256 non-null  object  \n",
      " 9   albumReleaseDate   26256 non-null  object  \n",
      " 10  albumType          26256 non-null  object  \n",
      " 11  albumPopularity    26255 non-null  float64 \n",
      " 12  genre              26255 non-null  object  \n",
      " 13  songURI            26255 non-null  object  \n",
      "dtypes: category(1), float64(1), int64(1), object(11)\n",
      "memory usage: 2.6+ MB\n"
     ]
    }
   ],
   "source": [
    "songs.info()"
   ]
  },
  {
   "cell_type": "markdown",
   "metadata": {},
   "source": [
    "## Write to csv"
   ]
  },
  {
   "cell_type": "code",
   "execution_count": 47,
   "metadata": {},
   "outputs": [],
   "source": [
    "songs.to_csv('songs2.csv', index=False)"
   ]
  },
  {
   "cell_type": "code",
   "execution_count": null,
   "metadata": {},
   "outputs": [],
   "source": []
  }
 ],
 "metadata": {
  "kernelspec": {
   "display_name": "Python 3.10.9 ('summerplaylist')",
   "language": "python",
   "name": "python3"
  },
  "language_info": {
   "codemirror_mode": {
    "name": "ipython",
    "version": 3
   },
   "file_extension": ".py",
   "mimetype": "text/x-python",
   "name": "python",
   "nbconvert_exporter": "python",
   "pygments_lexer": "ipython3",
   "version": "3.10.9"
  },
  "orig_nbformat": 4,
  "vscode": {
   "interpreter": {
    "hash": "e81157a0786199ab9ef170aa1943f0690c4844c55695062c7d895c198fc85648"
   }
  }
 },
 "nbformat": 4,
 "nbformat_minor": 2
}
