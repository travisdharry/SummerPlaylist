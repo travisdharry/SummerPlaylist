{
 "cells": [
  {
   "cell_type": "markdown",
   "metadata": {},
   "source": [
    "## Config"
   ]
  },
  {
   "cell_type": "code",
   "execution_count": 1,
   "metadata": {},
   "outputs": [],
   "source": [
    "### Configuration\n",
    "# Dependencies\n",
    "import os\n",
    "import pandas as pd\n",
    "import numpy as np\n",
    "from summerplaylist import *\n",
    "\n",
    "# Environment variables\n",
    "CLIENTID = os.environ.get('CLIENTID')\n",
    "CLIENTSECRET = os.environ.get('CLIENTSECRET')\n",
    "REDIRECT_URI = 'https://example.com/callback'\n",
    "\n",
    "# Filepaths\n",
    "dataPath = os.path.join('data', 'artistsKnown.csv')"
   ]
  },
  {
   "cell_type": "markdown",
   "metadata": {},
   "source": [
    "## Log In"
   ]
  },
  {
   "cell_type": "code",
   "execution_count": 2,
   "metadata": {},
   "outputs": [
    {
     "name": "stdout",
     "output_type": "stream",
     "text": [
      "Opening browser for Spotify login...\n"
     ]
    }
   ],
   "source": [
    "# Authenticate to Spotify\n",
    "credentials = authenticateToSpotify(CLIENTID, CLIENTSECRET, REDIRECT_URI)"
   ]
  },
  {
   "cell_type": "markdown",
   "metadata": {},
   "source": [
    "## Collect new artists"
   ]
  },
  {
   "cell_type": "code",
   "execution_count": 4,
   "metadata": {},
   "outputs": [
    {
     "data": {
      "text/html": [
       "<div>\n",
       "<style scoped>\n",
       "    .dataframe tbody tr th:only-of-type {\n",
       "        vertical-align: middle;\n",
       "    }\n",
       "\n",
       "    .dataframe tbody tr th {\n",
       "        vertical-align: top;\n",
       "    }\n",
       "\n",
       "    .dataframe thead th {\n",
       "        text-align: right;\n",
       "    }\n",
       "</style>\n",
       "<table border=\"1\" class=\"dataframe\">\n",
       "  <thead>\n",
       "    <tr style=\"text-align: right;\">\n",
       "      <th></th>\n",
       "      <th>artistName</th>\n",
       "    </tr>\n",
       "  </thead>\n",
       "  <tbody>\n",
       "    <tr>\n",
       "      <th>1</th>\n",
       "      <td>21 Savage</td>\n",
       "    </tr>\n",
       "    <tr>\n",
       "      <th>2</th>\n",
       "      <td>3 Doors Down</td>\n",
       "    </tr>\n",
       "    <tr>\n",
       "      <th>3</th>\n",
       "      <td>311</td>\n",
       "    </tr>\n",
       "    <tr>\n",
       "      <th>4</th>\n",
       "      <td>A Day To Remember</td>\n",
       "    </tr>\n",
       "    <tr>\n",
       "      <th>5</th>\n",
       "      <td>A Tribe Called Quest</td>\n",
       "    </tr>\n",
       "  </tbody>\n",
       "</table>\n",
       "</div>"
      ],
      "text/plain": [
       "             artistName\n",
       "1             21 Savage\n",
       "2          3 Doors Down\n",
       "3                   311\n",
       "4     A Day To Remember\n",
       "5  A Tribe Called Quest"
      ]
     },
     "execution_count": 4,
     "metadata": {},
     "output_type": "execute_result"
    }
   ],
   "source": [
    "# Collect names of new artists from Music Festival Wizard\n",
    "artistsNew = fetchMusicFestivalWizard()\n",
    "artistsNew = artistsNew.head()\n",
    "artistsNew"
   ]
  },
  {
   "cell_type": "code",
   "execution_count": 3,
   "metadata": {},
   "outputs": [
    {
     "data": {
      "text/html": [
       "<div>\n",
       "<style scoped>\n",
       "    .dataframe tbody tr th:only-of-type {\n",
       "        vertical-align: middle;\n",
       "    }\n",
       "\n",
       "    .dataframe tbody tr th {\n",
       "        vertical-align: top;\n",
       "    }\n",
       "\n",
       "    .dataframe thead th {\n",
       "        text-align: right;\n",
       "    }\n",
       "</style>\n",
       "<table border=\"1\" class=\"dataframe\">\n",
       "  <thead>\n",
       "    <tr style=\"text-align: right;\">\n",
       "      <th></th>\n",
       "      <th>artistName</th>\n",
       "      <th>artistID</th>\n",
       "      <th>songName</th>\n",
       "      <th>release_date</th>\n",
       "      <th>songURI</th>\n",
       "      <th>songLocation</th>\n",
       "      <th>albumLength</th>\n",
       "      <th>songDuration</th>\n",
       "      <th>songExplicit</th>\n",
       "      <th>songPopularity</th>\n",
       "    </tr>\n",
       "  </thead>\n",
       "  <tbody>\n",
       "    <tr>\n",
       "      <th>0</th>\n",
       "      <td>sagacious</td>\n",
       "      <td>0wzoSAAL4Yq5ph8q28HXEU</td>\n",
       "      <td>ur self</td>\n",
       "      <td>2021-08-17</td>\n",
       "      <td>spotify:track:6tfoSWteKyW43Cf0Usdywm</td>\n",
       "      <td>1</td>\n",
       "      <td>1</td>\n",
       "      <td>176094</td>\n",
       "      <td>False</td>\n",
       "      <td>34</td>\n",
       "    </tr>\n",
       "    <tr>\n",
       "      <th>1</th>\n",
       "      <td>Tommy Newport</td>\n",
       "      <td>7FvQR6QFfXmW18dyMqnHvv</td>\n",
       "      <td>Jonny's Habit</td>\n",
       "      <td>2023-02-17</td>\n",
       "      <td>spotify:track:09YcDy6I05RGXAq6gPDVr0</td>\n",
       "      <td>1</td>\n",
       "      <td>10</td>\n",
       "      <td>197014</td>\n",
       "      <td>False</td>\n",
       "      <td>35</td>\n",
       "    </tr>\n",
       "    <tr>\n",
       "      <th>2</th>\n",
       "      <td>Mercury</td>\n",
       "      <td>6aIZIwesnYKR6ZN1fIerPZ</td>\n",
       "      <td>heaven</td>\n",
       "      <td>2023-06-01</td>\n",
       "      <td>spotify:track:5gEoep9RwLEy8hFJMne9ad</td>\n",
       "      <td>1</td>\n",
       "      <td>1</td>\n",
       "      <td>120133</td>\n",
       "      <td>True</td>\n",
       "      <td>30</td>\n",
       "    </tr>\n",
       "    <tr>\n",
       "      <th>3</th>\n",
       "      <td>Portraits Of Tracy</td>\n",
       "      <td>34QizBjxVeMcA5HlZpKxxE</td>\n",
       "      <td>Found!</td>\n",
       "      <td>2023-05-26</td>\n",
       "      <td>spotify:track:1FgY491AT8WYmMgZgWLfkz</td>\n",
       "      <td>16</td>\n",
       "      <td>18</td>\n",
       "      <td>305511</td>\n",
       "      <td>False</td>\n",
       "      <td>48</td>\n",
       "    </tr>\n",
       "    <tr>\n",
       "      <th>4</th>\n",
       "      <td>Billy Lemos</td>\n",
       "      <td>7ebBg3BuRFa2satTcY8whC</td>\n",
       "      <td>No Place Here (feat. annonXL)</td>\n",
       "      <td>2023-02-24</td>\n",
       "      <td>spotify:track:5gAPeHJRjeTirQxYQT2qeE</td>\n",
       "      <td>1</td>\n",
       "      <td>7</td>\n",
       "      <td>116156</td>\n",
       "      <td>False</td>\n",
       "      <td>30</td>\n",
       "    </tr>\n",
       "    <tr>\n",
       "      <th>...</th>\n",
       "      <td>...</td>\n",
       "      <td>...</td>\n",
       "      <td>...</td>\n",
       "      <td>...</td>\n",
       "      <td>...</td>\n",
       "      <td>...</td>\n",
       "      <td>...</td>\n",
       "      <td>...</td>\n",
       "      <td>...</td>\n",
       "      <td>...</td>\n",
       "    </tr>\n",
       "    <tr>\n",
       "      <th>120</th>\n",
       "      <td>Sophia Black</td>\n",
       "      <td>3wdXgSpjbbU3tX9KasdxMh</td>\n",
       "      <td>goddammit.</td>\n",
       "      <td>2023-04-28</td>\n",
       "      <td>spotify:track:005w7f7Ect0chkLpfGmYvx</td>\n",
       "      <td>1</td>\n",
       "      <td>3</td>\n",
       "      <td>178493</td>\n",
       "      <td>True</td>\n",
       "      <td>43</td>\n",
       "    </tr>\n",
       "    <tr>\n",
       "      <th>121</th>\n",
       "      <td>King Isis</td>\n",
       "      <td>7jz1wM1NdiskFWrlosZhVw</td>\n",
       "      <td>taste of u</td>\n",
       "      <td>2023-03-01</td>\n",
       "      <td>spotify:track:4zqZ7hR4Pl3UT0p19En1ib</td>\n",
       "      <td>1</td>\n",
       "      <td>3</td>\n",
       "      <td>179358</td>\n",
       "      <td>False</td>\n",
       "      <td>42</td>\n",
       "    </tr>\n",
       "    <tr>\n",
       "      <th>122</th>\n",
       "      <td>Nana Lourdes</td>\n",
       "      <td>3LEjiFgpLbT1F0UgOE9qbg</td>\n",
       "      <td>Made Your Mama Cry</td>\n",
       "      <td>2021-06-30</td>\n",
       "      <td>spotify:track:3GROKC4eYt3KVWN3AyMCwL</td>\n",
       "      <td>1</td>\n",
       "      <td>1</td>\n",
       "      <td>158451</td>\n",
       "      <td>False</td>\n",
       "      <td>45</td>\n",
       "    </tr>\n",
       "    <tr>\n",
       "      <th>123</th>\n",
       "      <td>Ray Laurél</td>\n",
       "      <td>7gW3GsnBSoT6q9YQUstlzA</td>\n",
       "      <td>DONTLEAVEMYSIDE</td>\n",
       "      <td>2023-04-12</td>\n",
       "      <td>spotify:track:5dx52a9oh4Vm7XbkqCn7Dq</td>\n",
       "      <td>1</td>\n",
       "      <td>1</td>\n",
       "      <td>126965</td>\n",
       "      <td>False</td>\n",
       "      <td>43</td>\n",
       "    </tr>\n",
       "    <tr>\n",
       "      <th>124</th>\n",
       "      <td>Jeshi</td>\n",
       "      <td>0q8eApZJs5WDBxayY9769C</td>\n",
       "      <td>DONTLEAVEMYSIDE</td>\n",
       "      <td>2023-04-12</td>\n",
       "      <td>spotify:track:5dx52a9oh4Vm7XbkqCn7Dq</td>\n",
       "      <td>1</td>\n",
       "      <td>1</td>\n",
       "      <td>126965</td>\n",
       "      <td>False</td>\n",
       "      <td>43</td>\n",
       "    </tr>\n",
       "  </tbody>\n",
       "</table>\n",
       "<p>125 rows × 10 columns</p>\n",
       "</div>"
      ],
      "text/plain": [
       "             artistName                artistID  \\\n",
       "0             sagacious  0wzoSAAL4Yq5ph8q28HXEU   \n",
       "1         Tommy Newport  7FvQR6QFfXmW18dyMqnHvv   \n",
       "2               Mercury  6aIZIwesnYKR6ZN1fIerPZ   \n",
       "3    Portraits Of Tracy  34QizBjxVeMcA5HlZpKxxE   \n",
       "4           Billy Lemos  7ebBg3BuRFa2satTcY8whC   \n",
       "..                  ...                     ...   \n",
       "120        Sophia Black  3wdXgSpjbbU3tX9KasdxMh   \n",
       "121           King Isis  7jz1wM1NdiskFWrlosZhVw   \n",
       "122        Nana Lourdes  3LEjiFgpLbT1F0UgOE9qbg   \n",
       "123          Ray Laurél  7gW3GsnBSoT6q9YQUstlzA   \n",
       "124               Jeshi  0q8eApZJs5WDBxayY9769C   \n",
       "\n",
       "                          songName release_date  \\\n",
       "0                          ur self   2021-08-17   \n",
       "1                    Jonny's Habit   2023-02-17   \n",
       "2                           heaven   2023-06-01   \n",
       "3                           Found!   2023-05-26   \n",
       "4    No Place Here (feat. annonXL)   2023-02-24   \n",
       "..                             ...          ...   \n",
       "120                     goddammit.   2023-04-28   \n",
       "121                     taste of u   2023-03-01   \n",
       "122             Made Your Mama Cry   2021-06-30   \n",
       "123                DONTLEAVEMYSIDE   2023-04-12   \n",
       "124                DONTLEAVEMYSIDE   2023-04-12   \n",
       "\n",
       "                                  songURI  songLocation  albumLength  \\\n",
       "0    spotify:track:6tfoSWteKyW43Cf0Usdywm             1            1   \n",
       "1    spotify:track:09YcDy6I05RGXAq6gPDVr0             1           10   \n",
       "2    spotify:track:5gEoep9RwLEy8hFJMne9ad             1            1   \n",
       "3    spotify:track:1FgY491AT8WYmMgZgWLfkz            16           18   \n",
       "4    spotify:track:5gAPeHJRjeTirQxYQT2qeE             1            7   \n",
       "..                                    ...           ...          ...   \n",
       "120  spotify:track:005w7f7Ect0chkLpfGmYvx             1            3   \n",
       "121  spotify:track:4zqZ7hR4Pl3UT0p19En1ib             1            3   \n",
       "122  spotify:track:3GROKC4eYt3KVWN3AyMCwL             1            1   \n",
       "123  spotify:track:5dx52a9oh4Vm7XbkqCn7Dq             1            1   \n",
       "124  spotify:track:5dx52a9oh4Vm7XbkqCn7Dq             1            1   \n",
       "\n",
       "     songDuration  songExplicit  songPopularity  \n",
       "0          176094         False              34  \n",
       "1          197014         False              35  \n",
       "2          120133          True              30  \n",
       "3          305511         False              48  \n",
       "4          116156         False              30  \n",
       "..            ...           ...             ...  \n",
       "120        178493          True              43  \n",
       "121        179358         False              42  \n",
       "122        158451         False              45  \n",
       "123        126965         False              43  \n",
       "124        126965         False              43  \n",
       "\n",
       "[125 rows x 10 columns]"
      ]
     },
     "execution_count": 3,
     "metadata": {},
     "output_type": "execute_result"
    }
   ],
   "source": [
    "# Collect artists from an existing favorited playlist\n",
    "playlistToFetch = getPlaylistID(credentials, 'anti pop')\n",
    "artistsNew = fetchTracksFromPlaylist(credentials, playlistToFetch)\n",
    "artistsNew"
   ]
  },
  {
   "cell_type": "markdown",
   "metadata": {},
   "source": [
    "## Process new artists"
   ]
  },
  {
   "cell_type": "code",
   "execution_count": 5,
   "metadata": {},
   "outputs": [
    {
     "data": {
      "text/html": [
       "<div>\n",
       "<style scoped>\n",
       "    .dataframe tbody tr th:only-of-type {\n",
       "        vertical-align: middle;\n",
       "    }\n",
       "\n",
       "    .dataframe tbody tr th {\n",
       "        vertical-align: top;\n",
       "    }\n",
       "\n",
       "    .dataframe thead th {\n",
       "        text-align: right;\n",
       "    }\n",
       "</style>\n",
       "<table border=\"1\" class=\"dataframe\">\n",
       "  <thead>\n",
       "    <tr style=\"text-align: right;\">\n",
       "      <th></th>\n",
       "      <th>artistName</th>\n",
       "    </tr>\n",
       "  </thead>\n",
       "  <tbody>\n",
       "  </tbody>\n",
       "</table>\n",
       "</div>"
      ],
      "text/plain": [
       "Empty DataFrame\n",
       "Columns: [artistName]\n",
       "Index: []"
      ]
     },
     "execution_count": 5,
     "metadata": {},
     "output_type": "execute_result"
    }
   ],
   "source": [
    "# Filter out known artists who we have already listened to\n",
    "if os.path.exists(dataPath):\n",
    "    artistsKnown = pd.read_csv(dataPath, index_col=0)\n",
    "else:\n",
    "    artistsKnown = pd.DataFrame(columns=['artistName', 'artistID', 'artistPopularity', 'artistFollowers', 'artistGenre'])\n",
    "artistsNew = artistsNew.loc[~artistsNew.artistName.isin(artistsKnown['artistName'])]\n"
   ]
  },
  {
   "cell_type": "code",
   "execution_count": 9,
   "metadata": {},
   "outputs": [
    {
     "data": {
      "text/plain": [
       "FullArtist with fields:\n",
       "  external_urls = {'spotify'}\n",
       "  followers = Followers(href, total)\n",
       "  genres = [4 x str]\n",
       "  href = 'https://api.spotify.com/v1/artists/1URnnhqYAYcrqrcwql10ft'\n",
       "  id = '1URnnhqYAYcrqrcwql10ft'\n",
       "  images = [3 x Image(height, url, width)]\n",
       "  name = '21 Savage'\n",
       "  popularity = 90\n",
       "  type = 'artist'\n",
       "  uri = 'spotify:artist:1URnnhqYAYcrqrcwql10ft'"
      ]
     },
     "execution_count": 9,
     "metadata": {},
     "output_type": "execute_result"
    }
   ],
   "source": [
    "# Search Spotify for new artist info\n",
    "# artistsNew = artistsNew.apply(fetchArtistInfo, axis=1)\n",
    "# artistsNew\n",
    "\n",
    "spotify, userID, user_token = credentials\n",
    "possibleArtists, = spotify.search('21 Savage', types=['artist'], limit=1)\n",
    "possibleArtists.items[0]"
   ]
  },
  {
   "cell_type": "code",
   "execution_count": null,
   "metadata": {},
   "outputs": [],
   "source": [
    "# Search spotify for artists based on name\n",
    "possibleArtists, = spotify.search(artistsNew['artistName'], types=['artist'], limit=1)\n",
    "# Select the first search result\n",
    "artistsNew['artistID'] = possibleArtists.items[0].id\n",
    "artists['artistPopularity'] = possibleArtists.items[0].popularity\n",
    "artists['artistFollowers'] = possibleArtists.items[0].followers.total\n",
    "artists['artistGenre'] = \", \".join(list(possibleArtists.items[0].genres))\n",
    "result = artists"
   ]
  },
  {
   "cell_type": "code",
   "execution_count": null,
   "metadata": {},
   "outputs": [],
   "source": [
    "# Ignore artists who did not turn up in Spotify\n",
    "artistsNew = artistsNew.dropna(subset='artistID')\n",
    "# Drop artists whose name was not an exact match with a known artist but who have the same artistID\n",
    "artistsNew = artistsNew.loc[~artistsNew.artistID.isin(artistsKnown['artistID'])]"
   ]
  },
  {
   "cell_type": "markdown",
   "metadata": {},
   "source": [
    "## Get top songs"
   ]
  },
  {
   "cell_type": "code",
   "execution_count": 83,
   "metadata": {},
   "outputs": [
    {
     "name": "stdout",
     "output_type": "stream",
     "text": [
      "There are 6 about to be added\n"
     ]
    }
   ],
   "source": [
    "# Get their top three songs in last 5 years\n",
    "songURIs = fetchTopSongs(artistsNew['artistID'], maxAge=5)\n",
    "# How many songs are in this round?\n",
    "print(f\"There are {len(songURIs)} songs about to be added\")"
   ]
  },
  {
   "cell_type": "markdown",
   "metadata": {},
   "source": [
    "## Put songs in playlist"
   ]
  },
  {
   "cell_type": "code",
   "execution_count": 114,
   "metadata": {},
   "outputs": [],
   "source": [
    "# Warning: This will make a new playlist\n",
    "playlistID = getPlaylistID('New Artists to Explore')\n",
    "# Add songs to the playlist\n",
    "addToPlaylist(songURIs, playlistID)"
   ]
  },
  {
   "cell_type": "markdown",
   "metadata": {},
   "source": [
    "## Update the list of known artists"
   ]
  },
  {
   "cell_type": "code",
   "execution_count": 126,
   "metadata": {},
   "outputs": [],
   "source": [
    "# Append artistsNew to artistsKnown.csv \n",
    "allArtists = pd.concat([artistsKnown, artistsNew], axis=0, ignore_index=True)\n",
    "allArtists.to_csv(dataPath)"
   ]
  },
  {
   "cell_type": "markdown",
   "metadata": {},
   "source": [
    "## Create playlist to drop good songs into"
   ]
  },
  {
   "cell_type": "code",
   "execution_count": 118,
   "metadata": {},
   "outputs": [
    {
     "name": "stdout",
     "output_type": "stream",
     "text": [
      "Now drop songs you like into this playlist: 5bZPe8Gkc9jUADiDXXlm4V\n"
     ]
    }
   ],
   "source": [
    "# Cull exploreArtists into ArtistHasPotential playlist\n",
    "winnersPlaylist = getPlaylistID('New Artists I Liked')\n",
    "print(f'Now drop songs you like into this playlist: {winnersPlaylist}')"
   ]
  },
  {
   "cell_type": "code",
   "execution_count": null,
   "metadata": {},
   "outputs": [],
   "source": []
  }
 ],
 "metadata": {
  "kernelspec": {
   "display_name": "Python 3.10.9 ('summerplaylist')",
   "language": "python",
   "name": "python3"
  },
  "language_info": {
   "codemirror_mode": {
    "name": "ipython",
    "version": 3
   },
   "file_extension": ".py",
   "mimetype": "text/x-python",
   "name": "python",
   "nbconvert_exporter": "python",
   "pygments_lexer": "ipython3",
   "version": "3.10.9"
  },
  "orig_nbformat": 4,
  "vscode": {
   "interpreter": {
    "hash": "e81157a0786199ab9ef170aa1943f0690c4844c55695062c7d895c198fc85648"
   }
  }
 },
 "nbformat": 4,
 "nbformat_minor": 2
}
