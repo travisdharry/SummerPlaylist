{
 "cells": [
  {
   "cell_type": "markdown",
   "metadata": {},
   "source": [
    "## Config"
   ]
  },
  {
   "cell_type": "code",
   "execution_count": 1,
   "metadata": {},
   "outputs": [],
   "source": [
    "### Configuration\n",
    "# Dependencies\n",
    "import os\n",
    "import pandas as pd\n",
    "import numpy as np\n",
    "from summerplaylist import *\n",
    "\n",
    "# Environment variables\n",
    "CLIENTID = os.environ.get('CLIENTID')\n",
    "CLIENTSECRET = os.environ.get('CLIENTSECRET')\n",
    "REDIRECT_URI = 'https://example.com/callback'"
   ]
  },
  {
   "cell_type": "markdown",
   "metadata": {},
   "source": [
    "## Log In"
   ]
  },
  {
   "cell_type": "code",
   "execution_count": 2,
   "metadata": {},
   "outputs": [
    {
     "name": "stdout",
     "output_type": "stream",
     "text": [
      "Opening browser for Spotify login...\n"
     ]
    }
   ],
   "source": [
    "# Authenticate to Spotify\n",
    "spotify, userID, user_token = authenticateToSpotify(CLIENTID, CLIENTSECRET, REDIRECT_URI)"
   ]
  },
  {
   "cell_type": "markdown",
   "metadata": {},
   "source": [
    "## Collect new artists"
   ]
  },
  {
   "cell_type": "code",
   "execution_count": 3,
   "metadata": {},
   "outputs": [],
   "source": [
    "# Collect names of new artists\n",
    "artistsNew = fetchMusicFestivalWizard()"
   ]
  },
  {
   "cell_type": "markdown",
   "metadata": {},
   "source": [
    "## Process new artists"
   ]
  },
  {
   "cell_type": "code",
   "execution_count": 5,
   "metadata": {},
   "outputs": [
    {
     "data": {
      "text/html": [
       "<div>\n",
       "<style scoped>\n",
       "    .dataframe tbody tr th:only-of-type {\n",
       "        vertical-align: middle;\n",
       "    }\n",
       "\n",
       "    .dataframe tbody tr th {\n",
       "        vertical-align: top;\n",
       "    }\n",
       "\n",
       "    .dataframe thead th {\n",
       "        text-align: right;\n",
       "    }\n",
       "</style>\n",
       "<table border=\"1\" class=\"dataframe\">\n",
       "  <thead>\n",
       "    <tr style=\"text-align: right;\">\n",
       "      <th></th>\n",
       "      <th>artistName</th>\n",
       "    </tr>\n",
       "  </thead>\n",
       "  <tbody>\n",
       "  </tbody>\n",
       "</table>\n",
       "</div>"
      ],
      "text/plain": [
       "Empty DataFrame\n",
       "Columns: [artistName]\n",
       "Index: []"
      ]
     },
     "execution_count": 5,
     "metadata": {},
     "output_type": "execute_result"
    }
   ],
   "source": [
    "# Filter out known artists who we have already listened to\n",
    "if os.path.exists(\"artistsKnown.csv\"):\n",
    "    artistsKnown = pd.read_csv('artistsKnown.csv', index_col=0)\n",
    "else:\n",
    "    artistsKnown = pd.DataFrame(columns=['artistName', 'artistID', 'artistPopularity', 'artistFollowers', 'artistGenre'])\n",
    "artistsNew = artistsNew.loc[~artistsNew.artistName.isin(artistsKnown['artistName'])]\n",
    "# Search Spotify for new artist info\n",
    "artistsNew = artistsNew.apply(fetchArtistInfo, axis=1)\n",
    "# Ignore artists who did not turn up in Spotify\n",
    "artistsNew = artistsNew.dropna(subset='artistID')\n",
    "# Drop artists whose name was not an exact match with a known artist but who have the same artistID\n",
    "artistsNew = artistsNew.loc[~artistsNew.artistID.isin(artistsKnown['artistID'])]"
   ]
  },
  {
   "cell_type": "markdown",
   "metadata": {},
   "source": [
    "## Get recent songs"
   ]
  },
  {
   "cell_type": "code",
   "execution_count": 83,
   "metadata": {},
   "outputs": [
    {
     "name": "stdout",
     "output_type": "stream",
     "text": [
      "There are 6 about to be added\n"
     ]
    }
   ],
   "source": [
    "# Get their top three songs in last 5 years\n",
    "songURIs = fetchTopSongs(artistsNew['artistID'], maxAge=5)\n",
    "# How many songs are in this round?\n",
    "print(f\"There are {len(songURIs)} songs about to be added\")"
   ]
  },
  {
   "cell_type": "markdown",
   "metadata": {},
   "source": [
    "## Put songs in playlist"
   ]
  },
  {
   "cell_type": "code",
   "execution_count": 114,
   "metadata": {},
   "outputs": [],
   "source": [
    "# Warning: This will make a new playlist\n",
    "playlistID = getPlaylistID('New Artists to Explore')\n",
    "# Add songs to the playlist\n",
    "addToPlaylist(songURIs, playlistID)"
   ]
  },
  {
   "cell_type": "markdown",
   "metadata": {},
   "source": [
    "## Update the list of known artists"
   ]
  },
  {
   "cell_type": "code",
   "execution_count": 126,
   "metadata": {},
   "outputs": [],
   "source": [
    "# Append artistsNew to artistsKnown.csv \n",
    "allArtists = pd.concat([artistsKnown, artistsNew], axis=0, ignore_index=True)\n",
    "allArtists.to_csv('artistsKnown.csv')"
   ]
  },
  {
   "cell_type": "markdown",
   "metadata": {},
   "source": [
    "## Create playlist to drop good songs into"
   ]
  },
  {
   "cell_type": "code",
   "execution_count": 118,
   "metadata": {},
   "outputs": [
    {
     "name": "stdout",
     "output_type": "stream",
     "text": [
      "Now drop songs you like into this playlist: 5bZPe8Gkc9jUADiDXXlm4V\n"
     ]
    }
   ],
   "source": [
    "# Cull exploreArtists into ArtistHasPotential playlist\n",
    "winnersPlaylist = getPlaylistID('New Artists I Liked')\n",
    "print(f'Now drop songs you like into this playlist: {winnersPlaylist}')"
   ]
  },
  {
   "cell_type": "code",
   "execution_count": null,
   "metadata": {},
   "outputs": [],
   "source": []
  }
 ],
 "metadata": {
  "kernelspec": {
   "display_name": "Python 3.10.9 ('summerplaylist')",
   "language": "python",
   "name": "python3"
  },
  "language_info": {
   "codemirror_mode": {
    "name": "ipython",
    "version": 3
   },
   "file_extension": ".py",
   "mimetype": "text/x-python",
   "name": "python",
   "nbconvert_exporter": "python",
   "pygments_lexer": "ipython3",
   "version": "3.10.9"
  },
  "orig_nbformat": 4,
  "vscode": {
   "interpreter": {
    "hash": "e81157a0786199ab9ef170aa1943f0690c4844c55695062c7d895c198fc85648"
   }
  }
 },
 "nbformat": 4,
 "nbformat_minor": 2
}
