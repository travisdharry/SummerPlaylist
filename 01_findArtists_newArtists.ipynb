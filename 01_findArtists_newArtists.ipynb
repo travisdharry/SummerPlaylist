{
 "cells": [
  {
   "cell_type": "markdown",
   "metadata": {},
   "source": [
    "## Config"
   ]
  },
  {
   "cell_type": "code",
   "execution_count": 87,
   "metadata": {},
   "outputs": [
    {
     "name": "stdout",
     "output_type": "stream",
     "text": [
      "Opening browser for Spotify login...\n"
     ]
    }
   ],
   "source": [
    "### Configuration\n",
    "# Dependencies\n",
    "import os\n",
    "import pandas as pd\n",
    "import numpy as np\n",
    "import summerplaylist\n",
    "\n",
    "# Environment variables\n",
    "CLIENTID = os.environ.get('CLIENTID')\n",
    "CLIENTSECRET = os.environ.get('CLIENTSECRET')\n",
    "REDIRECT_URI = 'https://example.com/callback'"
   ]
  },
  {
   "cell_type": "markdown",
   "metadata": {},
   "source": [
    "## Log In"
   ]
  },
  {
   "cell_type": "code",
   "execution_count": null,
   "metadata": {},
   "outputs": [],
   "source": [
    "# Authenticate to Spotify\n",
    "spotify, userID, user_token = authenticateToSpotify(CLIENTID, CLIENTSECRET, REDIRECT_URI)"
   ]
  },
  {
   "cell_type": "markdown",
   "metadata": {},
   "source": [
    "## Functions"
   ]
  },
  {
   "cell_type": "code",
   "execution_count": 73,
   "metadata": {},
   "outputs": [],
   "source": [
    "# # Function to scrape list of artist names from MusicFestivalWizard\n",
    "# def fetchMusicFestivalWizard():\n",
    "#     session = HTMLSession()\n",
    "#     r = session.get('https://www.musicfestivalwizard.com/all-festivals/')\n",
    "#     artists = r.html.find('#artist', first=True).find('option')\n",
    "#     artistList = [x.text for x in artists]\n",
    "#     result = pd.DataFrame({'artistName':artistList})\n",
    "#     result = result.loc[result.artistName!=\"All Artists\"]\n",
    "#     return result"
   ]
  },
  {
   "cell_type": "code",
   "execution_count": 74,
   "metadata": {},
   "outputs": [],
   "source": [
    "# # Create function to search spotify based on artist name\n",
    "# def fetchArtistInfo(artists):\n",
    "#     try:\n",
    "#         # Search spotify for artists based on name\n",
    "#         possibleArtists, = spotify.search(artists['artistName'], types=['artist'], limit=1)\n",
    "#         # Select the first search result\n",
    "#         artists['artistID'] = possibleArtists.items[0].id\n",
    "#         artists['artistPopularity'] = possibleArtists.items[0].popularity\n",
    "#         artists['artistFollowers'] = possibleArtists.items[0].followers.total\n",
    "#         artists['artistGenre'] = \", \".join(list(possibleArtists.items[0].genres))\n",
    "#         result = artists\n",
    "#     except:\n",
    "#         artists['artistID'] = np.nan\n",
    "#         artists['artistPopularity'] = np.nan\n",
    "#         artists['artistFollowers'] = np.nan\n",
    "#         artists['artistGenre'] = np.nan\n",
    "#         result = artists\n",
    "#     finally:\n",
    "#         # Wait 2 seconds so we do not exceed our API call allowance\n",
    "#         time.sleep(2)\n",
    "#         return result"
   ]
  },
  {
   "cell_type": "code",
   "execution_count": 75,
   "metadata": {},
   "outputs": [],
   "source": [
    "# # Define function that will get the top tracks for each artist in the list\n",
    "# def fetchTopSongs(row):\n",
    "#     try:\n",
    "#         # Query the spotify API\n",
    "#         topSongs = spotify.artist_top_tracks(row['artistID'], \"US\")\n",
    "#         # Iterate over the tracks to find a list of songURIs\n",
    "#         # Limit this to only those songs produced in the last few years; Use only the year (first four digits)\n",
    "#         # Limit this to only three songs per artist\n",
    "#         result = [x.uri for x in topSongs if datetime.strptime(x.album.release_date[:4], '%Y')>MINDATE][:3]\n",
    "#     except: \n",
    "#         result = [np.nan]\n",
    "#     finally:\n",
    "#         # Wait 2 seconds so we do not exceed our API call allowance\n",
    "#         time.sleep(2)\n",
    "#         return result"
   ]
  },
  {
   "cell_type": "code",
   "execution_count": 129,
   "metadata": {},
   "outputs": [],
   "source": [
    "# def getPlaylistID(playlistName):\n",
    "#     with spotify.token_as(user_token):\n",
    "#         # Check if playlist already exists; if not create a new one\n",
    "#         userPlaylists = pd.DataFrame([{'id':x.id, 'name':x.name} for x in spotify.playlists(userID, limit=40).items])\n",
    "#         if (userPlaylists['name'].eq(playlistName)).any():\n",
    "#             # Create a playlist for the user\n",
    "#             newPlaylist = spotify.playlist_create(userID, playlistName, public=False, description='Top three songs from new artists')\n",
    "#             playlistID = newPlaylist.id\n",
    "#         # Else just get playlistID\n",
    "#         else:\n",
    "#             playlistID = userPlaylists.loc[userPlaylists['name']==playlistName, 'id'][0]\n",
    "#     return playlistID"
   ]
  },
  {
   "cell_type": "code",
   "execution_count": 112,
   "metadata": {},
   "outputs": [],
   "source": [
    "# def addToPlaylist(df, playlistID):\n",
    "#     with spotify.token_as(user_token):\n",
    "#         # Counter\n",
    "#         n = 0\n",
    "#         # Add songs in chunks of 100\n",
    "#         while n < len(df):\n",
    "#             songsToAdd = df.iloc[n:(n+100)]\n",
    "#             spotify.playlist_add(playlistID, list(songsToAdd['songURI']), position=None)\n",
    "#             # Wait two seconds to avoid exceeding API limits\n",
    "#             time.sleep(2)\n",
    "#             # Increment counter\n",
    "#             n += 100"
   ]
  },
  {
   "cell_type": "markdown",
   "metadata": {},
   "source": [
    "## Collect new artists"
   ]
  },
  {
   "cell_type": "code",
   "execution_count": 119,
   "metadata": {},
   "outputs": [],
   "source": [
    "# Collect names of new artists\n",
    "artistsNew = fetchMusicFestivalWizard()"
   ]
  },
  {
   "cell_type": "markdown",
   "metadata": {},
   "source": [
    "## Process new artists"
   ]
  },
  {
   "cell_type": "code",
   "execution_count": 125,
   "metadata": {},
   "outputs": [],
   "source": [
    "# Filter out known artists who we have already listened to\n",
    "if os.path.exists(\"artistsKnown.csv\"):\n",
    "    artistsKnown = pd.read_csv('artistsKnown.csv', index_col=0)\n",
    "else:\n",
    "    artistsKnown = pd.DataFrame(columns=['artistName', 'artistID', 'artistPopularity', 'artistFollowers', 'artistGenre'])\n",
    "artistsNew = artistsNew.loc[~artistsNew.artistName.isin(artistsKnown['artistName'])]\n",
    "# Search Spotify for new artist info\n",
    "artistsNew = artistsNew.apply(fetchArtistInfo, axis=1)\n",
    "# Ignore artists who did not turn up in Spotify\n",
    "artistsNew = artistsNew.dropna(subset='artistID')\n",
    "# Drop artists whose name was not an exact match with a known artist but who have the same artistID\n",
    "artistsNew = artistsNew.loc[~artistsNew.artistID.isin(artistsKnown['artistID'])]"
   ]
  },
  {
   "cell_type": "markdown",
   "metadata": {},
   "source": [
    "## Get recent songs"
   ]
  },
  {
   "cell_type": "code",
   "execution_count": 83,
   "metadata": {},
   "outputs": [
    {
     "name": "stdout",
     "output_type": "stream",
     "text": [
      "There are 6 about to be added\n"
     ]
    }
   ],
   "source": [
    "# Get their top three songs in last 5 years\n",
    "songs = artistsNew.copy()\n",
    "# Find a list of songURIs for each artist\n",
    "songs['songURI'] = artistsNew.apply(fetchTopSongs, axis=1)\n",
    "# Explode lists of songURIs to multiple rows\n",
    "songs = songs.explode('songURI', ignore_index=True)\n",
    "# Drop where songs could not be found\n",
    "songs = songs.dropna()\n",
    "# How many songs are in this round?\n",
    "print(f\"There are {len(songs)} about to be added\")"
   ]
  },
  {
   "cell_type": "markdown",
   "metadata": {},
   "source": [
    "## Put songs in playlist"
   ]
  },
  {
   "cell_type": "code",
   "execution_count": 114,
   "metadata": {},
   "outputs": [],
   "source": [
    "# Warning: This will make a new playlist\n",
    "playlistID = getPlaylistID('New Artists to Explore')\n",
    "# Add songs to the playlist\n",
    "addToPlaylist(songs, playlistID)"
   ]
  },
  {
   "cell_type": "markdown",
   "metadata": {},
   "source": [
    "## Update the list of known artists"
   ]
  },
  {
   "cell_type": "code",
   "execution_count": 126,
   "metadata": {},
   "outputs": [],
   "source": [
    "# Append artistsNew to artistsKnown.csv \n",
    "allArtists = pd.concat([artistsKnown, artistsNew], axis=0, ignore_index=True)\n",
    "allArtists.to_csv('artistsKnown.csv')"
   ]
  },
  {
   "cell_type": "markdown",
   "metadata": {},
   "source": [
    "## Create playlist to drop good songs into"
   ]
  },
  {
   "cell_type": "code",
   "execution_count": 118,
   "metadata": {},
   "outputs": [
    {
     "name": "stdout",
     "output_type": "stream",
     "text": [
      "Now drop songs you like into this playlist: 5bZPe8Gkc9jUADiDXXlm4V\n"
     ]
    }
   ],
   "source": [
    "# Cull exploreArtists into ArtistHasPotential playlist\n",
    "winnersPlaylist = getPlaylistID('New Artists I Liked')\n",
    "print(f'Now drop songs you like into this playlist: {winnersPlaylist}')"
   ]
  },
  {
   "cell_type": "code",
   "execution_count": null,
   "metadata": {},
   "outputs": [],
   "source": []
  }
 ],
 "metadata": {
  "kernelspec": {
   "display_name": "Python 3.10.9 ('summerplaylist')",
   "language": "python",
   "name": "python3"
  },
  "language_info": {
   "codemirror_mode": {
    "name": "ipython",
    "version": 3
   },
   "file_extension": ".py",
   "mimetype": "text/x-python",
   "name": "python",
   "nbconvert_exporter": "python",
   "pygments_lexer": "ipython3",
   "version": "3.10.9"
  },
  "orig_nbformat": 4,
  "vscode": {
   "interpreter": {
    "hash": "e81157a0786199ab9ef170aa1943f0690c4844c55695062c7d895c198fc85648"
   }
  }
 },
 "nbformat": 4,
 "nbformat_minor": 2
}
