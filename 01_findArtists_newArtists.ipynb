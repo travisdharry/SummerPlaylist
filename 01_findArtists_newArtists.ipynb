{
 "cells": [
  {
   "cell_type": "markdown",
   "metadata": {},
   "source": [
    "## Config"
   ]
  },
  {
   "cell_type": "code",
   "execution_count": 1,
   "metadata": {},
   "outputs": [],
   "source": [
    "### Configuration\n",
    "# Dependencies\n",
    "import os\n",
    "import pandas as pd\n",
    "import numpy as np\n",
    "from summerplaylist import *\n",
    "\n",
    "# Environment variables\n",
    "CLIENTID = os.environ.get('CLIENTID')\n",
    "CLIENTSECRET = os.environ.get('CLIENTSECRET')\n",
    "REDIRECT_URI = 'https://example.com/callback'\n",
    "\n",
    "# Filepaths\n",
    "artistsKnownPath = os.path.join('data', 'artistsKnown.csv')\n",
    "\n",
    "# Set max age for new artist songs\n",
    "maxAge = 5"
   ]
  },
  {
   "cell_type": "markdown",
   "metadata": {},
   "source": [
    "## Log In"
   ]
  },
  {
   "cell_type": "code",
   "execution_count": 2,
   "metadata": {},
   "outputs": [
    {
     "name": "stdout",
     "output_type": "stream",
     "text": [
      "Opening browser for Spotify login...\n"
     ]
    }
   ],
   "source": [
    "# Authenticate to Spotify\n",
    "credentials = authenticateToSpotify(CLIENTID, CLIENTSECRET, REDIRECT_URI)"
   ]
  },
  {
   "cell_type": "markdown",
   "metadata": {},
   "source": [
    "## Collect new artists"
   ]
  },
  {
   "cell_type": "code",
   "execution_count": 4,
   "metadata": {},
   "outputs": [],
   "source": [
    "# This block can be commented out once it has been run once. It does not update each year.\n",
    "\n",
    "# # Collect names of new artists from Music Festival Wizard\n",
    "# artistsNew = fetchMusicFestivalWizard()\n",
    "# # Filter out known artists who we have already listened to\n",
    "# artistsNew = artistsNew.loc[~artistsNew['artistName'].isin(artistsKnown['artistName'])]\n",
    "# artistsNew = artistsNew.head()\n",
    "# # Search spotify for artistIDs\n",
    "# artistsNew['artistID'] = artistsNew.apply(findArtistIDs, credentials=credentials, axis=1)\n",
    "# # Filter out if artistID was known\n",
    "# artistsNew = artistsNew.loc[~artistsNew['artistID'].isin(artistsKnown['artistID'])]\n",
    "# artistsNew"
   ]
  },
  {
   "cell_type": "code",
   "execution_count": null,
   "metadata": {},
   "outputs": [],
   "source": [
    "# Website with a list of festivals\n",
    "# https://www.thrillist.com/news/nation/music-festival-lineups-tickets-us-guide"
   ]
  },
  {
   "cell_type": "code",
   "execution_count": 3,
   "metadata": {},
   "outputs": [
    {
     "data": {
      "text/html": [
       "<div>\n",
       "<style scoped>\n",
       "    .dataframe tbody tr th:only-of-type {\n",
       "        vertical-align: middle;\n",
       "    }\n",
       "\n",
       "    .dataframe tbody tr th {\n",
       "        vertical-align: top;\n",
       "    }\n",
       "\n",
       "    .dataframe thead th {\n",
       "        text-align: right;\n",
       "    }\n",
       "</style>\n",
       "<table border=\"1\" class=\"dataframe\">\n",
       "  <thead>\n",
       "    <tr style=\"text-align: right;\">\n",
       "      <th></th>\n",
       "      <th>id</th>\n",
       "      <th>name</th>\n",
       "    </tr>\n",
       "  </thead>\n",
       "  <tbody>\n",
       "    <tr>\n",
       "      <th>0</th>\n",
       "      <td>0Ryc3JAo4ZLiJMtq1o2v6B</td>\n",
       "      <td>Hinterland 2024</td>\n",
       "    </tr>\n",
       "    <tr>\n",
       "      <th>1</th>\n",
       "      <td>4gYPuLx0d87tkSGacyBWJP</td>\n",
       "      <td>Lollapalooza Chicago 2024</td>\n",
       "    </tr>\n",
       "    <tr>\n",
       "      <th>2</th>\n",
       "      <td>4BIYTsJ4nDunOKVCkNEUmR</td>\n",
       "      <td>Pitchfork Music Festival 2024</td>\n",
       "    </tr>\n",
       "    <tr>\n",
       "      <th>3</th>\n",
       "      <td>5jPqT5VZ707FchYgLyBJjx</td>\n",
       "      <td>2024 | Under The Big Sky Festival</td>\n",
       "    </tr>\n",
       "    <tr>\n",
       "      <th>4</th>\n",
       "      <td>4LojrrODypV6Vmh1dXi6Vx</td>\n",
       "      <td>Summerfest 2024</td>\n",
       "    </tr>\n",
       "    <tr>\n",
       "      <th>5</th>\n",
       "      <td>3hucYsCUS3jPd5V2bIusA8</td>\n",
       "      <td>Bonnaroo 2024 Official Playlist</td>\n",
       "    </tr>\n",
       "    <tr>\n",
       "      <th>6</th>\n",
       "      <td>1rrgRdG05sm2yLpXKu6qI2</td>\n",
       "      <td>Official 2024 Playlist</td>\n",
       "    </tr>\n",
       "    <tr>\n",
       "      <th>7</th>\n",
       "      <td>2m52nz6kWjzJg4XrtAJx0N</td>\n",
       "      <td>Boston Calling 2024</td>\n",
       "    </tr>\n",
       "    <tr>\n",
       "      <th>8</th>\n",
       "      <td>4m1Y98FdlAEkpsflEvjMHp</td>\n",
       "      <td>BottleRock 2024</td>\n",
       "    </tr>\n",
       "    <tr>\n",
       "      <th>9</th>\n",
       "      <td>56vmmZHQo2ynL8P0QepLBq</td>\n",
       "      <td>LIB 2024 Official Playlist</td>\n",
       "    </tr>\n",
       "    <tr>\n",
       "      <th>10</th>\n",
       "      <td>18MXbLWGmjcObIyAZIIOyn</td>\n",
       "      <td>SFW Summer 2024</td>\n",
       "    </tr>\n",
       "    <tr>\n",
       "      <th>11</th>\n",
       "      <td>1lHkU5EzyEmkUIFw1vOEr2</td>\n",
       "      <td>Forever Summer 2024</td>\n",
       "    </tr>\n",
       "    <tr>\n",
       "      <th>12</th>\n",
       "      <td>3ZUzvHeDFaxLmEMUb33vL6</td>\n",
       "      <td>Endless Summer 2024</td>\n",
       "    </tr>\n",
       "    <tr>\n",
       "      <th>13</th>\n",
       "      <td>1yAsAFOZwo6TTudyjgneVN</td>\n",
       "      <td>Summer 2024</td>\n",
       "    </tr>\n",
       "    <tr>\n",
       "      <th>14</th>\n",
       "      <td>2linyGNYT2pFx6Mb6TTjVb</td>\n",
       "      <td>All Summers</td>\n",
       "    </tr>\n",
       "    <tr>\n",
       "      <th>15</th>\n",
       "      <td>7ecbDSTLLua1FsHah5M061</td>\n",
       "      <td>SFW Summer 2023</td>\n",
       "    </tr>\n",
       "    <tr>\n",
       "      <th>16</th>\n",
       "      <td>48gXb1hVo2EyVHGk02tw5Z</td>\n",
       "      <td>Forever Summer 2023</td>\n",
       "    </tr>\n",
       "    <tr>\n",
       "      <th>17</th>\n",
       "      <td>37i9dQZF1DWTggY0yqBxES</td>\n",
       "      <td>Alternative Hip-Hop</td>\n",
       "    </tr>\n",
       "    <tr>\n",
       "      <th>18</th>\n",
       "      <td>37i9dQZF1DXdwmD5Q7Gxah</td>\n",
       "      <td>Lorem</td>\n",
       "    </tr>\n",
       "    <tr>\n",
       "      <th>19</th>\n",
       "      <td>37i9dQZF1DX5Vy6DFOcx00</td>\n",
       "      <td>big on the internet</td>\n",
       "    </tr>\n",
       "    <tr>\n",
       "      <th>20</th>\n",
       "      <td>37i9dQZF1DWWqNV5cS50j6</td>\n",
       "      <td>anti pop</td>\n",
       "    </tr>\n",
       "    <tr>\n",
       "      <th>21</th>\n",
       "      <td>5hZ6SYEDNHly6Oq9MSuUP3</td>\n",
       "      <td>Skankin’ Fit</td>\n",
       "    </tr>\n",
       "    <tr>\n",
       "      <th>22</th>\n",
       "      <td>35o4N6gQmymDoDSDMxc7vZ</td>\n",
       "      <td>Experimental Classical</td>\n",
       "    </tr>\n",
       "    <tr>\n",
       "      <th>23</th>\n",
       "      <td>6C7ZJPvjJi1UxJUUsSfla9</td>\n",
       "      <td>They Shall Not Grow Old</td>\n",
       "    </tr>\n",
       "    <tr>\n",
       "      <th>24</th>\n",
       "      <td>7nxWVOAM4gqkxEhGl0Hi1a</td>\n",
       "      <td>Give Up</td>\n",
       "    </tr>\n",
       "    <tr>\n",
       "      <th>25</th>\n",
       "      <td>71wevVq2dUhBWYnPzGoQNN</td>\n",
       "      <td>The Buzz</td>\n",
       "    </tr>\n",
       "    <tr>\n",
       "      <th>26</th>\n",
       "      <td>1uz3b6IIajYqvKAL5Id4tZ</td>\n",
       "      <td>Friends</td>\n",
       "    </tr>\n",
       "    <tr>\n",
       "      <th>27</th>\n",
       "      <td>2SV8SjEgxk0Zo1yTHIj5aU</td>\n",
       "      <td>I See a Ship in the Harbor</td>\n",
       "    </tr>\n",
       "    <tr>\n",
       "      <th>28</th>\n",
       "      <td>6geWzdZCbUfxMdYtBoG8C0</td>\n",
       "      <td>The Arrow</td>\n",
       "    </tr>\n",
       "    <tr>\n",
       "      <th>29</th>\n",
       "      <td>1F7cvEcISnpAEZTqAxwTbz</td>\n",
       "      <td>Oldies 94.5</td>\n",
       "    </tr>\n",
       "    <tr>\n",
       "      <th>30</th>\n",
       "      <td>1cY9NovbsuiIQFpTib7JhZ</td>\n",
       "      <td>Great Balls of Fire</td>\n",
       "    </tr>\n",
       "    <tr>\n",
       "      <th>31</th>\n",
       "      <td>0TCyKwGHfXjB0mCOtR80ck</td>\n",
       "      <td>Dusty Trails</td>\n",
       "    </tr>\n",
       "    <tr>\n",
       "      <th>32</th>\n",
       "      <td>0lE6qwVoUP5QaOW0xcwpbq</td>\n",
       "      <td>Bluebonnets</td>\n",
       "    </tr>\n",
       "    <tr>\n",
       "      <th>33</th>\n",
       "      <td>2eJRTN3bg0PQIRz9B0vtPB</td>\n",
       "      <td>travis $ KB's 🔥💃🌶</td>\n",
       "    </tr>\n",
       "    <tr>\n",
       "      <th>34</th>\n",
       "      <td>4BS8RTybSCOw6dpqQJKCee</td>\n",
       "      <td>Endless Summer 2023</td>\n",
       "    </tr>\n",
       "    <tr>\n",
       "      <th>35</th>\n",
       "      <td>2Mcdytc28lcTJbIXzuVYcX</td>\n",
       "      <td>Summer 2023</td>\n",
       "    </tr>\n",
       "    <tr>\n",
       "      <th>36</th>\n",
       "      <td>1KPjybavao8KU78UZYhx30</td>\n",
       "      <td>Endless Summer 2022</td>\n",
       "    </tr>\n",
       "    <tr>\n",
       "      <th>37</th>\n",
       "      <td>4aTeCEuSx2YK1VtJhpRr7V</td>\n",
       "      <td>Summer 2022</td>\n",
       "    </tr>\n",
       "    <tr>\n",
       "      <th>38</th>\n",
       "      <td>33jMFYNrURbRExrzuqMfJ6</td>\n",
       "      <td>Endless Summer 2021</td>\n",
       "    </tr>\n",
       "    <tr>\n",
       "      <th>39</th>\n",
       "      <td>64ehl2sLfLPIF8qnsZixlv</td>\n",
       "      <td>Summer 2021</td>\n",
       "    </tr>\n",
       "  </tbody>\n",
       "</table>\n",
       "</div>"
      ],
      "text/plain": [
       "                        id                               name\n",
       "0   0Ryc3JAo4ZLiJMtq1o2v6B                    Hinterland 2024\n",
       "1   4gYPuLx0d87tkSGacyBWJP          Lollapalooza Chicago 2024\n",
       "2   4BIYTsJ4nDunOKVCkNEUmR      Pitchfork Music Festival 2024\n",
       "3   5jPqT5VZ707FchYgLyBJjx  2024 | Under The Big Sky Festival\n",
       "4   4LojrrODypV6Vmh1dXi6Vx                    Summerfest 2024\n",
       "5   3hucYsCUS3jPd5V2bIusA8    Bonnaroo 2024 Official Playlist\n",
       "6   1rrgRdG05sm2yLpXKu6qI2             Official 2024 Playlist\n",
       "7   2m52nz6kWjzJg4XrtAJx0N                Boston Calling 2024\n",
       "8   4m1Y98FdlAEkpsflEvjMHp                    BottleRock 2024\n",
       "9   56vmmZHQo2ynL8P0QepLBq         LIB 2024 Official Playlist\n",
       "10  18MXbLWGmjcObIyAZIIOyn                    SFW Summer 2024\n",
       "11  1lHkU5EzyEmkUIFw1vOEr2                Forever Summer 2024\n",
       "12  3ZUzvHeDFaxLmEMUb33vL6                Endless Summer 2024\n",
       "13  1yAsAFOZwo6TTudyjgneVN                        Summer 2024\n",
       "14  2linyGNYT2pFx6Mb6TTjVb                        All Summers\n",
       "15  7ecbDSTLLua1FsHah5M061                    SFW Summer 2023\n",
       "16  48gXb1hVo2EyVHGk02tw5Z                Forever Summer 2023\n",
       "17  37i9dQZF1DWTggY0yqBxES                Alternative Hip-Hop\n",
       "18  37i9dQZF1DXdwmD5Q7Gxah                              Lorem\n",
       "19  37i9dQZF1DX5Vy6DFOcx00                big on the internet\n",
       "20  37i9dQZF1DWWqNV5cS50j6                           anti pop\n",
       "21  5hZ6SYEDNHly6Oq9MSuUP3                       Skankin’ Fit\n",
       "22  35o4N6gQmymDoDSDMxc7vZ             Experimental Classical\n",
       "23  6C7ZJPvjJi1UxJUUsSfla9            They Shall Not Grow Old\n",
       "24  7nxWVOAM4gqkxEhGl0Hi1a                            Give Up\n",
       "25  71wevVq2dUhBWYnPzGoQNN                           The Buzz\n",
       "26  1uz3b6IIajYqvKAL5Id4tZ                            Friends\n",
       "27  2SV8SjEgxk0Zo1yTHIj5aU         I See a Ship in the Harbor\n",
       "28  6geWzdZCbUfxMdYtBoG8C0                          The Arrow\n",
       "29  1F7cvEcISnpAEZTqAxwTbz                        Oldies 94.5\n",
       "30  1cY9NovbsuiIQFpTib7JhZ                Great Balls of Fire\n",
       "31  0TCyKwGHfXjB0mCOtR80ck                       Dusty Trails\n",
       "32  0lE6qwVoUP5QaOW0xcwpbq                        Bluebonnets\n",
       "33  2eJRTN3bg0PQIRz9B0vtPB                  travis $ KB's 🔥💃🌶\n",
       "34  4BS8RTybSCOw6dpqQJKCee                Endless Summer 2023\n",
       "35  2Mcdytc28lcTJbIXzuVYcX                        Summer 2023\n",
       "36  1KPjybavao8KU78UZYhx30                Endless Summer 2022\n",
       "37  4aTeCEuSx2YK1VtJhpRr7V                        Summer 2022\n",
       "38  33jMFYNrURbRExrzuqMfJ6                Endless Summer 2021\n",
       "39  64ehl2sLfLPIF8qnsZixlv                        Summer 2021"
      ]
     },
     "execution_count": 3,
     "metadata": {},
     "output_type": "execute_result"
    }
   ],
   "source": [
    "# Print the playlist IDs so user can select an id to add to \"New Artists to Explore\"\n",
    "import time\n",
    "from datetime import datetime\n",
    "from dateutil.relativedelta import relativedelta\n",
    "from collections import Counter\n",
    "import pandas as pd\n",
    "import numpy as np\n",
    "from requests_html import HTMLSession\n",
    "import tekore as tk\n",
    "\n",
    "spotify, userID, user_token = credentials\n",
    "with spotify.token_as(user_token):\n",
    "    # Check if playlist already exists; if not create a new one\n",
    "    userPlaylists = pd.DataFrame([{'id':x.id, 'name':x.name} for x in spotify.playlists(userID, limit=40).items])\n",
    "\n",
    "userPlaylists"
   ]
  },
  {
   "cell_type": "markdown",
   "metadata": {},
   "source": [
    "## Process new artists"
   ]
  },
  {
   "cell_type": "code",
   "execution_count": 4,
   "metadata": {},
   "outputs": [],
   "source": [
    "# Read in known artists\n",
    "artistsKnown = pd.read_csv(artistsKnownPath)"
   ]
  },
  {
   "cell_type": "code",
   "execution_count": 9,
   "metadata": {},
   "outputs": [
    {
     "data": {
      "text/html": [
       "<div>\n",
       "<style scoped>\n",
       "    .dataframe tbody tr th:only-of-type {\n",
       "        vertical-align: middle;\n",
       "    }\n",
       "\n",
       "    .dataframe tbody tr th {\n",
       "        vertical-align: top;\n",
       "    }\n",
       "\n",
       "    .dataframe thead th {\n",
       "        text-align: right;\n",
       "    }\n",
       "</style>\n",
       "<table border=\"1\" class=\"dataframe\">\n",
       "  <thead>\n",
       "    <tr style=\"text-align: right;\">\n",
       "      <th></th>\n",
       "      <th>artistName</th>\n",
       "      <th>artistID</th>\n",
       "    </tr>\n",
       "  </thead>\n",
       "  <tbody>\n",
       "  </tbody>\n",
       "</table>\n",
       "</div>"
      ],
      "text/plain": [
       "Empty DataFrame\n",
       "Columns: [artistName, artistID]\n",
       "Index: []"
      ]
     },
     "execution_count": 9,
     "metadata": {},
     "output_type": "execute_result"
    }
   ],
   "source": [
    "# Collect artists from an existing favorited playlist\n",
    "playlistToFetch = '3hucYsCUS3jPd5V2bIusA8' #getPlaylistID(credentials, 'New Artists to Explore')\n",
    "artistsNew = fetchTracksFromPlaylist(credentials, playlistToFetch)\n",
    "artistsNew = artistsNew[['artistName', 'artistID']].drop_duplicates('artistID', ignore_index=True).reset_index(drop=True)\n",
    "# Filter out if artistID was known\n",
    "artistsNew = artistsNew.loc[~artistsNew['artistID'].isin(artistsKnown['artistID'])]\n",
    "artistsNew"
   ]
  },
  {
   "cell_type": "markdown",
   "metadata": {},
   "source": [
    "## Get top songs"
   ]
  },
  {
   "cell_type": "code",
   "execution_count": 29,
   "metadata": {},
   "outputs": [
    {
     "name": "stdout",
     "output_type": "stream",
     "text": [
      "There are 45 songs about to be added\n"
     ]
    }
   ],
   "source": [
    "# Get their top three songs in last 5 years\n",
    "songURIs = fetchTopSongs(credentials, artistsNew['artistID'], maxAge=maxAge)\n",
    "# How many songs are in this round?\n",
    "print(f\"There are {len(songURIs)} songs about to be added\")"
   ]
  },
  {
   "cell_type": "markdown",
   "metadata": {},
   "source": [
    "## Put songs in playlist"
   ]
  },
  {
   "cell_type": "code",
   "execution_count": 30,
   "metadata": {},
   "outputs": [],
   "source": [
    "# Warning: This will make a new playlist if it does not already exist\n",
    "playlistID = getPlaylistID(credentials, 'Summer - Brand New Artists')\n",
    "# Add songs to the playlist\n",
    "addToPlaylist(credentials, songURIs, playlistID)"
   ]
  },
  {
   "cell_type": "markdown",
   "metadata": {},
   "source": [
    "## Update the list of known artists"
   ]
  },
  {
   "cell_type": "code",
   "execution_count": 32,
   "metadata": {},
   "outputs": [],
   "source": [
    "# Append artistsNew to artistsKnown.csv \n",
    "allArtists = pd.concat([artistsKnown, artistsNew], axis=0, ignore_index=True)\n",
    "allArtists.to_csv(artistsKnownPath, index=False)"
   ]
  },
  {
   "cell_type": "markdown",
   "metadata": {},
   "source": [
    "## Create playlist to drop good songs into"
   ]
  },
  {
   "cell_type": "code",
   "execution_count": 21,
   "metadata": {},
   "outputs": [
    {
     "name": "stdout",
     "output_type": "stream",
     "text": [
      "Now drop songs you like into this playlist: 0Yj1Gqn15HdcDNcV5XJqVm\n"
     ]
    }
   ],
   "source": [
    "# Cull exploreArtists into ArtistHasPotential playlist\n",
    "winnersPlaylist = getPlaylistID(credentials, 'Summer - New Artists to Explore Further')\n",
    "print(f'Now drop songs you like into this playlist: {winnersPlaylist}')"
   ]
  },
  {
   "cell_type": "code",
   "execution_count": null,
   "metadata": {},
   "outputs": [],
   "source": []
  }
 ],
 "metadata": {
  "kernelspec": {
   "display_name": "Python 3.10.9 ('summerplaylist')",
   "language": "python",
   "name": "python3"
  },
  "language_info": {
   "codemirror_mode": {
    "name": "ipython",
    "version": 3
   },
   "file_extension": ".py",
   "mimetype": "text/x-python",
   "name": "python",
   "nbconvert_exporter": "python",
   "pygments_lexer": "ipython3",
   "version": "3.10.9"
  },
  "orig_nbformat": 4,
  "vscode": {
   "interpreter": {
    "hash": "e81157a0786199ab9ef170aa1943f0690c4844c55695062c7d895c198fc85648"
   }
  }
 },
 "nbformat": 4,
 "nbformat_minor": 2
}
