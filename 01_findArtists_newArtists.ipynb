{
 "cells": [
  {
   "cell_type": "markdown",
   "metadata": {},
   "source": [
    "## Config"
   ]
  },
  {
   "cell_type": "code",
   "execution_count": 16,
   "metadata": {},
   "outputs": [],
   "source": [
    "### Configuration\n",
    "# Dependencies\n",
    "import os\n",
    "import pandas as pd\n",
    "import numpy as np\n",
    "from summerplaylist import *\n",
    "\n",
    "# Environment variables\n",
    "CLIENTID = os.environ.get('CLIENTID')\n",
    "CLIENTSECRET = os.environ.get('CLIENTSECRET')\n",
    "REDIRECT_URI = 'https://example.com/callback'\n",
    "\n",
    "# Filepaths\n",
    "artistsKnownPath = os.path.join('data', 'artistsKnown.csv')\n",
    "\n",
    "# Read in known artists\n",
    "artistsKnown = pd.read_csv(artistsKnownPath)\n",
    "\n",
    "# Set max age for new artist songs\n",
    "maxAge = 5"
   ]
  },
  {
   "cell_type": "markdown",
   "metadata": {},
   "source": [
    "## Log In"
   ]
  },
  {
   "cell_type": "code",
   "execution_count": 2,
   "metadata": {},
   "outputs": [
    {
     "name": "stdout",
     "output_type": "stream",
     "text": [
      "Opening browser for Spotify login...\n"
     ]
    }
   ],
   "source": [
    "# Authenticate to Spotify\n",
    "credentials = authenticateToSpotify(CLIENTID, CLIENTSECRET, REDIRECT_URI)"
   ]
  },
  {
   "cell_type": "markdown",
   "metadata": {},
   "source": [
    "## Collect new artists"
   ]
  },
  {
   "cell_type": "code",
   "execution_count": 9,
   "metadata": {},
   "outputs": [
    {
     "data": {
      "text/html": [
       "<div>\n",
       "<style scoped>\n",
       "    .dataframe tbody tr th:only-of-type {\n",
       "        vertical-align: middle;\n",
       "    }\n",
       "\n",
       "    .dataframe tbody tr th {\n",
       "        vertical-align: top;\n",
       "    }\n",
       "\n",
       "    .dataframe thead th {\n",
       "        text-align: right;\n",
       "    }\n",
       "</style>\n",
       "<table border=\"1\" class=\"dataframe\">\n",
       "  <thead>\n",
       "    <tr style=\"text-align: right;\">\n",
       "      <th></th>\n",
       "      <th>artistName</th>\n",
       "      <th>artistID</th>\n",
       "    </tr>\n",
       "  </thead>\n",
       "  <tbody>\n",
       "  </tbody>\n",
       "</table>\n",
       "</div>"
      ],
      "text/plain": [
       "Empty DataFrame\n",
       "Columns: [artistName, artistID]\n",
       "Index: []"
      ]
     },
     "execution_count": 9,
     "metadata": {},
     "output_type": "execute_result"
    }
   ],
   "source": [
    "# Collect names of new artists from Music Festival Wizard\n",
    "artistsNew = fetchMusicFestivalWizard()\n",
    "# Filter out known artists who we have already listened to\n",
    "artistsNew = artistsNew.loc[~artistsNew['artistName'].isin(artistsKnown['artistName'])]\n",
    "artistsNew = artistsNew.head()\n",
    "# Search spotify for artistIDs\n",
    "artistsNew['artistID'] = artistsNew.apply(findArtistIDs, credentials=credentials, axis=1)\n",
    "# Filter out if artistID was known\n",
    "artistsNew = artistsNew.loc[~artistsNew['artistID'].isin(artistsKnown['artistID'])]\n",
    "artistsNew"
   ]
  },
  {
   "cell_type": "code",
   "execution_count": 14,
   "metadata": {},
   "outputs": [],
   "source": [
    "# Collect artists from an existing favorited playlist\n",
    "playlistToFetch = getPlaylistID(credentials, 'anti pop')\n",
    "artistsNew = fetchTracksFromPlaylist(credentials, playlistToFetch)\n",
    "artistsNew = artistsNew[['artistName', 'artistID']].drop_duplicates('artistID', ignore_index=True)\n",
    "# Filter out if artistID was known\n",
    "artistsNew = artistsNew.loc[~artistsNew['artistID'].isin(artistsKnown['artistID'])]"
   ]
  },
  {
   "cell_type": "markdown",
   "metadata": {},
   "source": [
    "## Process new artists"
   ]
  },
  {
   "cell_type": "code",
   "execution_count": 15,
   "metadata": {},
   "outputs": [
    {
     "data": {
      "text/html": [
       "<div>\n",
       "<style scoped>\n",
       "    .dataframe tbody tr th:only-of-type {\n",
       "        vertical-align: middle;\n",
       "    }\n",
       "\n",
       "    .dataframe tbody tr th {\n",
       "        vertical-align: top;\n",
       "    }\n",
       "\n",
       "    .dataframe thead th {\n",
       "        text-align: right;\n",
       "    }\n",
       "</style>\n",
       "<table border=\"1\" class=\"dataframe\">\n",
       "  <thead>\n",
       "    <tr style=\"text-align: right;\">\n",
       "      <th></th>\n",
       "      <th>artistName</th>\n",
       "      <th>artistID</th>\n",
       "    </tr>\n",
       "  </thead>\n",
       "  <tbody>\n",
       "    <tr>\n",
       "      <th>0</th>\n",
       "      <td>sagacious</td>\n",
       "      <td>0wzoSAAL4Yq5ph8q28HXEU</td>\n",
       "    </tr>\n",
       "    <tr>\n",
       "      <th>1</th>\n",
       "      <td>Tommy Newport</td>\n",
       "      <td>7FvQR6QFfXmW18dyMqnHvv</td>\n",
       "    </tr>\n",
       "    <tr>\n",
       "      <th>2</th>\n",
       "      <td>Mercury</td>\n",
       "      <td>6aIZIwesnYKR6ZN1fIerPZ</td>\n",
       "    </tr>\n",
       "    <tr>\n",
       "      <th>3</th>\n",
       "      <td>Portraits Of Tracy</td>\n",
       "      <td>34QizBjxVeMcA5HlZpKxxE</td>\n",
       "    </tr>\n",
       "    <tr>\n",
       "      <th>5</th>\n",
       "      <td>annonXL</td>\n",
       "      <td>7G3FmxYGrHlmOMqoG2lHdA</td>\n",
       "    </tr>\n",
       "    <tr>\n",
       "      <th>...</th>\n",
       "      <td>...</td>\n",
       "      <td>...</td>\n",
       "    </tr>\n",
       "    <tr>\n",
       "      <th>109</th>\n",
       "      <td>Dev Lemons</td>\n",
       "      <td>5zbFRbEu3FDkqN4j1awLLO</td>\n",
       "    </tr>\n",
       "    <tr>\n",
       "      <th>110</th>\n",
       "      <td>bodyimage</td>\n",
       "      <td>7pn8MYeH0VgKGDnYAiS7Pg</td>\n",
       "    </tr>\n",
       "    <tr>\n",
       "      <th>111</th>\n",
       "      <td>Sophia Black</td>\n",
       "      <td>3wdXgSpjbbU3tX9KasdxMh</td>\n",
       "    </tr>\n",
       "    <tr>\n",
       "      <th>112</th>\n",
       "      <td>King Isis</td>\n",
       "      <td>7jz1wM1NdiskFWrlosZhVw</td>\n",
       "    </tr>\n",
       "    <tr>\n",
       "      <th>113</th>\n",
       "      <td>Jeshi</td>\n",
       "      <td>0q8eApZJs5WDBxayY9769C</td>\n",
       "    </tr>\n",
       "  </tbody>\n",
       "</table>\n",
       "<p>90 rows × 2 columns</p>\n",
       "</div>"
      ],
      "text/plain": [
       "             artistName                artistID\n",
       "0             sagacious  0wzoSAAL4Yq5ph8q28HXEU\n",
       "1         Tommy Newport  7FvQR6QFfXmW18dyMqnHvv\n",
       "2               Mercury  6aIZIwesnYKR6ZN1fIerPZ\n",
       "3    Portraits Of Tracy  34QizBjxVeMcA5HlZpKxxE\n",
       "5               annonXL  7G3FmxYGrHlmOMqoG2lHdA\n",
       "..                  ...                     ...\n",
       "109          Dev Lemons  5zbFRbEu3FDkqN4j1awLLO\n",
       "110           bodyimage  7pn8MYeH0VgKGDnYAiS7Pg\n",
       "111        Sophia Black  3wdXgSpjbbU3tX9KasdxMh\n",
       "112           King Isis  7jz1wM1NdiskFWrlosZhVw\n",
       "113               Jeshi  0q8eApZJs5WDBxayY9769C\n",
       "\n",
       "[90 rows x 2 columns]"
      ]
     },
     "execution_count": 15,
     "metadata": {},
     "output_type": "execute_result"
    }
   ],
   "source": [
    "artistsNew\n"
   ]
  },
  {
   "cell_type": "markdown",
   "metadata": {},
   "source": [
    "## Get top songs"
   ]
  },
  {
   "cell_type": "code",
   "execution_count": 17,
   "metadata": {},
   "outputs": [
    {
     "name": "stdout",
     "output_type": "stream",
     "text": [
      "There are 266 songs about to be added\n"
     ]
    }
   ],
   "source": [
    "# Get their top three songs in last 5 years\n",
    "songURIs = fetchTopSongs(credentials, artistsNew['artistID'], maxAge=maxAge)\n",
    "# How many songs are in this round?\n",
    "print(f\"There are {len(songURIs)} songs about to be added\")"
   ]
  },
  {
   "cell_type": "markdown",
   "metadata": {},
   "source": [
    "## Put songs in playlist"
   ]
  },
  {
   "cell_type": "code",
   "execution_count": 18,
   "metadata": {},
   "outputs": [],
   "source": [
    "# Warning: This will make a new playlist\n",
    "playlistID = getPlaylistID(credentials, 'New Artists to Explore')\n",
    "# Add songs to the playlist\n",
    "addToPlaylist(credentials, songURIs, playlistID)"
   ]
  },
  {
   "cell_type": "markdown",
   "metadata": {},
   "source": [
    "## Update the list of known artists"
   ]
  },
  {
   "cell_type": "code",
   "execution_count": 19,
   "metadata": {},
   "outputs": [],
   "source": [
    "# Append artistsNew to artistsKnown.csv \n",
    "allArtists = pd.concat([artistsKnown, artistsNew], axis=0, ignore_index=True)\n",
    "allArtists.to_csv(artistsKnownPath, index=False)"
   ]
  },
  {
   "cell_type": "markdown",
   "metadata": {},
   "source": [
    "## Create playlist to drop good songs into"
   ]
  },
  {
   "cell_type": "code",
   "execution_count": 21,
   "metadata": {},
   "outputs": [
    {
     "name": "stdout",
     "output_type": "stream",
     "text": [
      "Now drop songs you like into this playlist: 0Yj1Gqn15HdcDNcV5XJqVm\n"
     ]
    }
   ],
   "source": [
    "# Cull exploreArtists into ArtistHasPotential playlist\n",
    "winnersPlaylist = getPlaylistID(credentials, 'New Artists to Explore Further')\n",
    "print(f'Now drop songs you like into this playlist: {winnersPlaylist}')"
   ]
  },
  {
   "cell_type": "code",
   "execution_count": null,
   "metadata": {},
   "outputs": [],
   "source": []
  }
 ],
 "metadata": {
  "kernelspec": {
   "display_name": "Python 3.10.9 ('summerplaylist')",
   "language": "python",
   "name": "python3"
  },
  "language_info": {
   "codemirror_mode": {
    "name": "ipython",
    "version": 3
   },
   "file_extension": ".py",
   "mimetype": "text/x-python",
   "name": "python",
   "nbconvert_exporter": "python",
   "pygments_lexer": "ipython3",
   "version": "3.10.9"
  },
  "orig_nbformat": 4,
  "vscode": {
   "interpreter": {
    "hash": "e81157a0786199ab9ef170aa1943f0690c4844c55695062c7d895c198fc85648"
   }
  }
 },
 "nbformat": 4,
 "nbformat_minor": 2
}
