{
 "cells": [
  {
   "cell_type": "markdown",
   "metadata": {},
   "source": [
    "## Config"
   ]
  },
  {
   "cell_type": "code",
   "execution_count": 1,
   "metadata": {},
   "outputs": [],
   "source": [
    "### Configuration\n",
    "# Dependencies\n",
    "import os\n",
    "import pandas as pd\n",
    "import numpy as np\n",
    "from summerplaylist import *\n",
    "\n",
    "# Environment variables\n",
    "CLIENTID = os.environ.get('CLIENTID')\n",
    "CLIENTSECRET = os.environ.get('CLIENTSECRET')\n",
    "REDIRECT_URI = 'https://example.com/callback'\n",
    "\n",
    "# Filepaths\n",
    "artistsKnownPath = os.path.join('data', 'artistsKnown.csv')\n",
    "\n",
    "# Set max age for new artist songs\n",
    "maxAge = 5"
   ]
  },
  {
   "cell_type": "markdown",
   "metadata": {},
   "source": [
    "## Log In"
   ]
  },
  {
   "cell_type": "code",
   "execution_count": 4,
   "metadata": {},
   "outputs": [
    {
     "name": "stdout",
     "output_type": "stream",
     "text": [
      "Opening browser for Spotify login...\n"
     ]
    }
   ],
   "source": [
    "# Authenticate to Spotify\n",
    "credentials = authenticateToSpotify(CLIENTID, CLIENTSECRET, REDIRECT_URI)"
   ]
  },
  {
   "cell_type": "markdown",
   "metadata": {},
   "source": [
    "## Collect new artists"
   ]
  },
  {
   "cell_type": "code",
   "execution_count": 29,
   "metadata": {},
   "outputs": [],
   "source": [
    "# # This block can be commented out once it has been run once. It does not update each year.\n",
    "\n",
    "# # Collect names of new artists from Music Festival Wizard\n",
    "# artistsNew = fetchMusicFestivalWizard()\n",
    "# # Filter out known artists who we have already listened to\n",
    "# artistsNew = artistsNew.loc[~artistsNew['artistName'].isin(artistsKnown['artistName'])]\n",
    "# artistsNew = artistsNew.head()\n",
    "# # Search spotify for artistIDs\n",
    "# artistsNew['artistID'] = artistsNew.apply(findArtistIDs, credentials=credentials, axis=1)\n",
    "# # Filter out if artistID was known\n",
    "# artistsNew = artistsNew.loc[~artistsNew['artistID'].isin(artistsKnown['artistID'])]\n",
    "# artistsNew"
   ]
  },
  {
   "cell_type": "code",
   "execution_count": null,
   "metadata": {},
   "outputs": [],
   "source": [
    "# Website with a list of festivals\n",
    "# https://www.thrillist.com/news/nation/music-festival-lineups-tickets-us-guide\n",
    "# Coachella\n",
    "# Governor's Ball\n",
    "# Bonnaroo\n",
    "# BottleRock\n",
    "# Lollapalooza\n",
    "# Boston Calling\n",
    "# Outside Lands\n",
    "# Pitchfork\n",
    "# Shaky Knees\n",
    "\n",
    "\n",
    "\n",
    "# Forecastle\n",
    "# Panorama\n",
    "# Newport Folk Festival\n",
    "# Newport Jazz Festival\n",
    "# Afropunk\n",
    "# FYF\n",
    "# Sloss\n",
    "\n",
    "# Hangout\n",
    "# Electric Forest\n",
    "# Sasquatch"
   ]
  },
  {
   "cell_type": "code",
   "execution_count": 16,
   "metadata": {},
   "outputs": [
    {
     "data": {
      "text/plain": [
       "RefreshingToken(access_token='BQB2v778N397oqqYn8mtD0D_i9QSf5Ha1bIgii7XNCMid9Cl30ORCwp0xJ_eIIVTKLbiGJwub9HMq8SppNJbtSGY6feiRBbPZbcRNCmVkMkPR84heZ9CG6yCg0dzQc4rFd-2w7sMkLh0B_ImCeEMsmJVSYWdHhqh4813dq5w9qu4NVXone1o-bbZ-u8K8geFHrtc5z8h2Me7zxnOQmKiDmYrYjUhSNzcvx7zQBddZyGynvWvhrSCx1c3VtqP9cT1bqbVD_uHHkdR2zpEeutP8qUGFH67ZMuxGZWz8WbfLryD4x0', refresh_token='AQDc1il6PxHTuMifWlBXOtuwVYP9a_a_j3oNqV1aZ5a84-8Fy80zm6-sgvxUvbYBqClXJjqJ4XkmJOROKbsU2whV_jSaK_ipvLKtOPpZBJuR2f0AKIlgMsAC0WAZqzJTjCs', scope=Scope('playlist-modify-private', 'playlist-modify-public', 'playlist-read-private', 'ugc-image-upload', 'user-follow-modify', 'user-library-modify', 'user-modify-playback-state'))"
      ]
     },
     "execution_count": 16,
     "metadata": {},
     "output_type": "execute_result"
    }
   ],
   "source": [
    "credentials[2]"
   ]
  },
  {
   "cell_type": "code",
   "execution_count": 15,
   "metadata": {},
   "outputs": [
    {
     "ename": "TypeError",
     "evalue": "'NoneType' object is not iterable",
     "output_type": "error",
     "traceback": [
      "\u001b[0;31m---------------------------------------------------------------------------\u001b[0m",
      "\u001b[0;31mTypeError\u001b[0m                                 Traceback (most recent call last)",
      "Cell \u001b[0;32mIn[15], line 2\u001b[0m\n\u001b[1;32m      1\u001b[0m \u001b[38;5;28;01mwith\u001b[39;00m credentials[\u001b[38;5;241m0\u001b[39m]\u001b[38;5;241m.\u001b[39mtoken_as(credentials[\u001b[38;5;241m2\u001b[39m]):\n\u001b[0;32m----> 2\u001b[0m     \u001b[43mcredentials\u001b[49m\u001b[43m[\u001b[49m\u001b[38;5;241;43m0\u001b[39;49m\u001b[43m]\u001b[49m\u001b[38;5;241;43m.\u001b[39;49m\u001b[43mplaylists\u001b[49m\u001b[43m(\u001b[49m\u001b[43mcredentials\u001b[49m\u001b[43m[\u001b[49m\u001b[38;5;241;43m1\u001b[39;49m\u001b[43m]\u001b[49m\u001b[43m)\u001b[49m\n",
      "File \u001b[0;32m~/opt/anaconda3/envs/summerplaylist/lib/python3.10/site-packages/tekore/_sender/client.py:89\u001b[0m, in \u001b[0;36msend_and_process.<locals>.decorator.<locals>.wrapper\u001b[0;34m(self, *args, **kwargs)\u001b[0m\n\u001b[1;32m     86\u001b[0m     \u001b[38;5;28;01mreturn\u001b[39;00m async_send(\u001b[38;5;28mself\u001b[39m, request, params)\n\u001b[1;32m     88\u001b[0m response \u001b[38;5;241m=\u001b[39m \u001b[38;5;28mself\u001b[39m\u001b[38;5;241m.\u001b[39msend(request)\n\u001b[0;32m---> 89\u001b[0m \u001b[38;5;28;01mreturn\u001b[39;00m \u001b[43mtry_post_func\u001b[49m\u001b[43m(\u001b[49m\u001b[43mrequest\u001b[49m\u001b[43m,\u001b[49m\u001b[43m \u001b[49m\u001b[43mresponse\u001b[49m\u001b[43m,\u001b[49m\u001b[43m \u001b[49m\u001b[38;5;241;43m*\u001b[39;49m\u001b[43mparams\u001b[49m\u001b[43m)\u001b[49m\n",
      "File \u001b[0;32m~/opt/anaconda3/envs/summerplaylist/lib/python3.10/site-packages/tekore/_sender/client.py:70\u001b[0m, in \u001b[0;36msend_and_process.<locals>.decorator.<locals>.try_post_func\u001b[0;34m(*args, **kwargs)\u001b[0m\n\u001b[1;32m     68\u001b[0m \u001b[38;5;28;01mdef\u001b[39;00m \u001b[38;5;21mtry_post_func\u001b[39m(\u001b[38;5;241m*\u001b[39margs, \u001b[38;5;241m*\u001b[39m\u001b[38;5;241m*\u001b[39mkwargs):\n\u001b[1;32m     69\u001b[0m     \u001b[38;5;28;01mtry\u001b[39;00m:\n\u001b[0;32m---> 70\u001b[0m         \u001b[38;5;28;01mreturn\u001b[39;00m \u001b[43mpost_func\u001b[49m\u001b[43m(\u001b[49m\u001b[38;5;241;43m*\u001b[39;49m\u001b[43margs\u001b[49m\u001b[43m,\u001b[49m\u001b[43m \u001b[49m\u001b[38;5;241;43m*\u001b[39;49m\u001b[38;5;241;43m*\u001b[39;49m\u001b[43mkwargs\u001b[49m\u001b[43m)\u001b[49m\n\u001b[1;32m     71\u001b[0m     \u001b[38;5;28;01mexcept\u001b[39;00m Unauthorised \u001b[38;5;28;01mas\u001b[39;00m e:\n\u001b[1;32m     72\u001b[0m         e\u001b[38;5;241m.\u001b[39mscope \u001b[38;5;241m=\u001b[39m wrapper\u001b[38;5;241m.\u001b[39mscope\n",
      "File \u001b[0;32m~/opt/anaconda3/envs/summerplaylist/lib/python3.10/site-packages/tekore/_client/decor/__init__.py:20\u001b[0m, in \u001b[0;36msend_and_process.<locals>.parse_response\u001b[0;34m(request, response)\u001b[0m\n\u001b[1;32m     18\u001b[0m \u001b[38;5;28;01mdef\u001b[39;00m \u001b[38;5;21mparse_response\u001b[39m(request, response):\n\u001b[1;32m     19\u001b[0m     handle_errors(request, response)\n\u001b[0;32m---> 20\u001b[0m     \u001b[38;5;28;01mreturn\u001b[39;00m \u001b[43mpost_func\u001b[49m\u001b[43m(\u001b[49m\u001b[43mresponse\u001b[49m\u001b[38;5;241;43m.\u001b[39;49m\u001b[43mcontent\u001b[49m\u001b[43m)\u001b[49m\n",
      "File \u001b[0;32m~/opt/anaconda3/envs/summerplaylist/lib/python3.10/site-packages/tekore/_client/process.py:25\u001b[0m, in \u001b[0;36msingle.<locals>.post_func\u001b[0;34m(json)\u001b[0m\n\u001b[1;32m     23\u001b[0m \u001b[38;5;28;01mdef\u001b[39;00m \u001b[38;5;21mpost_func\u001b[39m(json: \u001b[38;5;28mdict\u001b[39m):\n\u001b[1;32m     24\u001b[0m     json \u001b[38;5;241m=\u001b[39m json \u001b[38;5;28;01mif\u001b[39;00m from_item \u001b[38;5;129;01mis\u001b[39;00m \u001b[38;5;28;01mNone\u001b[39;00m \u001b[38;5;28;01melse\u001b[39;00m json[from_item]\n\u001b[0;32m---> 25\u001b[0m     \u001b[38;5;28;01mreturn\u001b[39;00m \u001b[43mtype_\u001b[49m\u001b[38;5;241;43m.\u001b[39;49m\u001b[43mfrom_kwargs\u001b[49m\u001b[43m(\u001b[49m\u001b[43mjson\u001b[49m\u001b[43m)\u001b[49m \u001b[38;5;28;01mif\u001b[39;00m json \u001b[38;5;129;01mis\u001b[39;00m \u001b[38;5;129;01mnot\u001b[39;00m \u001b[38;5;28;01mNone\u001b[39;00m \u001b[38;5;28;01melse\u001b[39;00m \u001b[38;5;28;01mNone\u001b[39;00m\n",
      "File \u001b[0;32m~/opt/anaconda3/envs/summerplaylist/lib/python3.10/site-packages/tekore/_model/serialise.py:206\u001b[0m, in \u001b[0;36mModel.from_kwargs\u001b[0;34m(cls, kwargs)\u001b[0m\n\u001b[1;32m    203\u001b[0m     \u001b[38;5;28;01melse\u001b[39;00m:\n\u001b[1;32m    204\u001b[0m         unknown_kwargs[name] \u001b[38;5;241m=\u001b[39m val\n\u001b[0;32m--> 206\u001b[0m model \u001b[38;5;241m=\u001b[39m \u001b[38;5;28;43mcls\u001b[39;49m\u001b[43m(\u001b[49m\u001b[38;5;241;43m*\u001b[39;49m\u001b[38;5;241;43m*\u001b[39;49m\u001b[43mknown_kwargs\u001b[49m\u001b[43m)\u001b[49m\n\u001b[1;32m    208\u001b[0m \u001b[38;5;28;01mfor\u001b[39;00m name, val \u001b[38;5;129;01min\u001b[39;00m unknown_kwargs\u001b[38;5;241m.\u001b[39mitems():\n\u001b[1;32m    209\u001b[0m     \u001b[38;5;28msetattr\u001b[39m(model, name, val)\n",
      "File \u001b[0;32m<string>:10\u001b[0m, in \u001b[0;36m__init__\u001b[0;34m(self, href, items, limit, next, total, offset, previous)\u001b[0m\n",
      "File \u001b[0;32m~/opt/anaconda3/envs/summerplaylist/lib/python3.10/site-packages/tekore/_model/playlist.py:149\u001b[0m, in \u001b[0;36mSimplePlaylistPaging.__post_init__\u001b[0;34m(self)\u001b[0m\n\u001b[1;32m    148\u001b[0m \u001b[38;5;28;01mdef\u001b[39;00m \u001b[38;5;21m__post_init__\u001b[39m(\u001b[38;5;28mself\u001b[39m):\n\u001b[0;32m--> 149\u001b[0m     \u001b[38;5;28mself\u001b[39m\u001b[38;5;241m.\u001b[39mitems \u001b[38;5;241m=\u001b[39m \u001b[43mModelList\u001b[49m\u001b[43m(\u001b[49m\u001b[43mSimplePlaylist\u001b[49m\u001b[38;5;241;43m.\u001b[39;49m\u001b[43mfrom_kwargs\u001b[49m\u001b[43m(\u001b[49m\u001b[43mp\u001b[49m\u001b[43m)\u001b[49m\u001b[43m \u001b[49m\u001b[38;5;28;43;01mfor\u001b[39;49;00m\u001b[43m \u001b[49m\u001b[43mp\u001b[49m\u001b[43m \u001b[49m\u001b[38;5;129;43;01min\u001b[39;49;00m\u001b[43m \u001b[49m\u001b[38;5;28;43mself\u001b[39;49m\u001b[38;5;241;43m.\u001b[39;49m\u001b[43mitems\u001b[49m\u001b[43m)\u001b[49m\n",
      "File \u001b[0;32m~/opt/anaconda3/envs/summerplaylist/lib/python3.10/site-packages/tekore/_model/playlist.py:149\u001b[0m, in \u001b[0;36m<genexpr>\u001b[0;34m(.0)\u001b[0m\n\u001b[1;32m    148\u001b[0m \u001b[38;5;28;01mdef\u001b[39;00m \u001b[38;5;21m__post_init__\u001b[39m(\u001b[38;5;28mself\u001b[39m):\n\u001b[0;32m--> 149\u001b[0m     \u001b[38;5;28mself\u001b[39m\u001b[38;5;241m.\u001b[39mitems \u001b[38;5;241m=\u001b[39m ModelList(\u001b[43mSimplePlaylist\u001b[49m\u001b[38;5;241;43m.\u001b[39;49m\u001b[43mfrom_kwargs\u001b[49m\u001b[43m(\u001b[49m\u001b[43mp\u001b[49m\u001b[43m)\u001b[49m \u001b[38;5;28;01mfor\u001b[39;00m p \u001b[38;5;129;01min\u001b[39;00m \u001b[38;5;28mself\u001b[39m\u001b[38;5;241m.\u001b[39mitems)\n",
      "File \u001b[0;32m~/opt/anaconda3/envs/summerplaylist/lib/python3.10/site-packages/tekore/_model/serialise.py:206\u001b[0m, in \u001b[0;36mModel.from_kwargs\u001b[0;34m(cls, kwargs)\u001b[0m\n\u001b[1;32m    203\u001b[0m     \u001b[38;5;28;01melse\u001b[39;00m:\n\u001b[1;32m    204\u001b[0m         unknown_kwargs[name] \u001b[38;5;241m=\u001b[39m val\n\u001b[0;32m--> 206\u001b[0m model \u001b[38;5;241m=\u001b[39m \u001b[38;5;28;43mcls\u001b[39;49m\u001b[43m(\u001b[49m\u001b[38;5;241;43m*\u001b[39;49m\u001b[38;5;241;43m*\u001b[39;49m\u001b[43mknown_kwargs\u001b[49m\u001b[43m)\u001b[49m\n\u001b[1;32m    208\u001b[0m \u001b[38;5;28;01mfor\u001b[39;00m name, val \u001b[38;5;129;01min\u001b[39;00m unknown_kwargs\u001b[38;5;241m.\u001b[39mitems():\n\u001b[1;32m    209\u001b[0m     \u001b[38;5;28msetattr\u001b[39m(model, name, val)\n",
      "File \u001b[0;32m<string>:17\u001b[0m, in \u001b[0;36m__init__\u001b[0;34m(self, id, href, type, uri, collaborative, external_urls, images, name, owner, public, snapshot_id, primary_color, description, tracks)\u001b[0m\n",
      "File \u001b[0;32m~/opt/anaconda3/envs/summerplaylist/lib/python3.10/site-packages/tekore/_model/playlist.py:125\u001b[0m, in \u001b[0;36mSimplePlaylist.__post_init__\u001b[0;34m(self)\u001b[0m\n\u001b[1;32m    124\u001b[0m \u001b[38;5;28;01mdef\u001b[39;00m \u001b[38;5;21m__post_init__\u001b[39m(\u001b[38;5;28mself\u001b[39m):\n\u001b[0;32m--> 125\u001b[0m     \u001b[38;5;28;43msuper\u001b[39;49m\u001b[43m(\u001b[49m\u001b[43m)\u001b[49m\u001b[38;5;241;43m.\u001b[39;49m\u001b[43m__post_init__\u001b[49m\u001b[43m(\u001b[49m\u001b[43m)\u001b[49m\n\u001b[1;32m    126\u001b[0m     \u001b[38;5;28mself\u001b[39m\u001b[38;5;241m.\u001b[39mtracks \u001b[38;5;241m=\u001b[39m Tracks\u001b[38;5;241m.\u001b[39mfrom_kwargs(\u001b[38;5;28mself\u001b[39m\u001b[38;5;241m.\u001b[39mtracks)\n",
      "File \u001b[0;32m~/opt/anaconda3/envs/summerplaylist/lib/python3.10/site-packages/tekore/_model/playlist.py:113\u001b[0m, in \u001b[0;36mPlaylist.__post_init__\u001b[0;34m(self)\u001b[0m\n\u001b[1;32m    112\u001b[0m \u001b[38;5;28;01mdef\u001b[39;00m \u001b[38;5;21m__post_init__\u001b[39m(\u001b[38;5;28mself\u001b[39m):\n\u001b[0;32m--> 113\u001b[0m     \u001b[38;5;28mself\u001b[39m\u001b[38;5;241m.\u001b[39mimages \u001b[38;5;241m=\u001b[39m ModelList(Image\u001b[38;5;241m.\u001b[39mfrom_kwargs(i) \u001b[38;5;28;01mfor\u001b[39;00m i \u001b[38;5;129;01min\u001b[39;00m \u001b[38;5;28mself\u001b[39m\u001b[38;5;241m.\u001b[39mimages)\n\u001b[1;32m    114\u001b[0m     \u001b[38;5;28;01mif\u001b[39;00m \u001b[38;5;28mself\u001b[39m\u001b[38;5;241m.\u001b[39mowner \u001b[38;5;129;01mis\u001b[39;00m \u001b[38;5;129;01mnot\u001b[39;00m \u001b[38;5;28;01mNone\u001b[39;00m:\n\u001b[1;32m    115\u001b[0m         \u001b[38;5;28mself\u001b[39m\u001b[38;5;241m.\u001b[39mowner \u001b[38;5;241m=\u001b[39m PublicUser\u001b[38;5;241m.\u001b[39mfrom_kwargs(\u001b[38;5;28mself\u001b[39m\u001b[38;5;241m.\u001b[39mowner)\n",
      "\u001b[0;31mTypeError\u001b[0m: 'NoneType' object is not iterable"
     ]
    }
   ],
   "source": [
    "with credentials[0].token_as(credentials[2]):\n",
    "    credentials[0].playlists(credentials[1])"
   ]
  },
  {
   "cell_type": "code",
   "execution_count": null,
   "metadata": {},
   "outputs": [],
   "source": []
  },
  {
   "cell_type": "code",
   "execution_count": 5,
   "metadata": {},
   "outputs": [
    {
     "ename": "TypeError",
     "evalue": "'NoneType' object is not iterable",
     "output_type": "error",
     "traceback": [
      "\u001b[0;31m---------------------------------------------------------------------------\u001b[0m",
      "\u001b[0;31mTypeError\u001b[0m                                 Traceback (most recent call last)",
      "Cell \u001b[0;32mIn[5], line 14\u001b[0m\n\u001b[1;32m     11\u001b[0m spotify, userID, user_token \u001b[38;5;241m=\u001b[39m credentials\n\u001b[1;32m     12\u001b[0m \u001b[38;5;28;01mwith\u001b[39;00m spotify\u001b[38;5;241m.\u001b[39mtoken_as(user_token):\n\u001b[1;32m     13\u001b[0m     \u001b[38;5;66;03m# Check if playlist already exists; if not create a new one\u001b[39;00m\n\u001b[0;32m---> 14\u001b[0m     userPlaylists \u001b[38;5;241m=\u001b[39m pd\u001b[38;5;241m.\u001b[39mDataFrame([{\u001b[38;5;124m'\u001b[39m\u001b[38;5;124mid\u001b[39m\u001b[38;5;124m'\u001b[39m:x\u001b[38;5;241m.\u001b[39mid, \u001b[38;5;124m'\u001b[39m\u001b[38;5;124mname\u001b[39m\u001b[38;5;124m'\u001b[39m:x\u001b[38;5;241m.\u001b[39mname} \u001b[38;5;28;01mfor\u001b[39;00m x \u001b[38;5;129;01min\u001b[39;00m \u001b[43mspotify\u001b[49m\u001b[38;5;241;43m.\u001b[39;49m\u001b[43mplaylists\u001b[49m\u001b[43m(\u001b[49m\u001b[43muserID\u001b[49m\u001b[43m,\u001b[49m\u001b[43m \u001b[49m\u001b[43mlimit\u001b[49m\u001b[38;5;241;43m=\u001b[39;49m\u001b[38;5;241;43m40\u001b[39;49m\u001b[43m)\u001b[49m\u001b[38;5;241m.\u001b[39mitems])\n\u001b[1;32m     16\u001b[0m userPlaylists\n",
      "File \u001b[0;32m~/opt/anaconda3/envs/summerplaylist/lib/python3.10/site-packages/tekore/_sender/client.py:89\u001b[0m, in \u001b[0;36msend_and_process.<locals>.decorator.<locals>.wrapper\u001b[0;34m(self, *args, **kwargs)\u001b[0m\n\u001b[1;32m     86\u001b[0m     \u001b[38;5;28;01mreturn\u001b[39;00m async_send(\u001b[38;5;28mself\u001b[39m, request, params)\n\u001b[1;32m     88\u001b[0m response \u001b[38;5;241m=\u001b[39m \u001b[38;5;28mself\u001b[39m\u001b[38;5;241m.\u001b[39msend(request)\n\u001b[0;32m---> 89\u001b[0m \u001b[38;5;28;01mreturn\u001b[39;00m \u001b[43mtry_post_func\u001b[49m\u001b[43m(\u001b[49m\u001b[43mrequest\u001b[49m\u001b[43m,\u001b[49m\u001b[43m \u001b[49m\u001b[43mresponse\u001b[49m\u001b[43m,\u001b[49m\u001b[43m \u001b[49m\u001b[38;5;241;43m*\u001b[39;49m\u001b[43mparams\u001b[49m\u001b[43m)\u001b[49m\n",
      "File \u001b[0;32m~/opt/anaconda3/envs/summerplaylist/lib/python3.10/site-packages/tekore/_sender/client.py:70\u001b[0m, in \u001b[0;36msend_and_process.<locals>.decorator.<locals>.try_post_func\u001b[0;34m(*args, **kwargs)\u001b[0m\n\u001b[1;32m     68\u001b[0m \u001b[38;5;28;01mdef\u001b[39;00m \u001b[38;5;21mtry_post_func\u001b[39m(\u001b[38;5;241m*\u001b[39margs, \u001b[38;5;241m*\u001b[39m\u001b[38;5;241m*\u001b[39mkwargs):\n\u001b[1;32m     69\u001b[0m     \u001b[38;5;28;01mtry\u001b[39;00m:\n\u001b[0;32m---> 70\u001b[0m         \u001b[38;5;28;01mreturn\u001b[39;00m \u001b[43mpost_func\u001b[49m\u001b[43m(\u001b[49m\u001b[38;5;241;43m*\u001b[39;49m\u001b[43margs\u001b[49m\u001b[43m,\u001b[49m\u001b[43m \u001b[49m\u001b[38;5;241;43m*\u001b[39;49m\u001b[38;5;241;43m*\u001b[39;49m\u001b[43mkwargs\u001b[49m\u001b[43m)\u001b[49m\n\u001b[1;32m     71\u001b[0m     \u001b[38;5;28;01mexcept\u001b[39;00m Unauthorised \u001b[38;5;28;01mas\u001b[39;00m e:\n\u001b[1;32m     72\u001b[0m         e\u001b[38;5;241m.\u001b[39mscope \u001b[38;5;241m=\u001b[39m wrapper\u001b[38;5;241m.\u001b[39mscope\n",
      "File \u001b[0;32m~/opt/anaconda3/envs/summerplaylist/lib/python3.10/site-packages/tekore/_client/decor/__init__.py:20\u001b[0m, in \u001b[0;36msend_and_process.<locals>.parse_response\u001b[0;34m(request, response)\u001b[0m\n\u001b[1;32m     18\u001b[0m \u001b[38;5;28;01mdef\u001b[39;00m \u001b[38;5;21mparse_response\u001b[39m(request, response):\n\u001b[1;32m     19\u001b[0m     handle_errors(request, response)\n\u001b[0;32m---> 20\u001b[0m     \u001b[38;5;28;01mreturn\u001b[39;00m \u001b[43mpost_func\u001b[49m\u001b[43m(\u001b[49m\u001b[43mresponse\u001b[49m\u001b[38;5;241;43m.\u001b[39;49m\u001b[43mcontent\u001b[49m\u001b[43m)\u001b[49m\n",
      "File \u001b[0;32m~/opt/anaconda3/envs/summerplaylist/lib/python3.10/site-packages/tekore/_client/process.py:25\u001b[0m, in \u001b[0;36msingle.<locals>.post_func\u001b[0;34m(json)\u001b[0m\n\u001b[1;32m     23\u001b[0m \u001b[38;5;28;01mdef\u001b[39;00m \u001b[38;5;21mpost_func\u001b[39m(json: \u001b[38;5;28mdict\u001b[39m):\n\u001b[1;32m     24\u001b[0m     json \u001b[38;5;241m=\u001b[39m json \u001b[38;5;28;01mif\u001b[39;00m from_item \u001b[38;5;129;01mis\u001b[39;00m \u001b[38;5;28;01mNone\u001b[39;00m \u001b[38;5;28;01melse\u001b[39;00m json[from_item]\n\u001b[0;32m---> 25\u001b[0m     \u001b[38;5;28;01mreturn\u001b[39;00m \u001b[43mtype_\u001b[49m\u001b[38;5;241;43m.\u001b[39;49m\u001b[43mfrom_kwargs\u001b[49m\u001b[43m(\u001b[49m\u001b[43mjson\u001b[49m\u001b[43m)\u001b[49m \u001b[38;5;28;01mif\u001b[39;00m json \u001b[38;5;129;01mis\u001b[39;00m \u001b[38;5;129;01mnot\u001b[39;00m \u001b[38;5;28;01mNone\u001b[39;00m \u001b[38;5;28;01melse\u001b[39;00m \u001b[38;5;28;01mNone\u001b[39;00m\n",
      "File \u001b[0;32m~/opt/anaconda3/envs/summerplaylist/lib/python3.10/site-packages/tekore/_model/serialise.py:206\u001b[0m, in \u001b[0;36mModel.from_kwargs\u001b[0;34m(cls, kwargs)\u001b[0m\n\u001b[1;32m    203\u001b[0m     \u001b[38;5;28;01melse\u001b[39;00m:\n\u001b[1;32m    204\u001b[0m         unknown_kwargs[name] \u001b[38;5;241m=\u001b[39m val\n\u001b[0;32m--> 206\u001b[0m model \u001b[38;5;241m=\u001b[39m \u001b[38;5;28;43mcls\u001b[39;49m\u001b[43m(\u001b[49m\u001b[38;5;241;43m*\u001b[39;49m\u001b[38;5;241;43m*\u001b[39;49m\u001b[43mknown_kwargs\u001b[49m\u001b[43m)\u001b[49m\n\u001b[1;32m    208\u001b[0m \u001b[38;5;28;01mfor\u001b[39;00m name, val \u001b[38;5;129;01min\u001b[39;00m unknown_kwargs\u001b[38;5;241m.\u001b[39mitems():\n\u001b[1;32m    209\u001b[0m     \u001b[38;5;28msetattr\u001b[39m(model, name, val)\n",
      "File \u001b[0;32m<string>:10\u001b[0m, in \u001b[0;36m__init__\u001b[0;34m(self, href, items, limit, next, total, offset, previous)\u001b[0m\n",
      "File \u001b[0;32m~/opt/anaconda3/envs/summerplaylist/lib/python3.10/site-packages/tekore/_model/playlist.py:149\u001b[0m, in \u001b[0;36mSimplePlaylistPaging.__post_init__\u001b[0;34m(self)\u001b[0m\n\u001b[1;32m    148\u001b[0m \u001b[38;5;28;01mdef\u001b[39;00m \u001b[38;5;21m__post_init__\u001b[39m(\u001b[38;5;28mself\u001b[39m):\n\u001b[0;32m--> 149\u001b[0m     \u001b[38;5;28mself\u001b[39m\u001b[38;5;241m.\u001b[39mitems \u001b[38;5;241m=\u001b[39m \u001b[43mModelList\u001b[49m\u001b[43m(\u001b[49m\u001b[43mSimplePlaylist\u001b[49m\u001b[38;5;241;43m.\u001b[39;49m\u001b[43mfrom_kwargs\u001b[49m\u001b[43m(\u001b[49m\u001b[43mp\u001b[49m\u001b[43m)\u001b[49m\u001b[43m \u001b[49m\u001b[38;5;28;43;01mfor\u001b[39;49;00m\u001b[43m \u001b[49m\u001b[43mp\u001b[49m\u001b[43m \u001b[49m\u001b[38;5;129;43;01min\u001b[39;49;00m\u001b[43m \u001b[49m\u001b[38;5;28;43mself\u001b[39;49m\u001b[38;5;241;43m.\u001b[39;49m\u001b[43mitems\u001b[49m\u001b[43m)\u001b[49m\n",
      "File \u001b[0;32m~/opt/anaconda3/envs/summerplaylist/lib/python3.10/site-packages/tekore/_model/playlist.py:149\u001b[0m, in \u001b[0;36m<genexpr>\u001b[0;34m(.0)\u001b[0m\n\u001b[1;32m    148\u001b[0m \u001b[38;5;28;01mdef\u001b[39;00m \u001b[38;5;21m__post_init__\u001b[39m(\u001b[38;5;28mself\u001b[39m):\n\u001b[0;32m--> 149\u001b[0m     \u001b[38;5;28mself\u001b[39m\u001b[38;5;241m.\u001b[39mitems \u001b[38;5;241m=\u001b[39m ModelList(\u001b[43mSimplePlaylist\u001b[49m\u001b[38;5;241;43m.\u001b[39;49m\u001b[43mfrom_kwargs\u001b[49m\u001b[43m(\u001b[49m\u001b[43mp\u001b[49m\u001b[43m)\u001b[49m \u001b[38;5;28;01mfor\u001b[39;00m p \u001b[38;5;129;01min\u001b[39;00m \u001b[38;5;28mself\u001b[39m\u001b[38;5;241m.\u001b[39mitems)\n",
      "File \u001b[0;32m~/opt/anaconda3/envs/summerplaylist/lib/python3.10/site-packages/tekore/_model/serialise.py:206\u001b[0m, in \u001b[0;36mModel.from_kwargs\u001b[0;34m(cls, kwargs)\u001b[0m\n\u001b[1;32m    203\u001b[0m     \u001b[38;5;28;01melse\u001b[39;00m:\n\u001b[1;32m    204\u001b[0m         unknown_kwargs[name] \u001b[38;5;241m=\u001b[39m val\n\u001b[0;32m--> 206\u001b[0m model \u001b[38;5;241m=\u001b[39m \u001b[38;5;28;43mcls\u001b[39;49m\u001b[43m(\u001b[49m\u001b[38;5;241;43m*\u001b[39;49m\u001b[38;5;241;43m*\u001b[39;49m\u001b[43mknown_kwargs\u001b[49m\u001b[43m)\u001b[49m\n\u001b[1;32m    208\u001b[0m \u001b[38;5;28;01mfor\u001b[39;00m name, val \u001b[38;5;129;01min\u001b[39;00m unknown_kwargs\u001b[38;5;241m.\u001b[39mitems():\n\u001b[1;32m    209\u001b[0m     \u001b[38;5;28msetattr\u001b[39m(model, name, val)\n",
      "File \u001b[0;32m<string>:17\u001b[0m, in \u001b[0;36m__init__\u001b[0;34m(self, id, href, type, uri, collaborative, external_urls, images, name, owner, public, snapshot_id, primary_color, description, tracks)\u001b[0m\n",
      "File \u001b[0;32m~/opt/anaconda3/envs/summerplaylist/lib/python3.10/site-packages/tekore/_model/playlist.py:125\u001b[0m, in \u001b[0;36mSimplePlaylist.__post_init__\u001b[0;34m(self)\u001b[0m\n\u001b[1;32m    124\u001b[0m \u001b[38;5;28;01mdef\u001b[39;00m \u001b[38;5;21m__post_init__\u001b[39m(\u001b[38;5;28mself\u001b[39m):\n\u001b[0;32m--> 125\u001b[0m     \u001b[38;5;28;43msuper\u001b[39;49m\u001b[43m(\u001b[49m\u001b[43m)\u001b[49m\u001b[38;5;241;43m.\u001b[39;49m\u001b[43m__post_init__\u001b[49m\u001b[43m(\u001b[49m\u001b[43m)\u001b[49m\n\u001b[1;32m    126\u001b[0m     \u001b[38;5;28mself\u001b[39m\u001b[38;5;241m.\u001b[39mtracks \u001b[38;5;241m=\u001b[39m Tracks\u001b[38;5;241m.\u001b[39mfrom_kwargs(\u001b[38;5;28mself\u001b[39m\u001b[38;5;241m.\u001b[39mtracks)\n",
      "File \u001b[0;32m~/opt/anaconda3/envs/summerplaylist/lib/python3.10/site-packages/tekore/_model/playlist.py:113\u001b[0m, in \u001b[0;36mPlaylist.__post_init__\u001b[0;34m(self)\u001b[0m\n\u001b[1;32m    112\u001b[0m \u001b[38;5;28;01mdef\u001b[39;00m \u001b[38;5;21m__post_init__\u001b[39m(\u001b[38;5;28mself\u001b[39m):\n\u001b[0;32m--> 113\u001b[0m     \u001b[38;5;28mself\u001b[39m\u001b[38;5;241m.\u001b[39mimages \u001b[38;5;241m=\u001b[39m ModelList(Image\u001b[38;5;241m.\u001b[39mfrom_kwargs(i) \u001b[38;5;28;01mfor\u001b[39;00m i \u001b[38;5;129;01min\u001b[39;00m \u001b[38;5;28mself\u001b[39m\u001b[38;5;241m.\u001b[39mimages)\n\u001b[1;32m    114\u001b[0m     \u001b[38;5;28;01mif\u001b[39;00m \u001b[38;5;28mself\u001b[39m\u001b[38;5;241m.\u001b[39mowner \u001b[38;5;129;01mis\u001b[39;00m \u001b[38;5;129;01mnot\u001b[39;00m \u001b[38;5;28;01mNone\u001b[39;00m:\n\u001b[1;32m    115\u001b[0m         \u001b[38;5;28mself\u001b[39m\u001b[38;5;241m.\u001b[39mowner \u001b[38;5;241m=\u001b[39m PublicUser\u001b[38;5;241m.\u001b[39mfrom_kwargs(\u001b[38;5;28mself\u001b[39m\u001b[38;5;241m.\u001b[39mowner)\n",
      "\u001b[0;31mTypeError\u001b[0m: 'NoneType' object is not iterable"
     ]
    }
   ],
   "source": [
    "# Print the playlist IDs so user can select an id to add to \"New Artists to Explore\"\n",
    "import time\n",
    "from datetime import datetime\n",
    "from dateutil.relativedelta import relativedelta\n",
    "from collections import Counter\n",
    "import pandas as pd\n",
    "import numpy as np\n",
    "from requests_html import HTMLSession\n",
    "import tekore as tk\n",
    "\n",
    "spotify, userID, user_token = credentials\n",
    "with spotify.token_as(user_token):\n",
    "    # Check if playlist already exists; if not create a new one\n",
    "    userPlaylists = pd.DataFrame([{'id':x.id, 'name':x.name} for x in spotify.playlists(userID, limit=40).items])\n",
    "\n",
    "userPlaylists"
   ]
  },
  {
   "cell_type": "code",
   "execution_count": 10,
   "metadata": {},
   "outputs": [
    {
     "ename": "TypeError",
     "evalue": "'NoneType' object is not iterable",
     "output_type": "error",
     "traceback": [
      "\u001b[0;31m---------------------------------------------------------------------------\u001b[0m",
      "\u001b[0;31mTypeError\u001b[0m                                 Traceback (most recent call last)",
      "Cell \u001b[0;32mIn[10], line 2\u001b[0m\n\u001b[1;32m      1\u001b[0m \u001b[38;5;28;01mtry\u001b[39;00m:\n\u001b[0;32m----> 2\u001b[0m     \u001b[43mspotify\u001b[49m\u001b[38;5;241;43m.\u001b[39;49m\u001b[43mplaylists\u001b[49m\u001b[43m(\u001b[49m\u001b[43muserID\u001b[49m\u001b[43m)\u001b[49m\n\u001b[1;32m      3\u001b[0m \u001b[38;5;28;01mexcept\u001b[39;00m tk\u001b[38;5;241m.\u001b[39mHTTPError \u001b[38;5;28;01mas\u001b[39;00m e:\n\u001b[1;32m      4\u001b[0m     \u001b[38;5;28mprint\u001b[39m(e)\n",
      "File \u001b[0;32m~/opt/anaconda3/envs/summerplaylist/lib/python3.10/site-packages/tekore/_sender/client.py:89\u001b[0m, in \u001b[0;36msend_and_process.<locals>.decorator.<locals>.wrapper\u001b[0;34m(self, *args, **kwargs)\u001b[0m\n\u001b[1;32m     86\u001b[0m     \u001b[38;5;28;01mreturn\u001b[39;00m async_send(\u001b[38;5;28mself\u001b[39m, request, params)\n\u001b[1;32m     88\u001b[0m response \u001b[38;5;241m=\u001b[39m \u001b[38;5;28mself\u001b[39m\u001b[38;5;241m.\u001b[39msend(request)\n\u001b[0;32m---> 89\u001b[0m \u001b[38;5;28;01mreturn\u001b[39;00m \u001b[43mtry_post_func\u001b[49m\u001b[43m(\u001b[49m\u001b[43mrequest\u001b[49m\u001b[43m,\u001b[49m\u001b[43m \u001b[49m\u001b[43mresponse\u001b[49m\u001b[43m,\u001b[49m\u001b[43m \u001b[49m\u001b[38;5;241;43m*\u001b[39;49m\u001b[43mparams\u001b[49m\u001b[43m)\u001b[49m\n",
      "File \u001b[0;32m~/opt/anaconda3/envs/summerplaylist/lib/python3.10/site-packages/tekore/_sender/client.py:70\u001b[0m, in \u001b[0;36msend_and_process.<locals>.decorator.<locals>.try_post_func\u001b[0;34m(*args, **kwargs)\u001b[0m\n\u001b[1;32m     68\u001b[0m \u001b[38;5;28;01mdef\u001b[39;00m \u001b[38;5;21mtry_post_func\u001b[39m(\u001b[38;5;241m*\u001b[39margs, \u001b[38;5;241m*\u001b[39m\u001b[38;5;241m*\u001b[39mkwargs):\n\u001b[1;32m     69\u001b[0m     \u001b[38;5;28;01mtry\u001b[39;00m:\n\u001b[0;32m---> 70\u001b[0m         \u001b[38;5;28;01mreturn\u001b[39;00m \u001b[43mpost_func\u001b[49m\u001b[43m(\u001b[49m\u001b[38;5;241;43m*\u001b[39;49m\u001b[43margs\u001b[49m\u001b[43m,\u001b[49m\u001b[43m \u001b[49m\u001b[38;5;241;43m*\u001b[39;49m\u001b[38;5;241;43m*\u001b[39;49m\u001b[43mkwargs\u001b[49m\u001b[43m)\u001b[49m\n\u001b[1;32m     71\u001b[0m     \u001b[38;5;28;01mexcept\u001b[39;00m Unauthorised \u001b[38;5;28;01mas\u001b[39;00m e:\n\u001b[1;32m     72\u001b[0m         e\u001b[38;5;241m.\u001b[39mscope \u001b[38;5;241m=\u001b[39m wrapper\u001b[38;5;241m.\u001b[39mscope\n",
      "File \u001b[0;32m~/opt/anaconda3/envs/summerplaylist/lib/python3.10/site-packages/tekore/_client/decor/__init__.py:20\u001b[0m, in \u001b[0;36msend_and_process.<locals>.parse_response\u001b[0;34m(request, response)\u001b[0m\n\u001b[1;32m     18\u001b[0m \u001b[38;5;28;01mdef\u001b[39;00m \u001b[38;5;21mparse_response\u001b[39m(request, response):\n\u001b[1;32m     19\u001b[0m     handle_errors(request, response)\n\u001b[0;32m---> 20\u001b[0m     \u001b[38;5;28;01mreturn\u001b[39;00m \u001b[43mpost_func\u001b[49m\u001b[43m(\u001b[49m\u001b[43mresponse\u001b[49m\u001b[38;5;241;43m.\u001b[39;49m\u001b[43mcontent\u001b[49m\u001b[43m)\u001b[49m\n",
      "File \u001b[0;32m~/opt/anaconda3/envs/summerplaylist/lib/python3.10/site-packages/tekore/_client/process.py:25\u001b[0m, in \u001b[0;36msingle.<locals>.post_func\u001b[0;34m(json)\u001b[0m\n\u001b[1;32m     23\u001b[0m \u001b[38;5;28;01mdef\u001b[39;00m \u001b[38;5;21mpost_func\u001b[39m(json: \u001b[38;5;28mdict\u001b[39m):\n\u001b[1;32m     24\u001b[0m     json \u001b[38;5;241m=\u001b[39m json \u001b[38;5;28;01mif\u001b[39;00m from_item \u001b[38;5;129;01mis\u001b[39;00m \u001b[38;5;28;01mNone\u001b[39;00m \u001b[38;5;28;01melse\u001b[39;00m json[from_item]\n\u001b[0;32m---> 25\u001b[0m     \u001b[38;5;28;01mreturn\u001b[39;00m \u001b[43mtype_\u001b[49m\u001b[38;5;241;43m.\u001b[39;49m\u001b[43mfrom_kwargs\u001b[49m\u001b[43m(\u001b[49m\u001b[43mjson\u001b[49m\u001b[43m)\u001b[49m \u001b[38;5;28;01mif\u001b[39;00m json \u001b[38;5;129;01mis\u001b[39;00m \u001b[38;5;129;01mnot\u001b[39;00m \u001b[38;5;28;01mNone\u001b[39;00m \u001b[38;5;28;01melse\u001b[39;00m \u001b[38;5;28;01mNone\u001b[39;00m\n",
      "File \u001b[0;32m~/opt/anaconda3/envs/summerplaylist/lib/python3.10/site-packages/tekore/_model/serialise.py:206\u001b[0m, in \u001b[0;36mModel.from_kwargs\u001b[0;34m(cls, kwargs)\u001b[0m\n\u001b[1;32m    203\u001b[0m     \u001b[38;5;28;01melse\u001b[39;00m:\n\u001b[1;32m    204\u001b[0m         unknown_kwargs[name] \u001b[38;5;241m=\u001b[39m val\n\u001b[0;32m--> 206\u001b[0m model \u001b[38;5;241m=\u001b[39m \u001b[38;5;28;43mcls\u001b[39;49m\u001b[43m(\u001b[49m\u001b[38;5;241;43m*\u001b[39;49m\u001b[38;5;241;43m*\u001b[39;49m\u001b[43mknown_kwargs\u001b[49m\u001b[43m)\u001b[49m\n\u001b[1;32m    208\u001b[0m \u001b[38;5;28;01mfor\u001b[39;00m name, val \u001b[38;5;129;01min\u001b[39;00m unknown_kwargs\u001b[38;5;241m.\u001b[39mitems():\n\u001b[1;32m    209\u001b[0m     \u001b[38;5;28msetattr\u001b[39m(model, name, val)\n",
      "File \u001b[0;32m<string>:10\u001b[0m, in \u001b[0;36m__init__\u001b[0;34m(self, href, items, limit, next, total, offset, previous)\u001b[0m\n",
      "File \u001b[0;32m~/opt/anaconda3/envs/summerplaylist/lib/python3.10/site-packages/tekore/_model/playlist.py:149\u001b[0m, in \u001b[0;36mSimplePlaylistPaging.__post_init__\u001b[0;34m(self)\u001b[0m\n\u001b[1;32m    148\u001b[0m \u001b[38;5;28;01mdef\u001b[39;00m \u001b[38;5;21m__post_init__\u001b[39m(\u001b[38;5;28mself\u001b[39m):\n\u001b[0;32m--> 149\u001b[0m     \u001b[38;5;28mself\u001b[39m\u001b[38;5;241m.\u001b[39mitems \u001b[38;5;241m=\u001b[39m \u001b[43mModelList\u001b[49m\u001b[43m(\u001b[49m\u001b[43mSimplePlaylist\u001b[49m\u001b[38;5;241;43m.\u001b[39;49m\u001b[43mfrom_kwargs\u001b[49m\u001b[43m(\u001b[49m\u001b[43mp\u001b[49m\u001b[43m)\u001b[49m\u001b[43m \u001b[49m\u001b[38;5;28;43;01mfor\u001b[39;49;00m\u001b[43m \u001b[49m\u001b[43mp\u001b[49m\u001b[43m \u001b[49m\u001b[38;5;129;43;01min\u001b[39;49;00m\u001b[43m \u001b[49m\u001b[38;5;28;43mself\u001b[39;49m\u001b[38;5;241;43m.\u001b[39;49m\u001b[43mitems\u001b[49m\u001b[43m)\u001b[49m\n",
      "File \u001b[0;32m~/opt/anaconda3/envs/summerplaylist/lib/python3.10/site-packages/tekore/_model/playlist.py:149\u001b[0m, in \u001b[0;36m<genexpr>\u001b[0;34m(.0)\u001b[0m\n\u001b[1;32m    148\u001b[0m \u001b[38;5;28;01mdef\u001b[39;00m \u001b[38;5;21m__post_init__\u001b[39m(\u001b[38;5;28mself\u001b[39m):\n\u001b[0;32m--> 149\u001b[0m     \u001b[38;5;28mself\u001b[39m\u001b[38;5;241m.\u001b[39mitems \u001b[38;5;241m=\u001b[39m ModelList(\u001b[43mSimplePlaylist\u001b[49m\u001b[38;5;241;43m.\u001b[39;49m\u001b[43mfrom_kwargs\u001b[49m\u001b[43m(\u001b[49m\u001b[43mp\u001b[49m\u001b[43m)\u001b[49m \u001b[38;5;28;01mfor\u001b[39;00m p \u001b[38;5;129;01min\u001b[39;00m \u001b[38;5;28mself\u001b[39m\u001b[38;5;241m.\u001b[39mitems)\n",
      "File \u001b[0;32m~/opt/anaconda3/envs/summerplaylist/lib/python3.10/site-packages/tekore/_model/serialise.py:206\u001b[0m, in \u001b[0;36mModel.from_kwargs\u001b[0;34m(cls, kwargs)\u001b[0m\n\u001b[1;32m    203\u001b[0m     \u001b[38;5;28;01melse\u001b[39;00m:\n\u001b[1;32m    204\u001b[0m         unknown_kwargs[name] \u001b[38;5;241m=\u001b[39m val\n\u001b[0;32m--> 206\u001b[0m model \u001b[38;5;241m=\u001b[39m \u001b[38;5;28;43mcls\u001b[39;49m\u001b[43m(\u001b[49m\u001b[38;5;241;43m*\u001b[39;49m\u001b[38;5;241;43m*\u001b[39;49m\u001b[43mknown_kwargs\u001b[49m\u001b[43m)\u001b[49m\n\u001b[1;32m    208\u001b[0m \u001b[38;5;28;01mfor\u001b[39;00m name, val \u001b[38;5;129;01min\u001b[39;00m unknown_kwargs\u001b[38;5;241m.\u001b[39mitems():\n\u001b[1;32m    209\u001b[0m     \u001b[38;5;28msetattr\u001b[39m(model, name, val)\n",
      "File \u001b[0;32m<string>:17\u001b[0m, in \u001b[0;36m__init__\u001b[0;34m(self, id, href, type, uri, collaborative, external_urls, images, name, owner, public, snapshot_id, primary_color, description, tracks)\u001b[0m\n",
      "File \u001b[0;32m~/opt/anaconda3/envs/summerplaylist/lib/python3.10/site-packages/tekore/_model/playlist.py:125\u001b[0m, in \u001b[0;36mSimplePlaylist.__post_init__\u001b[0;34m(self)\u001b[0m\n\u001b[1;32m    124\u001b[0m \u001b[38;5;28;01mdef\u001b[39;00m \u001b[38;5;21m__post_init__\u001b[39m(\u001b[38;5;28mself\u001b[39m):\n\u001b[0;32m--> 125\u001b[0m     \u001b[38;5;28;43msuper\u001b[39;49m\u001b[43m(\u001b[49m\u001b[43m)\u001b[49m\u001b[38;5;241;43m.\u001b[39;49m\u001b[43m__post_init__\u001b[49m\u001b[43m(\u001b[49m\u001b[43m)\u001b[49m\n\u001b[1;32m    126\u001b[0m     \u001b[38;5;28mself\u001b[39m\u001b[38;5;241m.\u001b[39mtracks \u001b[38;5;241m=\u001b[39m Tracks\u001b[38;5;241m.\u001b[39mfrom_kwargs(\u001b[38;5;28mself\u001b[39m\u001b[38;5;241m.\u001b[39mtracks)\n",
      "File \u001b[0;32m~/opt/anaconda3/envs/summerplaylist/lib/python3.10/site-packages/tekore/_model/playlist.py:113\u001b[0m, in \u001b[0;36mPlaylist.__post_init__\u001b[0;34m(self)\u001b[0m\n\u001b[1;32m    112\u001b[0m \u001b[38;5;28;01mdef\u001b[39;00m \u001b[38;5;21m__post_init__\u001b[39m(\u001b[38;5;28mself\u001b[39m):\n\u001b[0;32m--> 113\u001b[0m     \u001b[38;5;28mself\u001b[39m\u001b[38;5;241m.\u001b[39mimages \u001b[38;5;241m=\u001b[39m ModelList(Image\u001b[38;5;241m.\u001b[39mfrom_kwargs(i) \u001b[38;5;28;01mfor\u001b[39;00m i \u001b[38;5;129;01min\u001b[39;00m \u001b[38;5;28mself\u001b[39m\u001b[38;5;241m.\u001b[39mimages)\n\u001b[1;32m    114\u001b[0m     \u001b[38;5;28;01mif\u001b[39;00m \u001b[38;5;28mself\u001b[39m\u001b[38;5;241m.\u001b[39mowner \u001b[38;5;129;01mis\u001b[39;00m \u001b[38;5;129;01mnot\u001b[39;00m \u001b[38;5;28;01mNone\u001b[39;00m:\n\u001b[1;32m    115\u001b[0m         \u001b[38;5;28mself\u001b[39m\u001b[38;5;241m.\u001b[39mowner \u001b[38;5;241m=\u001b[39m PublicUser\u001b[38;5;241m.\u001b[39mfrom_kwargs(\u001b[38;5;28mself\u001b[39m\u001b[38;5;241m.\u001b[39mowner)\n",
      "\u001b[0;31mTypeError\u001b[0m: 'NoneType' object is not iterable"
     ]
    }
   ],
   "source": [
    "try:\n",
    "    spotify.playlists(userID)\n",
    "except tk.HTTPError as e:\n",
    "    print(e)\n"
   ]
  },
  {
   "cell_type": "markdown",
   "metadata": {},
   "source": [
    "## Process new artists"
   ]
  },
  {
   "cell_type": "code",
   "execution_count": 30,
   "metadata": {},
   "outputs": [],
   "source": [
    "# Read in known artists\n",
    "artistsKnown = pd.read_csv(artistsKnownPath)"
   ]
  },
  {
   "cell_type": "code",
   "execution_count": 33,
   "metadata": {},
   "outputs": [
    {
     "data": {
      "text/html": [
       "<div>\n",
       "<style scoped>\n",
       "    .dataframe tbody tr th:only-of-type {\n",
       "        vertical-align: middle;\n",
       "    }\n",
       "\n",
       "    .dataframe tbody tr th {\n",
       "        vertical-align: top;\n",
       "    }\n",
       "\n",
       "    .dataframe thead th {\n",
       "        text-align: right;\n",
       "    }\n",
       "</style>\n",
       "<table border=\"1\" class=\"dataframe\">\n",
       "  <thead>\n",
       "    <tr style=\"text-align: right;\">\n",
       "      <th></th>\n",
       "      <th>artistName</th>\n",
       "      <th>artistID</th>\n",
       "    </tr>\n",
       "  </thead>\n",
       "  <tbody>\n",
       "  </tbody>\n",
       "</table>\n",
       "</div>"
      ],
      "text/plain": [
       "Empty DataFrame\n",
       "Columns: [artistName, artistID]\n",
       "Index: []"
      ]
     },
     "execution_count": 33,
     "metadata": {},
     "output_type": "execute_result"
    }
   ],
   "source": [
    "# Collect artists from an existing favorited playlist\n",
    "playlistToFetch = '5DtWXe9QB55ATwZ6paG7Yl' #getPlaylistID(credentials, 'New Artists to Explore')\n",
    "artistsNew = fetchTracksFromPlaylist(credentials, playlistToFetch)\n",
    "artistsNew = artistsNew[['artistName', 'artistID']].drop_duplicates('artistID', ignore_index=True).reset_index(drop=True)\n",
    "# Filter out if artistID was known\n",
    "artistsNew = artistsNew.loc[~artistsNew['artistID'].isin(artistsKnown['artistID'])].drop_duplicates('artistID', ignore_index=True)\n",
    "artistsNew"
   ]
  },
  {
   "cell_type": "markdown",
   "metadata": {},
   "source": [
    "## Get top songs"
   ]
  },
  {
   "cell_type": "code",
   "execution_count": 27,
   "metadata": {},
   "outputs": [
    {
     "name": "stdout",
     "output_type": "stream",
     "text": [
      "There are 0 songs about to be added\n"
     ]
    }
   ],
   "source": [
    "# Get their top three songs in last 5 years\n",
    "songURIs = fetchTopSongs(credentials, artistsNew['artistID'], maxAge=maxAge)\n",
    "# How many songs are in this round?\n",
    "print(f\"There are {len(songURIs)} songs about to be added\")"
   ]
  },
  {
   "cell_type": "markdown",
   "metadata": {},
   "source": [
    "## Put songs in playlist"
   ]
  },
  {
   "cell_type": "code",
   "execution_count": 28,
   "metadata": {},
   "outputs": [],
   "source": [
    "# Warning: This will make a new playlist if it does not already exist\n",
    "playlistID = getPlaylistID(credentials, 'Summer01 - Brand New Artists')\n",
    "# Add songs to the playlist\n",
    "addToPlaylist(credentials, songURIs, playlistID)"
   ]
  },
  {
   "cell_type": "markdown",
   "metadata": {},
   "source": [
    "## Update the list of known artists"
   ]
  },
  {
   "cell_type": "code",
   "execution_count": null,
   "metadata": {},
   "outputs": [],
   "source": [
    "# Append artistsNew to artistsKnown.csv \n",
    "artistsKnown = pd.concat([artistsKnown, artistsNew], axis=0, ignore_index=True)\n",
    "artistsKnown.to_csv(artistsKnownPath, index=False)"
   ]
  },
  {
   "cell_type": "markdown",
   "metadata": {},
   "source": [
    "## Create playlist to drop good songs into"
   ]
  },
  {
   "cell_type": "code",
   "execution_count": 10,
   "metadata": {},
   "outputs": [
    {
     "name": "stdout",
     "output_type": "stream",
     "text": [
      "Now drop songs you like into this playlist: 6XiutFvGeKpupJ9BODpNoy\n"
     ]
    }
   ],
   "source": [
    "# Cull exploreArtists into ArtistHasPotential playlist\n",
    "winnersPlaylist = getPlaylistID(credentials, 'Summer02 - New Artists to Explore Further')\n",
    "print(f'Now drop songs you like into this playlist: {winnersPlaylist}')"
   ]
  },
  {
   "cell_type": "code",
   "execution_count": null,
   "metadata": {},
   "outputs": [],
   "source": []
  }
 ],
 "metadata": {
  "kernelspec": {
   "display_name": "summerplaylist",
   "language": "python",
   "name": "python3"
  },
  "language_info": {
   "codemirror_mode": {
    "name": "ipython",
    "version": 3
   },
   "file_extension": ".py",
   "mimetype": "text/x-python",
   "name": "python",
   "nbconvert_exporter": "python",
   "pygments_lexer": "ipython3",
   "version": "3.10.9"
  },
  "orig_nbformat": 4
 },
 "nbformat": 4,
 "nbformat_minor": 2
}
