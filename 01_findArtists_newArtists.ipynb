{
 "cells": [
  {
   "cell_type": "markdown",
   "metadata": {},
   "source": [
    "## Config"
   ]
  },
  {
   "cell_type": "code",
   "execution_count": 1,
   "metadata": {},
   "outputs": [],
   "source": [
    "### Configuration\n",
    "# Dependencies\n",
    "import os\n",
    "import pandas as pd\n",
    "import numpy as np\n",
    "from summerplaylist import *\n",
    "\n",
    "# Environment variables\n",
    "CLIENTID = os.environ.get('CLIENTID')\n",
    "CLIENTSECRET = os.environ.get('CLIENTSECRET')\n",
    "REDIRECT_URI = 'https://example.com/callback'\n",
    "\n",
    "# Filepaths\n",
    "dataPath = 'data/artistsKnown.csv'"
   ]
  },
  {
   "cell_type": "markdown",
   "metadata": {},
   "source": [
    "## Log In"
   ]
  },
  {
   "cell_type": "code",
   "execution_count": 4,
   "metadata": {},
   "outputs": [
    {
     "name": "stdout",
     "output_type": "stream",
     "text": [
      "Opening browser for Spotify login...\n"
     ]
    }
   ],
   "source": [
    "# Authenticate to Spotify\n",
    "credentials = authenticateToSpotify(CLIENTID, CLIENTSECRET, REDIRECT_URI)"
   ]
  },
  {
   "cell_type": "markdown",
   "metadata": {},
   "source": [
    "## Collect new artists"
   ]
  },
  {
   "cell_type": "code",
   "execution_count": 3,
   "metadata": {},
   "outputs": [],
   "source": [
    "# Collect names of new artists from Music Festival Wizard\n",
    "artistsNew = fetchMusicFestivalWizard()"
   ]
  },
  {
   "cell_type": "code",
   "execution_count": 6,
   "metadata": {},
   "outputs": [
    {
     "data": {
      "text/html": [
       "<div>\n",
       "<style scoped>\n",
       "    .dataframe tbody tr th:only-of-type {\n",
       "        vertical-align: middle;\n",
       "    }\n",
       "\n",
       "    .dataframe tbody tr th {\n",
       "        vertical-align: top;\n",
       "    }\n",
       "\n",
       "    .dataframe thead th {\n",
       "        text-align: right;\n",
       "    }\n",
       "</style>\n",
       "<table border=\"1\" class=\"dataframe\">\n",
       "  <thead>\n",
       "    <tr style=\"text-align: right;\">\n",
       "      <th></th>\n",
       "      <th>artistName</th>\n",
       "      <th>artistID</th>\n",
       "      <th>trackName</th>\n",
       "      <th>release_date</th>\n",
       "      <th>songURI</th>\n",
       "    </tr>\n",
       "  </thead>\n",
       "  <tbody>\n",
       "    <tr>\n",
       "      <th>0</th>\n",
       "      <td>Mercury</td>\n",
       "      <td>6aIZIwesnYKR6ZN1fIerPZ</td>\n",
       "      <td>heaven</td>\n",
       "      <td>2023-06-01</td>\n",
       "      <td>spotify:track:5gEoep9RwLEy8hFJMne9ad</td>\n",
       "    </tr>\n",
       "    <tr>\n",
       "      <th>1</th>\n",
       "      <td>Portraits Of Tracy</td>\n",
       "      <td>34QizBjxVeMcA5HlZpKxxE</td>\n",
       "      <td>Found!</td>\n",
       "      <td>2023-05-26</td>\n",
       "      <td>spotify:track:1FgY491AT8WYmMgZgWLfkz</td>\n",
       "    </tr>\n",
       "    <tr>\n",
       "      <th>2</th>\n",
       "      <td>Kari Faux</td>\n",
       "      <td>4c2ighP1wj8E5dVGJDCOiB</td>\n",
       "      <td>WHITE CAPRICE</td>\n",
       "      <td>2023-05-26</td>\n",
       "      <td>spotify:track:3Q0h7wkHLIlwySLGZYqFPu</td>\n",
       "    </tr>\n",
       "    <tr>\n",
       "      <th>3</th>\n",
       "      <td>Gangsta Boo</td>\n",
       "      <td>3ppZNqihWOzuH4A0f4KmeP</td>\n",
       "      <td>WHITE CAPRICE</td>\n",
       "      <td>2023-05-26</td>\n",
       "      <td>spotify:track:3Q0h7wkHLIlwySLGZYqFPu</td>\n",
       "    </tr>\n",
       "    <tr>\n",
       "      <th>4</th>\n",
       "      <td>Ray Laurél</td>\n",
       "      <td>7gW3GsnBSoT6q9YQUstlzA</td>\n",
       "      <td>U SAID!</td>\n",
       "      <td>2023-05-19</td>\n",
       "      <td>spotify:track:3S2FcwSlUhob3FAdHgDwWc</td>\n",
       "    </tr>\n",
       "    <tr>\n",
       "      <th>...</th>\n",
       "      <td>...</td>\n",
       "      <td>...</td>\n",
       "      <td>...</td>\n",
       "      <td>...</td>\n",
       "      <td>...</td>\n",
       "    </tr>\n",
       "    <tr>\n",
       "      <th>119</th>\n",
       "      <td>Sharktank</td>\n",
       "      <td>6BcWGwvuWOW4F9IYBvWR6K</td>\n",
       "      <td>H-A-P-P-Y</td>\n",
       "      <td>2023-03-24</td>\n",
       "      <td>spotify:track:7jseeQmEFs7vp8pIQcXkaO</td>\n",
       "    </tr>\n",
       "    <tr>\n",
       "      <th>120</th>\n",
       "      <td>modernlove.</td>\n",
       "      <td>2u17Ej1u0JHyRsstmofsrh</td>\n",
       "      <td>until my heart stops beating</td>\n",
       "      <td>2023-03-24</td>\n",
       "      <td>spotify:track:4lLD8aU0V105kUOYj3h4sJ</td>\n",
       "    </tr>\n",
       "    <tr>\n",
       "      <th>121</th>\n",
       "      <td>maxime.</td>\n",
       "      <td>4jd8Wp3Os5tXFV0NYm1570</td>\n",
       "      <td>‎wedgie</td>\n",
       "      <td>2023-04-14</td>\n",
       "      <td>spotify:track:7rG0ambeXy4HZsTCuFnAgX</td>\n",
       "    </tr>\n",
       "    <tr>\n",
       "      <th>122</th>\n",
       "      <td>Spencer.</td>\n",
       "      <td>20PdOyVym0ZZrOB1rfcvCR</td>\n",
       "      <td>4evaaa</td>\n",
       "      <td>2023-03-24</td>\n",
       "      <td>spotify:track:0uq8z2z0DUJNRgxv3DfqT3</td>\n",
       "    </tr>\n",
       "    <tr>\n",
       "      <th>123</th>\n",
       "      <td>Jon Wiilde</td>\n",
       "      <td>3bqHSYVBMI0gs3v86080ZT</td>\n",
       "      <td>Carry On</td>\n",
       "      <td>2023-03-17</td>\n",
       "      <td>spotify:track:0GEQmn1fPbeQOHVT6YDgFR</td>\n",
       "    </tr>\n",
       "  </tbody>\n",
       "</table>\n",
       "<p>124 rows × 5 columns</p>\n",
       "</div>"
      ],
      "text/plain": [
       "             artistName                artistID                     trackName  \\\n",
       "0               Mercury  6aIZIwesnYKR6ZN1fIerPZ                        heaven   \n",
       "1    Portraits Of Tracy  34QizBjxVeMcA5HlZpKxxE                        Found!   \n",
       "2             Kari Faux  4c2ighP1wj8E5dVGJDCOiB                 WHITE CAPRICE   \n",
       "3           Gangsta Boo  3ppZNqihWOzuH4A0f4KmeP                 WHITE CAPRICE   \n",
       "4            Ray Laurél  7gW3GsnBSoT6q9YQUstlzA                       U SAID!   \n",
       "..                  ...                     ...                           ...   \n",
       "119           Sharktank  6BcWGwvuWOW4F9IYBvWR6K                     H-A-P-P-Y   \n",
       "120         modernlove.  2u17Ej1u0JHyRsstmofsrh  until my heart stops beating   \n",
       "121             maxime.  4jd8Wp3Os5tXFV0NYm1570                       ‎wedgie   \n",
       "122            Spencer.  20PdOyVym0ZZrOB1rfcvCR                        4evaaa   \n",
       "123          Jon Wiilde  3bqHSYVBMI0gs3v86080ZT                      Carry On   \n",
       "\n",
       "    release_date                               songURI  \n",
       "0     2023-06-01  spotify:track:5gEoep9RwLEy8hFJMne9ad  \n",
       "1     2023-05-26  spotify:track:1FgY491AT8WYmMgZgWLfkz  \n",
       "2     2023-05-26  spotify:track:3Q0h7wkHLIlwySLGZYqFPu  \n",
       "3     2023-05-26  spotify:track:3Q0h7wkHLIlwySLGZYqFPu  \n",
       "4     2023-05-19  spotify:track:3S2FcwSlUhob3FAdHgDwWc  \n",
       "..           ...                                   ...  \n",
       "119   2023-03-24  spotify:track:7jseeQmEFs7vp8pIQcXkaO  \n",
       "120   2023-03-24  spotify:track:4lLD8aU0V105kUOYj3h4sJ  \n",
       "121   2023-04-14  spotify:track:7rG0ambeXy4HZsTCuFnAgX  \n",
       "122   2023-03-24  spotify:track:0uq8z2z0DUJNRgxv3DfqT3  \n",
       "123   2023-03-17  spotify:track:0GEQmn1fPbeQOHVT6YDgFR  \n",
       "\n",
       "[124 rows x 5 columns]"
      ]
     },
     "execution_count": 6,
     "metadata": {},
     "output_type": "execute_result"
    }
   ],
   "source": [
    "# Collect artists from an existing favorited playlist\n",
    "playlistToFetch = getPlaylistID(credentials, 'anti pop')\n",
    "artistsNew = fetchTracksFromPlaylist(credentials, playlistToFetch)\n",
    "artistsNew"
   ]
  },
  {
   "cell_type": "markdown",
   "metadata": {},
   "source": [
    "## Process new artists"
   ]
  },
  {
   "cell_type": "code",
   "execution_count": 5,
   "metadata": {},
   "outputs": [
    {
     "data": {
      "text/html": [
       "<div>\n",
       "<style scoped>\n",
       "    .dataframe tbody tr th:only-of-type {\n",
       "        vertical-align: middle;\n",
       "    }\n",
       "\n",
       "    .dataframe tbody tr th {\n",
       "        vertical-align: top;\n",
       "    }\n",
       "\n",
       "    .dataframe thead th {\n",
       "        text-align: right;\n",
       "    }\n",
       "</style>\n",
       "<table border=\"1\" class=\"dataframe\">\n",
       "  <thead>\n",
       "    <tr style=\"text-align: right;\">\n",
       "      <th></th>\n",
       "      <th>artistName</th>\n",
       "    </tr>\n",
       "  </thead>\n",
       "  <tbody>\n",
       "  </tbody>\n",
       "</table>\n",
       "</div>"
      ],
      "text/plain": [
       "Empty DataFrame\n",
       "Columns: [artistName]\n",
       "Index: []"
      ]
     },
     "execution_count": 5,
     "metadata": {},
     "output_type": "execute_result"
    }
   ],
   "source": [
    "# Filter out known artists who we have already listened to\n",
    "if os.path.exists(dataPath):\n",
    "    artistsKnown = pd.read_csv(dataPath, index_col=0)\n",
    "else:\n",
    "    artistsKnown = pd.DataFrame(columns=['artistName', 'artistID', 'artistPopularity', 'artistFollowers', 'artistGenre'])\n",
    "artistsNew = artistsNew.loc[~artistsNew.artistName.isin(artistsKnown['artistName'])]\n",
    "# Search Spotify for new artist info\n",
    "artistsNew = artistsNew.apply(fetchArtistInfo, axis=1)\n",
    "# Ignore artists who did not turn up in Spotify\n",
    "artistsNew = artistsNew.dropna(subset='artistID')\n",
    "# Drop artists whose name was not an exact match with a known artist but who have the same artistID\n",
    "artistsNew = artistsNew.loc[~artistsNew.artistID.isin(artistsKnown['artistID'])]"
   ]
  },
  {
   "cell_type": "markdown",
   "metadata": {},
   "source": [
    "## Get top songs"
   ]
  },
  {
   "cell_type": "code",
   "execution_count": 83,
   "metadata": {},
   "outputs": [
    {
     "name": "stdout",
     "output_type": "stream",
     "text": [
      "There are 6 about to be added\n"
     ]
    }
   ],
   "source": [
    "# Get their top three songs in last 5 years\n",
    "songURIs = fetchTopSongs(artistsNew['artistID'], maxAge=5)\n",
    "# How many songs are in this round?\n",
    "print(f\"There are {len(songURIs)} songs about to be added\")"
   ]
  },
  {
   "cell_type": "markdown",
   "metadata": {},
   "source": [
    "## Put songs in playlist"
   ]
  },
  {
   "cell_type": "code",
   "execution_count": 114,
   "metadata": {},
   "outputs": [],
   "source": [
    "# Warning: This will make a new playlist\n",
    "playlistID = getPlaylistID('New Artists to Explore')\n",
    "# Add songs to the playlist\n",
    "addToPlaylist(songURIs, playlistID)"
   ]
  },
  {
   "cell_type": "markdown",
   "metadata": {},
   "source": [
    "## Update the list of known artists"
   ]
  },
  {
   "cell_type": "code",
   "execution_count": 126,
   "metadata": {},
   "outputs": [],
   "source": [
    "# Append artistsNew to artistsKnown.csv \n",
    "allArtists = pd.concat([artistsKnown, artistsNew], axis=0, ignore_index=True)\n",
    "allArtists.to_csv(dataPath)"
   ]
  },
  {
   "cell_type": "markdown",
   "metadata": {},
   "source": [
    "## Create playlist to drop good songs into"
   ]
  },
  {
   "cell_type": "code",
   "execution_count": 118,
   "metadata": {},
   "outputs": [
    {
     "name": "stdout",
     "output_type": "stream",
     "text": [
      "Now drop songs you like into this playlist: 5bZPe8Gkc9jUADiDXXlm4V\n"
     ]
    }
   ],
   "source": [
    "# Cull exploreArtists into ArtistHasPotential playlist\n",
    "winnersPlaylist = getPlaylistID('New Artists I Liked')\n",
    "print(f'Now drop songs you like into this playlist: {winnersPlaylist}')"
   ]
  },
  {
   "cell_type": "code",
   "execution_count": null,
   "metadata": {},
   "outputs": [],
   "source": []
  }
 ],
 "metadata": {
  "kernelspec": {
   "display_name": "Python 3.10.9 ('summerplaylist')",
   "language": "python",
   "name": "python3"
  },
  "language_info": {
   "codemirror_mode": {
    "name": "ipython",
    "version": 3
   },
   "file_extension": ".py",
   "mimetype": "text/x-python",
   "name": "python",
   "nbconvert_exporter": "python",
   "pygments_lexer": "ipython3",
   "version": "3.10.9"
  },
  "orig_nbformat": 4,
  "vscode": {
   "interpreter": {
    "hash": "e81157a0786199ab9ef170aa1943f0690c4844c55695062c7d895c198fc85648"
   }
  }
 },
 "nbformat": 4,
 "nbformat_minor": 2
}
