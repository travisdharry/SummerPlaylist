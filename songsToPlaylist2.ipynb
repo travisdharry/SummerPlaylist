{
 "cells": [
  {
   "cell_type": "markdown",
   "metadata": {},
   "source": [
    "## Config"
   ]
  },
  {
   "cell_type": "code",
   "execution_count": 1,
   "metadata": {},
   "outputs": [],
   "source": [
    "# Import dependencies\n",
    "import tekore as tk\n",
    "import os\n",
    "import time\n",
    "import pandas as pd\n",
    "import numpy as np\n",
    "from datetime import datetime\n",
    "from dateutil.relativedelta import relativedelta\n",
    "\n",
    "# Environment variables\n",
    "CLIENTID = os.environ.get('CLIENTID')\n",
    "CLIENTSECRET = os.environ.get('CLIENTSECRET')\n",
    "REDIRECT_URI = 'https://example.com/callback'"
   ]
  },
  {
   "cell_type": "code",
   "execution_count": 3,
   "metadata": {},
   "outputs": [
    {
     "name": "stdout",
     "output_type": "stream",
     "text": [
      "Opening browser for Spotify login...\n"
     ]
    }
   ],
   "source": [
    "### Authenticate Tekore and Authorize App\n",
    "# Get client token\n",
    "app_token = tk.request_client_token(CLIENTID, CLIENTSECRET)\n",
    "# Get a user token; Note the need to ask for write scope in order to create/edit playlists\n",
    "# This will open a browser window; the user will need to copy the URL from the browser and paste it into the VSCode Command Palette\n",
    "user_token = tk.prompt_for_user_token(CLIENTID, CLIENTSECRET, REDIRECT_URI, scope=tk.scope.write)\n",
    "# Create spotify instance\n",
    "spotify = tk.Spotify(app_token)\n",
    "# Get the user's spotifyID; The spotify instance will have to reference the user_token to be authorized for this data\n",
    "with spotify.token_as(user_token):\n",
    "    userID = spotify.current_user().id"
   ]
  },
  {
   "cell_type": "markdown",
   "metadata": {},
   "source": [
    "## Create an empty playlist in the user's account"
   ]
  },
  {
   "cell_type": "code",
   "execution_count": null,
   "metadata": {},
   "outputs": [],
   "source": [
    "# Create a playlist for the user\n",
    "with spotify.token_as(user_token):\n",
    "    newPlaylist = spotify.playlist_create(userID, \"Summer Playlist Song Candidates\", public=False, description='Recent albums from Artist Candidates')\n",
    "playlistID = newPlaylist.id"
   ]
  },
  {
   "cell_type": "markdown",
   "metadata": {},
   "source": [
    "## Add some albums to the playlist"
   ]
  },
  {
   "cell_type": "code",
   "execution_count": 4,
   "metadata": {},
   "outputs": [
    {
     "data": {
      "text/html": [
       "<div>\n",
       "<style scoped>\n",
       "    .dataframe tbody tr th:only-of-type {\n",
       "        vertical-align: middle;\n",
       "    }\n",
       "\n",
       "    .dataframe tbody tr th {\n",
       "        vertical-align: top;\n",
       "    }\n",
       "\n",
       "    .dataframe thead th {\n",
       "        text-align: right;\n",
       "    }\n",
       "</style>\n",
       "<table border=\"1\" class=\"dataframe\">\n",
       "  <thead>\n",
       "    <tr style=\"text-align: right;\">\n",
       "      <th></th>\n",
       "      <th>Unnamed: 0</th>\n",
       "      <th>artistID</th>\n",
       "      <th>artistName</th>\n",
       "      <th>albumID</th>\n",
       "      <th>albumName</th>\n",
       "      <th>albumReleaseDate</th>\n",
       "      <th>albumURI</th>\n",
       "    </tr>\n",
       "  </thead>\n",
       "  <tbody>\n",
       "    <tr>\n",
       "      <th>0</th>\n",
       "      <td>0</td>\n",
       "      <td>12Zk1DFhCbHY6v3xep2ZjI</td>\n",
       "      <td>070 Shake</td>\n",
       "      <td>21ZlnuYMvzSLNOAYWH318k</td>\n",
       "      <td>True love (feat. 070 Shake)</td>\n",
       "      <td>2023-04-17</td>\n",
       "      <td>spotify:album:21ZlnuYMvzSLNOAYWH318k</td>\n",
       "    </tr>\n",
       "    <tr>\n",
       "      <th>1</th>\n",
       "      <td>1</td>\n",
       "      <td>12Zk1DFhCbHY6v3xep2ZjI</td>\n",
       "      <td>070 Shake</td>\n",
       "      <td>11X8fP4LGagH6xsQI2aqaY</td>\n",
       "      <td>Cocoon (Martin Garrix &amp; Space Ducks Remix)</td>\n",
       "      <td>2023-02-10</td>\n",
       "      <td>spotify:album:11X8fP4LGagH6xsQI2aqaY</td>\n",
       "    </tr>\n",
       "    <tr>\n",
       "      <th>2</th>\n",
       "      <td>3</td>\n",
       "      <td>5jQsMNuCW0iZeFTz6YUK8K</td>\n",
       "      <td>Pluralone</td>\n",
       "      <td>NaN</td>\n",
       "      <td>NaN</td>\n",
       "      <td>NaN</td>\n",
       "      <td>NaN</td>\n",
       "    </tr>\n",
       "    <tr>\n",
       "      <th>3</th>\n",
       "      <td>4</td>\n",
       "      <td>2f0NSj1t2L6JowHINXCFb6</td>\n",
       "      <td>Ruby Red</td>\n",
       "      <td>2FIbisWv6Q7QZVvevvCE3G</td>\n",
       "      <td>Martina Soleil (Living At The Same Time)</td>\n",
       "      <td>2023-02-23</td>\n",
       "      <td>spotify:album:2FIbisWv6Q7QZVvevvCE3G</td>\n",
       "    </tr>\n",
       "  </tbody>\n",
       "</table>\n",
       "</div>"
      ],
      "text/plain": [
       "   Unnamed: 0                artistID artistName                 albumID  \\\n",
       "0           0  12Zk1DFhCbHY6v3xep2ZjI  070 Shake  21ZlnuYMvzSLNOAYWH318k   \n",
       "1           1  12Zk1DFhCbHY6v3xep2ZjI  070 Shake  11X8fP4LGagH6xsQI2aqaY   \n",
       "2           3  5jQsMNuCW0iZeFTz6YUK8K  Pluralone                     NaN   \n",
       "3           4  2f0NSj1t2L6JowHINXCFb6   Ruby Red  2FIbisWv6Q7QZVvevvCE3G   \n",
       "\n",
       "                                    albumName albumReleaseDate  \\\n",
       "0                 True love (feat. 070 Shake)       2023-04-17   \n",
       "1  Cocoon (Martin Garrix & Space Ducks Remix)       2023-02-10   \n",
       "2                                         NaN              NaN   \n",
       "3    Martina Soleil (Living At The Same Time)       2023-02-23   \n",
       "\n",
       "                               albumURI  \n",
       "0  spotify:album:21ZlnuYMvzSLNOAYWH318k  \n",
       "1  spotify:album:11X8fP4LGagH6xsQI2aqaY  \n",
       "2                                   NaN  \n",
       "3  spotify:album:2FIbisWv6Q7QZVvevvCE3G  "
      ]
     },
     "execution_count": 4,
     "metadata": {},
     "output_type": "execute_result"
    }
   ],
   "source": [
    "# Extract list of songs\n",
    "songs = pd.read_csv('songs2.csv')\n",
    "songs"
   ]
  },
  {
   "cell_type": "code",
   "execution_count": null,
   "metadata": {},
   "outputs": [],
   "source": [
    "# Cut the df into chunks\n",
    "n = 0\n",
    "while n < len(songs):\n",
    "    songsToAdd = songs.iloc[n:(n+100)]\n",
    "    # Add songs to the playlist\n",
    "    with spotify.token_as(user_token):\n",
    "        additions = spotify.playlist_add(playlistID, list(songsToAdd['albumURI']), position=None)\n",
    "    n += 100\n",
    "    # Wait 2 seconds so we do not exceed our API call allowance\n",
    "    time.sleep(2)\n"
   ]
  }
 ],
 "metadata": {
  "kernelspec": {
   "display_name": "Python 3.10.9 ('summerplaylist')",
   "language": "python",
   "name": "python3"
  },
  "language_info": {
   "codemirror_mode": {
    "name": "ipython",
    "version": 3
   },
   "file_extension": ".py",
   "mimetype": "text/x-python",
   "name": "python",
   "nbconvert_exporter": "python",
   "pygments_lexer": "ipython3",
   "version": "3.10.9"
  },
  "orig_nbformat": 4,
  "vscode": {
   "interpreter": {
    "hash": "e81157a0786199ab9ef170aa1943f0690c4844c55695062c7d895c198fc85648"
   }
  }
 },
 "nbformat": 4,
 "nbformat_minor": 2
}
