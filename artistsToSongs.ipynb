{
 "cells": [
  {
   "cell_type": "markdown",
   "metadata": {},
   "source": [
    "## Config"
   ]
  },
  {
   "cell_type": "code",
   "execution_count": 82,
   "metadata": {},
   "outputs": [],
   "source": [
    "# Import dependencies\n",
    "import tekore as tk\n",
    "import os\n",
    "import time\n",
    "import pandas as pd\n",
    "import numpy as np\n",
    "from datetime import datetime\n",
    "from dateutil.relativedelta import relativedelta\n",
    "\n",
    "# Environment variables\n",
    "CLIENTID = os.environ.get('CLIENTID')\n",
    "CLIENTSECRET = os.environ.get('CLIENTSECRET')\n",
    "# Set global variables\n",
    "MINDATE = datetime.today() - relativedelta(years=25)\n"
   ]
  },
  {
   "cell_type": "code",
   "execution_count": 34,
   "metadata": {},
   "outputs": [],
   "source": [
    "### Authenticate Tekore\n",
    "# Get client token\n",
    "app_token = tk.request_client_token(CLIENTID, CLIENTSECRET)\n",
    "# Create spotify instance\n",
    "spotify = tk.Spotify(app_token)"
   ]
  },
  {
   "cell_type": "markdown",
   "metadata": {},
   "source": [
    "## Read in list of artists"
   ]
  },
  {
   "cell_type": "code",
   "execution_count": 137,
   "metadata": {},
   "outputs": [
    {
     "data": {
      "text/html": [
       "<div>\n",
       "<style scoped>\n",
       "    .dataframe tbody tr th:only-of-type {\n",
       "        vertical-align: middle;\n",
       "    }\n",
       "\n",
       "    .dataframe tbody tr th {\n",
       "        vertical-align: top;\n",
       "    }\n",
       "\n",
       "    .dataframe thead th {\n",
       "        text-align: right;\n",
       "    }\n",
       "</style>\n",
       "<table border=\"1\" class=\"dataframe\">\n",
       "  <thead>\n",
       "    <tr style=\"text-align: right;\">\n",
       "      <th></th>\n",
       "      <th>artistName</th>\n",
       "    </tr>\n",
       "  </thead>\n",
       "  <tbody>\n",
       "    <tr>\n",
       "      <th>0</th>\n",
       "      <td>21 Savage</td>\n",
       "    </tr>\n",
       "    <tr>\n",
       "      <th>1</th>\n",
       "      <td>3 Doors Down</td>\n",
       "    </tr>\n",
       "    <tr>\n",
       "      <th>2</th>\n",
       "      <td>311</td>\n",
       "    </tr>\n",
       "    <tr>\n",
       "      <th>3</th>\n",
       "      <td>A Day To Remember</td>\n",
       "    </tr>\n",
       "    <tr>\n",
       "      <th>4</th>\n",
       "      <td>A Tribe Called Quest</td>\n",
       "    </tr>\n",
       "  </tbody>\n",
       "</table>\n",
       "</div>"
      ],
      "text/plain": [
       "             artistName\n",
       "0             21 Savage\n",
       "1          3 Doors Down\n",
       "2                   311\n",
       "3     A Day To Remember\n",
       "4  A Tribe Called Quest"
      ]
     },
     "execution_count": 137,
     "metadata": {},
     "output_type": "execute_result"
    }
   ],
   "source": [
    "# Read in list of artists\n",
    "artists = pd.read_csv('artists.csv')\n",
    "# Subset for testing\n",
    "artists = artists[:5]\n",
    "artists"
   ]
  },
  {
   "cell_type": "markdown",
   "metadata": {},
   "source": [
    "## Get artist IDs"
   ]
  },
  {
   "cell_type": "code",
   "execution_count": 138,
   "metadata": {},
   "outputs": [],
   "source": [
    "# Create function to search spotify based on artist name\n",
    "def searchSpotify(row):\n",
    "    try:\n",
    "        # Search spotify for artists based on name\n",
    "        possibleArtists, = spotify.search(row['artistName'], types=['artist'], limit=1)\n",
    "        # Select the first search result\n",
    "        result = possibleArtists.items[0].id\n",
    "    except: \n",
    "        result = np.nan\n",
    "    finally:\n",
    "        # Wait 2 seconds so we do not exceed our API call allowance\n",
    "        time.sleep(2)\n",
    "        return result\n",
    "    \n"
   ]
  },
  {
   "cell_type": "code",
   "execution_count": 139,
   "metadata": {},
   "outputs": [
    {
     "data": {
      "text/html": [
       "<div>\n",
       "<style scoped>\n",
       "    .dataframe tbody tr th:only-of-type {\n",
       "        vertical-align: middle;\n",
       "    }\n",
       "\n",
       "    .dataframe tbody tr th {\n",
       "        vertical-align: top;\n",
       "    }\n",
       "\n",
       "    .dataframe thead th {\n",
       "        text-align: right;\n",
       "    }\n",
       "</style>\n",
       "<table border=\"1\" class=\"dataframe\">\n",
       "  <thead>\n",
       "    <tr style=\"text-align: right;\">\n",
       "      <th></th>\n",
       "      <th>artistName</th>\n",
       "      <th>artistID</th>\n",
       "    </tr>\n",
       "  </thead>\n",
       "  <tbody>\n",
       "    <tr>\n",
       "      <th>0</th>\n",
       "      <td>21 Savage</td>\n",
       "      <td>1URnnhqYAYcrqrcwql10ft</td>\n",
       "    </tr>\n",
       "    <tr>\n",
       "      <th>1</th>\n",
       "      <td>3 Doors Down</td>\n",
       "      <td>2RTUTCvo6onsAnheUk3aL9</td>\n",
       "    </tr>\n",
       "    <tr>\n",
       "      <th>2</th>\n",
       "      <td>311</td>\n",
       "      <td>41Q0HrwWBtuUkJc7C1Rp6K</td>\n",
       "    </tr>\n",
       "    <tr>\n",
       "      <th>3</th>\n",
       "      <td>A Day To Remember</td>\n",
       "      <td>4NiJW4q9ichVqL1aUsgGAN</td>\n",
       "    </tr>\n",
       "    <tr>\n",
       "      <th>4</th>\n",
       "      <td>A Tribe Called Quest</td>\n",
       "      <td>09hVIj6vWgoCDtT03h8ZCa</td>\n",
       "    </tr>\n",
       "  </tbody>\n",
       "</table>\n",
       "</div>"
      ],
      "text/plain": [
       "             artistName                artistID\n",
       "0             21 Savage  1URnnhqYAYcrqrcwql10ft\n",
       "1          3 Doors Down  2RTUTCvo6onsAnheUk3aL9\n",
       "2                   311  41Q0HrwWBtuUkJc7C1Rp6K\n",
       "3     A Day To Remember  4NiJW4q9ichVqL1aUsgGAN\n",
       "4  A Tribe Called Quest  09hVIj6vWgoCDtT03h8ZCa"
      ]
     },
     "execution_count": 139,
     "metadata": {},
     "output_type": "execute_result"
    }
   ],
   "source": [
    "# Find an artistID for each artist based on artistName\n",
    "artists['artistID'] = artists.apply(searchSpotify, axis=1)\n",
    "artists"
   ]
  },
  {
   "cell_type": "markdown",
   "metadata": {},
   "source": [
    "## Get top songs for each"
   ]
  },
  {
   "cell_type": "code",
   "execution_count": 140,
   "metadata": {},
   "outputs": [],
   "source": [
    "# Define function that will get the top tracks for each artist in the list\n",
    "def fetchTopSongs(row):\n",
    "    try:\n",
    "        # Query the spotify API\n",
    "        topSongs = spotify.artist_top_tracks(row['artistID'], \"US\")\n",
    "        # Iterate over the tracks to find a list of songURIs\n",
    "        # Limit this to only those songs produced in the last few years; Use only the year (first four digits)\n",
    "        # Limit this to only three songs per artist\n",
    "        result = [x.uri for x in topSongs if datetime.strptime(x.album.release_date[:4], '%Y')>MINDATE][:3]\n",
    "    except: \n",
    "        result = [np.nan]\n",
    "    finally:\n",
    "        # Wait 2 seconds so we do not exceed our API call allowance\n",
    "        time.sleep(2)\n",
    "        return result"
   ]
  },
  {
   "cell_type": "code",
   "execution_count": 141,
   "metadata": {},
   "outputs": [
    {
     "data": {
      "text/html": [
       "<div>\n",
       "<style scoped>\n",
       "    .dataframe tbody tr th:only-of-type {\n",
       "        vertical-align: middle;\n",
       "    }\n",
       "\n",
       "    .dataframe tbody tr th {\n",
       "        vertical-align: top;\n",
       "    }\n",
       "\n",
       "    .dataframe thead th {\n",
       "        text-align: right;\n",
       "    }\n",
       "</style>\n",
       "<table border=\"1\" class=\"dataframe\">\n",
       "  <thead>\n",
       "    <tr style=\"text-align: right;\">\n",
       "      <th></th>\n",
       "      <th>artistName</th>\n",
       "      <th>artistID</th>\n",
       "      <th>songURI</th>\n",
       "    </tr>\n",
       "  </thead>\n",
       "  <tbody>\n",
       "    <tr>\n",
       "      <th>0</th>\n",
       "      <td>21 Savage</td>\n",
       "      <td>1URnnhqYAYcrqrcwql10ft</td>\n",
       "      <td>spotify:track:2dHHgzDwk4BJdRwy9uXhTO</td>\n",
       "    </tr>\n",
       "    <tr>\n",
       "      <th>1</th>\n",
       "      <td>21 Savage</td>\n",
       "      <td>1URnnhqYAYcrqrcwql10ft</td>\n",
       "      <td>spotify:track:1bDbXMyjaUIooNwFE9wn0N</td>\n",
       "    </tr>\n",
       "    <tr>\n",
       "      <th>2</th>\n",
       "      <td>21 Savage</td>\n",
       "      <td>1URnnhqYAYcrqrcwql10ft</td>\n",
       "      <td>spotify:track:3F5CgOj3wFlRv51JsHbxhe</td>\n",
       "    </tr>\n",
       "    <tr>\n",
       "      <th>3</th>\n",
       "      <td>3 Doors Down</td>\n",
       "      <td>2RTUTCvo6onsAnheUk3aL9</td>\n",
       "      <td>spotify:track:6ZOBP3NvffbU4SZcrnt1k6</td>\n",
       "    </tr>\n",
       "    <tr>\n",
       "      <th>4</th>\n",
       "      <td>3 Doors Down</td>\n",
       "      <td>2RTUTCvo6onsAnheUk3aL9</td>\n",
       "      <td>spotify:track:3NLrRZoMF0Lx6zTlYqeIo4</td>\n",
       "    </tr>\n",
       "    <tr>\n",
       "      <th>5</th>\n",
       "      <td>3 Doors Down</td>\n",
       "      <td>2RTUTCvo6onsAnheUk3aL9</td>\n",
       "      <td>spotify:track:3WbphvawbMZ8FyqDxYGdSQ</td>\n",
       "    </tr>\n",
       "    <tr>\n",
       "      <th>6</th>\n",
       "      <td>311</td>\n",
       "      <td>41Q0HrwWBtuUkJc7C1Rp6K</td>\n",
       "      <td>spotify:track:6Fe3Flc9SjE03pqwD6PVQl</td>\n",
       "    </tr>\n",
       "    <tr>\n",
       "      <th>7</th>\n",
       "      <td>311</td>\n",
       "      <td>41Q0HrwWBtuUkJc7C1Rp6K</td>\n",
       "      <td>spotify:track:3mtukCAgd0mE260QcBfXAX</td>\n",
       "    </tr>\n",
       "    <tr>\n",
       "      <th>8</th>\n",
       "      <td>311</td>\n",
       "      <td>41Q0HrwWBtuUkJc7C1Rp6K</td>\n",
       "      <td>spotify:track:4cSSUpptr7r125fK5nRJhP</td>\n",
       "    </tr>\n",
       "    <tr>\n",
       "      <th>9</th>\n",
       "      <td>A Day To Remember</td>\n",
       "      <td>4NiJW4q9ichVqL1aUsgGAN</td>\n",
       "      <td>spotify:track:1KHKeIouP04dDtl0EetgED</td>\n",
       "    </tr>\n",
       "    <tr>\n",
       "      <th>10</th>\n",
       "      <td>A Day To Remember</td>\n",
       "      <td>4NiJW4q9ichVqL1aUsgGAN</td>\n",
       "      <td>spotify:track:3rEwGRmPVVudVjqdgv0tRR</td>\n",
       "    </tr>\n",
       "    <tr>\n",
       "      <th>11</th>\n",
       "      <td>A Day To Remember</td>\n",
       "      <td>4NiJW4q9ichVqL1aUsgGAN</td>\n",
       "      <td>spotify:track:4JsDHMv5PVO8N07DbDq33r</td>\n",
       "    </tr>\n",
       "    <tr>\n",
       "      <th>12</th>\n",
       "      <td>A Tribe Called Quest</td>\n",
       "      <td>09hVIj6vWgoCDtT03h8ZCa</td>\n",
       "      <td>spotify:track:0eEXcw3JLVXcRxYrVYMy68</td>\n",
       "    </tr>\n",
       "  </tbody>\n",
       "</table>\n",
       "</div>"
      ],
      "text/plain": [
       "              artistName                artistID  \\\n",
       "0              21 Savage  1URnnhqYAYcrqrcwql10ft   \n",
       "1              21 Savage  1URnnhqYAYcrqrcwql10ft   \n",
       "2              21 Savage  1URnnhqYAYcrqrcwql10ft   \n",
       "3           3 Doors Down  2RTUTCvo6onsAnheUk3aL9   \n",
       "4           3 Doors Down  2RTUTCvo6onsAnheUk3aL9   \n",
       "5           3 Doors Down  2RTUTCvo6onsAnheUk3aL9   \n",
       "6                    311  41Q0HrwWBtuUkJc7C1Rp6K   \n",
       "7                    311  41Q0HrwWBtuUkJc7C1Rp6K   \n",
       "8                    311  41Q0HrwWBtuUkJc7C1Rp6K   \n",
       "9      A Day To Remember  4NiJW4q9ichVqL1aUsgGAN   \n",
       "10     A Day To Remember  4NiJW4q9ichVqL1aUsgGAN   \n",
       "11     A Day To Remember  4NiJW4q9ichVqL1aUsgGAN   \n",
       "12  A Tribe Called Quest  09hVIj6vWgoCDtT03h8ZCa   \n",
       "\n",
       "                                 songURI  \n",
       "0   spotify:track:2dHHgzDwk4BJdRwy9uXhTO  \n",
       "1   spotify:track:1bDbXMyjaUIooNwFE9wn0N  \n",
       "2   spotify:track:3F5CgOj3wFlRv51JsHbxhe  \n",
       "3   spotify:track:6ZOBP3NvffbU4SZcrnt1k6  \n",
       "4   spotify:track:3NLrRZoMF0Lx6zTlYqeIo4  \n",
       "5   spotify:track:3WbphvawbMZ8FyqDxYGdSQ  \n",
       "6   spotify:track:6Fe3Flc9SjE03pqwD6PVQl  \n",
       "7   spotify:track:3mtukCAgd0mE260QcBfXAX  \n",
       "8   spotify:track:4cSSUpptr7r125fK5nRJhP  \n",
       "9   spotify:track:1KHKeIouP04dDtl0EetgED  \n",
       "10  spotify:track:3rEwGRmPVVudVjqdgv0tRR  \n",
       "11  spotify:track:4JsDHMv5PVO8N07DbDq33r  \n",
       "12  spotify:track:0eEXcw3JLVXcRxYrVYMy68  "
      ]
     },
     "execution_count": 141,
     "metadata": {},
     "output_type": "execute_result"
    }
   ],
   "source": [
    "# Drop artists who could not be found in the search \n",
    "artists = artists.dropna()\n",
    "# Find a list of songIDs for each artist\n",
    "artists['songURI'] = artists.apply(fetchTopSongs, axis=1)\n",
    "# Transform lists of songIDs to multiple rows\n",
    "artists = artists.explode('songURI', ignore_index=True)\n",
    "artists"
   ]
  },
  {
   "cell_type": "markdown",
   "metadata": {},
   "source": [
    "## Load"
   ]
  },
  {
   "cell_type": "code",
   "execution_count": 142,
   "metadata": {},
   "outputs": [],
   "source": [
    "artists.to_csv('songs1.csv', index=False)"
   ]
  },
  {
   "cell_type": "code",
   "execution_count": null,
   "metadata": {},
   "outputs": [],
   "source": []
  }
 ],
 "metadata": {
  "kernelspec": {
   "display_name": "Python 3.10.9 ('summerplaylist')",
   "language": "python",
   "name": "python3"
  },
  "language_info": {
   "codemirror_mode": {
    "name": "ipython",
    "version": 3
   },
   "file_extension": ".py",
   "mimetype": "text/x-python",
   "name": "python",
   "nbconvert_exporter": "python",
   "pygments_lexer": "ipython3",
   "version": "3.10.9"
  },
  "orig_nbformat": 4,
  "vscode": {
   "interpreter": {
    "hash": "e81157a0786199ab9ef170aa1943f0690c4844c55695062c7d895c198fc85648"
   }
  }
 },
 "nbformat": 4,
 "nbformat_minor": 2
}
