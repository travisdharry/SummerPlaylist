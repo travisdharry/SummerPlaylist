{
 "cells": [
  {
   "cell_type": "markdown",
   "metadata": {},
   "source": [
    "## Config"
   ]
  },
  {
   "cell_type": "code",
   "execution_count": 55,
   "metadata": {},
   "outputs": [],
   "source": [
    "# Import dependencies\n",
    "import tekore as tk\n",
    "import os\n",
    "import time\n",
    "import pandas as pd\n",
    "import numpy as np\n",
    "from datetime import datetime\n",
    "from dateutil.relativedelta import relativedelta\n",
    "\n",
    "# Environment variables\n",
    "CLIENTID = os.environ.get('CLIENTID')\n",
    "CLIENTSECRET = os.environ.get('CLIENTSECRET')\n",
    "REDIRECT_URI = 'https://example.com/callback'"
   ]
  },
  {
   "cell_type": "code",
   "execution_count": 56,
   "metadata": {},
   "outputs": [
    {
     "name": "stdout",
     "output_type": "stream",
     "text": [
      "Opening browser for Spotify login...\n"
     ]
    }
   ],
   "source": [
    "### Authenticate Tekore and Authorize App\n",
    "# Get client token\n",
    "app_token = tk.request_client_token(CLIENTID, CLIENTSECRET)\n",
    "# Get a user token; Note the need to ask for write scope in order to create/edit playlists\n",
    "# This will open a browser window; the user will need to copy the URL from the browser and paste it into the VSCode Command Palette\n",
    "user_token = tk.prompt_for_user_token(CLIENTID, CLIENTSECRET, REDIRECT_URI, scope=tk.scope.write)\n",
    "# Create spotify instance\n",
    "spotify = tk.Spotify(app_token)\n",
    "# Get the user's spotifyID; The spotify instance will have to reference the user_token to be authorized for this data\n",
    "with spotify.token_as(user_token):\n",
    "    userID = spotify.current_user().id"
   ]
  },
  {
   "cell_type": "markdown",
   "metadata": {},
   "source": [
    "## Create an empty playlist in the user's account"
   ]
  },
  {
   "cell_type": "code",
   "execution_count": 57,
   "metadata": {},
   "outputs": [],
   "source": [
    "# Create a playlist for the user\n",
    "with spotify.token_as(user_token):\n",
    "    newPlaylist = spotify.playlist_create(userID, \"Summer Playlist Artist Candidates\", public=False, description='Top three songs from each artist playing a summer festival this year (<5 years old)')\n",
    "playlistID = newPlaylist.id"
   ]
  },
  {
   "cell_type": "markdown",
   "metadata": {},
   "source": [
    "## Add some songs to the playlist"
   ]
  },
  {
   "cell_type": "code",
   "execution_count": 58,
   "metadata": {},
   "outputs": [
    {
     "data": {
      "text/html": [
       "<div>\n",
       "<style scoped>\n",
       "    .dataframe tbody tr th:only-of-type {\n",
       "        vertical-align: middle;\n",
       "    }\n",
       "\n",
       "    .dataframe tbody tr th {\n",
       "        vertical-align: top;\n",
       "    }\n",
       "\n",
       "    .dataframe thead th {\n",
       "        text-align: right;\n",
       "    }\n",
       "</style>\n",
       "<table border=\"1\" class=\"dataframe\">\n",
       "  <thead>\n",
       "    <tr style=\"text-align: right;\">\n",
       "      <th></th>\n",
       "      <th>artistName</th>\n",
       "      <th>artistID</th>\n",
       "      <th>songURI</th>\n",
       "      <th>artistPop</th>\n",
       "      <th>artistGenre</th>\n",
       "    </tr>\n",
       "  </thead>\n",
       "  <tbody>\n",
       "    <tr>\n",
       "      <th>0</th>\n",
       "      <td>Taylor Swift</td>\n",
       "      <td>06HL4z0CvFAxyc27GXpf02</td>\n",
       "      <td>spotify:track:0V3wPSX9ygBnCm8psDIegu</td>\n",
       "      <td>100.0</td>\n",
       "      <td>pop</td>\n",
       "    </tr>\n",
       "    <tr>\n",
       "      <th>1</th>\n",
       "      <td>Taylor Swift</td>\n",
       "      <td>06HL4z0CvFAxyc27GXpf02</td>\n",
       "      <td>spotify:track:3rWDp9tBPQR9z6U5YyRSK4</td>\n",
       "      <td>100.0</td>\n",
       "      <td>pop</td>\n",
       "    </tr>\n",
       "    <tr>\n",
       "      <th>2</th>\n",
       "      <td>Taylor Swift</td>\n",
       "      <td>06HL4z0CvFAxyc27GXpf02</td>\n",
       "      <td>spotify:track:5jQI2r1RdgtuT8S3iG8zFC</td>\n",
       "      <td>100.0</td>\n",
       "      <td>pop</td>\n",
       "    </tr>\n",
       "    <tr>\n",
       "      <th>3</th>\n",
       "      <td>Bad Bunny</td>\n",
       "      <td>4q3ewBCX7sLwd24euuV69X</td>\n",
       "      <td>spotify:track:38UYeBLfvpnDSG9GznZdnL</td>\n",
       "      <td>99.0</td>\n",
       "      <td>reggaeton, trap latino, urbano latino</td>\n",
       "    </tr>\n",
       "    <tr>\n",
       "      <th>4</th>\n",
       "      <td>Bad Bunny</td>\n",
       "      <td>4q3ewBCX7sLwd24euuV69X</td>\n",
       "      <td>spotify:track:6Sq7ltF9Qa7SNFBsV5Cogx</td>\n",
       "      <td>99.0</td>\n",
       "      <td>reggaeton, trap latino, urbano latino</td>\n",
       "    </tr>\n",
       "    <tr>\n",
       "      <th>...</th>\n",
       "      <td>...</td>\n",
       "      <td>...</td>\n",
       "      <td>...</td>\n",
       "      <td>...</td>\n",
       "      <td>...</td>\n",
       "    </tr>\n",
       "    <tr>\n",
       "      <th>2612</th>\n",
       "      <td>Dj Diesel</td>\n",
       "      <td>6TxBySn4sDWKZuSR5gpp6H</td>\n",
       "      <td>spotify:track:1lJUFUq9WBk7OHcxxodyZ4</td>\n",
       "      <td>19.0</td>\n",
       "      <td>NaN</td>\n",
       "    </tr>\n",
       "    <tr>\n",
       "      <th>2613</th>\n",
       "      <td>Clockwork</td>\n",
       "      <td>2h27SMMeQd7VEcbVwfu71E</td>\n",
       "      <td>spotify:track:2axkjRxMWykrM0k7ipO6om</td>\n",
       "      <td>14.0</td>\n",
       "      <td>NaN</td>\n",
       "    </tr>\n",
       "    <tr>\n",
       "      <th>2614</th>\n",
       "      <td>Clockwork</td>\n",
       "      <td>2h27SMMeQd7VEcbVwfu71E</td>\n",
       "      <td>spotify:track:3DOwkoLAlChRPiepG6Vgif</td>\n",
       "      <td>14.0</td>\n",
       "      <td>NaN</td>\n",
       "    </tr>\n",
       "    <tr>\n",
       "      <th>2615</th>\n",
       "      <td>Clockwork</td>\n",
       "      <td>2h27SMMeQd7VEcbVwfu71E</td>\n",
       "      <td>spotify:track:2sNuo9Q0jqYxnaZ3OBLecF</td>\n",
       "      <td>14.0</td>\n",
       "      <td>NaN</td>\n",
       "    </tr>\n",
       "    <tr>\n",
       "      <th>2616</th>\n",
       "      <td>Hot 100</td>\n",
       "      <td>1a2O6kOO33cqsmWKkzCrJd</td>\n",
       "      <td>spotify:track:1all9EIJvWuLqOafMCnfqb</td>\n",
       "      <td>0.0</td>\n",
       "      <td>NaN</td>\n",
       "    </tr>\n",
       "  </tbody>\n",
       "</table>\n",
       "<p>2617 rows × 5 columns</p>\n",
       "</div>"
      ],
      "text/plain": [
       "        artistName                artistID  \\\n",
       "0     Taylor Swift  06HL4z0CvFAxyc27GXpf02   \n",
       "1     Taylor Swift  06HL4z0CvFAxyc27GXpf02   \n",
       "2     Taylor Swift  06HL4z0CvFAxyc27GXpf02   \n",
       "3        Bad Bunny  4q3ewBCX7sLwd24euuV69X   \n",
       "4        Bad Bunny  4q3ewBCX7sLwd24euuV69X   \n",
       "...            ...                     ...   \n",
       "2612     Dj Diesel  6TxBySn4sDWKZuSR5gpp6H   \n",
       "2613     Clockwork  2h27SMMeQd7VEcbVwfu71E   \n",
       "2614     Clockwork  2h27SMMeQd7VEcbVwfu71E   \n",
       "2615     Clockwork  2h27SMMeQd7VEcbVwfu71E   \n",
       "2616       Hot 100  1a2O6kOO33cqsmWKkzCrJd   \n",
       "\n",
       "                                   songURI  artistPop  \\\n",
       "0     spotify:track:0V3wPSX9ygBnCm8psDIegu      100.0   \n",
       "1     spotify:track:3rWDp9tBPQR9z6U5YyRSK4      100.0   \n",
       "2     spotify:track:5jQI2r1RdgtuT8S3iG8zFC      100.0   \n",
       "3     spotify:track:38UYeBLfvpnDSG9GznZdnL       99.0   \n",
       "4     spotify:track:6Sq7ltF9Qa7SNFBsV5Cogx       99.0   \n",
       "...                                    ...        ...   \n",
       "2612  spotify:track:1lJUFUq9WBk7OHcxxodyZ4       19.0   \n",
       "2613  spotify:track:2axkjRxMWykrM0k7ipO6om       14.0   \n",
       "2614  spotify:track:3DOwkoLAlChRPiepG6Vgif       14.0   \n",
       "2615  spotify:track:2sNuo9Q0jqYxnaZ3OBLecF       14.0   \n",
       "2616  spotify:track:1all9EIJvWuLqOafMCnfqb        0.0   \n",
       "\n",
       "                                artistGenre  \n",
       "0                                       pop  \n",
       "1                                       pop  \n",
       "2                                       pop  \n",
       "3     reggaeton, trap latino, urbano latino  \n",
       "4     reggaeton, trap latino, urbano latino  \n",
       "...                                     ...  \n",
       "2612                                    NaN  \n",
       "2613                                    NaN  \n",
       "2614                                    NaN  \n",
       "2615                                    NaN  \n",
       "2616                                    NaN  \n",
       "\n",
       "[2617 rows x 5 columns]"
      ]
     },
     "execution_count": 58,
     "metadata": {},
     "output_type": "execute_result"
    }
   ],
   "source": [
    "# Extract list of songs\n",
    "songs = pd.read_csv('songs1.csv')\n",
    "songs"
   ]
  },
  {
   "cell_type": "code",
   "execution_count": 59,
   "metadata": {},
   "outputs": [],
   "source": [
    "# Cut the df into chunks\n",
    "n = 0\n",
    "while n < len(songs):\n",
    "    songsToAdd = songs.iloc[n:(n+100)]\n",
    "    # Add songs to the playlist\n",
    "    with spotify.token_as(user_token):\n",
    "        additions = spotify.playlist_add(playlistID, list(songsToAdd['songURI']), position=None)\n",
    "    n += 100\n",
    "    # Wait 2 seconds so we do not exceed our API call allowance\n",
    "    time.sleep(2)\n"
   ]
  },
  {
   "cell_type": "code",
   "execution_count": null,
   "metadata": {},
   "outputs": [],
   "source": []
  }
 ],
 "metadata": {
  "kernelspec": {
   "display_name": "Python 3.10.9 ('summerplaylist')",
   "language": "python",
   "name": "python3"
  },
  "language_info": {
   "codemirror_mode": {
    "name": "ipython",
    "version": 3
   },
   "file_extension": ".py",
   "mimetype": "text/x-python",
   "name": "python",
   "nbconvert_exporter": "python",
   "pygments_lexer": "ipython3",
   "version": "3.10.9"
  },
  "orig_nbformat": 4,
  "vscode": {
   "interpreter": {
    "hash": "e81157a0786199ab9ef170aa1943f0690c4844c55695062c7d895c198fc85648"
   }
  }
 },
 "nbformat": 4,
 "nbformat_minor": 2
}
