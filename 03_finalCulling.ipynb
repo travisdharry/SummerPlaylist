{
 "cells": [
  {
   "cell_type": "markdown",
   "metadata": {},
   "source": [
    "## Configuration"
   ]
  },
  {
   "cell_type": "code",
   "execution_count": 1,
   "metadata": {},
   "outputs": [],
   "source": [
    "### Configuration\n",
    "# Import dependencies\n",
    "import os\n",
    "from collections import Counter\n",
    "from datetime import datetime\n",
    "from dateutil.relativedelta import relativedelta\n",
    "import pandas as pd\n",
    "from summerplaylist import *\n",
    "\n",
    "# Environment variables\n",
    "CLIENTID = os.environ.get('CLIENTID')\n",
    "CLIENTSECRET = os.environ.get('CLIENTSECRET')\n",
    "REDIRECT_URI = 'https://example.com/callback'"
   ]
  },
  {
   "cell_type": "markdown",
   "metadata": {},
   "source": [
    "## Log In"
   ]
  },
  {
   "cell_type": "code",
   "execution_count": 2,
   "metadata": {},
   "outputs": [
    {
     "name": "stdout",
     "output_type": "stream",
     "text": [
      "Opening browser for Spotify login...\n"
     ]
    }
   ],
   "source": [
    "# Authenticate to Spotify\n",
    "credentials = authenticateToSpotify(CLIENTID, CLIENTSECRET, REDIRECT_URI)"
   ]
  },
  {
   "cell_type": "markdown",
   "metadata": {},
   "source": [
    "## Read in current song candidates"
   ]
  },
  {
   "cell_type": "code",
   "execution_count": 3,
   "metadata": {},
   "outputs": [],
   "source": [
    "# Get playlist IDs\n",
    "playlistID1 = getPlaylistID(credentials, '2023')\n",
    "playlistID2 = getPlaylistID(credentials, '2023 Round 2')\n",
    "\n",
    "# Read in CurrentYearSongCandidates playlist\n",
    "playlistTracks1 = fetchTracksFromPlaylist(credentials, playlistID1)\n",
    "playlistTracks2 = fetchTracksFromPlaylist(credentials, playlistID2)\n",
    "# Merge dfs\n",
    "allNewTracks = pd.concat([playlistTracks1, playlistTracks2], axis=0, ignore_index=True)\n",
    "allNewTracks"
   ]
  },
  {
   "cell_type": "markdown",
   "metadata": {},
   "source": [
    "## Read in old playlists"
   ]
  },
  {
   "cell_type": "code",
   "execution_count": 5,
   "metadata": {},
   "outputs": [],
   "source": [
    "# Read in all old playlists\n",
    "pl2018 = getPlaylistID(credentials, \"Summer 2018\")\n",
    "plt2018 = fetchTracksFromPlaylist(credentials, pl2018)\n",
    "pl2019 = getPlaylistID(credentials, \"Summer 2019\")\n",
    "plt2019 = fetchTracksFromPlaylist(credentials, pl2019)\n",
    "pl2020 = getPlaylistID(credentials, \"Endless Summer 2020\")\n",
    "plt2020 = fetchTracksFromPlaylist(credentials, pl2020)\n",
    "pl2021 = getPlaylistID(credentials, \"Endless Summer 2021\")\n",
    "plt2021 = fetchTracksFromPlaylist(credentials, pl2021)\n",
    "pl2022 = getPlaylistID(credentials, \"Endless Summer 2022\")\n",
    "plt2022 = fetchTracksFromPlaylist(credentials, pl2022)\n",
    "# Merge dfs\n",
    "allOldTracks = pd.concat([plt2018, plt2019, plt2020, plt2021, plt2022], axis=0, ignore_index=True)"
   ]
  },
  {
   "cell_type": "markdown",
   "metadata": {},
   "source": [
    "## Filter out non-qualifiers"
   ]
  },
  {
   "cell_type": "code",
   "execution_count": 36,
   "metadata": {},
   "outputs": [
    {
     "name": "stdout",
     "output_type": "stream",
     "text": [
      "704\n",
      "698\n",
      "686\n",
      "478\n"
     ]
    }
   ],
   "source": [
    "# Filter out any songs that have already appeared in old playlists\n",
    "# Based on songURI alone\n",
    "newFiltered = allNewTracks.loc[~allNewTracks['songURI'].isin(allOldTracks['songURI'])]\n",
    "print(len(newFiltered))\n",
    "# Based on artist ID + trackName, which is more exact\n",
    "allNewTracks['combined'] = allNewTracks['artistID']+allNewTracks['trackName']\n",
    "allOldTracks['combined'] = allOldTracks['artistID']+allOldTracks['trackName']\n",
    "newFiltered = newFiltered.loc[~newFiltered['combined'].isin(allOldTracks['combined'])]\n",
    "print(len(newFiltered))\n",
    "\n",
    "# Filter out any songs older than 5 years\n",
    "dateMin = datetime((datetime.today() - relativedelta(years=5)).year, 3, 17)\n",
    "newFiltered['release_date'] = pd.to_datetime(newFiltered['release_date'])\n",
    "newFiltered = newFiltered.loc[newFiltered['release_date']>dateMin].reset_index(drop=True)\n",
    "print(len(newFiltered))\n",
    "\n",
    "# Sort by frequency of artist, artist\n",
    "# Get frequency of artists in previous summers\n",
    "frequency = pd.DataFrame(sorted(Counter(allOldTracks['artistID']).items(), key=lambda x:x[1], reverse=True))\n",
    "frequency.columns = ['artistID', 'artistAppearances']\n",
    "\n",
    "# Merge with new \n",
    "newFiltered = newFiltered.merge(frequency, how='left', on='artistID')\n",
    "newFiltered['artistAppearances'] = newFiltered['artistAppearances'].fillna(0)\n",
    "\n",
    "# Sort\n",
    "newFiltered = newFiltered.sort_values(by=['artistAppearances', 'artistID', 'release_date'], ascending=False, ignore_index=True)\n",
    "\n",
    "# Drop duplicates\n",
    "newFiltered = newFiltered.drop_duplicates(subset='songURI', ignore_index=True)\n",
    "print(len(newFiltered))"
   ]
  },
  {
   "cell_type": "markdown",
   "metadata": {},
   "source": [
    "## Create new playlist"
   ]
  },
  {
   "cell_type": "code",
   "execution_count": null,
   "metadata": {},
   "outputs": [],
   "source": [
    "# Warning: This will make a new playlist\n",
    "playlistNew = getPlaylistID('2023 Cull')\n",
    "# Add songs to the playlist\n",
    "addToPlaylist(credentials, newFiltered['songURI'], playlistNew)"
   ]
  }
 ],
 "metadata": {
  "kernelspec": {
   "display_name": "Python 3.10.9 ('summerplaylist')",
   "language": "python",
   "name": "python3"
  },
  "language_info": {
   "codemirror_mode": {
    "name": "ipython",
    "version": 3
   },
   "file_extension": ".py",
   "mimetype": "text/x-python",
   "name": "python",
   "nbconvert_exporter": "python",
   "pygments_lexer": "ipython3",
   "version": "3.10.9"
  },
  "orig_nbformat": 4,
  "vscode": {
   "interpreter": {
    "hash": "e81157a0786199ab9ef170aa1943f0690c4844c55695062c7d895c198fc85648"
   }
  }
 },
 "nbformat": 4,
 "nbformat_minor": 2
}
