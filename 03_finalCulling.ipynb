{
 "cells": [
  {
   "cell_type": "markdown",
   "metadata": {},
   "source": [
    "## Configuration"
   ]
  },
  {
   "cell_type": "code",
   "execution_count": 1,
   "metadata": {},
   "outputs": [],
   "source": [
    "### Configuration\n",
    "# Import dependencies\n",
    "import os\n",
    "from collections import Counter\n",
    "from datetime import datetime\n",
    "from dateutil.relativedelta import relativedelta\n",
    "import pandas as pd\n",
    "from summerplaylist import *\n",
    "\n",
    "# Environment variables\n",
    "CLIENTID = os.environ.get('CLIENTID')\n",
    "CLIENTSECRET = os.environ.get('CLIENTSECRET')\n",
    "REDIRECT_URI = 'https://example.com/callback'"
   ]
  },
  {
   "cell_type": "markdown",
   "metadata": {},
   "source": [
    "## Log In"
   ]
  },
  {
   "cell_type": "code",
   "execution_count": 2,
   "metadata": {},
   "outputs": [
    {
     "name": "stdout",
     "output_type": "stream",
     "text": [
      "Opening browser for Spotify login...\n"
     ]
    }
   ],
   "source": [
    "# Authenticate to Spotify\n",
    "credentials = authenticateToSpotify(CLIENTID, CLIENTSECRET, REDIRECT_URI)"
   ]
  },
  {
   "cell_type": "markdown",
   "metadata": {},
   "source": [
    "## Read in current song candidates"
   ]
  },
  {
   "cell_type": "code",
   "execution_count": 3,
   "metadata": {},
   "outputs": [
    {
     "ename": "TypeError",
     "evalue": "'NoneType' object is not iterable",
     "output_type": "error",
     "traceback": [
      "\u001b[0;31m---------------------------------------------------------------------------\u001b[0m",
      "\u001b[0;31mTypeError\u001b[0m                                 Traceback (most recent call last)",
      "Cell \u001b[0;32mIn[3], line 2\u001b[0m\n\u001b[1;32m      1\u001b[0m \u001b[38;5;66;03m# Get playlist IDs\u001b[39;00m\n\u001b[0;32m----> 2\u001b[0m playlistID1 \u001b[38;5;241m=\u001b[39m \u001b[43mgetPlaylistID\u001b[49m\u001b[43m(\u001b[49m\u001b[43mcredentials\u001b[49m\u001b[43m,\u001b[49m\u001b[43m \u001b[49m\u001b[38;5;124;43m'\u001b[39;49m\u001b[38;5;124;43mSummer04 - Candidate Songs\u001b[39;49m\u001b[38;5;124;43m'\u001b[39;49m\u001b[43m)\u001b[49m\n\u001b[1;32m      3\u001b[0m \u001b[38;5;66;03m# playlistID2 = getPlaylistID(credentials, '2023 Round 2')\u001b[39;00m\n\u001b[1;32m      4\u001b[0m \n\u001b[1;32m      5\u001b[0m \u001b[38;5;66;03m# Read in CurrentYearSongCandidates playlist\u001b[39;00m\n\u001b[1;32m      6\u001b[0m playlistTracks1 \u001b[38;5;241m=\u001b[39m fetchTracksFromPlaylist(credentials, playlistID1)\n",
      "File \u001b[0;32m~/Desktop/Coding/SummerPlaylist/summerplaylist.py:265\u001b[0m, in \u001b[0;36mgetPlaylistID\u001b[0;34m(credentials, playlistName)\u001b[0m\n\u001b[1;32m    262\u001b[0m spotify, userID, user_token \u001b[38;5;241m=\u001b[39m credentials\n\u001b[1;32m    263\u001b[0m \u001b[38;5;28;01mwith\u001b[39;00m spotify\u001b[38;5;241m.\u001b[39mtoken_as(user_token):\n\u001b[1;32m    264\u001b[0m     \u001b[38;5;66;03m# Check if playlist already exists; if not create a new one\u001b[39;00m\n\u001b[0;32m--> 265\u001b[0m     userPlaylists \u001b[38;5;241m=\u001b[39m pd\u001b[38;5;241m.\u001b[39mDataFrame([{\u001b[38;5;124m'\u001b[39m\u001b[38;5;124mid\u001b[39m\u001b[38;5;124m'\u001b[39m:x\u001b[38;5;241m.\u001b[39mid, \u001b[38;5;124m'\u001b[39m\u001b[38;5;124mname\u001b[39m\u001b[38;5;124m'\u001b[39m:x\u001b[38;5;241m.\u001b[39mname} \u001b[38;5;28;01mfor\u001b[39;00m x \u001b[38;5;129;01min\u001b[39;00m \u001b[43mspotify\u001b[49m\u001b[38;5;241;43m.\u001b[39;49m\u001b[43mplaylists\u001b[49m\u001b[43m(\u001b[49m\u001b[43muserID\u001b[49m\u001b[43m,\u001b[49m\u001b[43m \u001b[49m\u001b[43mlimit\u001b[49m\u001b[38;5;241;43m=\u001b[39;49m\u001b[38;5;241;43m50\u001b[39;49m\u001b[43m)\u001b[49m\u001b[38;5;241m.\u001b[39mitems])\n\u001b[1;32m    266\u001b[0m     \u001b[38;5;28;01mif\u001b[39;00m \u001b[38;5;129;01mnot\u001b[39;00m (userPlaylists[\u001b[38;5;124m'\u001b[39m\u001b[38;5;124mname\u001b[39m\u001b[38;5;124m'\u001b[39m]\u001b[38;5;241m.\u001b[39meq(playlistName))\u001b[38;5;241m.\u001b[39many():\n\u001b[1;32m    267\u001b[0m         \u001b[38;5;66;03m# Create a playlist for the user\u001b[39;00m\n\u001b[1;32m    268\u001b[0m         newPlaylist \u001b[38;5;241m=\u001b[39m spotify\u001b[38;5;241m.\u001b[39mplaylist_create(userID, playlistName, public\u001b[38;5;241m=\u001b[39m\u001b[38;5;28;01mFalse\u001b[39;00m, description\u001b[38;5;241m=\u001b[39m\u001b[38;5;124m'\u001b[39m\u001b[38;5;124mRecent albums from new artists\u001b[39m\u001b[38;5;124m'\u001b[39m)\n",
      "File \u001b[0;32m~/opt/anaconda3/envs/summerplaylist2/lib/python3.10/site-packages/tekore/_sender/client.py:89\u001b[0m, in \u001b[0;36msend_and_process.<locals>.decorator.<locals>.wrapper\u001b[0;34m(self, *args, **kwargs)\u001b[0m\n\u001b[1;32m     86\u001b[0m     \u001b[38;5;28;01mreturn\u001b[39;00m async_send(\u001b[38;5;28mself\u001b[39m, request, params)\n\u001b[1;32m     88\u001b[0m response \u001b[38;5;241m=\u001b[39m \u001b[38;5;28mself\u001b[39m\u001b[38;5;241m.\u001b[39msend(request)\n\u001b[0;32m---> 89\u001b[0m \u001b[38;5;28;01mreturn\u001b[39;00m \u001b[43mtry_post_func\u001b[49m\u001b[43m(\u001b[49m\u001b[43mrequest\u001b[49m\u001b[43m,\u001b[49m\u001b[43m \u001b[49m\u001b[43mresponse\u001b[49m\u001b[43m,\u001b[49m\u001b[43m \u001b[49m\u001b[38;5;241;43m*\u001b[39;49m\u001b[43mparams\u001b[49m\u001b[43m)\u001b[49m\n",
      "File \u001b[0;32m~/opt/anaconda3/envs/summerplaylist2/lib/python3.10/site-packages/tekore/_sender/client.py:70\u001b[0m, in \u001b[0;36msend_and_process.<locals>.decorator.<locals>.try_post_func\u001b[0;34m(*args, **kwargs)\u001b[0m\n\u001b[1;32m     68\u001b[0m \u001b[38;5;28;01mdef\u001b[39;00m \u001b[38;5;21mtry_post_func\u001b[39m(\u001b[38;5;241m*\u001b[39margs, \u001b[38;5;241m*\u001b[39m\u001b[38;5;241m*\u001b[39mkwargs):\n\u001b[1;32m     69\u001b[0m     \u001b[38;5;28;01mtry\u001b[39;00m:\n\u001b[0;32m---> 70\u001b[0m         \u001b[38;5;28;01mreturn\u001b[39;00m \u001b[43mpost_func\u001b[49m\u001b[43m(\u001b[49m\u001b[38;5;241;43m*\u001b[39;49m\u001b[43margs\u001b[49m\u001b[43m,\u001b[49m\u001b[43m \u001b[49m\u001b[38;5;241;43m*\u001b[39;49m\u001b[38;5;241;43m*\u001b[39;49m\u001b[43mkwargs\u001b[49m\u001b[43m)\u001b[49m\n\u001b[1;32m     71\u001b[0m     \u001b[38;5;28;01mexcept\u001b[39;00m Unauthorised \u001b[38;5;28;01mas\u001b[39;00m e:\n\u001b[1;32m     72\u001b[0m         e\u001b[38;5;241m.\u001b[39mscope \u001b[38;5;241m=\u001b[39m wrapper\u001b[38;5;241m.\u001b[39mscope\n",
      "File \u001b[0;32m~/opt/anaconda3/envs/summerplaylist2/lib/python3.10/site-packages/tekore/_client/decor/__init__.py:20\u001b[0m, in \u001b[0;36msend_and_process.<locals>.parse_response\u001b[0;34m(request, response)\u001b[0m\n\u001b[1;32m     18\u001b[0m \u001b[38;5;28;01mdef\u001b[39;00m \u001b[38;5;21mparse_response\u001b[39m(request, response):\n\u001b[1;32m     19\u001b[0m     handle_errors(request, response)\n\u001b[0;32m---> 20\u001b[0m     \u001b[38;5;28;01mreturn\u001b[39;00m \u001b[43mpost_func\u001b[49m\u001b[43m(\u001b[49m\u001b[43mresponse\u001b[49m\u001b[38;5;241;43m.\u001b[39;49m\u001b[43mcontent\u001b[49m\u001b[43m)\u001b[49m\n",
      "File \u001b[0;32m~/opt/anaconda3/envs/summerplaylist2/lib/python3.10/site-packages/tekore/_client/process.py:25\u001b[0m, in \u001b[0;36msingle.<locals>.post_func\u001b[0;34m(json)\u001b[0m\n\u001b[1;32m     23\u001b[0m \u001b[38;5;28;01mdef\u001b[39;00m \u001b[38;5;21mpost_func\u001b[39m(json: \u001b[38;5;28mdict\u001b[39m):\n\u001b[1;32m     24\u001b[0m     json \u001b[38;5;241m=\u001b[39m json \u001b[38;5;28;01mif\u001b[39;00m from_item \u001b[38;5;129;01mis\u001b[39;00m \u001b[38;5;28;01mNone\u001b[39;00m \u001b[38;5;28;01melse\u001b[39;00m json[from_item]\n\u001b[0;32m---> 25\u001b[0m     \u001b[38;5;28;01mreturn\u001b[39;00m \u001b[43mtype_\u001b[49m\u001b[38;5;241;43m.\u001b[39;49m\u001b[43mfrom_kwargs\u001b[49m\u001b[43m(\u001b[49m\u001b[43mjson\u001b[49m\u001b[43m)\u001b[49m \u001b[38;5;28;01mif\u001b[39;00m json \u001b[38;5;129;01mis\u001b[39;00m \u001b[38;5;129;01mnot\u001b[39;00m \u001b[38;5;28;01mNone\u001b[39;00m \u001b[38;5;28;01melse\u001b[39;00m \u001b[38;5;28;01mNone\u001b[39;00m\n",
      "File \u001b[0;32m~/opt/anaconda3/envs/summerplaylist2/lib/python3.10/site-packages/tekore/_model/serialise.py:206\u001b[0m, in \u001b[0;36mModel.from_kwargs\u001b[0;34m(cls, kwargs)\u001b[0m\n\u001b[1;32m    203\u001b[0m     \u001b[38;5;28;01melse\u001b[39;00m:\n\u001b[1;32m    204\u001b[0m         unknown_kwargs[name] \u001b[38;5;241m=\u001b[39m val\n\u001b[0;32m--> 206\u001b[0m model \u001b[38;5;241m=\u001b[39m \u001b[38;5;28;43mcls\u001b[39;49m\u001b[43m(\u001b[49m\u001b[38;5;241;43m*\u001b[39;49m\u001b[38;5;241;43m*\u001b[39;49m\u001b[43mknown_kwargs\u001b[49m\u001b[43m)\u001b[49m\n\u001b[1;32m    208\u001b[0m \u001b[38;5;28;01mfor\u001b[39;00m name, val \u001b[38;5;129;01min\u001b[39;00m unknown_kwargs\u001b[38;5;241m.\u001b[39mitems():\n\u001b[1;32m    209\u001b[0m     \u001b[38;5;28msetattr\u001b[39m(model, name, val)\n",
      "File \u001b[0;32m<string>:10\u001b[0m, in \u001b[0;36m__init__\u001b[0;34m(self, href, items, limit, next, total, offset, previous)\u001b[0m\n",
      "File \u001b[0;32m~/opt/anaconda3/envs/summerplaylist2/lib/python3.10/site-packages/tekore/_model/playlist.py:149\u001b[0m, in \u001b[0;36mSimplePlaylistPaging.__post_init__\u001b[0;34m(self)\u001b[0m\n\u001b[1;32m    148\u001b[0m \u001b[38;5;28;01mdef\u001b[39;00m \u001b[38;5;21m__post_init__\u001b[39m(\u001b[38;5;28mself\u001b[39m):\n\u001b[0;32m--> 149\u001b[0m     \u001b[38;5;28mself\u001b[39m\u001b[38;5;241m.\u001b[39mitems \u001b[38;5;241m=\u001b[39m \u001b[43mModelList\u001b[49m\u001b[43m(\u001b[49m\u001b[43mSimplePlaylist\u001b[49m\u001b[38;5;241;43m.\u001b[39;49m\u001b[43mfrom_kwargs\u001b[49m\u001b[43m(\u001b[49m\u001b[43mp\u001b[49m\u001b[43m)\u001b[49m\u001b[43m \u001b[49m\u001b[38;5;28;43;01mfor\u001b[39;49;00m\u001b[43m \u001b[49m\u001b[43mp\u001b[49m\u001b[43m \u001b[49m\u001b[38;5;129;43;01min\u001b[39;49;00m\u001b[43m \u001b[49m\u001b[38;5;28;43mself\u001b[39;49m\u001b[38;5;241;43m.\u001b[39;49m\u001b[43mitems\u001b[49m\u001b[43m)\u001b[49m\n",
      "File \u001b[0;32m~/opt/anaconda3/envs/summerplaylist2/lib/python3.10/site-packages/tekore/_model/playlist.py:149\u001b[0m, in \u001b[0;36m<genexpr>\u001b[0;34m(.0)\u001b[0m\n\u001b[1;32m    148\u001b[0m \u001b[38;5;28;01mdef\u001b[39;00m \u001b[38;5;21m__post_init__\u001b[39m(\u001b[38;5;28mself\u001b[39m):\n\u001b[0;32m--> 149\u001b[0m     \u001b[38;5;28mself\u001b[39m\u001b[38;5;241m.\u001b[39mitems \u001b[38;5;241m=\u001b[39m ModelList(\u001b[43mSimplePlaylist\u001b[49m\u001b[38;5;241;43m.\u001b[39;49m\u001b[43mfrom_kwargs\u001b[49m\u001b[43m(\u001b[49m\u001b[43mp\u001b[49m\u001b[43m)\u001b[49m \u001b[38;5;28;01mfor\u001b[39;00m p \u001b[38;5;129;01min\u001b[39;00m \u001b[38;5;28mself\u001b[39m\u001b[38;5;241m.\u001b[39mitems)\n",
      "File \u001b[0;32m~/opt/anaconda3/envs/summerplaylist2/lib/python3.10/site-packages/tekore/_model/serialise.py:206\u001b[0m, in \u001b[0;36mModel.from_kwargs\u001b[0;34m(cls, kwargs)\u001b[0m\n\u001b[1;32m    203\u001b[0m     \u001b[38;5;28;01melse\u001b[39;00m:\n\u001b[1;32m    204\u001b[0m         unknown_kwargs[name] \u001b[38;5;241m=\u001b[39m val\n\u001b[0;32m--> 206\u001b[0m model \u001b[38;5;241m=\u001b[39m \u001b[38;5;28;43mcls\u001b[39;49m\u001b[43m(\u001b[49m\u001b[38;5;241;43m*\u001b[39;49m\u001b[38;5;241;43m*\u001b[39;49m\u001b[43mknown_kwargs\u001b[49m\u001b[43m)\u001b[49m\n\u001b[1;32m    208\u001b[0m \u001b[38;5;28;01mfor\u001b[39;00m name, val \u001b[38;5;129;01min\u001b[39;00m unknown_kwargs\u001b[38;5;241m.\u001b[39mitems():\n\u001b[1;32m    209\u001b[0m     \u001b[38;5;28msetattr\u001b[39m(model, name, val)\n",
      "File \u001b[0;32m<string>:17\u001b[0m, in \u001b[0;36m__init__\u001b[0;34m(self, id, href, type, uri, collaborative, external_urls, images, name, owner, public, snapshot_id, primary_color, description, tracks)\u001b[0m\n",
      "File \u001b[0;32m~/opt/anaconda3/envs/summerplaylist2/lib/python3.10/site-packages/tekore/_model/playlist.py:125\u001b[0m, in \u001b[0;36mSimplePlaylist.__post_init__\u001b[0;34m(self)\u001b[0m\n\u001b[1;32m    124\u001b[0m \u001b[38;5;28;01mdef\u001b[39;00m \u001b[38;5;21m__post_init__\u001b[39m(\u001b[38;5;28mself\u001b[39m):\n\u001b[0;32m--> 125\u001b[0m     \u001b[38;5;28;43msuper\u001b[39;49m\u001b[43m(\u001b[49m\u001b[43m)\u001b[49m\u001b[38;5;241;43m.\u001b[39;49m\u001b[43m__post_init__\u001b[49m\u001b[43m(\u001b[49m\u001b[43m)\u001b[49m\n\u001b[1;32m    126\u001b[0m     \u001b[38;5;28mself\u001b[39m\u001b[38;5;241m.\u001b[39mtracks \u001b[38;5;241m=\u001b[39m Tracks\u001b[38;5;241m.\u001b[39mfrom_kwargs(\u001b[38;5;28mself\u001b[39m\u001b[38;5;241m.\u001b[39mtracks)\n",
      "File \u001b[0;32m~/opt/anaconda3/envs/summerplaylist2/lib/python3.10/site-packages/tekore/_model/playlist.py:113\u001b[0m, in \u001b[0;36mPlaylist.__post_init__\u001b[0;34m(self)\u001b[0m\n\u001b[1;32m    112\u001b[0m \u001b[38;5;28;01mdef\u001b[39;00m \u001b[38;5;21m__post_init__\u001b[39m(\u001b[38;5;28mself\u001b[39m):\n\u001b[0;32m--> 113\u001b[0m     \u001b[38;5;28mself\u001b[39m\u001b[38;5;241m.\u001b[39mimages \u001b[38;5;241m=\u001b[39m ModelList(Image\u001b[38;5;241m.\u001b[39mfrom_kwargs(i) \u001b[38;5;28;01mfor\u001b[39;00m i \u001b[38;5;129;01min\u001b[39;00m \u001b[38;5;28mself\u001b[39m\u001b[38;5;241m.\u001b[39mimages)\n\u001b[1;32m    114\u001b[0m     \u001b[38;5;28;01mif\u001b[39;00m \u001b[38;5;28mself\u001b[39m\u001b[38;5;241m.\u001b[39mowner \u001b[38;5;129;01mis\u001b[39;00m \u001b[38;5;129;01mnot\u001b[39;00m \u001b[38;5;28;01mNone\u001b[39;00m:\n\u001b[1;32m    115\u001b[0m         \u001b[38;5;28mself\u001b[39m\u001b[38;5;241m.\u001b[39mowner \u001b[38;5;241m=\u001b[39m PublicUser\u001b[38;5;241m.\u001b[39mfrom_kwargs(\u001b[38;5;28mself\u001b[39m\u001b[38;5;241m.\u001b[39mowner)\n",
      "\u001b[0;31mTypeError\u001b[0m: 'NoneType' object is not iterable"
     ]
    }
   ],
   "source": [
    "# Get playlist IDs\n",
    "playlistID1 = getPlaylistID(credentials, 'Summer04 - Candidate Songs')\n",
    "# playlistID2 = getPlaylistID(credentials, '2023 Round 2')\n",
    "\n",
    "# Read in CurrentYearSongCandidates playlist\n",
    "playlistTracks1 = fetchTracksFromPlaylist(credentials, playlistID1)\n",
    "#playlistTracks2 = fetchTracksFromPlaylist(credentials, playlistID2)\n",
    "\n",
    "# Merge dfs\n",
    "#allNewTracks = pd.concat([playlistTracks1, playlistTracks2], axis=0, ignore_index=True)\n",
    "allNewTracks = playlistTracks1\n",
    "allNewTracks"
   ]
  },
  {
   "cell_type": "markdown",
   "metadata": {},
   "source": [
    "## Read in old playlists"
   ]
  },
  {
   "cell_type": "code",
   "execution_count": 5,
   "metadata": {},
   "outputs": [
    {
     "ename": "TypeError",
     "evalue": "'NoneType' object is not iterable",
     "output_type": "error",
     "traceback": [
      "\u001b[0;31m---------------------------------------------------------------------------\u001b[0m",
      "\u001b[0;31mTypeError\u001b[0m                                 Traceback (most recent call last)",
      "Cell \u001b[0;32mIn[5], line 1\u001b[0m\n\u001b[0;32m----> 1\u001b[0m pastSummersPlaylist \u001b[38;5;241m=\u001b[39m \u001b[43mgetPlaylistID\u001b[49m\u001b[43m(\u001b[49m\u001b[43mcredentials\u001b[49m\u001b[43m,\u001b[49m\u001b[43m \u001b[49m\u001b[38;5;124;43m'\u001b[39;49m\u001b[38;5;124;43mSummers - All\u001b[39;49m\u001b[38;5;124;43m'\u001b[39;49m\u001b[43m)\u001b[49m\n\u001b[1;32m      2\u001b[0m allOldTracks \u001b[38;5;241m=\u001b[39m fetchTracksFromPlaylist(credentials, pastSummersPlaylist)\n\u001b[1;32m      4\u001b[0m \u001b[38;5;66;03m# # Read in all old playlists\u001b[39;00m\n\u001b[1;32m      5\u001b[0m \u001b[38;5;66;03m# oldPlaylists = [\"Summer 2018\", \"Summer 2019\", \"Endless Summer 2020\", \"Endless Summer 2021\", \"Endless Summer 2022\", \"Endless Summer 2023\", \"Endless Summer 2024\"]\u001b[39;00m\n\u001b[1;32m      6\u001b[0m \u001b[38;5;66;03m# # Empty df to hold old songs\u001b[39;00m\n\u001b[0;32m   (...)\u001b[0m\n\u001b[1;32m     27\u001b[0m \u001b[38;5;66;03m# # Merge dfs\u001b[39;00m\n\u001b[1;32m     28\u001b[0m \u001b[38;5;66;03m# allOldTracks = pd.concat([plt2018, plt2019, plt2020, plt2021, plt2022], axis=0, ignore_index=True)\u001b[39;00m\n",
      "File \u001b[0;32m~/Desktop/Coding/SummerPlaylist/summerplaylist.py:265\u001b[0m, in \u001b[0;36mgetPlaylistID\u001b[0;34m(credentials, playlistName)\u001b[0m\n\u001b[1;32m    262\u001b[0m spotify, userID, user_token \u001b[38;5;241m=\u001b[39m credentials\n\u001b[1;32m    263\u001b[0m \u001b[38;5;28;01mwith\u001b[39;00m spotify\u001b[38;5;241m.\u001b[39mtoken_as(user_token):\n\u001b[1;32m    264\u001b[0m     \u001b[38;5;66;03m# Check if playlist already exists; if not create a new one\u001b[39;00m\n\u001b[0;32m--> 265\u001b[0m     userPlaylists \u001b[38;5;241m=\u001b[39m pd\u001b[38;5;241m.\u001b[39mDataFrame([{\u001b[38;5;124m'\u001b[39m\u001b[38;5;124mid\u001b[39m\u001b[38;5;124m'\u001b[39m:x\u001b[38;5;241m.\u001b[39mid, \u001b[38;5;124m'\u001b[39m\u001b[38;5;124mname\u001b[39m\u001b[38;5;124m'\u001b[39m:x\u001b[38;5;241m.\u001b[39mname} \u001b[38;5;28;01mfor\u001b[39;00m x \u001b[38;5;129;01min\u001b[39;00m \u001b[43mspotify\u001b[49m\u001b[38;5;241;43m.\u001b[39;49m\u001b[43mplaylists\u001b[49m\u001b[43m(\u001b[49m\u001b[43muserID\u001b[49m\u001b[43m,\u001b[49m\u001b[43m \u001b[49m\u001b[43mlimit\u001b[49m\u001b[38;5;241;43m=\u001b[39;49m\u001b[38;5;241;43m50\u001b[39;49m\u001b[43m)\u001b[49m\u001b[38;5;241m.\u001b[39mitems])\n\u001b[1;32m    266\u001b[0m     \u001b[38;5;28;01mif\u001b[39;00m \u001b[38;5;129;01mnot\u001b[39;00m (userPlaylists[\u001b[38;5;124m'\u001b[39m\u001b[38;5;124mname\u001b[39m\u001b[38;5;124m'\u001b[39m]\u001b[38;5;241m.\u001b[39meq(playlistName))\u001b[38;5;241m.\u001b[39many():\n\u001b[1;32m    267\u001b[0m         \u001b[38;5;66;03m# Create a playlist for the user\u001b[39;00m\n\u001b[1;32m    268\u001b[0m         newPlaylist \u001b[38;5;241m=\u001b[39m spotify\u001b[38;5;241m.\u001b[39mplaylist_create(userID, playlistName, public\u001b[38;5;241m=\u001b[39m\u001b[38;5;28;01mFalse\u001b[39;00m, description\u001b[38;5;241m=\u001b[39m\u001b[38;5;124m'\u001b[39m\u001b[38;5;124mRecent albums from new artists\u001b[39m\u001b[38;5;124m'\u001b[39m)\n",
      "File \u001b[0;32m~/opt/anaconda3/envs/summerplaylist/lib/python3.10/site-packages/tekore/_sender/client.py:89\u001b[0m, in \u001b[0;36msend_and_process.<locals>.decorator.<locals>.wrapper\u001b[0;34m(self, *args, **kwargs)\u001b[0m\n\u001b[1;32m     86\u001b[0m     \u001b[38;5;28;01mreturn\u001b[39;00m async_send(\u001b[38;5;28mself\u001b[39m, request, params)\n\u001b[1;32m     88\u001b[0m response \u001b[38;5;241m=\u001b[39m \u001b[38;5;28mself\u001b[39m\u001b[38;5;241m.\u001b[39msend(request)\n\u001b[0;32m---> 89\u001b[0m \u001b[38;5;28;01mreturn\u001b[39;00m \u001b[43mtry_post_func\u001b[49m\u001b[43m(\u001b[49m\u001b[43mrequest\u001b[49m\u001b[43m,\u001b[49m\u001b[43m \u001b[49m\u001b[43mresponse\u001b[49m\u001b[43m,\u001b[49m\u001b[43m \u001b[49m\u001b[38;5;241;43m*\u001b[39;49m\u001b[43mparams\u001b[49m\u001b[43m)\u001b[49m\n",
      "File \u001b[0;32m~/opt/anaconda3/envs/summerplaylist/lib/python3.10/site-packages/tekore/_sender/client.py:70\u001b[0m, in \u001b[0;36msend_and_process.<locals>.decorator.<locals>.try_post_func\u001b[0;34m(*args, **kwargs)\u001b[0m\n\u001b[1;32m     68\u001b[0m \u001b[38;5;28;01mdef\u001b[39;00m \u001b[38;5;21mtry_post_func\u001b[39m(\u001b[38;5;241m*\u001b[39margs, \u001b[38;5;241m*\u001b[39m\u001b[38;5;241m*\u001b[39mkwargs):\n\u001b[1;32m     69\u001b[0m     \u001b[38;5;28;01mtry\u001b[39;00m:\n\u001b[0;32m---> 70\u001b[0m         \u001b[38;5;28;01mreturn\u001b[39;00m \u001b[43mpost_func\u001b[49m\u001b[43m(\u001b[49m\u001b[38;5;241;43m*\u001b[39;49m\u001b[43margs\u001b[49m\u001b[43m,\u001b[49m\u001b[43m \u001b[49m\u001b[38;5;241;43m*\u001b[39;49m\u001b[38;5;241;43m*\u001b[39;49m\u001b[43mkwargs\u001b[49m\u001b[43m)\u001b[49m\n\u001b[1;32m     71\u001b[0m     \u001b[38;5;28;01mexcept\u001b[39;00m Unauthorised \u001b[38;5;28;01mas\u001b[39;00m e:\n\u001b[1;32m     72\u001b[0m         e\u001b[38;5;241m.\u001b[39mscope \u001b[38;5;241m=\u001b[39m wrapper\u001b[38;5;241m.\u001b[39mscope\n",
      "File \u001b[0;32m~/opt/anaconda3/envs/summerplaylist/lib/python3.10/site-packages/tekore/_client/decor/__init__.py:20\u001b[0m, in \u001b[0;36msend_and_process.<locals>.parse_response\u001b[0;34m(request, response)\u001b[0m\n\u001b[1;32m     18\u001b[0m \u001b[38;5;28;01mdef\u001b[39;00m \u001b[38;5;21mparse_response\u001b[39m(request, response):\n\u001b[1;32m     19\u001b[0m     handle_errors(request, response)\n\u001b[0;32m---> 20\u001b[0m     \u001b[38;5;28;01mreturn\u001b[39;00m \u001b[43mpost_func\u001b[49m\u001b[43m(\u001b[49m\u001b[43mresponse\u001b[49m\u001b[38;5;241;43m.\u001b[39;49m\u001b[43mcontent\u001b[49m\u001b[43m)\u001b[49m\n",
      "File \u001b[0;32m~/opt/anaconda3/envs/summerplaylist/lib/python3.10/site-packages/tekore/_client/process.py:25\u001b[0m, in \u001b[0;36msingle.<locals>.post_func\u001b[0;34m(json)\u001b[0m\n\u001b[1;32m     23\u001b[0m \u001b[38;5;28;01mdef\u001b[39;00m \u001b[38;5;21mpost_func\u001b[39m(json: \u001b[38;5;28mdict\u001b[39m):\n\u001b[1;32m     24\u001b[0m     json \u001b[38;5;241m=\u001b[39m json \u001b[38;5;28;01mif\u001b[39;00m from_item \u001b[38;5;129;01mis\u001b[39;00m \u001b[38;5;28;01mNone\u001b[39;00m \u001b[38;5;28;01melse\u001b[39;00m json[from_item]\n\u001b[0;32m---> 25\u001b[0m     \u001b[38;5;28;01mreturn\u001b[39;00m \u001b[43mtype_\u001b[49m\u001b[38;5;241;43m.\u001b[39;49m\u001b[43mfrom_kwargs\u001b[49m\u001b[43m(\u001b[49m\u001b[43mjson\u001b[49m\u001b[43m)\u001b[49m \u001b[38;5;28;01mif\u001b[39;00m json \u001b[38;5;129;01mis\u001b[39;00m \u001b[38;5;129;01mnot\u001b[39;00m \u001b[38;5;28;01mNone\u001b[39;00m \u001b[38;5;28;01melse\u001b[39;00m \u001b[38;5;28;01mNone\u001b[39;00m\n",
      "File \u001b[0;32m~/opt/anaconda3/envs/summerplaylist/lib/python3.10/site-packages/tekore/_model/serialise.py:206\u001b[0m, in \u001b[0;36mModel.from_kwargs\u001b[0;34m(cls, kwargs)\u001b[0m\n\u001b[1;32m    203\u001b[0m     \u001b[38;5;28;01melse\u001b[39;00m:\n\u001b[1;32m    204\u001b[0m         unknown_kwargs[name] \u001b[38;5;241m=\u001b[39m val\n\u001b[0;32m--> 206\u001b[0m model \u001b[38;5;241m=\u001b[39m \u001b[38;5;28;43mcls\u001b[39;49m\u001b[43m(\u001b[49m\u001b[38;5;241;43m*\u001b[39;49m\u001b[38;5;241;43m*\u001b[39;49m\u001b[43mknown_kwargs\u001b[49m\u001b[43m)\u001b[49m\n\u001b[1;32m    208\u001b[0m \u001b[38;5;28;01mfor\u001b[39;00m name, val \u001b[38;5;129;01min\u001b[39;00m unknown_kwargs\u001b[38;5;241m.\u001b[39mitems():\n\u001b[1;32m    209\u001b[0m     \u001b[38;5;28msetattr\u001b[39m(model, name, val)\n",
      "File \u001b[0;32m<string>:10\u001b[0m, in \u001b[0;36m__init__\u001b[0;34m(self, href, items, limit, next, total, offset, previous)\u001b[0m\n",
      "File \u001b[0;32m~/opt/anaconda3/envs/summerplaylist/lib/python3.10/site-packages/tekore/_model/playlist.py:149\u001b[0m, in \u001b[0;36mSimplePlaylistPaging.__post_init__\u001b[0;34m(self)\u001b[0m\n\u001b[1;32m    148\u001b[0m \u001b[38;5;28;01mdef\u001b[39;00m \u001b[38;5;21m__post_init__\u001b[39m(\u001b[38;5;28mself\u001b[39m):\n\u001b[0;32m--> 149\u001b[0m     \u001b[38;5;28mself\u001b[39m\u001b[38;5;241m.\u001b[39mitems \u001b[38;5;241m=\u001b[39m \u001b[43mModelList\u001b[49m\u001b[43m(\u001b[49m\u001b[43mSimplePlaylist\u001b[49m\u001b[38;5;241;43m.\u001b[39;49m\u001b[43mfrom_kwargs\u001b[49m\u001b[43m(\u001b[49m\u001b[43mp\u001b[49m\u001b[43m)\u001b[49m\u001b[43m \u001b[49m\u001b[38;5;28;43;01mfor\u001b[39;49;00m\u001b[43m \u001b[49m\u001b[43mp\u001b[49m\u001b[43m \u001b[49m\u001b[38;5;129;43;01min\u001b[39;49;00m\u001b[43m \u001b[49m\u001b[38;5;28;43mself\u001b[39;49m\u001b[38;5;241;43m.\u001b[39;49m\u001b[43mitems\u001b[49m\u001b[43m)\u001b[49m\n",
      "File \u001b[0;32m~/opt/anaconda3/envs/summerplaylist/lib/python3.10/site-packages/tekore/_model/playlist.py:149\u001b[0m, in \u001b[0;36m<genexpr>\u001b[0;34m(.0)\u001b[0m\n\u001b[1;32m    148\u001b[0m \u001b[38;5;28;01mdef\u001b[39;00m \u001b[38;5;21m__post_init__\u001b[39m(\u001b[38;5;28mself\u001b[39m):\n\u001b[0;32m--> 149\u001b[0m     \u001b[38;5;28mself\u001b[39m\u001b[38;5;241m.\u001b[39mitems \u001b[38;5;241m=\u001b[39m ModelList(\u001b[43mSimplePlaylist\u001b[49m\u001b[38;5;241;43m.\u001b[39;49m\u001b[43mfrom_kwargs\u001b[49m\u001b[43m(\u001b[49m\u001b[43mp\u001b[49m\u001b[43m)\u001b[49m \u001b[38;5;28;01mfor\u001b[39;00m p \u001b[38;5;129;01min\u001b[39;00m \u001b[38;5;28mself\u001b[39m\u001b[38;5;241m.\u001b[39mitems)\n",
      "File \u001b[0;32m~/opt/anaconda3/envs/summerplaylist/lib/python3.10/site-packages/tekore/_model/serialise.py:206\u001b[0m, in \u001b[0;36mModel.from_kwargs\u001b[0;34m(cls, kwargs)\u001b[0m\n\u001b[1;32m    203\u001b[0m     \u001b[38;5;28;01melse\u001b[39;00m:\n\u001b[1;32m    204\u001b[0m         unknown_kwargs[name] \u001b[38;5;241m=\u001b[39m val\n\u001b[0;32m--> 206\u001b[0m model \u001b[38;5;241m=\u001b[39m \u001b[38;5;28;43mcls\u001b[39;49m\u001b[43m(\u001b[49m\u001b[38;5;241;43m*\u001b[39;49m\u001b[38;5;241;43m*\u001b[39;49m\u001b[43mknown_kwargs\u001b[49m\u001b[43m)\u001b[49m\n\u001b[1;32m    208\u001b[0m \u001b[38;5;28;01mfor\u001b[39;00m name, val \u001b[38;5;129;01min\u001b[39;00m unknown_kwargs\u001b[38;5;241m.\u001b[39mitems():\n\u001b[1;32m    209\u001b[0m     \u001b[38;5;28msetattr\u001b[39m(model, name, val)\n",
      "File \u001b[0;32m<string>:17\u001b[0m, in \u001b[0;36m__init__\u001b[0;34m(self, id, href, type, uri, collaborative, external_urls, images, name, owner, public, snapshot_id, primary_color, description, tracks)\u001b[0m\n",
      "File \u001b[0;32m~/opt/anaconda3/envs/summerplaylist/lib/python3.10/site-packages/tekore/_model/playlist.py:125\u001b[0m, in \u001b[0;36mSimplePlaylist.__post_init__\u001b[0;34m(self)\u001b[0m\n\u001b[1;32m    124\u001b[0m \u001b[38;5;28;01mdef\u001b[39;00m \u001b[38;5;21m__post_init__\u001b[39m(\u001b[38;5;28mself\u001b[39m):\n\u001b[0;32m--> 125\u001b[0m     \u001b[38;5;28;43msuper\u001b[39;49m\u001b[43m(\u001b[49m\u001b[43m)\u001b[49m\u001b[38;5;241;43m.\u001b[39;49m\u001b[43m__post_init__\u001b[49m\u001b[43m(\u001b[49m\u001b[43m)\u001b[49m\n\u001b[1;32m    126\u001b[0m     \u001b[38;5;28mself\u001b[39m\u001b[38;5;241m.\u001b[39mtracks \u001b[38;5;241m=\u001b[39m Tracks\u001b[38;5;241m.\u001b[39mfrom_kwargs(\u001b[38;5;28mself\u001b[39m\u001b[38;5;241m.\u001b[39mtracks)\n",
      "File \u001b[0;32m~/opt/anaconda3/envs/summerplaylist/lib/python3.10/site-packages/tekore/_model/playlist.py:113\u001b[0m, in \u001b[0;36mPlaylist.__post_init__\u001b[0;34m(self)\u001b[0m\n\u001b[1;32m    112\u001b[0m \u001b[38;5;28;01mdef\u001b[39;00m \u001b[38;5;21m__post_init__\u001b[39m(\u001b[38;5;28mself\u001b[39m):\n\u001b[0;32m--> 113\u001b[0m     \u001b[38;5;28mself\u001b[39m\u001b[38;5;241m.\u001b[39mimages \u001b[38;5;241m=\u001b[39m ModelList(Image\u001b[38;5;241m.\u001b[39mfrom_kwargs(i) \u001b[38;5;28;01mfor\u001b[39;00m i \u001b[38;5;129;01min\u001b[39;00m \u001b[38;5;28mself\u001b[39m\u001b[38;5;241m.\u001b[39mimages)\n\u001b[1;32m    114\u001b[0m     \u001b[38;5;28;01mif\u001b[39;00m \u001b[38;5;28mself\u001b[39m\u001b[38;5;241m.\u001b[39mowner \u001b[38;5;129;01mis\u001b[39;00m \u001b[38;5;129;01mnot\u001b[39;00m \u001b[38;5;28;01mNone\u001b[39;00m:\n\u001b[1;32m    115\u001b[0m         \u001b[38;5;28mself\u001b[39m\u001b[38;5;241m.\u001b[39mowner \u001b[38;5;241m=\u001b[39m PublicUser\u001b[38;5;241m.\u001b[39mfrom_kwargs(\u001b[38;5;28mself\u001b[39m\u001b[38;5;241m.\u001b[39mowner)\n",
      "\u001b[0;31mTypeError\u001b[0m: 'NoneType' object is not iterable"
     ]
    }
   ],
   "source": [
    "pastSummersPlaylist = getPlaylistID(credentials, 'Summers - All')\n",
    "allOldTracks = fetchTracksFromPlaylist(credentials, pastSummersPlaylist)\n",
    "\n",
    "# # Read in all old playlists\n",
    "# oldPlaylists = [\"Summer 2018\", \"Summer 2019\", \"Endless Summer 2020\", \"Endless Summer 2021\", \"Endless Summer 2022\", \"Endless Summer 2023\", \"Endless Summer 2024\"]\n",
    "# # Empty df to hold old songs\n",
    "# allOldTracks = pd.DataFrame()\n",
    "# # Loop through playlists\n",
    "# for playlist in oldPlaylists:\n",
    "#     # Get playlist ID\n",
    "#     playlist_givenYear = getPlaylistID(credentials, playlist)\n",
    "#     # Get tracks from that playlist\n",
    "#     playlistTracks_givenYear = fetchTracksFromPlaylist(credentials, playlist_givenYear)\n",
    "#     # Append to df\n",
    "#     allOldTracks = pd.concat([allOldTracks, playlistTracks_givenYear], axis=0, ignore_index=True)\n",
    "# allOldTracks\n",
    "# pl2018 = getPlaylistID(credentials, \"Summer 2018\")\n",
    "# plt2018 = fetchTracksFromPlaylist(credentials, pl2018)\n",
    "# pl2019 = getPlaylistID(credentials, \"Summer 2019\")\n",
    "# plt2019 = fetchTracksFromPlaylist(credentials, pl2019)\n",
    "# pl2020 = getPlaylistID(credentials, \"Endless Summer 2020\")\n",
    "# plt2020 = fetchTracksFromPlaylist(credentials, pl2020)\n",
    "# pl2021 = getPlaylistID(credentials, \"Endless Summer 2021\")\n",
    "# plt2021 = fetchTracksFromPlaylist(credentials, pl2021)\n",
    "# pl2022 = getPlaylistID(credentials, \"Endless Summer 2022\")\n",
    "# plt2022 = fetchTracksFromPlaylist(credentials, pl2022)\n",
    "# # Merge dfs\n",
    "# allOldTracks = pd.concat([plt2018, plt2019, plt2020, plt2021, plt2022], axis=0, ignore_index=True)"
   ]
  },
  {
   "cell_type": "markdown",
   "metadata": {},
   "source": [
    "## Filter out non-qualifiers"
   ]
  },
  {
   "cell_type": "code",
   "execution_count": 5,
   "metadata": {},
   "outputs": [
    {
     "name": "stdout",
     "output_type": "stream",
     "text": [
      "879\n",
      "875\n",
      "872\n",
      "657\n"
     ]
    }
   ],
   "source": [
    "# Filter out any songs that have already appeared in old playlists\n",
    "# Based on songURI alone\n",
    "newFiltered = allNewTracks.loc[~allNewTracks['songURI'].isin(allOldTracks['songURI'])]\n",
    "print(len(newFiltered))\n",
    "# Based on artist ID + trackName, which is more exact\n",
    "newFiltered['combined'] = newFiltered['artistID']+newFiltered['songName']\n",
    "allOldTracks['combined'] = allOldTracks['artistID']+allOldTracks['songName']\n",
    "newFiltered = newFiltered.loc[~newFiltered['combined'].isin(allOldTracks['combined'])]\n",
    "print(len(newFiltered))\n",
    "\n",
    "# Filter out any songs older than 5 years\n",
    "dateMin = datetime((datetime.today() - relativedelta(years=5)).year, 3, 17)\n",
    "newFiltered['release_date'] = pd.to_datetime(newFiltered['release_date'])\n",
    "newFiltered = newFiltered.loc[newFiltered['release_date']>dateMin].reset_index(drop=True)\n",
    "print(len(newFiltered))\n",
    "\n",
    "# Sort by frequency of artist, artist\n",
    "# Get frequency of artists in previous summers\n",
    "frequency = pd.DataFrame(sorted(Counter(allOldTracks['artistID']).items(), key=lambda x:x[1], reverse=True))\n",
    "frequency.columns = ['artistID', 'artistAppearances']\n",
    "\n",
    "# Merge with new \n",
    "newFiltered = newFiltered.merge(frequency, how='left', on='artistID')\n",
    "newFiltered['artistAppearances'] = newFiltered['artistAppearances'].fillna(0)\n",
    "\n",
    "# Sort\n",
    "newFiltered = newFiltered.sort_values(by=['artistAppearances', 'artistID', 'release_date'], ascending=False, ignore_index=True)\n",
    "\n",
    "# Drop duplicates\n",
    "newFiltered = newFiltered.drop_duplicates(subset='songURI', ignore_index=True)\n",
    "newFiltered = newFiltered.drop_duplicates(subset=['artistID', 'songName'], ignore_index=True)\n",
    "print(len(newFiltered))"
   ]
  },
  {
   "cell_type": "markdown",
   "metadata": {},
   "source": [
    "## Create new playlist"
   ]
  },
  {
   "cell_type": "code",
   "execution_count": null,
   "metadata": {},
   "outputs": [],
   "source": [
    "# Warning: This will make a new playlist\n",
    "playlistNew = getPlaylistID(credentials, 'Summer06 - Candidate Songs 2')\n",
    "# Add songs to the playlist\n",
    "addToPlaylist(credentials, newFiltered['songURI'].to_list(), playlistNew)"
   ]
  },
  {
   "cell_type": "markdown",
   "metadata": {},
   "source": [
    "# Create playlist buckets to hold songs that are being selected"
   ]
  },
  {
   "cell_type": "code",
   "execution_count": 1,
   "metadata": {},
   "outputs": [
    {
     "ename": "NameError",
     "evalue": "name 'getPlaylistID' is not defined",
     "output_type": "error",
     "traceback": [
      "\u001b[0;31m---------------------------------------------------------------------------\u001b[0m",
      "\u001b[0;31mNameError\u001b[0m                                 Traceback (most recent call last)",
      "Cell \u001b[0;32mIn[1], line 2\u001b[0m\n\u001b[1;32m      1\u001b[0m \u001b[38;5;66;03m# Warning: This will make a new playlist\u001b[39;00m\n\u001b[0;32m----> 2\u001b[0m playlist10 \u001b[38;5;241m=\u001b[39m \u001b[43mgetPlaylistID\u001b[49m(credentials, \u001b[38;5;124m'\u001b[39m\u001b[38;5;124mSummer - Top 10 Candidates\u001b[39m\u001b[38;5;124m'\u001b[39m)\n\u001b[1;32m      3\u001b[0m playlist100 \u001b[38;5;241m=\u001b[39m getPlaylistID(credentials, \u001b[38;5;124m'\u001b[39m\u001b[38;5;124mSummer - Top 100 Candidates\u001b[39m\u001b[38;5;124m'\u001b[39m)\n\u001b[1;32m      4\u001b[0m playlist300 \u001b[38;5;241m=\u001b[39m getPlaylistID(credentials, \u001b[38;5;124m'\u001b[39m\u001b[38;5;124mSummer - Top 300 Candidates\u001b[39m\u001b[38;5;124m'\u001b[39m)\n",
      "\u001b[0;31mNameError\u001b[0m: name 'getPlaylistID' is not defined"
     ]
    }
   ],
   "source": [
    "# Warning: This will make a new playlist\n",
    "playlist10 = getPlaylistID(credentials, 'Summer - Top 10 Candidates')\n",
    "playlist100 = getPlaylistID(credentials, 'Summer - Top 100 Candidates')\n",
    "playlist300 = getPlaylistID(credentials, 'Summer - Top 300 Candidates')\n",
    "playlist500 = getPlaylistID(credentials, 'Summer - Top 500 Candidates')"
   ]
  },
  {
   "cell_type": "code",
   "execution_count": null,
   "metadata": {},
   "outputs": [],
   "source": []
  }
 ],
 "metadata": {
  "kernelspec": {
   "display_name": "summerplaylist2",
   "language": "python",
   "name": "python3"
  },
  "language_info": {
   "codemirror_mode": {
    "name": "ipython",
    "version": 3
   },
   "file_extension": ".py",
   "mimetype": "text/x-python",
   "name": "python",
   "nbconvert_exporter": "python",
   "pygments_lexer": "ipython3",
   "version": "3.10.9"
  },
  "orig_nbformat": 4
 },
 "nbformat": 4,
 "nbformat_minor": 2
}
