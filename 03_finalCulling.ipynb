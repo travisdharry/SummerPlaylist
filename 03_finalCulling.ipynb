{
 "cells": [
  {
   "cell_type": "markdown",
   "metadata": {},
   "source": [
    "## Configuration"
   ]
  },
  {
   "cell_type": "code",
   "execution_count": 37,
   "metadata": {},
   "outputs": [],
   "source": [
    "### Configuration\n",
    "# Import dependencies\n",
    "import os\n",
    "from collections import Counter\n",
    "from datetime import datetime\n",
    "from dateutil.relativedelta import relativedelta\n",
    "import pandas as pd\n",
    "from summerplaylist import *\n",
    "\n",
    "# Environment variables\n",
    "CLIENTID = os.environ.get('CLIENTID')\n",
    "CLIENTSECRET = os.environ.get('CLIENTSECRET')\n",
    "REDIRECT_URI = 'https://example.com/callback'"
   ]
  },
  {
   "cell_type": "markdown",
   "metadata": {},
   "source": [
    "## Log In"
   ]
  },
  {
   "cell_type": "code",
   "execution_count": 38,
   "metadata": {},
   "outputs": [
    {
     "name": "stdout",
     "output_type": "stream",
     "text": [
      "Opening browser for Spotify login...\n"
     ]
    }
   ],
   "source": [
    "# Authenticate to Spotify\n",
    "credentials = authenticateToSpotify(CLIENTID, CLIENTSECRET, REDIRECT_URI)"
   ]
  },
  {
   "cell_type": "markdown",
   "metadata": {},
   "source": [
    "## Read in current song candidates"
   ]
  },
  {
   "cell_type": "code",
   "execution_count": 67,
   "metadata": {},
   "outputs": [
    {
     "data": {
      "text/html": [
       "<div>\n",
       "<style scoped>\n",
       "    .dataframe tbody tr th:only-of-type {\n",
       "        vertical-align: middle;\n",
       "    }\n",
       "\n",
       "    .dataframe tbody tr th {\n",
       "        vertical-align: top;\n",
       "    }\n",
       "\n",
       "    .dataframe thead th {\n",
       "        text-align: right;\n",
       "    }\n",
       "</style>\n",
       "<table border=\"1\" class=\"dataframe\">\n",
       "  <thead>\n",
       "    <tr style=\"text-align: right;\">\n",
       "      <th></th>\n",
       "      <th>artistName</th>\n",
       "      <th>artistID</th>\n",
       "      <th>trackName</th>\n",
       "      <th>release_date</th>\n",
       "      <th>songURI</th>\n",
       "    </tr>\n",
       "  </thead>\n",
       "  <tbody>\n",
       "    <tr>\n",
       "      <th>0</th>\n",
       "      <td>070 Shake</td>\n",
       "      <td>12Zk1DFhCbHY6v3xep2ZjI</td>\n",
       "      <td>Skin and Bones</td>\n",
       "      <td>2022-06-03</td>\n",
       "      <td>spotify:track:4CZgQq8KJYWGh1bM3sqGmd</td>\n",
       "    </tr>\n",
       "    <tr>\n",
       "      <th>1</th>\n",
       "      <td>070 Shake</td>\n",
       "      <td>12Zk1DFhCbHY6v3xep2ZjI</td>\n",
       "      <td>Wine &amp; Spirits</td>\n",
       "      <td>2022-06-03</td>\n",
       "      <td>spotify:track:02iwkyyf6rSZPAe0NQOcjL</td>\n",
       "    </tr>\n",
       "    <tr>\n",
       "      <th>2</th>\n",
       "      <td>070 Shake</td>\n",
       "      <td>12Zk1DFhCbHY6v3xep2ZjI</td>\n",
       "      <td>Come Back Home</td>\n",
       "      <td>2022-06-03</td>\n",
       "      <td>spotify:track:1jiOVoiDZdtHiaF5W9XqWN</td>\n",
       "    </tr>\n",
       "    <tr>\n",
       "      <th>3</th>\n",
       "      <td>Pluralone</td>\n",
       "      <td>5jQsMNuCW0iZeFTz6YUK8K</td>\n",
       "      <td>Claw Your Way Out</td>\n",
       "      <td>2022-01-27</td>\n",
       "      <td>spotify:track:3HjohYDsYZg2KLhYjto8Hq</td>\n",
       "    </tr>\n",
       "    <tr>\n",
       "      <th>4</th>\n",
       "      <td>Ruby Red</td>\n",
       "      <td>2f0NSj1t2L6JowHINXCFb6</td>\n",
       "      <td>No Feeling Is Forever</td>\n",
       "      <td>2022-06-10</td>\n",
       "      <td>spotify:track:68V71NzNC6GRaCaE9S8bcO</td>\n",
       "    </tr>\n",
       "    <tr>\n",
       "      <th>...</th>\n",
       "      <td>...</td>\n",
       "      <td>...</td>\n",
       "      <td>...</td>\n",
       "      <td>...</td>\n",
       "      <td>...</td>\n",
       "    </tr>\n",
       "    <tr>\n",
       "      <th>802</th>\n",
       "      <td>Herencia de Patrones</td>\n",
       "      <td>1Q6SZxTvaE3HhslV0iXbI6</td>\n",
       "      <td>Brinco En Accion</td>\n",
       "      <td>2022-08-05</td>\n",
       "      <td>spotify:track:3cVBrj8wiMydmzwmqy9du8</td>\n",
       "    </tr>\n",
       "    <tr>\n",
       "      <th>803</th>\n",
       "      <td>Twiddle</td>\n",
       "      <td>0hNjIdUHXWhd0dilzi6c12</td>\n",
       "      <td>Beautiful</td>\n",
       "      <td>2022-08-12</td>\n",
       "      <td>spotify:track:4hGypxSXjK9uc3ZwrVr7Lf</td>\n",
       "    </tr>\n",
       "    <tr>\n",
       "      <th>804</th>\n",
       "      <td>Twiddle</td>\n",
       "      <td>0hNjIdUHXWhd0dilzi6c12</td>\n",
       "      <td>Distance Makes The Heart</td>\n",
       "      <td>2022-08-12</td>\n",
       "      <td>spotify:track:052VxI8Pg4kCOhdJLk60Cb</td>\n",
       "    </tr>\n",
       "    <tr>\n",
       "      <th>805</th>\n",
       "      <td>Anders Beck</td>\n",
       "      <td>12GKG5x2TgNA1zZzigrvtu</td>\n",
       "      <td>Distance Makes The Heart</td>\n",
       "      <td>2022-08-12</td>\n",
       "      <td>spotify:track:052VxI8Pg4kCOhdJLk60Cb</td>\n",
       "    </tr>\n",
       "    <tr>\n",
       "      <th>806</th>\n",
       "      <td>Twiddle</td>\n",
       "      <td>0hNjIdUHXWhd0dilzi6c12</td>\n",
       "      <td>River Drift</td>\n",
       "      <td>2022-08-12</td>\n",
       "      <td>spotify:track:2J0OYmQ5NcKHEFeDRqsVh2</td>\n",
       "    </tr>\n",
       "  </tbody>\n",
       "</table>\n",
       "<p>807 rows × 5 columns</p>\n",
       "</div>"
      ],
      "text/plain": [
       "               artistName                artistID                 trackName  \\\n",
       "0               070 Shake  12Zk1DFhCbHY6v3xep2ZjI            Skin and Bones   \n",
       "1               070 Shake  12Zk1DFhCbHY6v3xep2ZjI            Wine & Spirits   \n",
       "2               070 Shake  12Zk1DFhCbHY6v3xep2ZjI            Come Back Home   \n",
       "3               Pluralone  5jQsMNuCW0iZeFTz6YUK8K         Claw Your Way Out   \n",
       "4                Ruby Red  2f0NSj1t2L6JowHINXCFb6     No Feeling Is Forever   \n",
       "..                    ...                     ...                       ...   \n",
       "802  Herencia de Patrones  1Q6SZxTvaE3HhslV0iXbI6          Brinco En Accion   \n",
       "803               Twiddle  0hNjIdUHXWhd0dilzi6c12                 Beautiful   \n",
       "804               Twiddle  0hNjIdUHXWhd0dilzi6c12  Distance Makes The Heart   \n",
       "805           Anders Beck  12GKG5x2TgNA1zZzigrvtu  Distance Makes The Heart   \n",
       "806               Twiddle  0hNjIdUHXWhd0dilzi6c12               River Drift   \n",
       "\n",
       "    release_date                               songURI  \n",
       "0     2022-06-03  spotify:track:4CZgQq8KJYWGh1bM3sqGmd  \n",
       "1     2022-06-03  spotify:track:02iwkyyf6rSZPAe0NQOcjL  \n",
       "2     2022-06-03  spotify:track:1jiOVoiDZdtHiaF5W9XqWN  \n",
       "3     2022-01-27  spotify:track:3HjohYDsYZg2KLhYjto8Hq  \n",
       "4     2022-06-10  spotify:track:68V71NzNC6GRaCaE9S8bcO  \n",
       "..           ...                                   ...  \n",
       "802   2022-08-05  spotify:track:3cVBrj8wiMydmzwmqy9du8  \n",
       "803   2022-08-12  spotify:track:4hGypxSXjK9uc3ZwrVr7Lf  \n",
       "804   2022-08-12  spotify:track:052VxI8Pg4kCOhdJLk60Cb  \n",
       "805   2022-08-12  spotify:track:052VxI8Pg4kCOhdJLk60Cb  \n",
       "806   2022-08-12  spotify:track:2J0OYmQ5NcKHEFeDRqsVh2  \n",
       "\n",
       "[807 rows x 5 columns]"
      ]
     },
     "execution_count": 67,
     "metadata": {},
     "output_type": "execute_result"
    }
   ],
   "source": [
    "# Get playlist IDs\n",
    "playlistID1 = getPlaylistID(credentials, '2023')\n",
    "playlistID2 = getPlaylistID(credentials, '2023 Round 2')\n",
    "\n",
    "# Read in CurrentYearSongCandidates playlist\n",
    "playlistTracks1 = fetchTracksFromPlaylist(credentials, playlistID1)\n",
    "playlistTracks2 = fetchTracksFromPlaylist(credentials, playlistID2)\n",
    "# Merge dfs\n",
    "allNewTracks = pd.concat([playlistTracks1, playlistTracks2], axis=0, ignore_index=True)\n",
    "allNewTracks"
   ]
  },
  {
   "cell_type": "markdown",
   "metadata": {},
   "source": [
    "## Read in old playlists"
   ]
  },
  {
   "cell_type": "code",
   "execution_count": 68,
   "metadata": {},
   "outputs": [],
   "source": [
    "# Read in all old playlists\n",
    "pl2018 = getPlaylistID(credentials, \"Summer 2018\")\n",
    "plt2018 = fetchTracksFromPlaylist(credentials, pl2018)\n",
    "pl2019 = getPlaylistID(credentials, \"Summer 2019\")\n",
    "plt2019 = fetchTracksFromPlaylist(credentials, pl2019)\n",
    "pl2020 = getPlaylistID(credentials, \"Endless Summer 2020\")\n",
    "plt2020 = fetchTracksFromPlaylist(credentials, pl2020)\n",
    "pl2021 = getPlaylistID(credentials, \"Endless Summer 2021\")\n",
    "plt2021 = fetchTracksFromPlaylist(credentials, pl2021)\n",
    "pl2022 = getPlaylistID(credentials, \"Endless Summer 2022\")\n",
    "plt2022 = fetchTracksFromPlaylist(credentials, pl2022)\n",
    "# Merge dfs\n",
    "allOldTracks = pd.concat([plt2018, plt2019, plt2020, plt2021, plt2022], axis=0, ignore_index=True)"
   ]
  },
  {
   "cell_type": "markdown",
   "metadata": {},
   "source": [
    "## Filter out non-qualifiers"
   ]
  },
  {
   "cell_type": "code",
   "execution_count": 69,
   "metadata": {},
   "outputs": [
    {
     "name": "stdout",
     "output_type": "stream",
     "text": [
      "803\n",
      "797\n",
      "785\n",
      "531\n"
     ]
    },
    {
     "name": "stderr",
     "output_type": "stream",
     "text": [
      "/var/folders/ss/nt9sccdn5w91sbtr85gybrnm0000gn/T/ipykernel_43637/2846254092.py:6: SettingWithCopyWarning: \n",
      "A value is trying to be set on a copy of a slice from a DataFrame.\n",
      "Try using .loc[row_indexer,col_indexer] = value instead\n",
      "\n",
      "See the caveats in the documentation: https://pandas.pydata.org/pandas-docs/stable/user_guide/indexing.html#returning-a-view-versus-a-copy\n",
      "  newFiltered['combined'] = newFiltered['artistID']+newFiltered['trackName']\n"
     ]
    }
   ],
   "source": [
    "# Filter out any songs that have already appeared in old playlists\n",
    "# Based on songURI alone\n",
    "newFiltered = allNewTracks.loc[~allNewTracks['songURI'].isin(allOldTracks['songURI'])]\n",
    "print(len(newFiltered))\n",
    "# Based on artist ID + trackName, which is more exact\n",
    "newFiltered['combined'] = newFiltered['artistID']+newFiltered['songName']\n",
    "allOldTracks['combined'] = allOldTracks['artistID']+allOldTracks['songName']\n",
    "newFiltered = newFiltered.loc[~newFiltered['combined'].isin(allOldTracks['combined'])]\n",
    "print(len(newFiltered))\n",
    "\n",
    "# Filter out any songs older than 5 years\n",
    "dateMin = datetime((datetime.today() - relativedelta(years=5)).year, 3, 17)\n",
    "newFiltered['release_date'] = pd.to_datetime(newFiltered['release_date'])\n",
    "newFiltered = newFiltered.loc[newFiltered['release_date']>dateMin].reset_index(drop=True)\n",
    "print(len(newFiltered))\n",
    "\n",
    "# Sort by frequency of artist, artist\n",
    "# Get frequency of artists in previous summers\n",
    "frequency = pd.DataFrame(sorted(Counter(allOldTracks['artistID']).items(), key=lambda x:x[1], reverse=True))\n",
    "frequency.columns = ['artistID', 'artistAppearances']\n",
    "\n",
    "# Merge with new \n",
    "newFiltered = newFiltered.merge(frequency, how='left', on='artistID')\n",
    "newFiltered['artistAppearances'] = newFiltered['artistAppearances'].fillna(0)\n",
    "\n",
    "# Sort\n",
    "newFiltered = newFiltered.sort_values(by=['artistAppearances', 'artistID', 'release_date'], ascending=False, ignore_index=True)\n",
    "\n",
    "# Drop duplicates\n",
    "newFiltered = newFiltered.drop_duplicates(subset='songURI', ignore_index=True)\n",
    "newFiltered = newFiltered.drop_duplicates(subset=['artistID', 'songName'], ignore_index=True)\n",
    "print(len(newFiltered))"
   ]
  },
  {
   "cell_type": "markdown",
   "metadata": {},
   "source": [
    "## Create new playlist"
   ]
  },
  {
   "cell_type": "code",
   "execution_count": 70,
   "metadata": {},
   "outputs": [],
   "source": [
    "# Warning: This will make a new playlist\n",
    "playlistNew = getPlaylistID(credentials, '2023 Cull')\n",
    "# Add songs to the playlist\n",
    "addToPlaylist(credentials, newFiltered['songURI'].to_list(), playlistNew)"
   ]
  },
  {
   "cell_type": "code",
   "execution_count": null,
   "metadata": {},
   "outputs": [],
   "source": []
  },
  {
   "cell_type": "code",
   "execution_count": null,
   "metadata": {},
   "outputs": [],
   "source": []
  }
 ],
 "metadata": {
  "kernelspec": {
   "display_name": "Python 3.10.9 ('summerplaylist')",
   "language": "python",
   "name": "python3"
  },
  "language_info": {
   "codemirror_mode": {
    "name": "ipython",
    "version": 3
   },
   "file_extension": ".py",
   "mimetype": "text/x-python",
   "name": "python",
   "nbconvert_exporter": "python",
   "pygments_lexer": "ipython3",
   "version": "3.10.9"
  },
  "orig_nbformat": 4,
  "vscode": {
   "interpreter": {
    "hash": "e81157a0786199ab9ef170aa1943f0690c4844c55695062c7d895c198fc85648"
   }
  }
 },
 "nbformat": 4,
 "nbformat_minor": 2
}
