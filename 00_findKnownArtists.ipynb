{
 "cells": [
  {
   "cell_type": "markdown",
   "metadata": {},
   "source": [
    "## Configuration"
   ]
  },
  {
   "cell_type": "code",
   "execution_count": 12,
   "metadata": {},
   "outputs": [],
   "source": [
    "### Configuration\n",
    "# Dependencies\n",
    "import os\n",
    "import pandas as pd\n",
    "import numpy as np\n",
    "from summerplaylist import *\n",
    "from datetime import date\n",
    "\n",
    "# Environment variables\n",
    "CLIENTID = os.environ.get('CLIENTID')\n",
    "CLIENTSECRET = os.environ.get('CLIENTSECRET')\n",
    "REDIRECT_URI = 'https://example.com/callback'\n",
    "\n",
    "# Old Playlists\n",
    "playlistsOld = [\n",
    "    'Summer 2018',\n",
    "    'Summer 2019',\n",
    "    'Endless Summer 2020',\n",
    "    'Endless Summer 2021',\n",
    "    'Endless Summer 2022',\n",
    "    'Endless Summer 2023'\n",
    "]\n",
    "\n",
    "# Filepaths\n",
    "artistsKnownPath = os.path.join('data', 'artistsKnown.csv')\n",
    "artistsHistoricalPath = os.path.join('data', 'artistsHistorical.csv')"
   ]
  },
  {
   "cell_type": "markdown",
   "metadata": {},
   "source": [
    "## Log In"
   ]
  },
  {
   "cell_type": "code",
   "execution_count": 2,
   "metadata": {},
   "outputs": [
    {
     "name": "stdout",
     "output_type": "stream",
     "text": [
      "Opening browser for Spotify login...\n"
     ]
    }
   ],
   "source": [
    "# Authenticate to Spotify\n",
    "credentials = authenticateToSpotify(CLIENTID, CLIENTSECRET, REDIRECT_URI)"
   ]
  },
  {
   "cell_type": "markdown",
   "metadata": {},
   "source": [
    "## Read in Known Artists"
   ]
  },
  {
   "cell_type": "code",
   "execution_count": 3,
   "metadata": {},
   "outputs": [],
   "source": [
    "# Read in known artists from csv\n",
    "if os.path.exists(artistsKnownPath):\n",
    "    artistsKnown = pd.read_csv(artistsKnownPath)\n",
    "else:\n",
    "    artistsKnown = pd.DataFrame(columns=['artistID', 'following'])"
   ]
  },
  {
   "cell_type": "markdown",
   "metadata": {},
   "source": [
    "## Read in old playlists"
   ]
  },
  {
   "cell_type": "code",
   "execution_count": 4,
   "metadata": {},
   "outputs": [],
   "source": [
    "# Empty df\n",
    "artistsOld = pd.DataFrame()\n",
    "# Read in all old summer playlists\n",
    "for playlistName in playlistsOld:\n",
    "    # Get playlistID\n",
    "    id_pl = getPlaylistID(credentials, playlistName)\n",
    "    # Get playlistInfo\n",
    "    tracks_pl = fetchTracksFromPlaylist(credentials, id_pl)\n",
    "    # Append to df\n",
    "    artistsOld = pd.concat([artistsOld, tracks_pl], axis=0)\n",
    "# Deduplicate\n",
    "artistsOld = artistsOld.drop_duplicates('artistID', ignore_index=True)[['artistID']]"
   ]
  },
  {
   "cell_type": "markdown",
   "metadata": {},
   "source": [
    "## Merge and deduplicate known artists and any from new playlists"
   ]
  },
  {
   "cell_type": "code",
   "execution_count": 5,
   "metadata": {},
   "outputs": [],
   "source": [
    "artistsKnown = pd.concat([artistsKnown, artistsOld], axis=0).drop_duplicates('artistID', ignore_index=True)\n",
    "# Mark Liked and Unliked artists\n",
    "artistsKnown.loc[artistsKnown['artistID'].isin(artistsOld['artistID']), 'following'] = True\n",
    "artistsKnown.loc[~artistsKnown['artistID'].isin(artistsOld['artistID']), 'following'] = False\n",
    "artistsKnown"
   ]
  },
  {
   "cell_type": "markdown",
   "metadata": {},
   "source": [
    "## Get artist info and add it to historical data"
   ]
  },
  {
   "cell_type": "code",
   "execution_count": 6,
   "metadata": {},
   "outputs": [],
   "source": [
    "# Get artist info based on list of IDs\n",
    "artistInfo = fetchArtistsInfo(credentials, artistsKnown['artistID'].to_list())\n",
    "# Set the date of the data capture\n",
    "artistInfo['date'] = date.today()\n",
    "# Record whether artist was liked or not\n",
    "artistInfo = artistInfo.merge(artistsKnown, how='left', on='artistID')\n",
    "\n",
    "# Read in historical\n",
    "artistsHistorical = pd.read_csv(artistsHistoricalPath)\n",
    "\n",
    "# Merge in new data\n",
    "artistsHistorical = pd.concat([artistsHistorical, artistInfo], axis=0)\n",
    "artistsHistorical"
   ]
  },
  {
   "cell_type": "markdown",
   "metadata": {},
   "source": [
    "## Load"
   ]
  },
  {
   "cell_type": "code",
   "execution_count": 13,
   "metadata": {},
   "outputs": [],
   "source": [
    "# Write artistsKnown and artistsHistorical csvs\n",
    "artistInfo.to_csv(artistsKnownPath, index=False)\n",
    "artistsHistorical.to_csv(artistsHistoricalPath, index=False)"
   ]
  },
  {
   "cell_type": "code",
   "execution_count": null,
   "metadata": {},
   "outputs": [],
   "source": []
  }
 ],
 "metadata": {
  "kernelspec": {
   "display_name": "Python 3.10.9 ('summerplaylist')",
   "language": "python",
   "name": "python3"
  },
  "language_info": {
   "codemirror_mode": {
    "name": "ipython",
    "version": 3
   },
   "file_extension": ".py",
   "mimetype": "text/x-python",
   "name": "python",
   "nbconvert_exporter": "python",
   "pygments_lexer": "ipython3",
   "version": "3.10.9"
  },
  "orig_nbformat": 4,
  "vscode": {
   "interpreter": {
    "hash": "e81157a0786199ab9ef170aa1943f0690c4844c55695062c7d895c198fc85648"
   }
  }
 },
 "nbformat": 4,
 "nbformat_minor": 2
}
