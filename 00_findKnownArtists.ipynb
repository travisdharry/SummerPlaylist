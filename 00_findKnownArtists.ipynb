{
 "cells": [
  {
   "cell_type": "markdown",
   "metadata": {},
   "source": [
    "## Configuration"
   ]
  },
  {
   "cell_type": "code",
   "execution_count": 6,
   "metadata": {},
   "outputs": [],
   "source": [
    "### Configuration\n",
    "# Dependencies\n",
    "import os\n",
    "import pandas as pd\n",
    "import numpy as np\n",
    "from summerplaylist import *\n",
    "from datetime import date\n",
    "\n",
    "# Environment variables\n",
    "CLIENTID = os.environ.get('CLIENTID')\n",
    "CLIENTSECRET = os.environ.get('CLIENTSECRET')\n",
    "REDIRECT_URI = 'https://example.com/callback'\n",
    "\n",
    "# Old Playlists\n",
    "playlistsOld = [\n",
    "    'Summer 2018',\n",
    "    'Summer 2019',\n",
    "    'Endless Summer 2020',\n",
    "    'Endless Summer 2021',\n",
    "    'Endless Summer 2022',\n",
    "    'Endless Summer 2023', \n",
    "    'Endless Summer 2024'\n",
    "]\n",
    "\n",
    "# Filepaths\n",
    "artistsKnownPath = os.path.join('data', 'artistsKnown.csv')\n",
    "artistsHistoricalPath = os.path.join('data', 'artistsHistorical.csv')"
   ]
  },
  {
   "cell_type": "markdown",
   "metadata": {},
   "source": [
    "## Log In"
   ]
  },
  {
   "cell_type": "code",
   "execution_count": 7,
   "metadata": {},
   "outputs": [
    {
     "name": "stdout",
     "output_type": "stream",
     "text": [
      "Opening browser for Spotify login...\n"
     ]
    }
   ],
   "source": [
    "# Authenticate to Spotify\n",
    "credentials = authenticateToSpotify(CLIENTID, CLIENTSECRET, REDIRECT_URI)"
   ]
  },
  {
   "cell_type": "markdown",
   "metadata": {},
   "source": [
    "## Read in Known Artists"
   ]
  },
  {
   "cell_type": "code",
   "execution_count": 8,
   "metadata": {},
   "outputs": [
    {
     "name": "stdout",
     "output_type": "stream",
     "text": [
      "3032\n"
     ]
    }
   ],
   "source": [
    "# Read in known artists from csv\n",
    "if os.path.exists(artistsKnownPath):\n",
    "    artistsKnown = pd.read_csv(artistsKnownPath)\n",
    "else:\n",
    "    artistsKnown = pd.DataFrame(columns=['artistID', 'following'])\n",
    "\n",
    "artistsKnown.head()\n",
    "print(len(artistsKnown))"
   ]
  },
  {
   "cell_type": "markdown",
   "metadata": {},
   "source": [
    "## Read in old playlists"
   ]
  },
  {
   "cell_type": "code",
   "execution_count": 13,
   "metadata": {},
   "outputs": [
    {
     "name": "stdout",
     "output_type": "stream",
     "text": [
      "1105\n"
     ]
    },
    {
     "data": {
      "text/html": [
       "<div>\n",
       "<style scoped>\n",
       "    .dataframe tbody tr th:only-of-type {\n",
       "        vertical-align: middle;\n",
       "    }\n",
       "\n",
       "    .dataframe tbody tr th {\n",
       "        vertical-align: top;\n",
       "    }\n",
       "\n",
       "    .dataframe thead th {\n",
       "        text-align: right;\n",
       "    }\n",
       "</style>\n",
       "<table border=\"1\" class=\"dataframe\">\n",
       "  <thead>\n",
       "    <tr style=\"text-align: right;\">\n",
       "      <th></th>\n",
       "      <th>artistID</th>\n",
       "    </tr>\n",
       "  </thead>\n",
       "  <tbody>\n",
       "    <tr>\n",
       "      <th>0</th>\n",
       "      <td>2ZRQcIgzPCVaT9XKhXZIzh</td>\n",
       "    </tr>\n",
       "    <tr>\n",
       "      <th>1</th>\n",
       "      <td>3ApUX1o6oSz321MMECyIYd</td>\n",
       "    </tr>\n",
       "    <tr>\n",
       "      <th>2</th>\n",
       "      <td>44eNlYXYkIGob3NU82tgLq</td>\n",
       "    </tr>\n",
       "    <tr>\n",
       "      <th>3</th>\n",
       "      <td>3mJ9GlkLzj8Ka7Z7EQaCMi</td>\n",
       "    </tr>\n",
       "    <tr>\n",
       "      <th>4</th>\n",
       "      <td>2cCUtGK9sDU2EoElnk0GNB</td>\n",
       "    </tr>\n",
       "  </tbody>\n",
       "</table>\n",
       "</div>"
      ],
      "text/plain": [
       "                 artistID\n",
       "0  2ZRQcIgzPCVaT9XKhXZIzh\n",
       "1  3ApUX1o6oSz321MMECyIYd\n",
       "2  44eNlYXYkIGob3NU82tgLq\n",
       "3  3mJ9GlkLzj8Ka7Z7EQaCMi\n",
       "4  2cCUtGK9sDU2EoElnk0GNB"
      ]
     },
     "execution_count": 13,
     "metadata": {},
     "output_type": "execute_result"
    }
   ],
   "source": [
    "# Empty df\n",
    "artistsOld = pd.DataFrame()\n",
    "# Read in all old summer playlists\n",
    "for playlistName in playlistsOld:\n",
    "    # Get playlistID\n",
    "    id_pl = getPlaylistID(credentials, playlistName)\n",
    "    # Get playlistInfo\n",
    "    tracks_pl = fetchTracksFromPlaylist(credentials, id_pl)\n",
    "    # Append to df\n",
    "    artistsOld = pd.concat([artistsOld, tracks_pl], axis=0)\n",
    "# Deduplicate\n",
    "artistsOld = artistsOld.drop_duplicates('artistID', ignore_index=True)[['artistID']]\n",
    "\n",
    "print(len(artistsOld))\n",
    "artistsOld.head()\n"
   ]
  },
  {
   "cell_type": "markdown",
   "metadata": {},
   "source": [
    "## Merge and deduplicate known artists and any from new playlists"
   ]
  },
  {
   "cell_type": "code",
   "execution_count": 10,
   "metadata": {},
   "outputs": [
    {
     "data": {
      "text/html": [
       "<div>\n",
       "<style scoped>\n",
       "    .dataframe tbody tr th:only-of-type {\n",
       "        vertical-align: middle;\n",
       "    }\n",
       "\n",
       "    .dataframe tbody tr th {\n",
       "        vertical-align: top;\n",
       "    }\n",
       "\n",
       "    .dataframe thead th {\n",
       "        text-align: right;\n",
       "    }\n",
       "</style>\n",
       "<table border=\"1\" class=\"dataframe\">\n",
       "  <thead>\n",
       "    <tr style=\"text-align: right;\">\n",
       "      <th></th>\n",
       "      <th>artistID</th>\n",
       "      <th>artistName</th>\n",
       "      <th>artistPopularity</th>\n",
       "      <th>artistFollowers</th>\n",
       "      <th>artistGenre</th>\n",
       "      <th>date</th>\n",
       "      <th>following</th>\n",
       "    </tr>\n",
       "  </thead>\n",
       "  <tbody>\n",
       "    <tr>\n",
       "      <th>0</th>\n",
       "      <td>1URnnhqYAYcrqrcwql10ft</td>\n",
       "      <td>21 Savage</td>\n",
       "      <td>92.0</td>\n",
       "      <td>17641715.0</td>\n",
       "      <td>atl hip hop, hip hop, rap</td>\n",
       "      <td>2024-03-19</td>\n",
       "      <td>True</td>\n",
       "    </tr>\n",
       "    <tr>\n",
       "      <th>1</th>\n",
       "      <td>2RTUTCvo6onsAnheUk3aL9</td>\n",
       "      <td>3 Doors Down</td>\n",
       "      <td>70.0</td>\n",
       "      <td>4252580.0</td>\n",
       "      <td>alternative metal, nu metal, post-grunge, rock</td>\n",
       "      <td>2024-03-19</td>\n",
       "      <td>False</td>\n",
       "    </tr>\n",
       "    <tr>\n",
       "      <th>2</th>\n",
       "      <td>41Q0HrwWBtuUkJc7C1Rp6K</td>\n",
       "      <td>311</td>\n",
       "      <td>62.0</td>\n",
       "      <td>1012731.0</td>\n",
       "      <td>alternative metal, alternative rock, funk meta...</td>\n",
       "      <td>2024-03-19</td>\n",
       "      <td>False</td>\n",
       "    </tr>\n",
       "    <tr>\n",
       "      <th>3</th>\n",
       "      <td>4NiJW4q9ichVqL1aUsgGAN</td>\n",
       "      <td>A Day To Remember</td>\n",
       "      <td>68.0</td>\n",
       "      <td>2275446.0</td>\n",
       "      <td>alternative metal, metalcore, neon pop punk, p...</td>\n",
       "      <td>2024-03-19</td>\n",
       "      <td>False</td>\n",
       "    </tr>\n",
       "    <tr>\n",
       "      <th>4</th>\n",
       "      <td>09hVIj6vWgoCDtT03h8ZCa</td>\n",
       "      <td>A Tribe Called Quest</td>\n",
       "      <td>66.0</td>\n",
       "      <td>2060491.0</td>\n",
       "      <td>conscious hip hop, east coast hip hop, golden ...</td>\n",
       "      <td>2024-03-19</td>\n",
       "      <td>False</td>\n",
       "    </tr>\n",
       "    <tr>\n",
       "      <th>...</th>\n",
       "      <td>...</td>\n",
       "      <td>...</td>\n",
       "      <td>...</td>\n",
       "      <td>...</td>\n",
       "      <td>...</td>\n",
       "      <td>...</td>\n",
       "      <td>...</td>\n",
       "    </tr>\n",
       "    <tr>\n",
       "      <th>3076</th>\n",
       "      <td>2OWXhbFm7SsZN0DXAD7iBg</td>\n",
       "      <td>NaN</td>\n",
       "      <td>NaN</td>\n",
       "      <td>NaN</td>\n",
       "      <td>NaN</td>\n",
       "      <td>NaN</td>\n",
       "      <td>True</td>\n",
       "    </tr>\n",
       "    <tr>\n",
       "      <th>3077</th>\n",
       "      <td>24ygMLBnr7isvmgvAx2Phm</td>\n",
       "      <td>NaN</td>\n",
       "      <td>NaN</td>\n",
       "      <td>NaN</td>\n",
       "      <td>NaN</td>\n",
       "      <td>NaN</td>\n",
       "      <td>True</td>\n",
       "    </tr>\n",
       "    <tr>\n",
       "      <th>3078</th>\n",
       "      <td>1EmdfupUQDpXOcb4Nj2mBH</td>\n",
       "      <td>NaN</td>\n",
       "      <td>NaN</td>\n",
       "      <td>NaN</td>\n",
       "      <td>NaN</td>\n",
       "      <td>NaN</td>\n",
       "      <td>True</td>\n",
       "    </tr>\n",
       "    <tr>\n",
       "      <th>3079</th>\n",
       "      <td>17mwzDXKn4ra9cuxXaptwp</td>\n",
       "      <td>NaN</td>\n",
       "      <td>NaN</td>\n",
       "      <td>NaN</td>\n",
       "      <td>NaN</td>\n",
       "      <td>NaN</td>\n",
       "      <td>True</td>\n",
       "    </tr>\n",
       "    <tr>\n",
       "      <th>3080</th>\n",
       "      <td>4KY9rCrokaoFzvMfX98u1q</td>\n",
       "      <td>NaN</td>\n",
       "      <td>NaN</td>\n",
       "      <td>NaN</td>\n",
       "      <td>NaN</td>\n",
       "      <td>NaN</td>\n",
       "      <td>True</td>\n",
       "    </tr>\n",
       "  </tbody>\n",
       "</table>\n",
       "<p>3081 rows × 7 columns</p>\n",
       "</div>"
      ],
      "text/plain": [
       "                    artistID            artistName  artistPopularity  \\\n",
       "0     1URnnhqYAYcrqrcwql10ft             21 Savage              92.0   \n",
       "1     2RTUTCvo6onsAnheUk3aL9          3 Doors Down              70.0   \n",
       "2     41Q0HrwWBtuUkJc7C1Rp6K                   311              62.0   \n",
       "3     4NiJW4q9ichVqL1aUsgGAN     A Day To Remember              68.0   \n",
       "4     09hVIj6vWgoCDtT03h8ZCa  A Tribe Called Quest              66.0   \n",
       "...                      ...                   ...               ...   \n",
       "3076  2OWXhbFm7SsZN0DXAD7iBg                   NaN               NaN   \n",
       "3077  24ygMLBnr7isvmgvAx2Phm                   NaN               NaN   \n",
       "3078  1EmdfupUQDpXOcb4Nj2mBH                   NaN               NaN   \n",
       "3079  17mwzDXKn4ra9cuxXaptwp                   NaN               NaN   \n",
       "3080  4KY9rCrokaoFzvMfX98u1q                   NaN               NaN   \n",
       "\n",
       "      artistFollowers                                        artistGenre  \\\n",
       "0          17641715.0                          atl hip hop, hip hop, rap   \n",
       "1           4252580.0     alternative metal, nu metal, post-grunge, rock   \n",
       "2           1012731.0  alternative metal, alternative rock, funk meta...   \n",
       "3           2275446.0  alternative metal, metalcore, neon pop punk, p...   \n",
       "4           2060491.0  conscious hip hop, east coast hip hop, golden ...   \n",
       "...               ...                                                ...   \n",
       "3076              NaN                                                NaN   \n",
       "3077              NaN                                                NaN   \n",
       "3078              NaN                                                NaN   \n",
       "3079              NaN                                                NaN   \n",
       "3080              NaN                                                NaN   \n",
       "\n",
       "            date following  \n",
       "0     2024-03-19      True  \n",
       "1     2024-03-19     False  \n",
       "2     2024-03-19     False  \n",
       "3     2024-03-19     False  \n",
       "4     2024-03-19     False  \n",
       "...          ...       ...  \n",
       "3076         NaN      True  \n",
       "3077         NaN      True  \n",
       "3078         NaN      True  \n",
       "3079         NaN      True  \n",
       "3080         NaN      True  \n",
       "\n",
       "[3081 rows x 7 columns]"
      ]
     },
     "execution_count": 10,
     "metadata": {},
     "output_type": "execute_result"
    }
   ],
   "source": [
    "artistsKnown = pd.concat([artistsKnown, artistsOld], axis=0).drop_duplicates('artistID', ignore_index=True)\n",
    "# Mark Liked and Unliked artists\n",
    "artistsKnown.loc[artistsKnown['artistID'].isin(artistsOld['artistID']), 'following'] = True\n",
    "artistsKnown.loc[~artistsKnown['artistID'].isin(artistsOld['artistID']), 'following'] = False\n",
    "artistsKnown"
   ]
  },
  {
   "cell_type": "markdown",
   "metadata": {},
   "source": [
    "## Update all artists' info based on Spotify's records and add it to historical records"
   ]
  },
  {
   "cell_type": "code",
   "execution_count": 11,
   "metadata": {},
   "outputs": [
    {
     "name": "stdout",
     "output_type": "stream",
     "text": [
      "10531\n"
     ]
    }
   ],
   "source": [
    "# Get artist info based on list of IDs\n",
    "artistInfo = fetchArtistsInfo(credentials, artistsKnown['artistID'].to_list())\n",
    "# Set the date of the data capture\n",
    "artistInfo['date'] = date.today()\n",
    "# Record whether artist was liked or not\n",
    "artistInfo = artistInfo.merge(artistsKnown['artistID'], how='left', on='artistID')\n",
    "\n",
    "# Read in historical\n",
    "# Read in known artists from csv\n",
    "if os.path.exists(artistsHistoricalPath):\n",
    "    artistsHistorical = pd.read_csv(artistsHistoricalPath)\n",
    "else:\n",
    "    artistsHistorical = pd.DataFrame(columns=['date', 'following', 'artistName', 'artistID', 'artistPopularity','artistFollowers', 'artistGenre'])\n",
    "\n",
    "# Merge in new data\n",
    "artistsHistorical = pd.concat([artistsHistorical, artistInfo], axis=0, ignore_index=True)\n",
    "\n",
    "artistsHistorical.head()\n",
    "print(len(artistsHistorical))"
   ]
  },
  {
   "cell_type": "markdown",
   "metadata": {},
   "source": [
    "## Load"
   ]
  },
  {
   "cell_type": "code",
   "execution_count": 12,
   "metadata": {},
   "outputs": [],
   "source": [
    "# Write artistsKnown and artistsHistorical csvs\n",
    "artistInfo.to_csv(artistsKnownPath, index=False)\n",
    "artistsHistorical.to_csv(artistsHistoricalPath, index=False)"
   ]
  },
  {
   "cell_type": "code",
   "execution_count": null,
   "metadata": {},
   "outputs": [],
   "source": []
  }
 ],
 "metadata": {
  "kernelspec": {
   "display_name": "Python 3.10.9 ('summerplaylist')",
   "language": "python",
   "name": "python3"
  },
  "language_info": {
   "codemirror_mode": {
    "name": "ipython",
    "version": 3
   },
   "file_extension": ".py",
   "mimetype": "text/x-python",
   "name": "python",
   "nbconvert_exporter": "python",
   "pygments_lexer": "ipython3",
   "version": "3.10.9"
  },
  "orig_nbformat": 4,
  "vscode": {
   "interpreter": {
    "hash": "e81157a0786199ab9ef170aa1943f0690c4844c55695062c7d895c198fc85648"
   }
  }
 },
 "nbformat": 4,
 "nbformat_minor": 2
}
