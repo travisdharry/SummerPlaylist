{
 "cells": [
  {
   "cell_type": "markdown",
   "metadata": {},
   "source": [
    "## Configuration"
   ]
  },
  {
   "cell_type": "code",
   "execution_count": 22,
   "metadata": {},
   "outputs": [],
   "source": [
    "### Configuration\n",
    "# Dependencies\n",
    "import os\n",
    "import pandas as pd\n",
    "import numpy as np\n",
    "from summerplaylist import *\n",
    "from datetime import date\n",
    "\n",
    "# Environment variables\n",
    "CLIENTID = os.environ.get('CLIENTID')\n",
    "CLIENTSECRET = os.environ.get('CLIENTSECRET')\n",
    "REDIRECT_URI = 'https://example.com/callback'\n",
    "\n",
    "# Old Playlists\n",
    "playlistsOld = [\n",
    "    'Summer 2018',\n",
    "    'Summer 2019',\n",
    "    'Endless Summer 2020',\n",
    "    'Endless Summer 2021',\n",
    "    'Endless Summer 2022',\n",
    "    'Endless Summer 2023'\n",
    "]\n",
    "\n",
    "# Filepaths\n",
    "dataPath = os.path.join('data', 'artistsKnown.csv')"
   ]
  },
  {
   "cell_type": "markdown",
   "metadata": {},
   "source": [
    "## Log In"
   ]
  },
  {
   "cell_type": "code",
   "execution_count": 2,
   "metadata": {},
   "outputs": [
    {
     "name": "stdout",
     "output_type": "stream",
     "text": [
      "Opening browser for Spotify login...\n"
     ]
    }
   ],
   "source": [
    "# Authenticate to Spotify\n",
    "credentials = authenticateToSpotify(CLIENTID, CLIENTSECRET, REDIRECT_URI)"
   ]
  },
  {
   "cell_type": "markdown",
   "metadata": {},
   "source": [
    "## Read in Known Artists"
   ]
  },
  {
   "cell_type": "code",
   "execution_count": 23,
   "metadata": {},
   "outputs": [],
   "source": [
    "# Read in known artists from csv\n",
    "if os.path.exists(dataPath):\n",
    "    artistsKnown = pd.read_csv(dataPath)\n",
    "else:\n",
    "    artistsKnown = pd.DataFrame(columns=['artistID', 'isLiked'])"
   ]
  },
  {
   "cell_type": "markdown",
   "metadata": {},
   "source": [
    "## Read in old playlists"
   ]
  },
  {
   "cell_type": "code",
   "execution_count": 24,
   "metadata": {},
   "outputs": [],
   "source": [
    "# Empty df\n",
    "artistsOld = pd.DataFrame()\n",
    "# Read in all old summer playlists\n",
    "for playlistName in playlistsOld:\n",
    "    # Get playlistID\n",
    "    id_pl = getPlaylistID(credentials, playlistName)\n",
    "    # Get playlistInfo\n",
    "    tracks_pl = fetchTracksFromPlaylist(credentials, id_pl)\n",
    "    # Append to df\n",
    "    artistsOld = pd.concat([artistsOld, tracks_pl], axis=0)\n",
    "# Deduplicate\n",
    "artistsOld = artistsOld.drop_duplicates('artistID', ignore_index=True)[['artistID']]"
   ]
  },
  {
   "cell_type": "markdown",
   "metadata": {},
   "source": [
    "## Merge and deduplicate known artists and any from new playlists"
   ]
  },
  {
   "cell_type": "code",
   "execution_count": 25,
   "metadata": {},
   "outputs": [],
   "source": [
    "artistsKnown = pd.concat([artistsKnown, artistsOld], axis=0).drop_duplicates('artistID', ignore_index=True)\n",
    "# Mark Liked and Unliked artists\n",
    "artistsKnown.loc[artistsKnown['artistID'].isin(artistsOld['artistID']), 'isLiked'] = \"Liked\"\n",
    "artistsKnown.loc[~artistsKnown['artistID'].isin(artistsOld['artistID']), 'isLiked'] = \"Not Liked\""
   ]
  },
  {
   "cell_type": "markdown",
   "metadata": {},
   "source": [
    "## Get artist info and add it to historical data"
   ]
  },
  {
   "cell_type": "code",
   "execution_count": null,
   "metadata": {},
   "outputs": [],
   "source": [
    "# Write function to get chunks of artist info\n",
    "    # Need date, artistID, artistName, artistPopularity, artistFollowers, artistGenre, isLiked"
   ]
  },
  {
   "cell_type": "code",
   "execution_count": 26,
   "metadata": {},
   "outputs": [
    {
     "data": {
      "text/html": [
       "<div>\n",
       "<style scoped>\n",
       "    .dataframe tbody tr th:only-of-type {\n",
       "        vertical-align: middle;\n",
       "    }\n",
       "\n",
       "    .dataframe tbody tr th {\n",
       "        vertical-align: top;\n",
       "    }\n",
       "\n",
       "    .dataframe thead th {\n",
       "        text-align: right;\n",
       "    }\n",
       "</style>\n",
       "<table border=\"1\" class=\"dataframe\">\n",
       "  <thead>\n",
       "    <tr style=\"text-align: right;\">\n",
       "      <th></th>\n",
       "      <th>artistID</th>\n",
       "      <th>isLiked</th>\n",
       "    </tr>\n",
       "  </thead>\n",
       "  <tbody>\n",
       "    <tr>\n",
       "      <th>0</th>\n",
       "      <td>1URnnhqYAYcrqrcwql10ft</td>\n",
       "      <td>Liked</td>\n",
       "    </tr>\n",
       "    <tr>\n",
       "      <th>1</th>\n",
       "      <td>2RTUTCvo6onsAnheUk3aL9</td>\n",
       "      <td>Not Liked</td>\n",
       "    </tr>\n",
       "    <tr>\n",
       "      <th>2</th>\n",
       "      <td>41Q0HrwWBtuUkJc7C1Rp6K</td>\n",
       "      <td>Not Liked</td>\n",
       "    </tr>\n",
       "    <tr>\n",
       "      <th>3</th>\n",
       "      <td>4NiJW4q9ichVqL1aUsgGAN</td>\n",
       "      <td>Not Liked</td>\n",
       "    </tr>\n",
       "    <tr>\n",
       "      <th>4</th>\n",
       "      <td>09hVIj6vWgoCDtT03h8ZCa</td>\n",
       "      <td>Not Liked</td>\n",
       "    </tr>\n",
       "    <tr>\n",
       "      <th>...</th>\n",
       "      <td>...</td>\n",
       "      <td>...</td>\n",
       "    </tr>\n",
       "    <tr>\n",
       "      <th>1999</th>\n",
       "      <td>3Hb64DQZIhDCgyHKrzBXOL</td>\n",
       "      <td>Liked</td>\n",
       "    </tr>\n",
       "    <tr>\n",
       "      <th>2000</th>\n",
       "      <td>229NvsczXKwdH0DkPg4uwT</td>\n",
       "      <td>Liked</td>\n",
       "    </tr>\n",
       "    <tr>\n",
       "      <th>2001</th>\n",
       "      <td>0bDqmuVnpecyZQuXZ7i85s</td>\n",
       "      <td>Liked</td>\n",
       "    </tr>\n",
       "    <tr>\n",
       "      <th>2002</th>\n",
       "      <td>0Up3H1s9ME6FivFcOz6qte</td>\n",
       "      <td>Liked</td>\n",
       "    </tr>\n",
       "    <tr>\n",
       "      <th>2003</th>\n",
       "      <td>0Bvwcw5e2SPEifNEORZTZf</td>\n",
       "      <td>Liked</td>\n",
       "    </tr>\n",
       "  </tbody>\n",
       "</table>\n",
       "<p>2004 rows × 2 columns</p>\n",
       "</div>"
      ],
      "text/plain": [
       "                    artistID    isLiked\n",
       "0     1URnnhqYAYcrqrcwql10ft      Liked\n",
       "1     2RTUTCvo6onsAnheUk3aL9  Not Liked\n",
       "2     41Q0HrwWBtuUkJc7C1Rp6K  Not Liked\n",
       "3     4NiJW4q9ichVqL1aUsgGAN  Not Liked\n",
       "4     09hVIj6vWgoCDtT03h8ZCa  Not Liked\n",
       "...                      ...        ...\n",
       "1999  3Hb64DQZIhDCgyHKrzBXOL      Liked\n",
       "2000  229NvsczXKwdH0DkPg4uwT      Liked\n",
       "2001  0bDqmuVnpecyZQuXZ7i85s      Liked\n",
       "2002  0Up3H1s9ME6FivFcOz6qte      Liked\n",
       "2003  0Bvwcw5e2SPEifNEORZTZf      Liked\n",
       "\n",
       "[2004 rows x 2 columns]"
      ]
     },
     "execution_count": 26,
     "metadata": {},
     "output_type": "execute_result"
    }
   ],
   "source": [
    "artistsKnown"
   ]
  },
  {
   "cell_type": "markdown",
   "metadata": {},
   "source": [
    "## Load"
   ]
  },
  {
   "cell_type": "code",
   "execution_count": null,
   "metadata": {},
   "outputs": [],
   "source": [
    "# Write artistsKnown and artistsHistorical csvs"
   ]
  }
 ],
 "metadata": {
  "kernelspec": {
   "display_name": "Python 3.10.9 ('summerplaylist')",
   "language": "python",
   "name": "python3"
  },
  "language_info": {
   "codemirror_mode": {
    "name": "ipython",
    "version": 3
   },
   "file_extension": ".py",
   "mimetype": "text/x-python",
   "name": "python",
   "nbconvert_exporter": "python",
   "pygments_lexer": "ipython3",
   "version": "3.10.9"
  },
  "orig_nbformat": 4,
  "vscode": {
   "interpreter": {
    "hash": "e81157a0786199ab9ef170aa1943f0690c4844c55695062c7d895c198fc85648"
   }
  }
 },
 "nbformat": 4,
 "nbformat_minor": 2
}
