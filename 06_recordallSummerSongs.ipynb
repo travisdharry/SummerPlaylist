{
 "cells": [
  {
   "cell_type": "code",
   "execution_count": 1,
   "metadata": {},
   "outputs": [],
   "source": [
    "### Configuration\n",
    "# Dependencies\n",
    "import os\n",
    "import pandas as pd\n",
    "import numpy as np\n",
    "from summerplaylist import *\n",
    "from datetime import date\n",
    "\n",
    "# Environment variables\n",
    "CLIENTID = os.environ.get('CLIENTID')\n",
    "CLIENTSECRET = os.environ.get('CLIENTSECRET')\n",
    "REDIRECT_URI = 'https://example.com/callback'\n",
    "\n",
    "# Old Playlists\n",
    "playlistsOld = [\n",
    "    'Summer 2018',\n",
    "    'Summer 2019',\n",
    "    'Endless Summer 2020',\n",
    "    'Endless Summer 2021',\n",
    "    'Endless Summer 2022',\n",
    "    'Endless Summer 2023', \n",
    "    'Endless Summer 2024'\n",
    "]\n",
    "\n",
    "# Filepaths\n",
    "artistsKnownPath = os.path.join('data', 'artistsKnown.csv')\n",
    "artistsHistoricalPath = os.path.join('data', 'artistsHistorical.csv')"
   ]
  },
  {
   "cell_type": "code",
   "execution_count": 3,
   "metadata": {},
   "outputs": [
    {
     "name": "stdout",
     "output_type": "stream",
     "text": [
      "Opening browser for Spotify login...\n"
     ]
    }
   ],
   "source": [
    "# Authenticate to Spotify\n",
    "credentials = authenticateToSpotify(CLIENTID, CLIENTSECRET, REDIRECT_URI)"
   ]
  },
  {
   "cell_type": "code",
   "execution_count": 8,
   "metadata": {},
   "outputs": [
    {
     "name": "stdout",
     "output_type": "stream",
     "text": [
      "2258\n"
     ]
    },
    {
     "data": {
      "text/html": [
       "<div>\n",
       "<style scoped>\n",
       "    .dataframe tbody tr th:only-of-type {\n",
       "        vertical-align: middle;\n",
       "    }\n",
       "\n",
       "    .dataframe tbody tr th {\n",
       "        vertical-align: top;\n",
       "    }\n",
       "\n",
       "    .dataframe thead th {\n",
       "        text-align: right;\n",
       "    }\n",
       "</style>\n",
       "<table border=\"1\" class=\"dataframe\">\n",
       "  <thead>\n",
       "    <tr style=\"text-align: right;\">\n",
       "      <th></th>\n",
       "      <th>artistName</th>\n",
       "      <th>artistID</th>\n",
       "      <th>songName</th>\n",
       "      <th>release_date</th>\n",
       "      <th>songURI</th>\n",
       "      <th>songLocation</th>\n",
       "      <th>albumLength</th>\n",
       "      <th>songDuration</th>\n",
       "      <th>songExplicit</th>\n",
       "      <th>songPopularity</th>\n",
       "      <th>summer</th>\n",
       "    </tr>\n",
       "  </thead>\n",
       "  <tbody>\n",
       "    <tr>\n",
       "      <th>0</th>\n",
       "      <td>Gryffin</td>\n",
       "      <td>2ZRQcIgzPCVaT9XKhXZIzh</td>\n",
       "      <td>Winnebago (feat. Quinn XCII &amp; Daniel Wilson)</td>\n",
       "      <td>2018-04-20</td>\n",
       "      <td>spotify:track:2FVm4ADgYRIQWlpYKDPdl9</td>\n",
       "      <td>1</td>\n",
       "      <td>1</td>\n",
       "      <td>179936</td>\n",
       "      <td>True</td>\n",
       "      <td>49</td>\n",
       "      <td>Summer 2018</td>\n",
       "    </tr>\n",
       "    <tr>\n",
       "      <th>1</th>\n",
       "      <td>Quinn XCII</td>\n",
       "      <td>3ApUX1o6oSz321MMECyIYd</td>\n",
       "      <td>Winnebago (feat. Quinn XCII &amp; Daniel Wilson)</td>\n",
       "      <td>2018-04-20</td>\n",
       "      <td>spotify:track:2FVm4ADgYRIQWlpYKDPdl9</td>\n",
       "      <td>1</td>\n",
       "      <td>1</td>\n",
       "      <td>179936</td>\n",
       "      <td>True</td>\n",
       "      <td>49</td>\n",
       "      <td>Summer 2018</td>\n",
       "    </tr>\n",
       "    <tr>\n",
       "      <th>2</th>\n",
       "      <td>Daniel Wilson</td>\n",
       "      <td>44eNlYXYkIGob3NU82tgLq</td>\n",
       "      <td>Winnebago (feat. Quinn XCII &amp; Daniel Wilson)</td>\n",
       "      <td>2018-04-20</td>\n",
       "      <td>spotify:track:2FVm4ADgYRIQWlpYKDPdl9</td>\n",
       "      <td>1</td>\n",
       "      <td>1</td>\n",
       "      <td>179936</td>\n",
       "      <td>True</td>\n",
       "      <td>49</td>\n",
       "      <td>Summer 2018</td>\n",
       "    </tr>\n",
       "    <tr>\n",
       "      <th>3</th>\n",
       "      <td>Watsky</td>\n",
       "      <td>3mJ9GlkLzj8Ka7Z7EQaCMi</td>\n",
       "      <td>Sloppy Seconds</td>\n",
       "      <td>2013-01-01</td>\n",
       "      <td>spotify:track:0Vwfd6fxFrL3kCnZSJ9vid</td>\n",
       "      <td>11</td>\n",
       "      <td>17</td>\n",
       "      <td>245933</td>\n",
       "      <td>True</td>\n",
       "      <td>0</td>\n",
       "      <td>Summer 2018</td>\n",
       "    </tr>\n",
       "    <tr>\n",
       "      <th>4</th>\n",
       "      <td>The National</td>\n",
       "      <td>2cCUtGK9sDU2EoElnk0GNB</td>\n",
       "      <td>The System Only Dreams in Total Darkness</td>\n",
       "      <td>2017-09-08</td>\n",
       "      <td>spotify:track:1HAzsv7VCvbgqrpenTRWj1</td>\n",
       "      <td>4</td>\n",
       "      <td>12</td>\n",
       "      <td>236746</td>\n",
       "      <td>False</td>\n",
       "      <td>0</td>\n",
       "      <td>Summer 2018</td>\n",
       "    </tr>\n",
       "  </tbody>\n",
       "</table>\n",
       "</div>"
      ],
      "text/plain": [
       "      artistName                artistID  \\\n",
       "0        Gryffin  2ZRQcIgzPCVaT9XKhXZIzh   \n",
       "1     Quinn XCII  3ApUX1o6oSz321MMECyIYd   \n",
       "2  Daniel Wilson  44eNlYXYkIGob3NU82tgLq   \n",
       "3         Watsky  3mJ9GlkLzj8Ka7Z7EQaCMi   \n",
       "4   The National  2cCUtGK9sDU2EoElnk0GNB   \n",
       "\n",
       "                                       songName release_date  \\\n",
       "0  Winnebago (feat. Quinn XCII & Daniel Wilson)   2018-04-20   \n",
       "1  Winnebago (feat. Quinn XCII & Daniel Wilson)   2018-04-20   \n",
       "2  Winnebago (feat. Quinn XCII & Daniel Wilson)   2018-04-20   \n",
       "3                                Sloppy Seconds   2013-01-01   \n",
       "4      The System Only Dreams in Total Darkness   2017-09-08   \n",
       "\n",
       "                                songURI  songLocation  albumLength  \\\n",
       "0  spotify:track:2FVm4ADgYRIQWlpYKDPdl9             1            1   \n",
       "1  spotify:track:2FVm4ADgYRIQWlpYKDPdl9             1            1   \n",
       "2  spotify:track:2FVm4ADgYRIQWlpYKDPdl9             1            1   \n",
       "3  spotify:track:0Vwfd6fxFrL3kCnZSJ9vid            11           17   \n",
       "4  spotify:track:1HAzsv7VCvbgqrpenTRWj1             4           12   \n",
       "\n",
       "   songDuration  songExplicit  songPopularity       summer  \n",
       "0        179936          True              49  Summer 2018  \n",
       "1        179936          True              49  Summer 2018  \n",
       "2        179936          True              49  Summer 2018  \n",
       "3        245933          True               0  Summer 2018  \n",
       "4        236746         False               0  Summer 2018  "
      ]
     },
     "execution_count": 8,
     "metadata": {},
     "output_type": "execute_result"
    }
   ],
   "source": [
    "# Empty df\n",
    "artistsOld = pd.DataFrame()\n",
    "# Read in all old summer playlists\n",
    "for playlistName in playlistsOld:\n",
    "    # Get playlistID\n",
    "    id_pl = getPlaylistID(credentials, playlistName)\n",
    "    # Get playlistInfo\n",
    "    tracks_pl = fetchTracksFromPlaylist(credentials, id_pl)\n",
    "    tracks_pl['summer'] = playlistName\n",
    "    # Append to df\n",
    "    artistsOld = pd.concat([artistsOld, tracks_pl], axis=0, ignore_index=True)\n",
    "\n",
    "print(len(artistsOld))\n",
    "artistsOld.head()"
   ]
  },
  {
   "cell_type": "code",
   "execution_count": 9,
   "metadata": {},
   "outputs": [],
   "source": [
    "artistsOld.to_csv(os.path.join('data', 'AllSummers_AllSongs.csv'))"
   ]
  },
  {
   "cell_type": "code",
   "execution_count": null,
   "metadata": {},
   "outputs": [],
   "source": []
  }
 ],
 "metadata": {
  "kernelspec": {
   "display_name": "Python 3.10.9 ('summerplaylist')",
   "language": "python",
   "name": "python3"
  },
  "language_info": {
   "codemirror_mode": {
    "name": "ipython",
    "version": 3
   },
   "file_extension": ".py",
   "mimetype": "text/x-python",
   "name": "python",
   "nbconvert_exporter": "python",
   "pygments_lexer": "ipython3",
   "version": "3.10.9"
  },
  "orig_nbformat": 4,
  "vscode": {
   "interpreter": {
    "hash": "e81157a0786199ab9ef170aa1943f0690c4844c55695062c7d895c198fc85648"
   }
  }
 },
 "nbformat": 4,
 "nbformat_minor": 2
}
