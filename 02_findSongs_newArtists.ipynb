{
 "cells": [
  {
   "cell_type": "markdown",
   "metadata": {},
   "source": [
    "## Configuration"
   ]
  },
  {
   "cell_type": "code",
   "execution_count": 11,
   "metadata": {},
   "outputs": [],
   "source": [
    "### Configuration\n",
    "# Import dependencies\n",
    "import os\n",
    "from collections import Counter\n",
    "from summerplaylist import *\n",
    "\n",
    "# Environment variables\n",
    "CLIENTID = os.environ.get('CLIENTID')\n",
    "CLIENTSECRET = os.environ.get('CLIENTSECRET')\n",
    "REDIRECT_URI = 'https://example.com/callback'"
   ]
  },
  {
   "cell_type": "markdown",
   "metadata": {},
   "source": [
    "## Log In"
   ]
  },
  {
   "cell_type": "code",
   "execution_count": 4,
   "metadata": {},
   "outputs": [
    {
     "name": "stdout",
     "output_type": "stream",
     "text": [
      "Opening browser for Spotify login...\n"
     ]
    }
   ],
   "source": [
    "# Authenticate to Spotify\n",
    "credentials = authenticateToSpotify(CLIENTID, CLIENTSECRET, REDIRECT_URI)"
   ]
  },
  {
   "cell_type": "markdown",
   "metadata": {},
   "source": [
    "## Collect artists from playlist"
   ]
  },
  {
   "cell_type": "code",
   "execution_count": 7,
   "metadata": {},
   "outputs": [
    {
     "name": "stdout",
     "output_type": "stream",
     "text": [
      "275 artists\n",
      "['5ZZsFnpO7frU8h5xH1wtjT', '5SHgclK1ZpTdfdAmXW7J6s', '5VadK1havLhK1OpKYsXv9y', '4kqFrZkeqDfOIEqTWqbOOV', '3xz28DkZR6bmPpVh6Rq13t']\n"
     ]
    }
   ],
   "source": [
    "# Read in favorite new artists from culled ArtistHasPotential playlist\n",
    "winnersPlaylist = getPlaylistID(credentials, 'Summer - New Artists to Explore Further')\n",
    "# Get all the artistIDs in that playlist\n",
    "artistIDs = fetchArtistsFromPlaylist(credentials, winnersPlaylist)\n",
    "# Sort and deduplicate artists by value counts (get value count dict; sort this dict)\n",
    "artistIDs = list(dict(sorted(Counter(artistIDs).items(), key=lambda x:x[1], reverse=True)).keys())\n",
    "print(f\"{len(artistIDs)} artists\")\n",
    "print(artistIDs[:5])"
   ]
  },
  {
   "cell_type": "markdown",
   "metadata": {},
   "source": [
    "## Get the recent albums for each artist"
   ]
  },
  {
   "cell_type": "code",
   "execution_count": 9,
   "metadata": {},
   "outputs": [
    {
     "name": "stdout",
     "output_type": "stream",
     "text": [
      "351 recent albums\n",
      "['5LzrYv4MeoOg4a9sSkyCQQ', '4ltslrBIPDsUlnRSbrQFTR', '2MT10PyQwdm84H37J2nyrD', '4nZ4dv1XvDE25Lf2MFhOqA', '7DmETOdm0xy9UCAwWP2xe8']\n"
     ]
    }
   ],
   "source": [
    "# Find recent songs < 3 years old from new artists\n",
    "recentAlbums = fetchRecentAlbums(credentials, artistIDs, maxAge=3)\n",
    "print(f\"{len(recentAlbums)} recent albums\")\n",
    "print(recentAlbums[:5])"
   ]
  },
  {
   "cell_type": "markdown",
   "metadata": {},
   "source": [
    "## Get all the tracks on these playlists"
   ]
  },
  {
   "cell_type": "code",
   "execution_count": 13,
   "metadata": {},
   "outputs": [
    {
     "name": "stdout",
     "output_type": "stream",
     "text": [
      "4172 recent tracks to put in playlist\n",
      "['spotify:track:1BsKtoeoHoa7ZNRGFKxY4G', 'spotify:track:2zLoydVm0kYoaIkra0XmzE', 'spotify:track:2iXspj0F25nzhs4kVolvwf', 'spotify:track:6G5I8O1y7Ut8J3PiYuSJqN', 'spotify:track:3kxB92XdQFbUBvr2H8NK25']\n"
     ]
    }
   ],
   "source": [
    "recentTracks = fetchTracks(credentials, recentAlbums)\n",
    "print(f\"{len(recentTracks)} recent tracks to put in playlist\")\n",
    "print(recentTracks[:5])"
   ]
  },
  {
   "cell_type": "markdown",
   "metadata": {},
   "source": [
    "## Add recent albums to a playlist"
   ]
  },
  {
   "cell_type": "code",
   "execution_count": 24,
   "metadata": {},
   "outputs": [],
   "source": [
    "# Warning: This will make a new playlist\n",
    "playlistID = getPlaylistID(credentials, 'Summer - New Artist Exploration')\n",
    "# Add songs to the playlist\n",
    "addToPlaylist(credentials, recentTracks[2000:3000], playlistID)"
   ]
  },
  {
   "cell_type": "markdown",
   "metadata": {},
   "source": [
    "# Make playlist to hold liked songs"
   ]
  },
  {
   "cell_type": "code",
   "execution_count": 19,
   "metadata": {},
   "outputs": [],
   "source": [
    "# Warning: This will make a new playlist\n",
    "playlistID_candidates = getPlaylistID(credentials, 'Summer - Candidate Songs')"
   ]
  },
  {
   "cell_type": "code",
   "execution_count": null,
   "metadata": {},
   "outputs": [],
   "source": []
  }
 ],
 "metadata": {
  "kernelspec": {
   "display_name": "Python 3.10.9 ('summerplaylist')",
   "language": "python",
   "name": "python3"
  },
  "language_info": {
   "codemirror_mode": {
    "name": "ipython",
    "version": 3
   },
   "file_extension": ".py",
   "mimetype": "text/x-python",
   "name": "python",
   "nbconvert_exporter": "python",
   "pygments_lexer": "ipython3",
   "version": "3.10.9"
  },
  "orig_nbformat": 4,
  "vscode": {
   "interpreter": {
    "hash": "e81157a0786199ab9ef170aa1943f0690c4844c55695062c7d895c198fc85648"
   }
  }
 },
 "nbformat": 4,
 "nbformat_minor": 2
}
