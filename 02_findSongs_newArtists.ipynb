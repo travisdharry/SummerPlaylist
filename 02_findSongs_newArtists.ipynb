{
 "cells": [
  {
   "cell_type": "markdown",
   "metadata": {},
   "source": [
    "## Configuration"
   ]
  },
  {
   "cell_type": "code",
   "execution_count": 99,
   "metadata": {},
   "outputs": [],
   "source": [
    "### Configuration\n",
    "# Import dependencies\n",
    "import os\n",
    "from collections import Counter\n",
    "import summerplaylist\n",
    "\n",
    "# Environment variables\n",
    "CLIENTID = os.environ.get('CLIENTID')\n",
    "CLIENTSECRET = os.environ.get('CLIENTSECRET')\n",
    "REDIRECT_URI = 'https://example.com/callback'"
   ]
  },
  {
   "cell_type": "markdown",
   "metadata": {},
   "source": [
    "## Log In"
   ]
  },
  {
   "cell_type": "code",
   "execution_count": null,
   "metadata": {},
   "outputs": [],
   "source": [
    "# Authenticate to Spotify\n",
    "spotify, userID, user_token = authenticateToSpotify(CLIENTID, CLIENTSECRET, REDIRECT_URI)"
   ]
  },
  {
   "cell_type": "markdown",
   "metadata": {},
   "source": [
    "## Functions"
   ]
  },
  {
   "cell_type": "code",
   "execution_count": 74,
   "metadata": {},
   "outputs": [],
   "source": [
    "# def getPlaylistID(playlistName):\n",
    "#     with spotify.token_as(user_token):\n",
    "#         # Check if playlist already exists; if not create a new one\n",
    "#         userPlaylists = pd.DataFrame([{'id':x.id, 'name':x.name} for x in spotify.playlists(userID, limit=40).items])\n",
    "#         if not (userPlaylists['name'].eq(playlistName)).any():\n",
    "#             # Create a playlist for the user\n",
    "#             newPlaylist = spotify.playlist_create(userID, playlistName, public=False, description='Recent albums from new artists')\n",
    "#             playlistID = newPlaylist.id\n",
    "#         # Else just get playlistID\n",
    "#         else:\n",
    "#             playlistID = userPlaylists.loc[userPlaylists['name']==playlistName, 'id'][0]\n",
    "#     return playlistID"
   ]
  },
  {
   "cell_type": "code",
   "execution_count": 15,
   "metadata": {},
   "outputs": [],
   "source": [
    "# def fetchArtistsFromPlaylist(playlistID):\n",
    "#     # Get all artists in the list from spotify\n",
    "#     nestedList = [[y.id for y in x.track.artists] for x in spotify.playlist_items(playlistID).items]\n",
    "#     # Unnest the list \n",
    "#     artists = [item for sublist in nestedList for item in sublist]\n",
    "#     # Deduplicate by converting to set\n",
    "#     artists = list(set(artists))\n",
    "#     return artists"
   ]
  },
  {
   "cell_type": "code",
   "execution_count": 87,
   "metadata": {},
   "outputs": [],
   "source": [
    "# def fetchRecentAlbums(artistIDs):\n",
    "#     # Create empty list\n",
    "#     albums = []\n",
    "#     # Loop through list of artists\n",
    "#     for artistID in artistIDs:\n",
    "#         try:\n",
    "#             # Query the spotify API for that artist's albums\n",
    "#             query = spotify.artist_albums(artistID, limit=50, include_groups=['album']).items\n",
    "#             result = pd.DataFrame([{'albumID':x.id, 'albumReleaseDate':x.release_date} for x in query])\n",
    "#             # Filter out albums older than three years\n",
    "#             result['albumReleaseDate'] = pd.to_datetime(result['albumReleaseDate'])\n",
    "#             result = result.loc[(result[\"albumReleaseDate\"]>=MINDATE) & (result[\"albumReleaseDate\"]<=MAXDATE)]\n",
    "#             # Get only the list of albumURIs\n",
    "#             additions = list(result['albumID'])\n",
    "#         except: \n",
    "#             # If exception, fill in blank data\n",
    "#             additions = []\n",
    "#         finally:\n",
    "#             # Wait 2 seconds so we do not exceed our API call allowance\n",
    "#             time.sleep(2)\n",
    "#             # Append the recent albums to the list\n",
    "#             albums += additions\n",
    "#     # Remove duplicates\n",
    "#     albums = list(set(albums))\n",
    "#     return albums\n"
   ]
  },
  {
   "cell_type": "code",
   "execution_count": 77,
   "metadata": {},
   "outputs": [],
   "source": [
    "# def addToPlaylist(URIList, playlistID):\n",
    "#     with spotify.token_as(user_token):\n",
    "#         # Counter\n",
    "#         n = 0\n",
    "#         # Add songs in chunks of 100\n",
    "#         while n < len(URIList):\n",
    "#             toAdd = URIList[n:(n+100)]\n",
    "#             spotify.playlist_add(playlistID, toAdd, position=None)\n",
    "#             # Wait two seconds to avoid exceeding API limits\n",
    "#             time.sleep(2)\n",
    "#             # Increment counter\n",
    "#             n += 100"
   ]
  },
  {
   "cell_type": "markdown",
   "metadata": {},
   "source": [
    "## Collect artists from playlist"
   ]
  },
  {
   "cell_type": "code",
   "execution_count": 82,
   "metadata": {},
   "outputs": [
    {
     "data": {
      "text/plain": [
       "['1GmsPCcpKgF9OhlNXjOsbS', '0QWrMNukfcVOmgEU0FEDyD', '5jQsMNuCW0iZeFTz6YUK8K']"
      ]
     },
     "execution_count": 82,
     "metadata": {},
     "output_type": "execute_result"
    }
   ],
   "source": [
    "# Read in favorite new artists from culled ArtistHasPotential playlist\n",
    "winnersPlaylist = getPlaylistID('New Artists I Liked')\n",
    "# Get all the artistIDs in that playlist\n",
    "artistIDs = fetchArtistsFromPlaylist(winnersPlaylist)\n",
    "# Sort and deduplicate artists by value counts (get value count dict; sort this dict)\n",
    "artistIDs = list(dict(sorted(Counter(artistIDs).items(), key=lambda x:x[1], reverse=True)).keys())\n",
    "artistIDs"
   ]
  },
  {
   "cell_type": "markdown",
   "metadata": {},
   "source": [
    "## Get the recent albums for each artist"
   ]
  },
  {
   "cell_type": "code",
   "execution_count": 88,
   "metadata": {},
   "outputs": [
    {
     "data": {
      "text/plain": [
       "['33cj3kzLqVOg9zvy69Wrc8',\n",
       " '63ButSDtUefzCmdE3AXdor',\n",
       " '1mu38xw1WDRabnfwlvGqNO',\n",
       " '7H7nlUOKxq1u3Ev2TP5ib5',\n",
       " '5u8SP8bbxcA7zJoAusBfgc',\n",
       " '0G9S31E4tXEPAdLTR6Os3M',\n",
       " '2OAeKCwp9IyZou5eFsiSa0',\n",
       " '68L5xVV9wydotfDXEik7eD']"
      ]
     },
     "execution_count": 88,
     "metadata": {},
     "output_type": "execute_result"
    }
   ],
   "source": [
    "# Find recent songs < 3 years old from new artists\n",
    "recentAlbums = fetchRecentAlbums(artistIDs, maxAge=3)\n",
    "recentAlbums"
   ]
  },
  {
   "cell_type": "markdown",
   "metadata": {},
   "source": [
    "## Get all the tracks on these playlists"
   ]
  },
  {
   "cell_type": "code",
   "execution_count": 93,
   "metadata": {},
   "outputs": [],
   "source": [
    "def fetchTracks(albumIDs):\n",
    "    with spotify.token_as(user_token):\n",
    "        # Cut the df into chunks\n",
    "        n = 0\n",
    "        trackURIs = []\n",
    "        while n < len(albumIDs):\n",
    "            albumsToGet = albumIDs[n:(n+20)]\n",
    "            try:\n",
    "                    # Query spotify for that album's tracks\n",
    "                    nestedList = [[y.uri for y in x.tracks.items] for x in spotify.albums(albumsToGet, market='from_token')]\n",
    "                    # Unnest the list \n",
    "                    tracks = [item for sublist in nestedList for item in sublist]\n",
    "                    trackURIs += tracks\n",
    "                    # Wait 2 seconds so we do not exceed our API call allowance\n",
    "                    time.sleep(2)\n",
    "            except:\n",
    "                    # If there is an error in the batch, go through each separately\n",
    "                    for albumID in albumsToGet:\n",
    "                        try:\n",
    "                            nestedList = [[y.uri for y in x.tracks.items] for x in spotify.album(albumID, market='from_token')]\n",
    "                            # Unnest the list \n",
    "                            tracks = [item for sublist in nestedList for item in sublist]\n",
    "                            trackURIs += tracks\n",
    "                            # Wait 2 seconds so we do not exceed our API call allowance\n",
    "                            time.sleep(2)\n",
    "                        except: \n",
    "                            pass\n",
    "            finally:\n",
    "                n += 20\n",
    "    # Drop duplicates\n",
    "    trackURIs = trackURIs.unique()\n",
    "    return trackURIs"
   ]
  },
  {
   "cell_type": "code",
   "execution_count": 94,
   "metadata": {},
   "outputs": [
    {
     "ename": "AttributeError",
     "evalue": "'list' object has no attribute 'unique'",
     "output_type": "error",
     "traceback": [
      "\u001b[0;31m---------------------------------------------------------------------------\u001b[0m",
      "\u001b[0;31mAttributeError\u001b[0m                            Traceback (most recent call last)",
      "Cell \u001b[0;32mIn[94], line 1\u001b[0m\n\u001b[0;32m----> 1\u001b[0m recentTracks \u001b[38;5;241m=\u001b[39m \u001b[43mfetchTracks\u001b[49m\u001b[43m(\u001b[49m\u001b[43mrecentAlbums\u001b[49m\u001b[43m)\u001b[49m\n\u001b[1;32m      2\u001b[0m recentTracks\n",
      "Cell \u001b[0;32mIn[93], line 31\u001b[0m, in \u001b[0;36mfetchTracks\u001b[0;34m(albumIDs)\u001b[0m\n\u001b[1;32m     29\u001b[0m             n \u001b[38;5;241m+\u001b[39m\u001b[38;5;241m=\u001b[39m \u001b[38;5;241m20\u001b[39m\n\u001b[1;32m     30\u001b[0m \u001b[38;5;66;03m# Drop duplicates\u001b[39;00m\n\u001b[0;32m---> 31\u001b[0m trackURIs \u001b[38;5;241m=\u001b[39m \u001b[43mtrackURIs\u001b[49m\u001b[38;5;241;43m.\u001b[39;49m\u001b[43munique\u001b[49m()\n\u001b[1;32m     32\u001b[0m \u001b[38;5;28;01mreturn\u001b[39;00m trackURIs\n",
      "\u001b[0;31mAttributeError\u001b[0m: 'list' object has no attribute 'unique'"
     ]
    }
   ],
   "source": [
    "recentTracks = fetchTracks(recentAlbums)\n",
    "recentTracks"
   ]
  },
  {
   "cell_type": "markdown",
   "metadata": {},
   "source": [
    "## Add recent albums to a playlist"
   ]
  },
  {
   "cell_type": "code",
   "execution_count": 92,
   "metadata": {},
   "outputs": [],
   "source": [
    "# Warning: This will make a new playlist\n",
    "playlistID = getPlaylistID('New Artists to Explore Further')\n",
    "# Add songs to the playlist\n",
    "addToPlaylist(recentTracks, playlistID)"
   ]
  },
  {
   "cell_type": "code",
   "execution_count": null,
   "metadata": {},
   "outputs": [],
   "source": [
    "# Cull both newFaves and oldFaves into CurrentYearSongCandidates"
   ]
  },
  {
   "cell_type": "code",
   "execution_count": null,
   "metadata": {},
   "outputs": [],
   "source": []
  },
  {
   "cell_type": "code",
   "execution_count": null,
   "metadata": {},
   "outputs": [],
   "source": []
  }
 ],
 "metadata": {
  "kernelspec": {
   "display_name": "Python 3.10.9 ('summerplaylist')",
   "language": "python",
   "name": "python3"
  },
  "language_info": {
   "codemirror_mode": {
    "name": "ipython",
    "version": 3
   },
   "file_extension": ".py",
   "mimetype": "text/x-python",
   "name": "python",
   "nbconvert_exporter": "python",
   "pygments_lexer": "ipython3",
   "version": "3.10.9"
  },
  "orig_nbformat": 4,
  "vscode": {
   "interpreter": {
    "hash": "e81157a0786199ab9ef170aa1943f0690c4844c55695062c7d895c198fc85648"
   }
  }
 },
 "nbformat": 4,
 "nbformat_minor": 2
}
