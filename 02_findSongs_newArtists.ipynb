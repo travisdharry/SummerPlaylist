{
 "cells": [
  {
   "cell_type": "markdown",
   "metadata": {},
   "source": [
    "## Configuration"
   ]
  },
  {
   "cell_type": "code",
   "execution_count": 1,
   "metadata": {},
   "outputs": [],
   "source": [
    "### Configuration\n",
    "# Import dependencies\n",
    "import os\n",
    "from collections import Counter\n",
    "from summerplaylist import *\n",
    "\n",
    "# Environment variables\n",
    "CLIENTID = os.environ.get('CLIENTID')\n",
    "CLIENTSECRET = os.environ.get('CLIENTSECRET')\n",
    "REDIRECT_URI = 'https://example.com/callback'"
   ]
  },
  {
   "cell_type": "markdown",
   "metadata": {},
   "source": [
    "## Log In"
   ]
  },
  {
   "cell_type": "code",
   "execution_count": 2,
   "metadata": {},
   "outputs": [
    {
     "name": "stdout",
     "output_type": "stream",
     "text": [
      "Opening browser for Spotify login...\n"
     ]
    }
   ],
   "source": [
    "# Authenticate to Spotify\n",
    "credentials = authenticateToSpotify(CLIENTID, CLIENTSECRET, REDIRECT_URI)"
   ]
  },
  {
   "cell_type": "markdown",
   "metadata": {},
   "source": [
    "## Collect artists from playlist"
   ]
  },
  {
   "cell_type": "code",
   "execution_count": 3,
   "metadata": {},
   "outputs": [
    {
     "ename": "TypeError",
     "evalue": "'NoneType' object is not iterable",
     "output_type": "error",
     "traceback": [
      "\u001b[0;31m---------------------------------------------------------------------------\u001b[0m",
      "\u001b[0;31mTypeError\u001b[0m                                 Traceback (most recent call last)",
      "Cell \u001b[0;32mIn[3], line 2\u001b[0m\n\u001b[1;32m      1\u001b[0m \u001b[38;5;66;03m# Read in favorite new artists from culled ArtistHasPotential playlist\u001b[39;00m\n\u001b[0;32m----> 2\u001b[0m winnersPlaylist \u001b[38;5;241m=\u001b[39m \u001b[43mgetPlaylistID\u001b[49m\u001b[43m(\u001b[49m\u001b[43mcredentials\u001b[49m\u001b[43m,\u001b[49m\u001b[43m \u001b[49m\u001b[38;5;124;43m'\u001b[39;49m\u001b[38;5;124;43mSummer02 - New Artists to Explore Further\u001b[39;49m\u001b[38;5;124;43m'\u001b[39;49m\u001b[43m)\u001b[49m\n\u001b[1;32m      3\u001b[0m \u001b[38;5;66;03m# Get all the artistIDs in that playlist\u001b[39;00m\n\u001b[1;32m      4\u001b[0m artistIDs \u001b[38;5;241m=\u001b[39m fetchArtistsFromPlaylist(credentials, winnersPlaylist)\n",
      "File \u001b[0;32m~/Desktop/Coding/SummerPlaylist/summerplaylist.py:265\u001b[0m, in \u001b[0;36mgetPlaylistID\u001b[0;34m(credentials, playlistName)\u001b[0m\n\u001b[1;32m    262\u001b[0m spotify, userID, user_token \u001b[38;5;241m=\u001b[39m credentials\n\u001b[1;32m    263\u001b[0m \u001b[38;5;28;01mwith\u001b[39;00m spotify\u001b[38;5;241m.\u001b[39mtoken_as(user_token):\n\u001b[1;32m    264\u001b[0m     \u001b[38;5;66;03m# Check if playlist already exists; if not create a new one\u001b[39;00m\n\u001b[0;32m--> 265\u001b[0m     userPlaylists \u001b[38;5;241m=\u001b[39m pd\u001b[38;5;241m.\u001b[39mDataFrame([{\u001b[38;5;124m'\u001b[39m\u001b[38;5;124mid\u001b[39m\u001b[38;5;124m'\u001b[39m:x\u001b[38;5;241m.\u001b[39mid, \u001b[38;5;124m'\u001b[39m\u001b[38;5;124mname\u001b[39m\u001b[38;5;124m'\u001b[39m:x\u001b[38;5;241m.\u001b[39mname} \u001b[38;5;28;01mfor\u001b[39;00m x \u001b[38;5;129;01min\u001b[39;00m \u001b[43mspotify\u001b[49m\u001b[38;5;241;43m.\u001b[39;49m\u001b[43mplaylists\u001b[49m\u001b[43m(\u001b[49m\u001b[43muserID\u001b[49m\u001b[43m,\u001b[49m\u001b[43m \u001b[49m\u001b[43mlimit\u001b[49m\u001b[38;5;241;43m=\u001b[39;49m\u001b[38;5;241;43m50\u001b[39;49m\u001b[43m)\u001b[49m\u001b[38;5;241m.\u001b[39mitems])\n\u001b[1;32m    266\u001b[0m     \u001b[38;5;28;01mif\u001b[39;00m \u001b[38;5;129;01mnot\u001b[39;00m (userPlaylists[\u001b[38;5;124m'\u001b[39m\u001b[38;5;124mname\u001b[39m\u001b[38;5;124m'\u001b[39m]\u001b[38;5;241m.\u001b[39meq(playlistName))\u001b[38;5;241m.\u001b[39many():\n\u001b[1;32m    267\u001b[0m         \u001b[38;5;66;03m# Create a playlist for the user\u001b[39;00m\n\u001b[1;32m    268\u001b[0m         newPlaylist \u001b[38;5;241m=\u001b[39m spotify\u001b[38;5;241m.\u001b[39mplaylist_create(userID, playlistName, public\u001b[38;5;241m=\u001b[39m\u001b[38;5;28;01mFalse\u001b[39;00m, description\u001b[38;5;241m=\u001b[39m\u001b[38;5;124m'\u001b[39m\u001b[38;5;124mRecent albums from new artists\u001b[39m\u001b[38;5;124m'\u001b[39m)\n",
      "File \u001b[0;32m~/opt/anaconda3/envs/summerplaylist/lib/python3.10/site-packages/tekore/_sender/client.py:89\u001b[0m, in \u001b[0;36msend_and_process.<locals>.decorator.<locals>.wrapper\u001b[0;34m(self, *args, **kwargs)\u001b[0m\n\u001b[1;32m     86\u001b[0m     \u001b[38;5;28;01mreturn\u001b[39;00m async_send(\u001b[38;5;28mself\u001b[39m, request, params)\n\u001b[1;32m     88\u001b[0m response \u001b[38;5;241m=\u001b[39m \u001b[38;5;28mself\u001b[39m\u001b[38;5;241m.\u001b[39msend(request)\n\u001b[0;32m---> 89\u001b[0m \u001b[38;5;28;01mreturn\u001b[39;00m \u001b[43mtry_post_func\u001b[49m\u001b[43m(\u001b[49m\u001b[43mrequest\u001b[49m\u001b[43m,\u001b[49m\u001b[43m \u001b[49m\u001b[43mresponse\u001b[49m\u001b[43m,\u001b[49m\u001b[43m \u001b[49m\u001b[38;5;241;43m*\u001b[39;49m\u001b[43mparams\u001b[49m\u001b[43m)\u001b[49m\n",
      "File \u001b[0;32m~/opt/anaconda3/envs/summerplaylist/lib/python3.10/site-packages/tekore/_sender/client.py:70\u001b[0m, in \u001b[0;36msend_and_process.<locals>.decorator.<locals>.try_post_func\u001b[0;34m(*args, **kwargs)\u001b[0m\n\u001b[1;32m     68\u001b[0m \u001b[38;5;28;01mdef\u001b[39;00m \u001b[38;5;21mtry_post_func\u001b[39m(\u001b[38;5;241m*\u001b[39margs, \u001b[38;5;241m*\u001b[39m\u001b[38;5;241m*\u001b[39mkwargs):\n\u001b[1;32m     69\u001b[0m     \u001b[38;5;28;01mtry\u001b[39;00m:\n\u001b[0;32m---> 70\u001b[0m         \u001b[38;5;28;01mreturn\u001b[39;00m \u001b[43mpost_func\u001b[49m\u001b[43m(\u001b[49m\u001b[38;5;241;43m*\u001b[39;49m\u001b[43margs\u001b[49m\u001b[43m,\u001b[49m\u001b[43m \u001b[49m\u001b[38;5;241;43m*\u001b[39;49m\u001b[38;5;241;43m*\u001b[39;49m\u001b[43mkwargs\u001b[49m\u001b[43m)\u001b[49m\n\u001b[1;32m     71\u001b[0m     \u001b[38;5;28;01mexcept\u001b[39;00m Unauthorised \u001b[38;5;28;01mas\u001b[39;00m e:\n\u001b[1;32m     72\u001b[0m         e\u001b[38;5;241m.\u001b[39mscope \u001b[38;5;241m=\u001b[39m wrapper\u001b[38;5;241m.\u001b[39mscope\n",
      "File \u001b[0;32m~/opt/anaconda3/envs/summerplaylist/lib/python3.10/site-packages/tekore/_client/decor/__init__.py:20\u001b[0m, in \u001b[0;36msend_and_process.<locals>.parse_response\u001b[0;34m(request, response)\u001b[0m\n\u001b[1;32m     18\u001b[0m \u001b[38;5;28;01mdef\u001b[39;00m \u001b[38;5;21mparse_response\u001b[39m(request, response):\n\u001b[1;32m     19\u001b[0m     handle_errors(request, response)\n\u001b[0;32m---> 20\u001b[0m     \u001b[38;5;28;01mreturn\u001b[39;00m \u001b[43mpost_func\u001b[49m\u001b[43m(\u001b[49m\u001b[43mresponse\u001b[49m\u001b[38;5;241;43m.\u001b[39;49m\u001b[43mcontent\u001b[49m\u001b[43m)\u001b[49m\n",
      "File \u001b[0;32m~/opt/anaconda3/envs/summerplaylist/lib/python3.10/site-packages/tekore/_client/process.py:25\u001b[0m, in \u001b[0;36msingle.<locals>.post_func\u001b[0;34m(json)\u001b[0m\n\u001b[1;32m     23\u001b[0m \u001b[38;5;28;01mdef\u001b[39;00m \u001b[38;5;21mpost_func\u001b[39m(json: \u001b[38;5;28mdict\u001b[39m):\n\u001b[1;32m     24\u001b[0m     json \u001b[38;5;241m=\u001b[39m json \u001b[38;5;28;01mif\u001b[39;00m from_item \u001b[38;5;129;01mis\u001b[39;00m \u001b[38;5;28;01mNone\u001b[39;00m \u001b[38;5;28;01melse\u001b[39;00m json[from_item]\n\u001b[0;32m---> 25\u001b[0m     \u001b[38;5;28;01mreturn\u001b[39;00m \u001b[43mtype_\u001b[49m\u001b[38;5;241;43m.\u001b[39;49m\u001b[43mfrom_kwargs\u001b[49m\u001b[43m(\u001b[49m\u001b[43mjson\u001b[49m\u001b[43m)\u001b[49m \u001b[38;5;28;01mif\u001b[39;00m json \u001b[38;5;129;01mis\u001b[39;00m \u001b[38;5;129;01mnot\u001b[39;00m \u001b[38;5;28;01mNone\u001b[39;00m \u001b[38;5;28;01melse\u001b[39;00m \u001b[38;5;28;01mNone\u001b[39;00m\n",
      "File \u001b[0;32m~/opt/anaconda3/envs/summerplaylist/lib/python3.10/site-packages/tekore/_model/serialise.py:206\u001b[0m, in \u001b[0;36mModel.from_kwargs\u001b[0;34m(cls, kwargs)\u001b[0m\n\u001b[1;32m    203\u001b[0m     \u001b[38;5;28;01melse\u001b[39;00m:\n\u001b[1;32m    204\u001b[0m         unknown_kwargs[name] \u001b[38;5;241m=\u001b[39m val\n\u001b[0;32m--> 206\u001b[0m model \u001b[38;5;241m=\u001b[39m \u001b[38;5;28;43mcls\u001b[39;49m\u001b[43m(\u001b[49m\u001b[38;5;241;43m*\u001b[39;49m\u001b[38;5;241;43m*\u001b[39;49m\u001b[43mknown_kwargs\u001b[49m\u001b[43m)\u001b[49m\n\u001b[1;32m    208\u001b[0m \u001b[38;5;28;01mfor\u001b[39;00m name, val \u001b[38;5;129;01min\u001b[39;00m unknown_kwargs\u001b[38;5;241m.\u001b[39mitems():\n\u001b[1;32m    209\u001b[0m     \u001b[38;5;28msetattr\u001b[39m(model, name, val)\n",
      "File \u001b[0;32m<string>:10\u001b[0m, in \u001b[0;36m__init__\u001b[0;34m(self, href, items, limit, next, total, offset, previous)\u001b[0m\n",
      "File \u001b[0;32m~/opt/anaconda3/envs/summerplaylist/lib/python3.10/site-packages/tekore/_model/playlist.py:149\u001b[0m, in \u001b[0;36mSimplePlaylistPaging.__post_init__\u001b[0;34m(self)\u001b[0m\n\u001b[1;32m    148\u001b[0m \u001b[38;5;28;01mdef\u001b[39;00m \u001b[38;5;21m__post_init__\u001b[39m(\u001b[38;5;28mself\u001b[39m):\n\u001b[0;32m--> 149\u001b[0m     \u001b[38;5;28mself\u001b[39m\u001b[38;5;241m.\u001b[39mitems \u001b[38;5;241m=\u001b[39m \u001b[43mModelList\u001b[49m\u001b[43m(\u001b[49m\u001b[43mSimplePlaylist\u001b[49m\u001b[38;5;241;43m.\u001b[39;49m\u001b[43mfrom_kwargs\u001b[49m\u001b[43m(\u001b[49m\u001b[43mp\u001b[49m\u001b[43m)\u001b[49m\u001b[43m \u001b[49m\u001b[38;5;28;43;01mfor\u001b[39;49;00m\u001b[43m \u001b[49m\u001b[43mp\u001b[49m\u001b[43m \u001b[49m\u001b[38;5;129;43;01min\u001b[39;49;00m\u001b[43m \u001b[49m\u001b[38;5;28;43mself\u001b[39;49m\u001b[38;5;241;43m.\u001b[39;49m\u001b[43mitems\u001b[49m\u001b[43m)\u001b[49m\n",
      "File \u001b[0;32m~/opt/anaconda3/envs/summerplaylist/lib/python3.10/site-packages/tekore/_model/playlist.py:149\u001b[0m, in \u001b[0;36m<genexpr>\u001b[0;34m(.0)\u001b[0m\n\u001b[1;32m    148\u001b[0m \u001b[38;5;28;01mdef\u001b[39;00m \u001b[38;5;21m__post_init__\u001b[39m(\u001b[38;5;28mself\u001b[39m):\n\u001b[0;32m--> 149\u001b[0m     \u001b[38;5;28mself\u001b[39m\u001b[38;5;241m.\u001b[39mitems \u001b[38;5;241m=\u001b[39m ModelList(\u001b[43mSimplePlaylist\u001b[49m\u001b[38;5;241;43m.\u001b[39;49m\u001b[43mfrom_kwargs\u001b[49m\u001b[43m(\u001b[49m\u001b[43mp\u001b[49m\u001b[43m)\u001b[49m \u001b[38;5;28;01mfor\u001b[39;00m p \u001b[38;5;129;01min\u001b[39;00m \u001b[38;5;28mself\u001b[39m\u001b[38;5;241m.\u001b[39mitems)\n",
      "File \u001b[0;32m~/opt/anaconda3/envs/summerplaylist/lib/python3.10/site-packages/tekore/_model/serialise.py:206\u001b[0m, in \u001b[0;36mModel.from_kwargs\u001b[0;34m(cls, kwargs)\u001b[0m\n\u001b[1;32m    203\u001b[0m     \u001b[38;5;28;01melse\u001b[39;00m:\n\u001b[1;32m    204\u001b[0m         unknown_kwargs[name] \u001b[38;5;241m=\u001b[39m val\n\u001b[0;32m--> 206\u001b[0m model \u001b[38;5;241m=\u001b[39m \u001b[38;5;28;43mcls\u001b[39;49m\u001b[43m(\u001b[49m\u001b[38;5;241;43m*\u001b[39;49m\u001b[38;5;241;43m*\u001b[39;49m\u001b[43mknown_kwargs\u001b[49m\u001b[43m)\u001b[49m\n\u001b[1;32m    208\u001b[0m \u001b[38;5;28;01mfor\u001b[39;00m name, val \u001b[38;5;129;01min\u001b[39;00m unknown_kwargs\u001b[38;5;241m.\u001b[39mitems():\n\u001b[1;32m    209\u001b[0m     \u001b[38;5;28msetattr\u001b[39m(model, name, val)\n",
      "File \u001b[0;32m<string>:17\u001b[0m, in \u001b[0;36m__init__\u001b[0;34m(self, id, href, type, uri, collaborative, external_urls, images, name, owner, public, snapshot_id, primary_color, description, tracks)\u001b[0m\n",
      "File \u001b[0;32m~/opt/anaconda3/envs/summerplaylist/lib/python3.10/site-packages/tekore/_model/playlist.py:125\u001b[0m, in \u001b[0;36mSimplePlaylist.__post_init__\u001b[0;34m(self)\u001b[0m\n\u001b[1;32m    124\u001b[0m \u001b[38;5;28;01mdef\u001b[39;00m \u001b[38;5;21m__post_init__\u001b[39m(\u001b[38;5;28mself\u001b[39m):\n\u001b[0;32m--> 125\u001b[0m     \u001b[38;5;28;43msuper\u001b[39;49m\u001b[43m(\u001b[49m\u001b[43m)\u001b[49m\u001b[38;5;241;43m.\u001b[39;49m\u001b[43m__post_init__\u001b[49m\u001b[43m(\u001b[49m\u001b[43m)\u001b[49m\n\u001b[1;32m    126\u001b[0m     \u001b[38;5;28mself\u001b[39m\u001b[38;5;241m.\u001b[39mtracks \u001b[38;5;241m=\u001b[39m Tracks\u001b[38;5;241m.\u001b[39mfrom_kwargs(\u001b[38;5;28mself\u001b[39m\u001b[38;5;241m.\u001b[39mtracks)\n",
      "File \u001b[0;32m~/opt/anaconda3/envs/summerplaylist/lib/python3.10/site-packages/tekore/_model/playlist.py:113\u001b[0m, in \u001b[0;36mPlaylist.__post_init__\u001b[0;34m(self)\u001b[0m\n\u001b[1;32m    112\u001b[0m \u001b[38;5;28;01mdef\u001b[39;00m \u001b[38;5;21m__post_init__\u001b[39m(\u001b[38;5;28mself\u001b[39m):\n\u001b[0;32m--> 113\u001b[0m     \u001b[38;5;28mself\u001b[39m\u001b[38;5;241m.\u001b[39mimages \u001b[38;5;241m=\u001b[39m ModelList(Image\u001b[38;5;241m.\u001b[39mfrom_kwargs(i) \u001b[38;5;28;01mfor\u001b[39;00m i \u001b[38;5;129;01min\u001b[39;00m \u001b[38;5;28mself\u001b[39m\u001b[38;5;241m.\u001b[39mimages)\n\u001b[1;32m    114\u001b[0m     \u001b[38;5;28;01mif\u001b[39;00m \u001b[38;5;28mself\u001b[39m\u001b[38;5;241m.\u001b[39mowner \u001b[38;5;129;01mis\u001b[39;00m \u001b[38;5;129;01mnot\u001b[39;00m \u001b[38;5;28;01mNone\u001b[39;00m:\n\u001b[1;32m    115\u001b[0m         \u001b[38;5;28mself\u001b[39m\u001b[38;5;241m.\u001b[39mowner \u001b[38;5;241m=\u001b[39m PublicUser\u001b[38;5;241m.\u001b[39mfrom_kwargs(\u001b[38;5;28mself\u001b[39m\u001b[38;5;241m.\u001b[39mowner)\n",
      "\u001b[0;31mTypeError\u001b[0m: 'NoneType' object is not iterable"
     ]
    }
   ],
   "source": [
    "# Read in favorite new artists from culled ArtistHasPotential playlist\n",
    "winnersPlaylist = getPlaylistID(credentials, 'Summer02 - New Artists to Explore Further')\n",
    "# Get all the artistIDs in that playlist\n",
    "artistIDs = fetchArtistsFromPlaylist(credentials, winnersPlaylist)\n",
    "# Sort and deduplicate artists by value counts (get value count dict; sort this dict)\n",
    "artistIDs = list(dict(sorted(Counter(artistIDs).items(), key=lambda x:x[1], reverse=True)).keys())\n",
    "print(f\"{len(artistIDs)} artists\")\n",
    "print(artistIDs[:5])"
   ]
  },
  {
   "cell_type": "markdown",
   "metadata": {},
   "source": [
    "## Get the recent albums for each artist"
   ]
  },
  {
   "cell_type": "code",
   "execution_count": 4,
   "metadata": {},
   "outputs": [
    {
     "name": "stdout",
     "output_type": "stream",
     "text": [
      "467 recent albums\n",
      "['5U3qHK1s6FljIZNrNCFyk1', '02M9J3SaMiDQZd7fIgVCtx', '5QBZf1SnKE7WtjivYO74KE', '2qioFepYwtRRzdP91fGsj5', '0X5xnCnMafZT1sRIHnzAwP']\n"
     ]
    }
   ],
   "source": [
    "# Find recent songs < 3 years old from new artists\n",
    "recentAlbums = fetchRecentAlbums(credentials, artistIDs, maxAge=3)\n",
    "print(f\"{len(recentAlbums)} recent albums\")\n",
    "print(recentAlbums[:5])"
   ]
  },
  {
   "cell_type": "markdown",
   "metadata": {},
   "source": [
    "## Get all the tracks on these playlists"
   ]
  },
  {
   "cell_type": "code",
   "execution_count": 5,
   "metadata": {},
   "outputs": [
    {
     "name": "stdout",
     "output_type": "stream",
     "text": [
      "5667 recent tracks to put in playlist\n",
      "['spotify:track:0aadNTOqRHYma6Ow3IsY0h', 'spotify:track:4fC8mW8ZFQanmSHq30mgWz', 'spotify:track:0RG9C2ML9HeoMzOu9JdcAA', 'spotify:track:2fNLvDB6UFHE6KnxnYrUSq', 'spotify:track:6wprPmHMxfXtb2BwywwdXE']\n"
     ]
    }
   ],
   "source": [
    "recentTracks = fetchTracks(credentials, recentAlbums)\n",
    "print(f\"{len(recentTracks)} recent tracks to put in playlist\")\n",
    "print(recentTracks[:5])"
   ]
  },
  {
   "cell_type": "markdown",
   "metadata": {},
   "source": [
    "## Add recent albums to a playlist"
   ]
  },
  {
   "cell_type": "code",
   "execution_count": null,
   "metadata": {},
   "outputs": [],
   "source": [
    "# Warning: This will make a new playlist for each 1000 songs\n",
    "i = 1\n",
    "min = 0\n",
    "max = 1000\n",
    "while max < len(recentTracks)+1000:\n",
    "    # Create a new playlist \n",
    "    playlistID = getPlaylistID(credentials, f'Summer03-{i} - New Artist Exploration')\n",
    "    # Add songs to the playlist\n",
    "    addToPlaylist(credentials, recentTracks[min:max], playlistID)\n",
    "    i += 1\n",
    "    min += 1000\n",
    "    max += 1000\n"
   ]
  },
  {
   "cell_type": "markdown",
   "metadata": {},
   "source": [
    "# Make playlist to hold liked songs"
   ]
  },
  {
   "cell_type": "code",
   "execution_count": 7,
   "metadata": {},
   "outputs": [],
   "source": [
    "# Warning: This will make a new playlist\n",
    "playlistID_candidates = getPlaylistID(credentials, 'Summer04 - Candidate Songs')"
   ]
  },
  {
   "cell_type": "code",
   "execution_count": null,
   "metadata": {},
   "outputs": [],
   "source": []
  }
 ],
 "metadata": {
  "kernelspec": {
   "display_name": "summerplaylist",
   "language": "python",
   "name": "python3"
  },
  "language_info": {
   "codemirror_mode": {
    "name": "ipython",
    "version": 3
   },
   "file_extension": ".py",
   "mimetype": "text/x-python",
   "name": "python",
   "nbconvert_exporter": "python",
   "pygments_lexer": "ipython3",
   "version": "3.10.9"
  },
  "orig_nbformat": 4
 },
 "nbformat": 4,
 "nbformat_minor": 2
}
