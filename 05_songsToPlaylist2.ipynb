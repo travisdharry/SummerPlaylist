{
 "cells": [
  {
   "cell_type": "markdown",
   "metadata": {},
   "source": [
    "## Config"
   ]
  },
  {
   "cell_type": "code",
   "execution_count": 15,
   "metadata": {},
   "outputs": [],
   "source": [
    "# Import dependencies\n",
    "import tekore as tk\n",
    "import os\n",
    "import time\n",
    "import pandas as pd\n",
    "import numpy as np\n",
    "from datetime import datetime, date\n",
    "from dateutil.relativedelta import relativedelta\n",
    "\n",
    "# Environment variables\n",
    "CLIENTID = os.environ.get('CLIENTID')\n",
    "CLIENTSECRET = os.environ.get('CLIENTSECRET')\n",
    "REDIRECT_URI = 'https://example.com/callback'"
   ]
  },
  {
   "cell_type": "code",
   "execution_count": 3,
   "metadata": {},
   "outputs": [
    {
     "name": "stdout",
     "output_type": "stream",
     "text": [
      "Opening browser for Spotify login...\n"
     ]
    }
   ],
   "source": [
    "### Authenticate Tekore and Authorize App\n",
    "# Get client token\n",
    "app_token = tk.request_client_token(CLIENTID, CLIENTSECRET)\n",
    "# Get a user token; Note the need to ask for write scope in order to create/edit playlists\n",
    "# This will open a browser window; the user will need to copy the URL from the browser and paste it into the VSCode Command Palette\n",
    "user_token = tk.prompt_for_user_token(CLIENTID, CLIENTSECRET, REDIRECT_URI, scope=tk.scope.write)\n",
    "# Create spotify instance\n",
    "spotify = tk.Spotify(app_token)\n",
    "# Get the user's spotifyID; The spotify instance will have to reference the user_token to be authorized for this data\n",
    "with spotify.token_as(user_token):\n",
    "    userID = spotify.current_user().id"
   ]
  },
  {
   "cell_type": "markdown",
   "metadata": {},
   "source": [
    "## Get some songs and sort them"
   ]
  },
  {
   "cell_type": "code",
   "execution_count": 40,
   "metadata": {},
   "outputs": [],
   "source": [
    "# Extract list of songs\n",
    "songs = pd.read_csv('songs2.csv')\n",
    "\n",
    "# Clean\n",
    "# Convert to datetime\n",
    "songs['albumReleaseDate'] = pd.to_datetime(songs['albumReleaseDate'])\n",
    "\n",
    "# Sort\n",
    "# Create a categorical sort order\n",
    "priorPlaylists = [\n",
    "    '2023',\n",
    "    'Summer 2022',\n",
    "    'Summer 2021',\n",
    "    'Summer 2020',\n",
    "    'Summer 2019',\n",
    "    'Summer 2018',\n",
    "    'anti pop',\n",
    "    'big on the internet',\n",
    "    'Lorem',\n",
    "    'Alternative Hip-Hop',\n",
    "    'Et-Alt'\n",
    "]\n",
    "songs['artistSource'] = pd.Categorical(songs['artistSource'], categories=priorPlaylists)\n",
    "songs = songs.sort_values(by=['artistSource', 'artistGenreUnique', 'artistID', 'albumID'], ignore_index=True)"
   ]
  },
  {
   "cell_type": "code",
   "execution_count": 41,
   "metadata": {},
   "outputs": [],
   "source": [
    "# Filter\n",
    "# Date\n",
    "MINDATE = datetime((date.today() - relativedelta(years=1)).year, 6, 1)\n",
    "filDate = songs.albumReleaseDate>=MINDATE\n",
    "# Album Type\n",
    "filAType = songs.albumType=='album'\n",
    "# Number of entries\n",
    "lastNumber = 0\n",
    "newNumber = 1000\n",
    "songs = songs.loc[filDate & filAType][lastNumber:newNumber]"
   ]
  },
  {
   "cell_type": "code",
   "execution_count": 42,
   "metadata": {},
   "outputs": [],
   "source": [
    "# Sort by Popularity from center\n",
    "# songs['sorter'] = songs['artistPopularity'] - 50\n",
    "# songs['sorter'] = songs['sorter'].abs()\n",
    "# songs = songs.sort_values('sorter', ignore_index=True)"
   ]
  },
  {
   "cell_type": "markdown",
   "metadata": {},
   "source": [
    "## Create an empty playlist in the user's account"
   ]
  },
  {
   "cell_type": "code",
   "execution_count": 44,
   "metadata": {},
   "outputs": [],
   "source": [
    "# Create a playlist for the user\n",
    "with spotify.token_as(user_token):\n",
    "    newPlaylist = spotify.playlist_create(userID, \"Summer Songs 1\", public=False, description='Recent albums from Artist Candidates')\n",
    "playlistID = newPlaylist.id"
   ]
  },
  {
   "cell_type": "markdown",
   "metadata": {},
   "source": [
    "## Add the songs to the playlist"
   ]
  },
  {
   "cell_type": "code",
   "execution_count": 45,
   "metadata": {},
   "outputs": [],
   "source": [
    "# Cut the df into chunks\n",
    "n = 0\n",
    "while n < len(songs):\n",
    "    songsToAdd = songs.iloc[n:(n+100)]\n",
    "    # Add songs to the playlist\n",
    "    try:\n",
    "        with spotify.token_as(user_token):\n",
    "            additions = spotify.playlist_add(playlistID, list(songsToAdd['songURI']), position=None)\n",
    "            # Wait 2 seconds so we do not exceed our API call allowance\n",
    "            time.sleep(2)\n",
    "    except: \n",
    "        with spotify.token_as(user_token):\n",
    "            for songURI in songsToAdd['songURI']:\n",
    "                try:\n",
    "                    additions = spotify.playlist_add(playlistID, songURI, position=None)\n",
    "                    # Wait 2 seconds so we do not exceed our API call allowance\n",
    "                    time.sleep(2)\n",
    "                except: \n",
    "                    pass\n",
    "    n += 100"
   ]
  },
  {
   "cell_type": "code",
   "execution_count": null,
   "metadata": {},
   "outputs": [],
   "source": []
  }
 ],
 "metadata": {
  "kernelspec": {
   "display_name": "Python 3.10.9 ('summerplaylist')",
   "language": "python",
   "name": "python3"
  },
  "language_info": {
   "codemirror_mode": {
    "name": "ipython",
    "version": 3
   },
   "file_extension": ".py",
   "mimetype": "text/x-python",
   "name": "python",
   "nbconvert_exporter": "python",
   "pygments_lexer": "ipython3",
   "version": "3.10.9"
  },
  "orig_nbformat": 4,
  "vscode": {
   "interpreter": {
    "hash": "e81157a0786199ab9ef170aa1943f0690c4844c55695062c7d895c198fc85648"
   }
  }
 },
 "nbformat": 4,
 "nbformat_minor": 2
}
