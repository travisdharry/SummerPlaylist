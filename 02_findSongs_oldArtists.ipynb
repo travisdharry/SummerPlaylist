{
 "cells": [
  {
   "cell_type": "markdown",
   "metadata": {},
   "source": [
    "## Configuration"
   ]
  },
  {
   "cell_type": "code",
   "execution_count": null,
   "metadata": {},
   "outputs": [],
   "source": [
    "### Configuration\n",
    "# Import dependencies\n",
    "import os\n",
    "from collections import Counter\n",
    "import summerplaylist\n",
    "\n",
    "# Environment variables\n",
    "CLIENTID = os.environ.get('CLIENTID')\n",
    "CLIENTSECRET = os.environ.get('CLIENTSECRET')\n",
    "REDIRECT_URI = 'https://example.com/callback'"
   ]
  },
  {
   "cell_type": "markdown",
   "metadata": {},
   "source": [
    "## Log In"
   ]
  },
  {
   "cell_type": "code",
   "execution_count": null,
   "metadata": {},
   "outputs": [],
   "source": [
    "# Authenticate to Spotify\n",
    "spotify, userID, user_token = authenticateToSpotify(CLIENTID, CLIENTSECRET, REDIRECT_URI)"
   ]
  },
  {
   "cell_type": "markdown",
   "metadata": {},
   "source": [
    "## Collect Artists"
   ]
  },
  {
   "cell_type": "code",
   "execution_count": null,
   "metadata": {},
   "outputs": [],
   "source": [
    "# Read in favorite old artists from playlists\n",
    "# List of old summer playlists\n",
    "summersPast = [\n",
    "    'Summer 2018',\n",
    "    'Summer 2019',\n",
    "    'Endless Summer 2020',\n",
    "    'Endless Summer 2021',\n",
    "    'Endless Summer 2022'\n",
    "]\n",
    "# Get a list of the playlistIDs for each playlist\n",
    "playlistIDs = []\n",
    "for playlist in summersPast:\n",
    "    playlistIDs += getPlaylistID(playlist)\n",
    "\n",
    "# Get a list of artistIDs\n",
    "artistsOldFaves = []\n",
    "for playlist in playlistIDs:\n",
    "    artistsOldFaves += fetchArtistsFromPlaylist(playlist)\n",
    "# Sort and deduplicate artists by value counts (get value count dict; sort this dict)\n",
    "artistIDs = list(dict(sorted(Counter(artistsOldFaves).items(), key=lambda x:x[1], reverse=True)).keys())\n"
   ]
  },
  {
   "cell_type": "markdown",
   "metadata": {},
   "source": [
    "## Collect recent albums for those artists"
   ]
  },
  {
   "cell_type": "code",
   "execution_count": null,
   "metadata": {},
   "outputs": [],
   "source": [
    "# Find recent songs <1 year from old artists\n",
    "recentAlbums = fetchRecentAlbums(artistIDs, maxAge=1)\n",
    "recentAlbums\n"
   ]
  },
  {
   "cell_type": "markdown",
   "metadata": {},
   "source": [
    "## Add songs to playlist"
   ]
  },
  {
   "cell_type": "code",
   "execution_count": null,
   "metadata": {},
   "outputs": [],
   "source": [
    "# Add to oldFaves playlist"
   ]
  },
  {
   "cell_type": "code",
   "execution_count": null,
   "metadata": {},
   "outputs": [],
   "source": [
    "# Cull both newFaves and oldFaves into CurrentYearSongCandidates"
   ]
  },
  {
   "cell_type": "code",
   "execution_count": null,
   "metadata": {},
   "outputs": [],
   "source": []
  },
  {
   "cell_type": "code",
   "execution_count": null,
   "metadata": {},
   "outputs": [],
   "source": []
  }
 ],
 "metadata": {
  "kernelspec": {
   "display_name": "Python 3.10.9 ('summerplaylist')",
   "language": "python",
   "name": "python3"
  },
  "language_info": {
   "name": "python",
   "version": "3.10.9"
  },
  "orig_nbformat": 4,
  "vscode": {
   "interpreter": {
    "hash": "e81157a0786199ab9ef170aa1943f0690c4844c55695062c7d895c198fc85648"
   }
  }
 },
 "nbformat": 4,
 "nbformat_minor": 2
}
