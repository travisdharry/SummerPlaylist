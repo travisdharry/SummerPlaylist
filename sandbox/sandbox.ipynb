{
 "cells": [
  {
   "cell_type": "markdown",
   "metadata": {},
   "source": [
    "# Sandbox"
   ]
  },
  {
   "cell_type": "markdown",
   "metadata": {},
   "source": [
    "## Config"
   ]
  },
  {
   "cell_type": "code",
   "execution_count": 1,
   "metadata": {},
   "outputs": [],
   "source": [
    "# Import dependencies\n",
    "import tekore as tk\n",
    "import spotipy\n",
    "import os\n",
    "import numpy as np\n",
    "import pandas as pd\n",
    "import time\n",
    "from datetime import datetime\n",
    "from dateutil.relativedelta import relativedelta\n",
    "# Environment variables\n",
    "CLIENTID = os.environ.get('CLIENTID')\n",
    "CLIENTSECRET = os.environ.get('CLIENTSECRET')\n",
    "REDIRECT_URI = os.environ.get('REDIRECT_URI')\n",
    "\n",
    "# Set global variables\n",
    "MINDATE = datetime.today() - relativedelta(years=5)\n"
   ]
  },
  {
   "cell_type": "markdown",
   "metadata": {},
   "source": [
    "## Authentication"
   ]
  },
  {
   "cell_type": "code",
   "execution_count": 2,
   "metadata": {},
   "outputs": [],
   "source": [
    "### Tekore\n",
    "# Get client token\n",
    "app_token = tk.request_client_token(CLIENTID, CLIENTSECRET)\n",
    "# Create spotify instance\n",
    "spotify = tk.Spotify(app_token)"
   ]
  },
  {
   "cell_type": "markdown",
   "metadata": {},
   "source": [
    "## Tekore Sandbox"
   ]
  },
  {
   "cell_type": "code",
   "execution_count": 3,
   "metadata": {},
   "outputs": [
    {
     "data": {
      "text/plain": [
       "(FullArtistOffsetPaging with fields:\n",
       "   href = 'https://api.spotify.com/v1/search?offset=0&limit=10&query=Syl...'\n",
       "   items = [10 x FullArtist(external_urls, followers, genres, href, ...)]\n",
       "   limit = 10\n",
       "   next = 'https://api.spotify.com/v1/search?offset=10&limit=10&query=Sy...'\n",
       "   offset = 0\n",
       "   previous = None\n",
       "   total = 800,)"
      ]
     },
     "execution_count": 3,
     "metadata": {},
     "output_type": "execute_result"
    }
   ],
   "source": [
    "# First let's try to get an artist's Spotify ID by searching for their name\n",
    "# Searching by artist name returns a tuple with many different Spotify elements\n",
    "artists = spotify.search('Sylvan Esso', types=['artist'], limit=10)\n",
    "artists"
   ]
  },
  {
   "cell_type": "code",
   "execution_count": 4,
   "metadata": {},
   "outputs": [
    {
     "ename": "AttributeError",
     "evalue": "'tuple' object has no attribute 'items'",
     "output_type": "error",
     "traceback": [
      "\u001b[0;31m---------------------------------------------------------------------------\u001b[0m",
      "\u001b[0;31mAttributeError\u001b[0m                            Traceback (most recent call last)",
      "Cell \u001b[0;32mIn[4], line 2\u001b[0m\n\u001b[1;32m      1\u001b[0m \u001b[38;5;66;03m# The code above doesn't help get the artist's id because it returns a tuple and we cannot select the tuple's items like we would a list\u001b[39;00m\n\u001b[0;32m----> 2\u001b[0m \u001b[43martists\u001b[49m\u001b[38;5;241;43m.\u001b[39;49m\u001b[43mitems\u001b[49m[\u001b[38;5;241m0\u001b[39m]\n",
      "\u001b[0;31mAttributeError\u001b[0m: 'tuple' object has no attribute 'items'"
     ]
    }
   ],
   "source": [
    "# The code above doesn't help get the artist's id because it returns a tuple and we cannot select the tuple's items like we would a list\n",
    "artists.items[0]"
   ]
  },
  {
   "cell_type": "code",
   "execution_count": 5,
   "metadata": {},
   "outputs": [
    {
     "data": {
      "text/plain": [
       "FullArtist with fields:\n",
       "  external_urls = {'spotify'}\n",
       "  followers = Followers(href, total)\n",
       "  genres = [0 x str]\n",
       "  href = 'https://api.spotify.com/v1/artists/39vA9YljbnOApXKniLWBZv'\n",
       "  id = '39vA9YljbnOApXKniLWBZv'\n",
       "  images = [3 x Image(height, url, width)]\n",
       "  name = 'Sylvan Esso'\n",
       "  popularity = 58\n",
       "  type = 'artist'\n",
       "  uri = 'spotify:artist:39vA9YljbnOApXKniLWBZv'"
      ]
     },
     "execution_count": 5,
     "metadata": {},
     "output_type": "execute_result"
    }
   ],
   "source": [
    "# The code below, though, does allow us to unpack the tuple\n",
    "# Note the comma trailing the variable\n",
    "# This tells python we know we are dealing with a tuple, and we can select the first artist from it\n",
    "artists, = spotify.search(\"Sylvan Esso\", types=['artist'], limit=10)\n",
    "artists.items[0]"
   ]
  },
  {
   "cell_type": "code",
   "execution_count": 9,
   "metadata": {},
   "outputs": [
    {
     "name": "stdout",
     "output_type": "stream",
     "text": [
      "Sylvan Esso is classified under the following genres: \n",
      "Sylvan Esso's Spotify ID is: 39vA9YljbnOApXKniLWBZv\n"
     ]
    }
   ],
   "source": [
    "# From within the artist item we can select other elements like genre or artist_id\n",
    "print(\"Sylvan Esso is classified under the following genres: \" + \", \".join([x for x in artists.items[0].genres]))\n",
    "print(f\"Sylvan Esso's Spotify ID is: {artists.items[0].id}\")"
   ]
  },
  {
   "cell_type": "code",
   "execution_count": 7,
   "metadata": {},
   "outputs": [
    {
     "data": {
      "text/plain": [
       "FullArtist with fields:\n",
       "  external_urls = {'spotify'}\n",
       "  followers = Followers(href, total)\n",
       "  genres = [0 x str]\n",
       "  href = 'https://api.spotify.com/v1/artists/39vA9YljbnOApXKniLWBZv'\n",
       "  id = '39vA9YljbnOApXKniLWBZv'\n",
       "  images = [3 x Image(height, url, width)]\n",
       "  name = 'Sylvan Esso'\n",
       "  popularity = 58\n",
       "  type = 'artist'\n",
       "  uri = 'spotify:artist:39vA9YljbnOApXKniLWBZv'"
      ]
     },
     "execution_count": 7,
     "metadata": {},
     "output_type": "execute_result"
    }
   ],
   "source": [
    "# Let's see what the artist API can tell us\n",
    "# We can see the artist method again returns the FullArtist\n",
    "sylvanEsso = spotify.artist('39vA9YljbnOApXKniLWBZv')\n",
    "sylvanEsso\n",
    "# Interesting that we can get popularity on a scale of 0-100; this will be useful later"
   ]
  },
  {
   "cell_type": "code",
   "execution_count": 10,
   "metadata": {},
   "outputs": [
    {
     "name": "stdout",
     "output_type": "stream",
     "text": [
      "50\n"
     ]
    }
   ],
   "source": [
    "# Let's see if we can get a list of ids for the artist's albums\n",
    "sylvanAlbums = spotify.artist_albums('39vA9YljbnOApXKniLWBZv', limit=50)\n",
    "print(len(sylvanAlbums.items))"
   ]
  },
  {
   "cell_type": "code",
   "execution_count": 202,
   "metadata": {},
   "outputs": [
    {
     "name": "stdout",
     "output_type": "stream",
     "text": [
      "37\n"
     ]
    },
    {
     "data": {
      "text/plain": [
       "['3EOSrgN0wOOqNvS5GUsiLp',\n",
       " '6w0oK4Y6MvRqFaE3J0Uwyz',\n",
       " '0oTOOEPtYGZFYnWlLnOsxL',\n",
       " '3BBCxnIvQauRM4FT2Mc3pX',\n",
       " '1Aus1dFkP2BSyzibCl0HA7']"
      ]
     },
     "execution_count": 202,
     "metadata": {},
     "output_type": "execute_result"
    }
   ],
   "source": [
    "# We have a problem: Spotify limits the number of albums to 50. \n",
    "# We will have to write some logic to get all the albums if there are more than 50\n",
    "# The offset parameter will help\n",
    "sylvanAlbums = spotify.artist_albums('39vA9YljbnOApXKniLWBZv', limit=50, offset=50)\n",
    "print(len(sylvanAlbums.items))\n",
    "# We can see there are 87 albums (50+37) as of this writing\n",
    "# We can use a list iteration to get all the album ids\n",
    "[x.id for x in sylvanAlbums.items][:5]"
   ]
  },
  {
   "cell_type": "code",
   "execution_count": 163,
   "metadata": {},
   "outputs": [
    {
     "name": "stdout",
     "output_type": "stream",
     "text": [
      "87\n"
     ]
    },
    {
     "data": {
      "text/plain": [
       "['6rl4rzZxECegl9PdYG0hfk',\n",
       " '2KAPJ40On8JY1Yt64JJgTk',\n",
       " '68ClkAMsCDyx2lQMsnbY55',\n",
       " '1BJMCEXQ7JmuVlJ6cYbe3x',\n",
       " '1862qnxqsLeiNDblknjtiL']"
      ]
     },
     "execution_count": 163,
     "metadata": {},
     "output_type": "execute_result"
    }
   ],
   "source": [
    "# Let's make a function to join the multiple pages of albums together\n",
    "def get_artistAlbums(artistID):\n",
    "    # Initialize variables\n",
    "    length = 50\n",
    "    albumList = []\n",
    "    offset=0\n",
    "    # If the returned page is 50 items that means we need to call the API for another chunk\n",
    "    while length==50:\n",
    "        # Call the API to get the artist's albums\n",
    "        albums = spotify.artist_albums(artistID, limit=50, offset=offset)\n",
    "        # Append this chunk to our existing list\n",
    "        albumList = albumList + [x.id for x in albums.items]\n",
    "        # Reset the length. If the length goes below 50 we will not call the API again\n",
    "        length = len(albums.items)\n",
    "        # Increase the offset so we are not getting the same albums again\n",
    "        offset+=50\n",
    "    return albumList\n",
    "\n",
    "# It's working! Now we have all 87 albumIDs\n",
    "sylvanAlbumList = get_artistAlbums('39vA9YljbnOApXKniLWBZv')\n",
    "print(len(sylvanAlbumList))\n",
    "sylvanAlbumList[:5]\n"
   ]
  },
  {
   "cell_type": "code",
   "execution_count": 159,
   "metadata": {},
   "outputs": [
    {
     "data": {
      "text/plain": [
       "['3EOSrgN0wOOqNvS5GUsiLp',\n",
       " '6w0oK4Y6MvRqFaE3J0Uwyz',\n",
       " '0oTOOEPtYGZFYnWlLnOsxL',\n",
       " '3BBCxnIvQauRM4FT2Mc3pX',\n",
       " '1Aus1dFkP2BSyzibCl0HA7',\n",
       " '0duHxSsZOXo0rlxY2ZabO0',\n",
       " '3IBo4lqI2xcSEkEMl73Aop',\n",
       " '0LX2FkR9ARLv5PmVQ211jZ',\n",
       " '61PjEcLjGh1UvfsCkn5eB8',\n",
       " '5qrhRBImmdLDEm2W8Y4lE3',\n",
       " '3hJ8Qe8dTlKJwAt1VPNc7g',\n",
       " '6tfc4x6M0rRoizzWXggXGa',\n",
       " '5N5q1BjX8YE0hjhBnwJRMq',\n",
       " '00wKAsbWtTgG5uCq524Tvk',\n",
       " '6fM5eqkTrd7ReiwRPnRMzg',\n",
       " '1UKlb2Lb7CW1trU8ultvGr']"
      ]
     },
     "execution_count": 159,
     "metadata": {},
     "output_type": "execute_result"
    }
   ],
   "source": [
    "# One of the requirements of a summer playlist is that all songs must be newer than three years old \n",
    "# We can include this logic in our list comprehension\n",
    "[x.id for x in sylvanAlbums.items if datetime.strptime(x.release_date, '%Y-%m-%d')>MINDATE]"
   ]
  },
  {
   "cell_type": "code",
   "execution_count": 208,
   "metadata": {},
   "outputs": [
    {
     "name": "stdout",
     "output_type": "stream",
     "text": [
      "15\n"
     ]
    },
    {
     "data": {
      "text/plain": [
       "['6rl4rzZxECegl9PdYG0hfk',\n",
       " '2KAPJ40On8JY1Yt64JJgTk',\n",
       " '68ClkAMsCDyx2lQMsnbY55',\n",
       " '1iKIf39XkjsKa5xCKJmcN4',\n",
       " '3RP1mc5yIIwGCrdST276Lg',\n",
       " '1203zCqGjsMNe9vre3dMrJ',\n",
       " '1Ho3UkeW5DfE812uhE6Q9Q',\n",
       " '1UiIz58AGc20MDp1LMYsdu',\n",
       " '7m9kZfDONAl0UMYeQRFTNI',\n",
       " '0mZc9rzgNi9Jl0PbuU0G3H',\n",
       " '1n2SGGnNyAy6npmMNxIjuV',\n",
       " '4edAJKbnB3xCVsvXmhKvv0',\n",
       " '3PvStgRH7gl0LF6tw09yuq',\n",
       " '5jv2tzybXeTbZJ61jvYvqg',\n",
       " '4DZlJSUZnQUFMv4nW6Ijgv']"
      ]
     },
     "execution_count": 208,
     "metadata": {},
     "output_type": "execute_result"
    }
   ],
   "source": [
    "# We can also specify in the API call that we only want actual albums or singles with the \"include_groups=['album']\" argument\n",
    "# Let's try this again. Make a function to join the multiple pages of albums together\n",
    "def get_artistAlbums(artistID):\n",
    "    # Initialize variables\n",
    "    length = 50\n",
    "    albumList = []\n",
    "    offset=0\n",
    "    # If the returned page is 50 items that means we need to call the API for another chunk\n",
    "    while length==50:\n",
    "        # Call the API to get the artist's albums\n",
    "        albums = spotify.artist_albums(artistID, include_groups=['album', 'single'], limit=50, offset=offset)\n",
    "        # Append this chunk to our existing list\n",
    "        albumList = albumList + [x.id for x in albums.items if datetime.strptime(x.release_date, '%Y-%m-%d')>MINDATE]\n",
    "        # Reset the length. If the length goes below 50 we will not call the API again\n",
    "        length = len(albums.items)\n",
    "        # Increase the offset so we are not getting the same albums again\n",
    "        offset+=50\n",
    "    return albumList\n",
    "\n",
    "# Now we only have 15 albumIDs that are in the dates that we want and the type that we want\n",
    "sylvanAlbumList = get_artistAlbums('39vA9YljbnOApXKniLWBZv')\n",
    "print(len(sylvanAlbumList))\n",
    "sylvanAlbumList\n"
   ]
  },
  {
   "cell_type": "code",
   "execution_count": 209,
   "metadata": {},
   "outputs": [
    {
     "data": {
      "text/plain": [
       "[('6rl4rzZxECegl9PdYG0hfk', 'No Rules Sandy', 49),\n",
       " ('2KAPJ40On8JY1Yt64JJgTk', 'Free Love', 49),\n",
       " ('68ClkAMsCDyx2lQMsnbY55', 'WITH', 32),\n",
       " ('1iKIf39XkjsKa5xCKJmcN4', \"Didn't Care\", 22),\n",
       " ('3RP1mc5yIIwGCrdST276Lg', 'Your Reality', 16),\n",
       " ('1203zCqGjsMNe9vre3dMrJ', 'Sunburn', 27),\n",
       " ('1Ho3UkeW5DfE812uhE6Q9Q', 'Numb', 28),\n",
       " ('1UiIz58AGc20MDp1LMYsdu', 'WITH LOVE', 24),\n",
       " ('7m9kZfDONAl0UMYeQRFTNI',\n",
       "  'Ferris Wheel [Feat. Robert Glasper] (Terrace Martin Remix)',\n",
       "  33),\n",
       " ('0mZc9rzgNi9Jl0PbuU0G3H', 'Ferris Wheel (Maya Jane Coles Remix)', 21),\n",
       " ('1n2SGGnNyAy6npmMNxIjuV', 'Free', 9),\n",
       " ('4edAJKbnB3xCVsvXmhKvv0', 'Frequency', 21),\n",
       " ('3PvStgRH7gl0LF6tw09yuq', 'Rooftop Dancing', 26),\n",
       " ('5jv2tzybXeTbZJ61jvYvqg', 'Ferris Wheel', 29),\n",
       " ('4DZlJSUZnQUFMv4nW6Ijgv', 'Dark Days [Feat. Sylvan Esso]', 50)]"
      ]
     },
     "execution_count": 209,
     "metadata": {},
     "output_type": "execute_result"
    }
   ],
   "source": [
    "# Next let's get the names and popularities from these albums\n",
    "pops = [spotify.album(x).popularity for x in sylvanAlbumList]\n",
    "names = [spotify.album(x).name for x in sylvanAlbumList]\n",
    "total = zip(sylvanAlbumList, names, pops)\n",
    "list(total)"
   ]
  },
  {
   "cell_type": "code",
   "execution_count": 227,
   "metadata": {},
   "outputs": [
    {
     "data": {
      "text/plain": [
       "FullTrack with fields:\n",
       "  album = SimpleAlbum(album_group, album_type, artists, ...)\n",
       "  artists = [1 x SimpleArtist(external_urls, href, id, name, type, uri)]\n",
       "  available_markets = None\n",
       "  disc_number = 1\n",
       "  duration_ms = 268213\n",
       "  explicit = False\n",
       "  external_ids = {'isrc'}\n",
       "  external_urls = {'spotify'}\n",
       "  href = 'https://api.spotify.com/v1/tracks/30GGIrrJdSNtecPiFcVP5O'\n",
       "  id = '30GGIrrJdSNtecPiFcVP5O'\n",
       "  is_local = False\n",
       "  is_playable = True\n",
       "  linked_from = None\n",
       "  name = 'Coffee'\n",
       "  popularity = 58\n",
       "  preview_url = 'https://p.scdn.co/mp3-preview/c432b2b907d3a6dc4917ffc4...'\n",
       "  restrictions = None\n",
       "  track_number = 7\n",
       "  type = 'track'\n",
       "  uri = 'spotify:track:30GGIrrJdSNtecPiFcVP5O'"
      ]
     },
     "execution_count": 227,
     "metadata": {},
     "output_type": "execute_result"
    }
   ],
   "source": [
    "# Select any of these that are in artist top ten\n",
    "# Get list of top ten tracks\n",
    "topTrack = spotify.artist_top_tracks('39vA9YljbnOApXKniLWBZv', market=\"US\")\n",
    "topTrack[0]"
   ]
  },
  {
   "cell_type": "code",
   "execution_count": 226,
   "metadata": {},
   "outputs": [
    {
     "data": {
      "text/plain": [
       "['2014-05-13',\n",
       " '2017-04-28',\n",
       " '2018-09-07',\n",
       " '2014-05-13',\n",
       " '2017-04-28',\n",
       " '2020-09-25',\n",
       " '2014-05-13',\n",
       " '2017-04-28',\n",
       " '2020-09-25',\n",
       " '2017-07-28']"
      ]
     },
     "execution_count": 226,
     "metadata": {},
     "output_type": "execute_result"
    }
   ],
   "source": [
    "# Get release dates for top tracks\n",
    "[x.album.release_date for x in spotify.artist_top_tracks('39vA9YljbnOApXKniLWBZv', 'US')]"
   ]
  },
  {
   "cell_type": "code",
   "execution_count": 228,
   "metadata": {},
   "outputs": [],
   "source": [
    "# Make a function that selects any tracks that are in the artist's top ten and which are less than 5 years old\n",
    "def get_top_5yos(artistID):\n",
    "    trackList = [\n",
    "        x.id for x in spotify.artist_top_tracks(artistID, market=\"US\") if datetime.strptime(x.album.release_date, '%Y-%m-%d')>MINDATE\n",
    "    ]\n",
    "    return trackList"
   ]
  },
  {
   "cell_type": "code",
   "execution_count": 229,
   "metadata": {},
   "outputs": [
    {
     "data": {
      "text/plain": [
       "['5Y42u37PlyQXegnuI1Hpo1', '0yiJNNm39cp1T7RnXOMVLX', '4q7wwwMXLoIkuOJv3LvbON']"
      ]
     },
     "execution_count": 229,
     "metadata": {},
     "output_type": "execute_result"
    }
   ],
   "source": [
    "get_top_5yos('39vA9YljbnOApXKniLWBZv')"
   ]
  },
  {
   "cell_type": "code",
   "execution_count": 23,
   "metadata": {},
   "outputs": [
    {
     "data": {
      "text/html": [
       "<div>\n",
       "<style scoped>\n",
       "    .dataframe tbody tr th:only-of-type {\n",
       "        vertical-align: middle;\n",
       "    }\n",
       "\n",
       "    .dataframe tbody tr th {\n",
       "        vertical-align: top;\n",
       "    }\n",
       "\n",
       "    .dataframe thead th {\n",
       "        text-align: right;\n",
       "    }\n",
       "</style>\n",
       "<table border=\"1\" class=\"dataframe\">\n",
       "  <thead>\n",
       "    <tr style=\"text-align: right;\">\n",
       "      <th></th>\n",
       "      <th>artistName</th>\n",
       "    </tr>\n",
       "  </thead>\n",
       "  <tbody>\n",
       "    <tr>\n",
       "      <th>0</th>\n",
       "      <td>21 Savage</td>\n",
       "    </tr>\n",
       "    <tr>\n",
       "      <th>1</th>\n",
       "      <td>3 Doors Down</td>\n",
       "    </tr>\n",
       "    <tr>\n",
       "      <th>2</th>\n",
       "      <td>311</td>\n",
       "    </tr>\n",
       "    <tr>\n",
       "      <th>3</th>\n",
       "      <td>A Day To Remember</td>\n",
       "    </tr>\n",
       "    <tr>\n",
       "      <th>4</th>\n",
       "      <td>A Tribe Called Quest</td>\n",
       "    </tr>\n",
       "  </tbody>\n",
       "</table>\n",
       "</div>"
      ],
      "text/plain": [
       "             artistName\n",
       "0             21 Savage\n",
       "1          3 Doors Down\n",
       "2                   311\n",
       "3     A Day To Remember\n",
       "4  A Tribe Called Quest"
      ]
     },
     "execution_count": 23,
     "metadata": {},
     "output_type": "execute_result"
    }
   ],
   "source": [
    "# Read in list of artists\n",
    "artists = pd.read_csv('artists.csv')\n",
    "# Subset for testing\n",
    "artists = artists[:5]\n",
    "artists"
   ]
  },
  {
   "cell_type": "code",
   "execution_count": 24,
   "metadata": {},
   "outputs": [
    {
     "data": {
      "text/html": [
       "<div>\n",
       "<style scoped>\n",
       "    .dataframe tbody tr th:only-of-type {\n",
       "        vertical-align: middle;\n",
       "    }\n",
       "\n",
       "    .dataframe tbody tr th {\n",
       "        vertical-align: top;\n",
       "    }\n",
       "\n",
       "    .dataframe thead th {\n",
       "        text-align: right;\n",
       "    }\n",
       "</style>\n",
       "<table border=\"1\" class=\"dataframe\">\n",
       "  <thead>\n",
       "    <tr style=\"text-align: right;\">\n",
       "      <th></th>\n",
       "      <th>artistName</th>\n",
       "      <th>songURI</th>\n",
       "      <th>artistID</th>\n",
       "      <th>artistPop</th>\n",
       "      <th>artistGenre</th>\n",
       "    </tr>\n",
       "  </thead>\n",
       "  <tbody>\n",
       "    <tr>\n",
       "      <th>0</th>\n",
       "      <td>21 Savage</td>\n",
       "      <td>test</td>\n",
       "      <td>1URnnhqYAYcrqrcwql10ft</td>\n",
       "      <td>93</td>\n",
       "      <td>atl hip hop, rap</td>\n",
       "    </tr>\n",
       "    <tr>\n",
       "      <th>1</th>\n",
       "      <td>3 Doors Down</td>\n",
       "      <td>test</td>\n",
       "      <td>2RTUTCvo6onsAnheUk3aL9</td>\n",
       "      <td>72</td>\n",
       "      <td>alternative metal, nu metal, pop rock, post-gr...</td>\n",
       "    </tr>\n",
       "    <tr>\n",
       "      <th>2</th>\n",
       "      <td>311</td>\n",
       "      <td>test</td>\n",
       "      <td>41Q0HrwWBtuUkJc7C1Rp6K</td>\n",
       "      <td>65</td>\n",
       "      <td>alternative metal, alternative rock, funk meta...</td>\n",
       "    </tr>\n",
       "    <tr>\n",
       "      <th>3</th>\n",
       "      <td>A Day To Remember</td>\n",
       "      <td>test</td>\n",
       "      <td>4NiJW4q9ichVqL1aUsgGAN</td>\n",
       "      <td>71</td>\n",
       "      <td>metalcore, pop punk, screamo</td>\n",
       "    </tr>\n",
       "    <tr>\n",
       "      <th>4</th>\n",
       "      <td>A Tribe Called Quest</td>\n",
       "      <td>test</td>\n",
       "      <td>09hVIj6vWgoCDtT03h8ZCa</td>\n",
       "      <td>69</td>\n",
       "      <td>alternative hip hop, conscious hip hop, east c...</td>\n",
       "    </tr>\n",
       "  </tbody>\n",
       "</table>\n",
       "</div>"
      ],
      "text/plain": [
       "             artistName songURI                artistID  artistPop  \\\n",
       "0             21 Savage    test  1URnnhqYAYcrqrcwql10ft         93   \n",
       "1          3 Doors Down    test  2RTUTCvo6onsAnheUk3aL9         72   \n",
       "2                   311    test  41Q0HrwWBtuUkJc7C1Rp6K         65   \n",
       "3     A Day To Remember    test  4NiJW4q9ichVqL1aUsgGAN         71   \n",
       "4  A Tribe Called Quest    test  09hVIj6vWgoCDtT03h8ZCa         69   \n",
       "\n",
       "                                         artistGenre  \n",
       "0                                   atl hip hop, rap  \n",
       "1  alternative metal, nu metal, pop rock, post-gr...  \n",
       "2  alternative metal, alternative rock, funk meta...  \n",
       "3                       metalcore, pop punk, screamo  \n",
       "4  alternative hip hop, conscious hip hop, east c...  "
      ]
     },
     "execution_count": 24,
     "metadata": {},
     "output_type": "execute_result"
    }
   ],
   "source": [
    "# Create function to search spotify based on artist name\n",
    "def searchSpotify(artists):\n",
    "    try:\n",
    "        # Search spotify for artists based on name\n",
    "        possibleArtists, = spotify.search(artists['artistName'], types=['artist'], limit=1)\n",
    "        # Select the first search result\n",
    "        artists['artistID'] = possibleArtists.items[0].id\n",
    "        artists['artistPop'] = possibleArtists.items[0].popularity\n",
    "        artists['artistGenre'] = \", \".join(list(possibleArtists.items[0].genres))\n",
    "        result = artists\n",
    "    except: \n",
    "        artists['artistID'] = np.nan\n",
    "        artists['artistPop'] = np.nan\n",
    "        artists['artistGenre'] = np.nan\n",
    "        result = artists\n",
    "    finally:\n",
    "        # Wait 2 seconds so we do not exceed our API call allowance\n",
    "        time.sleep(2)\n",
    "        return result\n",
    "\n",
    "# Find an artistID for each artist based on artistName\n",
    "artists = artists.apply(searchSpotify, axis=1)\n",
    "artists"
   ]
  },
  {
   "cell_type": "code",
   "execution_count": 22,
   "metadata": {},
   "outputs": [
    {
     "data": {
      "text/plain": [
       "FullArtist with fields:\n",
       "  external_urls = {'spotify'}\n",
       "  followers = Followers(href, total)\n",
       "  genres = [9 x str]\n",
       "  href = 'https://api.spotify.com/v1/artists/41Q0HrwWBtuUkJc7C1Rp6K'\n",
       "  id = '41Q0HrwWBtuUkJc7C1Rp6K'\n",
       "  images = [3 x Image(height, url, width)]\n",
       "  name = '311'\n",
       "  popularity = 65\n",
       "  type = 'artist'\n",
       "  uri = 'spotify:artist:41Q0HrwWBtuUkJc7C1Rp6K'"
      ]
     },
     "execution_count": 22,
     "metadata": {},
     "output_type": "execute_result"
    }
   ],
   "source": [
    "possibleArtists, = spotify.search('311', types=['artist'], limit=1)\n",
    "result = possibleArtists.items[0]\n",
    "id = possibleArtists.items[0].id\n",
    "popularity = possibleArtists.items[0].popularity\n",
    "genres = \", \".join(list(possibleArtists.items[0].genres))\n",
    "result"
   ]
  },
  {
   "cell_type": "code",
   "execution_count": 12,
   "metadata": {},
   "outputs": [
    {
     "data": {
      "text/plain": [
       "['b', 'a', 'c']"
      ]
     },
     "execution_count": 12,
     "metadata": {},
     "output_type": "execute_result"
    }
   ],
   "source": [
    "from collections import Counter\n",
    "testList = ['a','a','a','a','b','b','b','b','b','b','c']\n",
    "list(dict(sorted(Counter(testList).items(), key=lambda x:x[1], reverse=True)).keys())"
   ]
  },
  {
   "cell_type": "code",
   "execution_count": null,
   "metadata": {},
   "outputs": [],
   "source": [
    "spotify.playlist_items(playlistID)"
   ]
  }
 ],
 "metadata": {
  "kernelspec": {
   "display_name": "summerplaylist",
   "language": "python",
   "name": "python3"
  },
  "language_info": {
   "codemirror_mode": {
    "name": "ipython",
    "version": 3
   },
   "file_extension": ".py",
   "mimetype": "text/x-python",
   "name": "python",
   "nbconvert_exporter": "python",
   "pygments_lexer": "ipython3",
   "version": "3.10.9"
  },
  "orig_nbformat": 4
 },
 "nbformat": 4,
 "nbformat_minor": 2
}
