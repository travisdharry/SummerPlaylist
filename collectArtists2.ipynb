{
 "cells": [
  {
   "cell_type": "markdown",
   "metadata": {},
   "source": [
    "## Config"
   ]
  },
  {
   "cell_type": "code",
   "execution_count": 136,
   "metadata": {},
   "outputs": [],
   "source": [
    "# Import dependencies\n",
    "import tekore as tk\n",
    "import os\n",
    "import time\n",
    "import pandas as pd\n",
    "import numpy as np\n",
    "from datetime import datetime, date\n",
    "from dateutil.relativedelta import relativedelta\n",
    "\n",
    "# Environment variables\n",
    "CLIENTID = os.environ.get('CLIENTID')\n",
    "CLIENTSECRET = os.environ.get('CLIENTSECRET')\n",
    "REDIRECT_URI = 'https://example.com/callback'\n",
    "# Set global variables\n",
    "MINDATE = datetime((date.today() - relativedelta(years=1)).year, 1, 1)\n"
   ]
  },
  {
   "cell_type": "code",
   "execution_count": 36,
   "metadata": {},
   "outputs": [
    {
     "name": "stdout",
     "output_type": "stream",
     "text": [
      "Opening browser for Spotify login...\n"
     ]
    }
   ],
   "source": [
    "### Authenticate Tekore and Authorize App\n",
    "# Get client token\n",
    "app_token = tk.request_client_token(CLIENTID, CLIENTSECRET)\n",
    "# Get a user token; Note the need to ask for private read scope in order to read private playlists\n",
    "# This will open a browser window; the user will need to copy the URL from the browser and paste it into the VSCode Command Palette\n",
    "user_token = tk.prompt_for_user_token(CLIENTID, CLIENTSECRET, REDIRECT_URI, scope=tk.scope.playlist_read_private)\n",
    "# Create spotify instance\n",
    "spotify = tk.Spotify(app_token)\n",
    "# Get the user's spotifyID; The spotify instance will have to reference the user_token to be authorized for this data\n",
    "with spotify.token_as(user_token):\n",
    "    userID = spotify.current_user().id"
   ]
  },
  {
   "cell_type": "markdown",
   "metadata": {},
   "source": [
    "## Get user playlists"
   ]
  },
  {
   "cell_type": "code",
   "execution_count": 156,
   "metadata": {},
   "outputs": [
    {
     "data": {
      "text/plain": [
       "[{'id': '37i9dQZF1DWZP6bJtKFz1V', 'name': 'Et Alt'},\n",
       " {'id': '37i9dQZF1DWTggY0yqBxES', 'name': 'Alternative Hip-Hop'},\n",
       " {'id': '37i9dQZF1DXdwmD5Q7Gxah', 'name': 'Lorem'},\n",
       " {'id': '37i9dQZF1DX5Vy6DFOcx00', 'name': 'big on the internet'},\n",
       " {'id': '37i9dQZF1DWWqNV5cS50j6', 'name': 'anti pop'},\n",
       " {'id': '1KeuPzbtFE0BbMVfr8dkAm', 'name': 'Summer Playlist Artist Candidates'},\n",
       " {'id': '5hZ6SYEDNHly6Oq9MSuUP3', 'name': 'Skankin’ Fit'},\n",
       " {'id': '5WVXaXgXsDFeqboz3QJd8k', 'name': '2023'},\n",
       " {'id': '1KPjybavao8KU78UZYhx30', 'name': 'Endless Summer 2022'},\n",
       " {'id': '4aTeCEuSx2YK1VtJhpRr7V', 'name': 'Summer 2022'},\n",
       " {'id': '35o4N6gQmymDoDSDMxc7vZ', 'name': 'Experimental Classical'},\n",
       " {'id': '6C7ZJPvjJi1UxJUUsSfla9', 'name': 'They Shall Not Grow Old'},\n",
       " {'id': '7nxWVOAM4gqkxEhGl0Hi1a', 'name': 'Give Up'},\n",
       " {'id': '71wevVq2dUhBWYnPzGoQNN', 'name': 'The Buzz'},\n",
       " {'id': '1uz3b6IIajYqvKAL5Id4tZ', 'name': 'Friends'},\n",
       " {'id': '2SV8SjEgxk0Zo1yTHIj5aU', 'name': 'I See a Ship in the Harbor'},\n",
       " {'id': '6geWzdZCbUfxMdYtBoG8C0', 'name': 'The Arrow'},\n",
       " {'id': '1F7cvEcISnpAEZTqAxwTbz', 'name': 'Oldies 94.5'},\n",
       " {'id': '1cY9NovbsuiIQFpTib7JhZ', 'name': 'Great Balls of Fire'},\n",
       " {'id': '0TCyKwGHfXjB0mCOtR80ck', 'name': 'Dusty Trails'},\n",
       " {'id': '0lE6qwVoUP5QaOW0xcwpbq', 'name': 'Bluebonnets'},\n",
       " {'id': '2eJRTN3bg0PQIRz9B0vtPB', 'name': \"travis $ KB's 🔥💃🌶\"},\n",
       " {'id': '33jMFYNrURbRExrzuqMfJ6', 'name': 'Endless Summer 2021'},\n",
       " {'id': '64ehl2sLfLPIF8qnsZixlv', 'name': 'Summer 2021'},\n",
       " {'id': '5xpbKk27Sjs0z5Uhs7DJsW', 'name': 'Endless Summer 2020'},\n",
       " {'id': '3I1gCNV5PRZf7JYJ0qCeCz', 'name': 'Summer 2020'},\n",
       " {'id': '2G7nyck1KWvWmDSDlAp4S2', 'name': 'Summer 2019'},\n",
       " {'id': '5EGKRyeWYjJdVKSC8PZmDZ', 'name': 'Summer 2018'}]"
      ]
     },
     "execution_count": 156,
     "metadata": {},
     "output_type": "execute_result"
    }
   ],
   "source": [
    "# Create a playlist for the user\n",
    "with spotify.token_as(user_token):\n",
    "    playlists = spotify.playlists(userID, limit=40)\n",
    "    allPlaylists = [{'id':x.id, 'name':x.name} for x in playlists.items]\n",
    "allPlaylists"
   ]
  },
  {
   "cell_type": "code",
   "execution_count": 157,
   "metadata": {},
   "outputs": [],
   "source": [
    "# I know which playlists I want to pull from\n",
    "priorSummerNames = [\n",
    "    '2023',\n",
    "    'Summer 2022',\n",
    "    'Summer 2021',\n",
    "    'Summer 2020',\n",
    "    'Summer 2019',\n",
    "    'Summer 2018',\n",
    "    'anti pop',\n",
    "    'big on the internet',\n",
    "    'Lorem',\n",
    "    'Alternative Hip-Hop',\n",
    "    'Et-Alt'\n",
    "]\n",
    "# Get the IDs of those playlists\n",
    "priorSummerIDs = [x.id for x in playlists.items if x.name in priorSummerNames]"
   ]
  },
  {
   "cell_type": "markdown",
   "metadata": {},
   "source": [
    "## Get artists in those playlists"
   ]
  },
  {
   "cell_type": "code",
   "execution_count": 158,
   "metadata": {},
   "outputs": [],
   "source": [
    "# Get all the artistIDs in those playlists\n",
    "# Start with an empty list\n",
    "allArtists = []\n",
    "# Loop through the playlists\n",
    "for priorID in priorSummerIDs:\n",
    "    # Get the artistIDs\n",
    "    nestedList = [[{\"artistID\":y.id, \"artistName\":y.name} for y in x.track.artists] for x in spotify.playlist_items(priorID).items]\n",
    "    # Unnest the list\n",
    "    flatList = [item for sublist in nestedList for item in sublist]\n",
    "    # Append to the empty list\n",
    "    allArtists += flatList\n",
    "# Get unique artists\n",
    "allArtists = pd.DataFrame(allArtists).drop_duplicates(ignore_index=True)\n",
    "print(len(allArtists))"
   ]
  },
  {
   "cell_type": "markdown",
   "metadata": {},
   "source": [
    "## Get albums for each artist"
   ]
  },
  {
   "cell_type": "code",
   "execution_count": 161,
   "metadata": {},
   "outputs": [],
   "source": [
    "# Define function that will get the top tracks for each artist in the list\n",
    "def fetchRecentAlbums(artistID):\n",
    "    try:\n",
    "        # Query the spotify API\n",
    "        query = spotify.artist_albums(artistID, limit=50, include_groups=['album', 'single']).items\n",
    "        result = [{'artistID':artistID, 'albumID':x.id, 'albumName':x.name, 'albumReleaseDate':x.release_date, 'albumURI':x.uri} for x in query if datetime.strptime(x.release_date[:4], '%Y')>MINDATE]\n",
    "    except: \n",
    "        # If exception, fill in blank data\n",
    "        pass\n",
    "    finally:\n",
    "        # Wait 2 seconds so we do not exceed our API call allowance\n",
    "        time.sleep(2)\n",
    "    return result"
   ]
  },
  {
   "cell_type": "code",
   "execution_count": 151,
   "metadata": {},
   "outputs": [
    {
     "data": {
      "text/html": [
       "<div>\n",
       "<style scoped>\n",
       "    .dataframe tbody tr th:only-of-type {\n",
       "        vertical-align: middle;\n",
       "    }\n",
       "\n",
       "    .dataframe tbody tr th {\n",
       "        vertical-align: top;\n",
       "    }\n",
       "\n",
       "    .dataframe thead th {\n",
       "        text-align: right;\n",
       "    }\n",
       "</style>\n",
       "<table border=\"1\" class=\"dataframe\">\n",
       "  <thead>\n",
       "    <tr style=\"text-align: right;\">\n",
       "      <th></th>\n",
       "      <th>artistID</th>\n",
       "      <th>artistName</th>\n",
       "      <th>albumID</th>\n",
       "      <th>albumName</th>\n",
       "      <th>albumReleaseDate</th>\n",
       "      <th>albumURI</th>\n",
       "    </tr>\n",
       "  </thead>\n",
       "  <tbody>\n",
       "    <tr>\n",
       "      <th>0</th>\n",
       "      <td>12Zk1DFhCbHY6v3xep2ZjI</td>\n",
       "      <td>070 Shake</td>\n",
       "      <td>21ZlnuYMvzSLNOAYWH318k</td>\n",
       "      <td>True love (feat. 070 Shake)</td>\n",
       "      <td>2023-04-17</td>\n",
       "      <td>spotify:album:21ZlnuYMvzSLNOAYWH318k</td>\n",
       "    </tr>\n",
       "    <tr>\n",
       "      <th>1</th>\n",
       "      <td>12Zk1DFhCbHY6v3xep2ZjI</td>\n",
       "      <td>070 Shake</td>\n",
       "      <td>11X8fP4LGagH6xsQI2aqaY</td>\n",
       "      <td>Cocoon (Martin Garrix &amp; Space Ducks Remix)</td>\n",
       "      <td>2023-02-10</td>\n",
       "      <td>spotify:album:11X8fP4LGagH6xsQI2aqaY</td>\n",
       "    </tr>\n",
       "    <tr>\n",
       "      <th>3</th>\n",
       "      <td>5jQsMNuCW0iZeFTz6YUK8K</td>\n",
       "      <td>Pluralone</td>\n",
       "      <td>NaN</td>\n",
       "      <td>NaN</td>\n",
       "      <td>NaN</td>\n",
       "      <td>NaN</td>\n",
       "    </tr>\n",
       "    <tr>\n",
       "      <th>4</th>\n",
       "      <td>2f0NSj1t2L6JowHINXCFb6</td>\n",
       "      <td>Ruby Red</td>\n",
       "      <td>2FIbisWv6Q7QZVvevvCE3G</td>\n",
       "      <td>Martina Soleil (Living At The Same Time)</td>\n",
       "      <td>2023-02-23</td>\n",
       "      <td>spotify:album:2FIbisWv6Q7QZVvevvCE3G</td>\n",
       "    </tr>\n",
       "  </tbody>\n",
       "</table>\n",
       "</div>"
      ],
      "text/plain": [
       "                 artistID artistName                 albumID  \\\n",
       "0  12Zk1DFhCbHY6v3xep2ZjI  070 Shake  21ZlnuYMvzSLNOAYWH318k   \n",
       "1  12Zk1DFhCbHY6v3xep2ZjI  070 Shake  11X8fP4LGagH6xsQI2aqaY   \n",
       "3  5jQsMNuCW0iZeFTz6YUK8K  Pluralone                     NaN   \n",
       "4  2f0NSj1t2L6JowHINXCFb6   Ruby Red  2FIbisWv6Q7QZVvevvCE3G   \n",
       "\n",
       "                                    albumName albumReleaseDate  \\\n",
       "0                 True love (feat. 070 Shake)       2023-04-17   \n",
       "1  Cocoon (Martin Garrix & Space Ducks Remix)       2023-02-10   \n",
       "3                                         NaN              NaN   \n",
       "4    Martina Soleil (Living At The Same Time)       2023-02-23   \n",
       "\n",
       "                               albumURI  \n",
       "0  spotify:album:21ZlnuYMvzSLNOAYWH318k  \n",
       "1  spotify:album:11X8fP4LGagH6xsQI2aqaY  \n",
       "3                                   NaN  \n",
       "4  spotify:album:2FIbisWv6Q7QZVvevvCE3G  "
      ]
     },
     "execution_count": 151,
     "metadata": {},
     "output_type": "execute_result"
    }
   ],
   "source": [
    "# Create empty list\n",
    "albums = []\n",
    "# Loop through list of artists\n",
    "for artistID in allArtists['artistID']:\n",
    "    # Get all recent albums by that artist\n",
    "    additions = fetchRecentAlbums(artistID)\n",
    "    # Append the recent albums to the list\n",
    "    albums += additions\n",
    "# Convert to new df\n",
    "albums = pd.DataFrame(albums)\n",
    "\n",
    "# Merge the albums into the artists\n",
    "artists = allArtists.merge(albums, how='left', left_on='artistID', right_on='artistID')\n",
    "# Drop any duplicates\n",
    "artists = artists.drop_duplicates(subset=['artistID', 'albumName'])\n",
    "artists = artists.dropna(subset=['albumID'])\n",
    "artists"
   ]
  },
  {
   "cell_type": "markdown",
   "metadata": {},
   "source": [
    "## Write to csv"
   ]
  },
  {
   "cell_type": "code",
   "execution_count": 152,
   "metadata": {},
   "outputs": [],
   "source": [
    "artists.to_csv('songs2.csv')"
   ]
  },
  {
   "cell_type": "code",
   "execution_count": null,
   "metadata": {},
   "outputs": [],
   "source": []
  }
 ],
 "metadata": {
  "kernelspec": {
   "display_name": "Python 3.10.9 ('summerplaylist')",
   "language": "python",
   "name": "python3"
  },
  "language_info": {
   "codemirror_mode": {
    "name": "ipython",
    "version": 3
   },
   "file_extension": ".py",
   "mimetype": "text/x-python",
   "name": "python",
   "nbconvert_exporter": "python",
   "pygments_lexer": "ipython3",
   "version": "3.10.9"
  },
  "orig_nbformat": 4,
  "vscode": {
   "interpreter": {
    "hash": "e81157a0786199ab9ef170aa1943f0690c4844c55695062c7d895c198fc85648"
   }
  }
 },
 "nbformat": 4,
 "nbformat_minor": 2
}
