{
 "cells": [
  {
   "cell_type": "code",
   "execution_count": 1,
   "metadata": {},
   "outputs": [],
   "source": [
    "# Import dependencies\n",
    "import tekore as tk\n",
    "import os\n",
    "import time\n",
    "import pandas as pd\n",
    "import numpy as np\n",
    "from datetime import datetime\n",
    "from dateutil.relativedelta import relativedelta\n",
    "\n",
    "# Environment variables\n",
    "CLIENTID = os.environ.get('CLIENTID')\n",
    "CLIENTSECRET = os.environ.get('CLIENTSECRET')\n",
    "REDIRECT_URI = 'https://example.com/callback'\n",
    "# Set global variables\n",
    "MINDATE = datetime.today() - relativedelta(years=5)"
   ]
  },
  {
   "cell_type": "code",
   "execution_count": null,
   "metadata": {},
   "outputs": [],
   "source": []
  }
 ],
 "metadata": {
  "kernelspec": {
   "display_name": "Python 3.10.9 ('summerplaylist')",
   "language": "python",
   "name": "python3"
  },
  "language_info": {
   "codemirror_mode": {
    "name": "ipython",
    "version": 3
   },
   "file_extension": ".py",
   "mimetype": "text/x-python",
   "name": "python",
   "nbconvert_exporter": "python",
   "pygments_lexer": "ipython3",
   "version": "3.10.9"
  },
  "orig_nbformat": 4,
  "vscode": {
   "interpreter": {
    "hash": "e81157a0786199ab9ef170aa1943f0690c4844c55695062c7d895c198fc85648"
   }
  }
 },
 "nbformat": 4,
 "nbformat_minor": 2
}
