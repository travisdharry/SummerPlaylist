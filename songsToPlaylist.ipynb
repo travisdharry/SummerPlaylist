{
 "cells": [
  {
   "cell_type": "code",
   "execution_count": 1,
   "metadata": {},
   "outputs": [],
   "source": [
    "# Import dependencies\n",
    "import tekore as tk\n",
    "import os\n",
    "import time\n",
    "import pandas as pd\n",
    "import numpy as np\n",
    "from datetime import datetime\n",
    "from dateutil.relativedelta import relativedelta\n",
    "\n",
    "# Environment variables\n",
    "CLIENTID = os.environ.get('CLIENTID')\n",
    "CLIENTSECRET = os.environ.get('CLIENTSECRET')\n",
    "REDIRECT_URI = 'https://example.com/callback'\n",
    "# Set global variables\n",
    "MINDATE = datetime.today() - relativedelta(years=5)"
   ]
  },
  {
   "cell_type": "markdown",
   "metadata": {},
   "source": [
    "## Authorization"
   ]
  },
  {
   "cell_type": "code",
   "execution_count": 8,
   "metadata": {},
   "outputs": [
    {
     "name": "stdout",
     "output_type": "stream",
     "text": [
      "Opening browser for Spotify login...\n"
     ]
    }
   ],
   "source": [
    "### Authenticate Tekore and Authorize App\n",
    "# Get client token\n",
    "app_token = tk.request_client_token(CLIENTID, CLIENTSECRET)\n",
    "# Get a user token; Note the need to ask for write scope in order to create/edit playlists\n",
    "# This will open a browser window; the user will need to copy the URL from the browser and paste it into the VSCode Command Palette\n",
    "user_token = tk.prompt_for_user_token(CLIENTID, CLIENTSECRET, REDIRECT_URI, scope=tk.scope.write)\n",
    "# Create spotify instance\n",
    "spotify = tk.Spotify(app_token)\n",
    "# Get the user's spotifyID; The spotify instance will have to reference the user_token to be authorized for this data\n",
    "with spotify.token_as(user_token):\n",
    "    userID = spotify.current_user().id"
   ]
  },
  {
   "cell_type": "markdown",
   "metadata": {},
   "source": [
    "## Create a playlist in the user's account"
   ]
  },
  {
   "cell_type": "code",
   "execution_count": 24,
   "metadata": {},
   "outputs": [],
   "source": [
    "# Create a playlist for the user\n",
    "with spotify.token_as(user_token):\n",
    "    newPlaylist = spotify.playlist_create(userID, \"TestApp5\", public=False, description='Testing my script to create a playlist')\n",
    "playlistID = newPlaylist.id"
   ]
  },
  {
   "cell_type": "markdown",
   "metadata": {},
   "source": [
    "## Add some songs to the playlist"
   ]
  },
  {
   "cell_type": "code",
   "execution_count": 25,
   "metadata": {},
   "outputs": [
    {
     "data": {
      "text/html": [
       "<div>\n",
       "<style scoped>\n",
       "    .dataframe tbody tr th:only-of-type {\n",
       "        vertical-align: middle;\n",
       "    }\n",
       "\n",
       "    .dataframe tbody tr th {\n",
       "        vertical-align: top;\n",
       "    }\n",
       "\n",
       "    .dataframe thead th {\n",
       "        text-align: right;\n",
       "    }\n",
       "</style>\n",
       "<table border=\"1\" class=\"dataframe\">\n",
       "  <thead>\n",
       "    <tr style=\"text-align: right;\">\n",
       "      <th></th>\n",
       "      <th>artistName</th>\n",
       "      <th>artistID</th>\n",
       "      <th>songURI</th>\n",
       "    </tr>\n",
       "  </thead>\n",
       "  <tbody>\n",
       "    <tr>\n",
       "      <th>0</th>\n",
       "      <td>21 Savage</td>\n",
       "      <td>1URnnhqYAYcrqrcwql10ft</td>\n",
       "      <td>spotify:track:2dHHgzDwk4BJdRwy9uXhTO</td>\n",
       "    </tr>\n",
       "    <tr>\n",
       "      <th>1</th>\n",
       "      <td>21 Savage</td>\n",
       "      <td>1URnnhqYAYcrqrcwql10ft</td>\n",
       "      <td>spotify:track:1bDbXMyjaUIooNwFE9wn0N</td>\n",
       "    </tr>\n",
       "    <tr>\n",
       "      <th>2</th>\n",
       "      <td>21 Savage</td>\n",
       "      <td>1URnnhqYAYcrqrcwql10ft</td>\n",
       "      <td>spotify:track:3F5CgOj3wFlRv51JsHbxhe</td>\n",
       "    </tr>\n",
       "    <tr>\n",
       "      <th>3</th>\n",
       "      <td>3 Doors Down</td>\n",
       "      <td>2RTUTCvo6onsAnheUk3aL9</td>\n",
       "      <td>spotify:track:6ZOBP3NvffbU4SZcrnt1k6</td>\n",
       "    </tr>\n",
       "    <tr>\n",
       "      <th>4</th>\n",
       "      <td>3 Doors Down</td>\n",
       "      <td>2RTUTCvo6onsAnheUk3aL9</td>\n",
       "      <td>spotify:track:3NLrRZoMF0Lx6zTlYqeIo4</td>\n",
       "    </tr>\n",
       "    <tr>\n",
       "      <th>5</th>\n",
       "      <td>3 Doors Down</td>\n",
       "      <td>2RTUTCvo6onsAnheUk3aL9</td>\n",
       "      <td>spotify:track:3WbphvawbMZ8FyqDxYGdSQ</td>\n",
       "    </tr>\n",
       "    <tr>\n",
       "      <th>6</th>\n",
       "      <td>311</td>\n",
       "      <td>41Q0HrwWBtuUkJc7C1Rp6K</td>\n",
       "      <td>spotify:track:6Fe3Flc9SjE03pqwD6PVQl</td>\n",
       "    </tr>\n",
       "    <tr>\n",
       "      <th>7</th>\n",
       "      <td>311</td>\n",
       "      <td>41Q0HrwWBtuUkJc7C1Rp6K</td>\n",
       "      <td>spotify:track:3mtukCAgd0mE260QcBfXAX</td>\n",
       "    </tr>\n",
       "    <tr>\n",
       "      <th>8</th>\n",
       "      <td>311</td>\n",
       "      <td>41Q0HrwWBtuUkJc7C1Rp6K</td>\n",
       "      <td>spotify:track:4cSSUpptr7r125fK5nRJhP</td>\n",
       "    </tr>\n",
       "    <tr>\n",
       "      <th>9</th>\n",
       "      <td>A Day To Remember</td>\n",
       "      <td>4NiJW4q9ichVqL1aUsgGAN</td>\n",
       "      <td>spotify:track:1KHKeIouP04dDtl0EetgED</td>\n",
       "    </tr>\n",
       "    <tr>\n",
       "      <th>10</th>\n",
       "      <td>A Day To Remember</td>\n",
       "      <td>4NiJW4q9ichVqL1aUsgGAN</td>\n",
       "      <td>spotify:track:3rEwGRmPVVudVjqdgv0tRR</td>\n",
       "    </tr>\n",
       "    <tr>\n",
       "      <th>11</th>\n",
       "      <td>A Day To Remember</td>\n",
       "      <td>4NiJW4q9ichVqL1aUsgGAN</td>\n",
       "      <td>spotify:track:4JsDHMv5PVO8N07DbDq33r</td>\n",
       "    </tr>\n",
       "    <tr>\n",
       "      <th>12</th>\n",
       "      <td>A Tribe Called Quest</td>\n",
       "      <td>09hVIj6vWgoCDtT03h8ZCa</td>\n",
       "      <td>spotify:track:0eEXcw3JLVXcRxYrVYMy68</td>\n",
       "    </tr>\n",
       "  </tbody>\n",
       "</table>\n",
       "</div>"
      ],
      "text/plain": [
       "              artistName                artistID  \\\n",
       "0              21 Savage  1URnnhqYAYcrqrcwql10ft   \n",
       "1              21 Savage  1URnnhqYAYcrqrcwql10ft   \n",
       "2              21 Savage  1URnnhqYAYcrqrcwql10ft   \n",
       "3           3 Doors Down  2RTUTCvo6onsAnheUk3aL9   \n",
       "4           3 Doors Down  2RTUTCvo6onsAnheUk3aL9   \n",
       "5           3 Doors Down  2RTUTCvo6onsAnheUk3aL9   \n",
       "6                    311  41Q0HrwWBtuUkJc7C1Rp6K   \n",
       "7                    311  41Q0HrwWBtuUkJc7C1Rp6K   \n",
       "8                    311  41Q0HrwWBtuUkJc7C1Rp6K   \n",
       "9      A Day To Remember  4NiJW4q9ichVqL1aUsgGAN   \n",
       "10     A Day To Remember  4NiJW4q9ichVqL1aUsgGAN   \n",
       "11     A Day To Remember  4NiJW4q9ichVqL1aUsgGAN   \n",
       "12  A Tribe Called Quest  09hVIj6vWgoCDtT03h8ZCa   \n",
       "\n",
       "                                 songURI  \n",
       "0   spotify:track:2dHHgzDwk4BJdRwy9uXhTO  \n",
       "1   spotify:track:1bDbXMyjaUIooNwFE9wn0N  \n",
       "2   spotify:track:3F5CgOj3wFlRv51JsHbxhe  \n",
       "3   spotify:track:6ZOBP3NvffbU4SZcrnt1k6  \n",
       "4   spotify:track:3NLrRZoMF0Lx6zTlYqeIo4  \n",
       "5   spotify:track:3WbphvawbMZ8FyqDxYGdSQ  \n",
       "6   spotify:track:6Fe3Flc9SjE03pqwD6PVQl  \n",
       "7   spotify:track:3mtukCAgd0mE260QcBfXAX  \n",
       "8   spotify:track:4cSSUpptr7r125fK5nRJhP  \n",
       "9   spotify:track:1KHKeIouP04dDtl0EetgED  \n",
       "10  spotify:track:3rEwGRmPVVudVjqdgv0tRR  \n",
       "11  spotify:track:4JsDHMv5PVO8N07DbDq33r  \n",
       "12  spotify:track:0eEXcw3JLVXcRxYrVYMy68  "
      ]
     },
     "execution_count": 25,
     "metadata": {},
     "output_type": "execute_result"
    }
   ],
   "source": [
    "# Extract list of songs\n",
    "songs = pd.read_csv('songs1.csv')\n",
    "songs"
   ]
  },
  {
   "cell_type": "code",
   "execution_count": 27,
   "metadata": {},
   "outputs": [],
   "source": [
    "# Add songs to the playlist\n",
    "with spotify.token_as(user_token):\n",
    "    additions = spotify.playlist_add(playlistID, list(songs['songURI']), position=None)"
   ]
  },
  {
   "cell_type": "code",
   "execution_count": null,
   "metadata": {},
   "outputs": [],
   "source": []
  }
 ],
 "metadata": {
  "kernelspec": {
   "display_name": "Python 3.10.9 ('summerplaylist')",
   "language": "python",
   "name": "python3"
  },
  "language_info": {
   "codemirror_mode": {
    "name": "ipython",
    "version": 3
   },
   "file_extension": ".py",
   "mimetype": "text/x-python",
   "name": "python",
   "nbconvert_exporter": "python",
   "pygments_lexer": "ipython3",
   "version": "3.10.9"
  },
  "orig_nbformat": 4,
  "vscode": {
   "interpreter": {
    "hash": "e81157a0786199ab9ef170aa1943f0690c4844c55695062c7d895c198fc85648"
   }
  }
 },
 "nbformat": 4,
 "nbformat_minor": 2
}
